{
 "cells": [
  {
   "cell_type": "markdown",
   "id": "fd63c11d-48e3-4ef0-9bf7-3cae1ca5778a",
   "metadata": {},
   "source": [
    "# Final Notebook: Food Access in LA County\n",
    "## Group Members: Madi Hamilton, Jessica Fay, Meaghan Woody, Branden Bohrnsen\n",
    "### UP221 Winter 2024"
   ]
  },
  {
   "cell_type": "markdown",
   "id": "bcc99a49-0c34-452c-ad87-8d64888d6ccf",
   "metadata": {},
   "source": [
    "### Description\n",
    "**Research Question:** Are there geographic disparities trends in food insecurity and coronary heart disease in Los Angeles County?\n",
    "\n",
    "**Notebook purpose:** Prepare data for creating maps\n",
    "\n",
    "**Data sources:**\n",
    "1. USC Neighborhood Data for Social Change\n",
    "2. U.S. Census Bureau - American Community Survey 2016-2020\n",
    "3. U.S. Census Tracts 2020"
   ]
  },
  {
   "cell_type": "markdown",
   "id": "43d0e9e5-184b-4ce8-830e-e3a46803dde3",
   "metadata": {},
   "source": [
    "### Import Libraries"
   ]
  },
  {
   "cell_type": "code",
   "execution_count": 2,
   "id": "a073d811-7b1f-46d1-8233-3ef26c61c3e5",
   "metadata": {},
   "outputs": [],
   "source": [
    "import pandas as pd\n",
    "import geopandas as gpd \n",
    "import plotly.express as px\n",
    "import matplotlib.pyplot as plt\n",
    "import numpy as np\n",
    "import contextily as cx\n",
    "import mapclassify"
   ]
  },
  {
   "cell_type": "markdown",
   "id": "64e623ed-7a3c-495f-a266-ad7df33d8a0e",
   "metadata": {},
   "source": [
    "### Create merged dataset with variables and geometry"
   ]
  },
  {
   "cell_type": "code",
   "execution_count": 3,
   "id": "0b223a87-5789-4e3b-8fbb-80d5d39c1611",
   "metadata": {},
   "outputs": [
    {
     "name": "stdout",
     "output_type": "stream",
     "text": [
      "<class 'pandas.core.frame.DataFrame'>\n",
      "RangeIndex: 4910 entries, 0 to 4909\n",
      "Data columns (total 27 columns):\n",
      " #   Column                             Non-Null Count  Dtype  \n",
      "---  ------                             --------------  -----  \n",
      " 0   geoid20_x                          4910 non-null   object \n",
      " 1   CT20                               4910 non-null   object \n",
      " 2   FIPS_census                        4910 non-null   float64\n",
      " 3   tract                              4910 non-null   float64\n",
      " 4   ShapeSTArea                        4910 non-null   float64\n",
      " 5   ShapeSTLength                      4908 non-null   float64\n",
      " 6   geometry_x                         4906 non-null   object \n",
      " 7   % Hispanic or Latino               4910 non-null   int64  \n",
      " 8   % Not a Citizen                    4910 non-null   int64  \n",
      " 9   % Unemployed                       4910 non-null   int64  \n",
      " 10  Population Density (Per Sq. Mile)  4910 non-null   int64  \n",
      " 11  Median Household Income            4910 non-null   int64  \n",
      " 12  Median Family Income               4910 non-null   int64  \n",
      " 13  % Enrolled in School               4910 non-null   int64  \n",
      " 14  % No Health Insurance Coverage     4910 non-null   int64  \n",
      " 15  pop_below_100_pct                  4910 non-null   int64  \n",
      " 16  calfresh_per_100_fam_below_200f    4910 non-null   int64  \n",
      " 17  mental_health_pct                  4910 non-null   int64  \n",
      " 18  chd_pct                            4910 non-null   int64  \n",
      " 19  snap_rate                          4910 non-null   int64  \n",
      " 20  spa                                4902 non-null   object \n",
      " 21  calfresh_per_100_families          4910 non-null   int64  \n",
      " 22  Percent 65 years and over          4910 non-null   int64  \n",
      " 23  lowaccess_count                    4910 non-null   int64  \n",
      " 24  denom_total_pop                    4910 non-null   int64  \n",
      " 25  lowaccess_li_count                 4910 non-null   int64  \n",
      " 26  lowaccess_seniors_count            4910 non-null   int64  \n",
      "dtypes: float64(4), int64(19), object(4)\n",
      "memory usage: 1.0+ MB\n"
     ]
    }
   ],
   "source": [
    "# Import merged dataset for USC and Census variables\n",
    "food=pd.read_csv('finaldata_0303.csv')\n",
    "food.info(verbose=True, show_counts=True)"
   ]
  },
  {
   "cell_type": "code",
   "execution_count": 6,
   "id": "45e8337d-09b8-4041-9598-876863a55c70",
   "metadata": {},
   "outputs": [],
   "source": [
    "# Load in tract shape file\n",
    "tracts = gpd.read_file('tl_2020_06_tract.shp')\n",
    "tracts['geoid20_x']=tracts.TRACTCE\n",
    "tracts['COUNTYFP'].unique()\n",
    "#filterto LA County census tracts\n",
    "latracts = tracts.query(\"COUNTYFP == '037'\")\n",
    "\n",
    "# Conditionally delete rows where hispanic % is outlier\n",
    "new = food[food['% Hispanic or Latino'] <= 100]"
   ]
  },
  {
   "cell_type": "code",
   "execution_count": 7,
   "id": "42286160-e2a3-49f3-b867-e5c14f3641d2",
   "metadata": {},
   "outputs": [],
   "source": [
    "# Merging the data\n",
    "tracts_census= latracts.merge(new,on=\"geoid20_x\")"
   ]
  },
  {
   "cell_type": "code",
   "execution_count": 8,
   "id": "f2251244-edc7-4ce3-8631-a864cac43c43",
   "metadata": {},
   "outputs": [],
   "source": [
    "# Export DataFrame to CSV\n",
    "tracts_census.to_csv('merged_data_jf.csv', index=False)"
   ]
  },
  {
   "cell_type": "markdown",
   "id": "fdead6d6-f3ce-4691-9eed-f357922deecb",
   "metadata": {},
   "source": [
    "## Create new variables for analysis"
   ]
  },
  {
   "cell_type": "code",
   "execution_count": 9,
   "id": "6e7e9e1f-2b75-498f-b56d-518d42e1bf66",
   "metadata": {},
   "outputs": [],
   "source": [
    "# Create low access percent variable\n",
    "a = food['lowaccess_count']\n",
    "b =food['denom_total_pop']\n",
    "food['lowaccess_pct']=round((a/b)*100)"
   ]
  },
  {
   "cell_type": "code",
   "execution_count": 10,
   "id": "2773aa3d-ecfe-45ab-8eaf-0a534dda786b",
   "metadata": {},
   "outputs": [],
   "source": [
    "# Create Food Insecurity Index \n",
    "# Create a Natural Breaks classifier\n",
    "classifier = mapclassify.NaturalBreaks.make(k=5)\n",
    "\n",
    "# Age score\n",
    "tracts_census['age_pct_score'] = tracts_census[['Percent 65 years and over']].apply(classifier)\n",
    "tracts_census[['Percent 65 years and over', 'age_pct_score']].head()\n",
    "\n",
    "# Hispanic score\n",
    "tracts_census['hisp_pct_score'] = tracts_census[['% Hispanic or Latino']].apply(classifier)\n",
    "tracts_census[['% Hispanic or Latino', 'hisp_pct_score']].head()\n",
    "\n",
    "# Unemployment score\n",
    "tracts_census['emp_pct_score'] = tracts_census[['% Unemployed']].apply(classifier)\n",
    "tracts_census[['% Unemployed', 'emp_pct_score']].head()\n",
    "\n",
    "# Food Index: Age + Hispanic + Unemployment scores \n",
    "tracts_census['priority_index'] = tracts_census['age_pct_score']+tracts_census['hisp_pct_score']+tracts_census['emp_pct_score']"
   ]
  }
 ],
 "metadata": {
  "kernelspec": {
   "display_name": "Python 3 (ipykernel)",
   "language": "python",
   "name": "python3"
  },
  "language_info": {
   "codemirror_mode": {
    "name": "ipython",
    "version": 3
   },
   "file_extension": ".py",
   "mimetype": "text/x-python",
   "name": "python",
   "nbconvert_exporter": "python",
   "pygments_lexer": "ipython3",
   "version": "3.11.7"
  }
 },
 "nbformat": 4,
 "nbformat_minor": 5
}
