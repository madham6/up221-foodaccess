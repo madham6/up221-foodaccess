{
 "cells": [
  {
   "cell_type": "markdown",
   "id": "fd63c11d-48e3-4ef0-9bf7-3cae1ca5778a",
   "metadata": {},
   "source": [
    "# Final Notebook 1: Food Access in LA County\n",
    "## Group Members: Madi Hamilton, Jessica Fay, Meaghan Woody, Branden Bohrnsen\n",
    "### UP221 Winter 2024\n",
    "\n",
    "### Description\n",
    "**Research Question:** Are there geographic disparities trends in food insecurity in Los Angeles County?\n",
    "\n",
    "**Notebook purpose:** Prepare data for creating maps\n",
    "\n",
    "**Data sources:**\n",
    "1. USC Neighborhood Data for Social Change\n",
    "2. U.S. Census Bureau - American Community Survey 2016-2020\n",
    "3. U.S. Census Tracts 2020\n",
    "4. Grocery Store Walkability"
   ]
  },
  {
   "cell_type": "markdown",
   "id": "bcc99a49-0c34-452c-ad87-8d64888d6ccf",
   "metadata": {},
   "source": [
    "### Description\n",
    "**Research Question:** Are there geographic disparities trends in food insecurity in Los Angeles County?\n",
    "\n",
    "**Notebook purpose:** Prepare data for creating maps\n",
    "\n",
    "**Data sources:**\n",
    "1. USC Neighborhood Data for Social Change\n",
    "2. U.S. Census Bureau - American Community Survey 2016-2020\n",
    "3. U.S. Census Tracts 2020\n",
    "4. Grocery Store Walkability"
   ]
  },
  {
   "cell_type": "markdown",
   "id": "43d0e9e5-184b-4ce8-830e-e3a46803dde3",
   "metadata": {},
   "source": [
    "### Import Libraries"
   ]
  },
  {
   "cell_type": "code",
   "execution_count": 8,
   "id": "a073d811-7b1f-46d1-8233-3ef26c61c3e5",
   "metadata": {},
   "outputs": [],
   "source": [
    "import pandas as pd\n",
    "import geopandas as gpd\n",
    "from shapely.geometry import Point\n",
    "from libpysal.weights import Queen\n",
    "import esda\n",
    "from esda.moran import Moran, Moran_Local\n",
    "import contextily as ctx\n",
    "from splot.esda import moran_scatterplot, plot_moran, lisa_cluster,plot_moran_simulation\n",
    "import libpysal as lps\n",
    "import matplotlib.pyplot as plt\n",
    "import plotly.express as px\n",
    "from shapely import wkt\n",
    "from shapely.wkt import loads\n",
    "import branca.colormap as cm\n",
    "import folium\n",
    "\n",
    "import numpy as np\n",
    "import networkx as nx\n",
    "import osmnx as ox\n",
    "import contextily as ctx\n",
    "from matplotlib.patches import Patch\n",
    "from matplotlib.lines import Line2D\n",
    "import plotly.express as px\n",
    "from sodapy import Socrata\n",
    "import mapclassify\n",
    "from shapely.geometry import Point\n",
    "import seaborn as sns"
   ]
  },
  {
   "cell_type": "markdown",
   "id": "64e623ed-7a3c-495f-a266-ad7df33d8a0e",
   "metadata": {},
   "source": [
    "### Create merged dataset with variables and geometry"
   ]
  },
  {
   "cell_type": "code",
   "execution_count": 9,
   "id": "0b223a87-5789-4e3b-8fbb-80d5d39c1611",
   "metadata": {},
   "outputs": [],
   "source": [
    "# Import merged dataset for USC and Census variables\n",
    "food=pd.read_csv('finaldata_0303.csv')"
   ]
  },
  {
   "cell_type": "code",
   "execution_count": 10,
   "id": "45e8337d-09b8-4041-9598-876863a55c70",
   "metadata": {},
   "outputs": [],
   "source": [
    "# Load in tract shape file\n",
    "tracts = gpd.read_file('tl_2020_06_tract.shp')\n",
    "tracts['geoid20_x']=tracts.TRACTCE\n",
    "tracts['COUNTYFP'].unique()\n",
    "\n",
    "# Filter to LA County census tracts\n",
    "latracts = tracts.query(\"COUNTYFP == '037'\")\n",
    "\n",
    "# Conditionally delete rows where hispanic % is outlier\n",
    "new = food[food['% Hispanic or Latino'] <= 100]"
   ]
  },
  {
   "cell_type": "code",
   "execution_count": 11,
   "id": "42286160-e2a3-49f3-b867-e5c14f3641d2",
   "metadata": {},
   "outputs": [],
   "source": [
    "# Merging the data\n",
    "tracts_census= latracts.merge(new,on=\"geoid20_x\")"
   ]
  },
  {
   "cell_type": "code",
   "execution_count": null,
   "id": "f2251244-edc7-4ce3-8631-a864cac43c43",
   "metadata": {},
   "outputs": [],
   "source": [
    "# Export DataFrame to CSV\n",
    "tracts_census.to_csv('merged_data_jf.csv', index=False)"
   ]
  },
  {
   "cell_type": "markdown",
   "id": "fdead6d6-f3ce-4691-9eed-f357922deecb",
   "metadata": {},
   "source": [
    "## Create new variables for analysis"
   ]
  },
  {
   "cell_type": "code",
   "execution_count": 6,
   "id": "6e7e9e1f-2b75-498f-b56d-518d42e1bf66",
   "metadata": {},
   "outputs": [],
   "source": [
    "# Create low access percent variable\n",
    "a = food['lowaccess_count']\n",
    "b =food['denom_total_pop']\n",
    "food['lowaccess_pct']=round((a/b)*100)"
   ]
  },
  {
   "cell_type": "code",
   "execution_count": 7,
   "id": "2773aa3d-ecfe-45ab-8eaf-0a534dda786b",
   "metadata": {},
   "outputs": [],
   "source": [
    "# Create Food Insecurity Index \n",
    "# First, create a Natural Breaks classifier\n",
    "classifier = mapclassify.NaturalBreaks.make(k=5)\n",
    "\n",
    "# Age score\n",
    "tracts_census['age_pct_score'] = tracts_census[['Percent 65 years and over']].apply(classifier)\n",
    "tracts_census[['Percent 65 years and over', 'age_pct_score']].head()\n",
    "\n",
    "# Hispanic score\n",
    "tracts_census['hisp_pct_score'] = tracts_census[['% Hispanic or Latino']].apply(classifier)\n",
    "tracts_census[['% Hispanic or Latino', 'hisp_pct_score']].head()\n",
    "\n",
    "# Unemployment score\n",
    "tracts_census['emp_pct_score'] = tracts_census[['% Unemployed']].apply(classifier)\n",
    "tracts_census[['% Unemployed', 'emp_pct_score']].head()\n",
    "\n",
    "# Food Insecurity Index: Age + Hispanic + Unemployment scores \n",
    "tracts_census['priority_index'] = tracts_census['age_pct_score']+tracts_census['hisp_pct_score']+tracts_census['emp_pct_score']"
   ]
  },
  {
   "cell_type": "markdown",
   "id": "f2734a06-e7ea-4026-94de-a704138402e3",
   "metadata": {},
   "source": [
    "### Distribution of Work:\n",
    "\n",
    "Jessica - focused on visualizations for descriptive analysis\n",
    "\n",
    "Meaghan - focused on visualizations for descriptive analysis\n",
    "\n",
    "Madi - focused on walkshed analysis\n",
    "\n",
    "Branden - focused on folium analysis and spatial regression"
   ]
  },
  {
   "cell_type": "code",
   "execution_count": null,
   "id": "344894f6-0ff6-4859-a2ca-52ab640a45f4",
   "metadata": {},
   "outputs": [],
   "source": []
  }
 ],
 "metadata": {
  "kernelspec": {
   "display_name": "Python 3 (ipykernel)",
   "language": "python",
   "name": "python3"
  },
  "language_info": {
   "codemirror_mode": {
    "name": "ipython",
    "version": 3
   },
   "file_extension": ".py",
   "mimetype": "text/x-python",
   "name": "python",
   "nbconvert_exporter": "python",
   "pygments_lexer": "ipython3",
   "version": "3.11.7"
  }
 },
 "nbformat": 4,
 "nbformat_minor": 5
}
