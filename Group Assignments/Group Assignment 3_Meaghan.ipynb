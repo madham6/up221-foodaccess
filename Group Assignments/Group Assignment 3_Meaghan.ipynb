{
 "cells": [
  {
   "cell_type": "markdown",
   "id": "b3d164a5-6e4c-41d5-84fe-ffd8b45cd8bc",
   "metadata": {},
   "source": [
    "# Group Assignment 3 - UP221 Winter 2024\n",
    "## Group Name: Food Access in LA County\n",
    "### Madi Hamilton, Jessica Fay, Meaghan Woody, Branden Bohrnsen\n",
    "\n",
    "Research Question - are there geographic disparities trends in food insecurity and coronary heart disease in Los Angeles County? \n",
    "\n",
    "Updates: new dataset to include SPAs, regraphed the data for the poverty and predictor/outcome variables with new dataset, included function and loop for fast food data"
   ]
  },
  {
   "cell_type": "markdown",
   "id": "da2a117b-d855-49e9-86cc-dc626d727954",
   "metadata": {},
   "source": [
    "# Part 1 - Load Data\n",
    "Data sources: USC Neighborhood Data for Social Change data, ACS census data"
   ]
  },
  {
   "cell_type": "code",
   "execution_count": 12,
   "id": "661a3e08-ae02-434c-8d80-0a855c31699b",
   "metadata": {},
   "outputs": [],
   "source": [
    "import pandas as pd\n",
    "import geopandas as gpd\n",
    "import matplotlib.pyplot as plt\n",
    "import numpy as np\n",
    "import contextily as cx\n",
    "import folium\n",
    "import plotly.io as pio\n",
    "import plotly.express as px"
   ]
  },
  {
   "cell_type": "code",
   "execution_count": 13,
   "id": "8ad56225-986f-449f-83eb-f44c85b9e2a3",
   "metadata": {
    "scrolled": true
   },
   "outputs": [
    {
     "name": "stdout",
     "output_type": "stream",
     "text": [
      "<class 'pandas.core.frame.DataFrame'>\n",
      "RangeIndex: 89453 entries, 0 to 89452\n",
      "Data columns (total 9 columns):\n",
      " #   Column             Non-Null Count  Dtype  \n",
      "---  ------             --------------  -----  \n",
      " 0   SPA22              89399 non-null  float64\n",
      " 1   SPA_NAME           89399 non-null  object \n",
      " 2   geoid20_x          89453 non-null  object \n",
      " 3   pop_below_100_pct  89302 non-null  float64\n",
      " 4   pop_below_200_pct  89302 non-null  float64\n",
      " 5   chd_pct            89453 non-null  float64\n",
      " 6   total_pop          72154 non-null  float64\n",
      " 7   snap_rate          72137 non-null  float64\n",
      " 8   FIPS               89453 non-null  int64  \n",
      "dtypes: float64(6), int64(1), object(2)\n",
      "memory usage: 6.1+ MB\n"
     ]
    }
   ],
   "source": [
    "# import new dataset for USC data merged with SPAs\n",
    "new = pd.read_csv('Data/new.csv', dtype= {'geoid20_x':str})\n",
    "new.head(3)\n",
    "new.info(verbose=True,show_counts=True)"
   ]
  },
  {
   "cell_type": "code",
   "execution_count": 26,
   "id": "5fa99a6b-5234-4b7d-ae17-abd252a85d2d",
   "metadata": {
    "scrolled": true
   },
   "outputs": [
    {
     "ename": "DriverError",
     "evalue": "Unable to open Data/tl_2020_06_tract.shx or Data/tl_2020_06_tract.SHX. Set SHAPE_RESTORE_SHX config option to YES to restore or create it.",
     "output_type": "error",
     "traceback": [
      "\u001b[0;31m---------------------------------------------------------------------------\u001b[0m",
      "\u001b[0;31mCPLE_OpenFailedError\u001b[0m                      Traceback (most recent call last)",
      "File \u001b[0;32mfiona/ogrext.pyx:136\u001b[0m, in \u001b[0;36mfiona.ogrext.gdal_open_vector\u001b[0;34m()\u001b[0m\n",
      "File \u001b[0;32mfiona/_err.pyx:291\u001b[0m, in \u001b[0;36mfiona._err.exc_wrap_pointer\u001b[0;34m()\u001b[0m\n",
      "\u001b[0;31mCPLE_OpenFailedError\u001b[0m: Unable to open Data/tl_2020_06_tract.shx or Data/tl_2020_06_tract.SHX. Set SHAPE_RESTORE_SHX config option to YES to restore or create it.",
      "\nDuring handling of the above exception, another exception occurred:\n",
      "\u001b[0;31mDriverError\u001b[0m                               Traceback (most recent call last)",
      "Cell \u001b[0;32mIn[26], line 2\u001b[0m\n\u001b[1;32m      1\u001b[0m \u001b[38;5;66;03m# import census tract data to merge data with tract data in next step\u001b[39;00m\n\u001b[0;32m----> 2\u001b[0m tracts \u001b[38;5;241m=\u001b[39m \u001b[43mgpd\u001b[49m\u001b[38;5;241;43m.\u001b[39;49m\u001b[43mread_file\u001b[49m\u001b[43m(\u001b[49m\u001b[38;5;124;43m'\u001b[39;49m\u001b[38;5;124;43mData/tl_2020_06_tract.shp\u001b[39;49m\u001b[38;5;124;43m'\u001b[39;49m\u001b[43m)\u001b[49m\n\u001b[1;32m      3\u001b[0m tracts\u001b[38;5;241m.\u001b[39mhead(\u001b[38;5;241m4\u001b[39m)\n\u001b[1;32m      4\u001b[0m tracts\u001b[38;5;241m.\u001b[39minfo(verbose\u001b[38;5;241m=\u001b[39m\u001b[38;5;28;01mTrue\u001b[39;00m,show_counts\u001b[38;5;241m=\u001b[39m\u001b[38;5;28;01mTrue\u001b[39;00m)\n",
      "File \u001b[0;32m/opt/conda/lib/python3.11/site-packages/geopandas/io/file.py:297\u001b[0m, in \u001b[0;36m_read_file\u001b[0;34m(filename, bbox, mask, rows, engine, **kwargs)\u001b[0m\n\u001b[1;32m    294\u001b[0m     \u001b[38;5;28;01melse\u001b[39;00m:\n\u001b[1;32m    295\u001b[0m         path_or_bytes \u001b[38;5;241m=\u001b[39m filename\n\u001b[0;32m--> 297\u001b[0m     \u001b[38;5;28;01mreturn\u001b[39;00m \u001b[43m_read_file_fiona\u001b[49m\u001b[43m(\u001b[49m\n\u001b[1;32m    298\u001b[0m \u001b[43m        \u001b[49m\u001b[43mpath_or_bytes\u001b[49m\u001b[43m,\u001b[49m\u001b[43m \u001b[49m\u001b[43mfrom_bytes\u001b[49m\u001b[43m,\u001b[49m\u001b[43m \u001b[49m\u001b[43mbbox\u001b[49m\u001b[38;5;241;43m=\u001b[39;49m\u001b[43mbbox\u001b[49m\u001b[43m,\u001b[49m\u001b[43m \u001b[49m\u001b[43mmask\u001b[49m\u001b[38;5;241;43m=\u001b[39;49m\u001b[43mmask\u001b[49m\u001b[43m,\u001b[49m\u001b[43m \u001b[49m\u001b[43mrows\u001b[49m\u001b[38;5;241;43m=\u001b[39;49m\u001b[43mrows\u001b[49m\u001b[43m,\u001b[49m\u001b[43m \u001b[49m\u001b[38;5;241;43m*\u001b[39;49m\u001b[38;5;241;43m*\u001b[39;49m\u001b[43mkwargs\u001b[49m\n\u001b[1;32m    299\u001b[0m \u001b[43m    \u001b[49m\u001b[43m)\u001b[49m\n\u001b[1;32m    301\u001b[0m \u001b[38;5;28;01melse\u001b[39;00m:\n\u001b[1;32m    302\u001b[0m     \u001b[38;5;28;01mraise\u001b[39;00m \u001b[38;5;167;01mValueError\u001b[39;00m(\u001b[38;5;124mf\u001b[39m\u001b[38;5;124m\"\u001b[39m\u001b[38;5;124munknown engine \u001b[39m\u001b[38;5;124m'\u001b[39m\u001b[38;5;132;01m{\u001b[39;00mengine\u001b[38;5;132;01m}\u001b[39;00m\u001b[38;5;124m'\u001b[39m\u001b[38;5;124m\"\u001b[39m)\n",
      "File \u001b[0;32m/opt/conda/lib/python3.11/site-packages/geopandas/io/file.py:338\u001b[0m, in \u001b[0;36m_read_file_fiona\u001b[0;34m(path_or_bytes, from_bytes, bbox, mask, rows, where, **kwargs)\u001b[0m\n\u001b[1;32m    335\u001b[0m     reader \u001b[38;5;241m=\u001b[39m fiona\u001b[38;5;241m.\u001b[39mopen\n\u001b[1;32m    337\u001b[0m \u001b[38;5;28;01mwith\u001b[39;00m fiona_env():\n\u001b[0;32m--> 338\u001b[0m     \u001b[38;5;28;01mwith\u001b[39;00m \u001b[43mreader\u001b[49m\u001b[43m(\u001b[49m\u001b[43mpath_or_bytes\u001b[49m\u001b[43m,\u001b[49m\u001b[43m \u001b[49m\u001b[38;5;241;43m*\u001b[39;49m\u001b[38;5;241;43m*\u001b[39;49m\u001b[43mkwargs\u001b[49m\u001b[43m)\u001b[49m \u001b[38;5;28;01mas\u001b[39;00m features:\n\u001b[1;32m    339\u001b[0m         crs \u001b[38;5;241m=\u001b[39m features\u001b[38;5;241m.\u001b[39mcrs_wkt\n\u001b[1;32m    340\u001b[0m         \u001b[38;5;66;03m# attempt to get EPSG code\u001b[39;00m\n",
      "File \u001b[0;32m/opt/conda/lib/python3.11/site-packages/fiona/env.py:457\u001b[0m, in \u001b[0;36mensure_env_with_credentials.<locals>.wrapper\u001b[0;34m(*args, **kwds)\u001b[0m\n\u001b[1;32m    454\u001b[0m     session \u001b[38;5;241m=\u001b[39m DummySession()\n\u001b[1;32m    456\u001b[0m \u001b[38;5;28;01mwith\u001b[39;00m env_ctor(session\u001b[38;5;241m=\u001b[39msession):\n\u001b[0;32m--> 457\u001b[0m     \u001b[38;5;28;01mreturn\u001b[39;00m \u001b[43mf\u001b[49m\u001b[43m(\u001b[49m\u001b[38;5;241;43m*\u001b[39;49m\u001b[43margs\u001b[49m\u001b[43m,\u001b[49m\u001b[43m \u001b[49m\u001b[38;5;241;43m*\u001b[39;49m\u001b[38;5;241;43m*\u001b[39;49m\u001b[43mkwds\u001b[49m\u001b[43m)\u001b[49m\n",
      "File \u001b[0;32m/opt/conda/lib/python3.11/site-packages/fiona/__init__.py:292\u001b[0m, in \u001b[0;36mopen\u001b[0;34m(fp, mode, driver, schema, crs, encoding, layer, vfs, enabled_drivers, crs_wkt, allow_unsupported_drivers, **kwargs)\u001b[0m\n\u001b[1;32m    289\u001b[0m     path \u001b[38;5;241m=\u001b[39m parse_path(fp)\n\u001b[1;32m    291\u001b[0m \u001b[38;5;28;01mif\u001b[39;00m mode \u001b[38;5;129;01min\u001b[39;00m (\u001b[38;5;124m\"\u001b[39m\u001b[38;5;124ma\u001b[39m\u001b[38;5;124m\"\u001b[39m, \u001b[38;5;124m\"\u001b[39m\u001b[38;5;124mr\u001b[39m\u001b[38;5;124m\"\u001b[39m):\n\u001b[0;32m--> 292\u001b[0m     colxn \u001b[38;5;241m=\u001b[39m \u001b[43mCollection\u001b[49m\u001b[43m(\u001b[49m\n\u001b[1;32m    293\u001b[0m \u001b[43m        \u001b[49m\u001b[43mpath\u001b[49m\u001b[43m,\u001b[49m\n\u001b[1;32m    294\u001b[0m \u001b[43m        \u001b[49m\u001b[43mmode\u001b[49m\u001b[43m,\u001b[49m\n\u001b[1;32m    295\u001b[0m \u001b[43m        \u001b[49m\u001b[43mdriver\u001b[49m\u001b[38;5;241;43m=\u001b[39;49m\u001b[43mdriver\u001b[49m\u001b[43m,\u001b[49m\n\u001b[1;32m    296\u001b[0m \u001b[43m        \u001b[49m\u001b[43mencoding\u001b[49m\u001b[38;5;241;43m=\u001b[39;49m\u001b[43mencoding\u001b[49m\u001b[43m,\u001b[49m\n\u001b[1;32m    297\u001b[0m \u001b[43m        \u001b[49m\u001b[43mlayer\u001b[49m\u001b[38;5;241;43m=\u001b[39;49m\u001b[43mlayer\u001b[49m\u001b[43m,\u001b[49m\n\u001b[1;32m    298\u001b[0m \u001b[43m        \u001b[49m\u001b[43menabled_drivers\u001b[49m\u001b[38;5;241;43m=\u001b[39;49m\u001b[43menabled_drivers\u001b[49m\u001b[43m,\u001b[49m\n\u001b[1;32m    299\u001b[0m \u001b[43m        \u001b[49m\u001b[43mallow_unsupported_drivers\u001b[49m\u001b[38;5;241;43m=\u001b[39;49m\u001b[43mallow_unsupported_drivers\u001b[49m\u001b[43m,\u001b[49m\n\u001b[1;32m    300\u001b[0m \u001b[43m        \u001b[49m\u001b[38;5;241;43m*\u001b[39;49m\u001b[38;5;241;43m*\u001b[39;49m\u001b[43mkwargs\u001b[49m\n\u001b[1;32m    301\u001b[0m \u001b[43m    \u001b[49m\u001b[43m)\u001b[49m\n\u001b[1;32m    302\u001b[0m \u001b[38;5;28;01melif\u001b[39;00m mode \u001b[38;5;241m==\u001b[39m \u001b[38;5;124m\"\u001b[39m\u001b[38;5;124mw\u001b[39m\u001b[38;5;124m\"\u001b[39m:\n\u001b[1;32m    303\u001b[0m     colxn \u001b[38;5;241m=\u001b[39m Collection(\n\u001b[1;32m    304\u001b[0m         path,\n\u001b[1;32m    305\u001b[0m         mode,\n\u001b[0;32m   (...)\u001b[0m\n\u001b[1;32m    314\u001b[0m         \u001b[38;5;241m*\u001b[39m\u001b[38;5;241m*\u001b[39mkwargs\n\u001b[1;32m    315\u001b[0m     )\n",
      "File \u001b[0;32m/opt/conda/lib/python3.11/site-packages/fiona/collection.py:243\u001b[0m, in \u001b[0;36mCollection.__init__\u001b[0;34m(self, path, mode, driver, schema, crs, encoding, layer, vsi, archive, enabled_drivers, crs_wkt, ignore_fields, ignore_geometry, include_fields, wkt_version, allow_unsupported_drivers, **kwargs)\u001b[0m\n\u001b[1;32m    241\u001b[0m \u001b[38;5;28;01mif\u001b[39;00m \u001b[38;5;28mself\u001b[39m\u001b[38;5;241m.\u001b[39mmode \u001b[38;5;241m==\u001b[39m \u001b[38;5;124m\"\u001b[39m\u001b[38;5;124mr\u001b[39m\u001b[38;5;124m\"\u001b[39m:\n\u001b[1;32m    242\u001b[0m     \u001b[38;5;28mself\u001b[39m\u001b[38;5;241m.\u001b[39msession \u001b[38;5;241m=\u001b[39m Session()\n\u001b[0;32m--> 243\u001b[0m     \u001b[38;5;28;43mself\u001b[39;49m\u001b[38;5;241;43m.\u001b[39;49m\u001b[43msession\u001b[49m\u001b[38;5;241;43m.\u001b[39;49m\u001b[43mstart\u001b[49m\u001b[43m(\u001b[49m\u001b[38;5;28;43mself\u001b[39;49m\u001b[43m,\u001b[49m\u001b[43m \u001b[49m\u001b[38;5;241;43m*\u001b[39;49m\u001b[38;5;241;43m*\u001b[39;49m\u001b[43mkwargs\u001b[49m\u001b[43m)\u001b[49m\n\u001b[1;32m    244\u001b[0m \u001b[38;5;28;01melif\u001b[39;00m \u001b[38;5;28mself\u001b[39m\u001b[38;5;241m.\u001b[39mmode \u001b[38;5;129;01min\u001b[39;00m (\u001b[38;5;124m\"\u001b[39m\u001b[38;5;124ma\u001b[39m\u001b[38;5;124m\"\u001b[39m, \u001b[38;5;124m\"\u001b[39m\u001b[38;5;124mw\u001b[39m\u001b[38;5;124m\"\u001b[39m):\n\u001b[1;32m    245\u001b[0m     \u001b[38;5;28mself\u001b[39m\u001b[38;5;241m.\u001b[39msession \u001b[38;5;241m=\u001b[39m WritingSession()\n",
      "File \u001b[0;32mfiona/ogrext.pyx:588\u001b[0m, in \u001b[0;36mfiona.ogrext.Session.start\u001b[0;34m()\u001b[0m\n",
      "File \u001b[0;32mfiona/ogrext.pyx:143\u001b[0m, in \u001b[0;36mfiona.ogrext.gdal_open_vector\u001b[0;34m()\u001b[0m\n",
      "\u001b[0;31mDriverError\u001b[0m: Unable to open Data/tl_2020_06_tract.shx or Data/tl_2020_06_tract.SHX. Set SHAPE_RESTORE_SHX config option to YES to restore or create it."
     ]
    }
   ],
   "source": [
    "# import census tract data to merge data with tract data in next step\n",
    "tracts = gpd.read_file('Data/tl_2020_06_tract.shp')\n",
    "tracts.head(4)\n",
    "tracts.info(verbose=True,show_counts=True)\n",
    "\n",
    "tracts['geoid20_x']=tracts.TRACTCE\n",
    "tracts.plot(figsize=(12,10))\n",
    "\n",
    "tracts['COUNTYFP'].unique()\n",
    "\n",
    "#filter for LA County census tracts\n",
    "latracts = tracts.query(\"COUNTYFP == '037'\")\n",
    "latracts.head(5)\n",
    "latracts.plot(figsize=(12,10))"
   ]
  },
  {
   "cell_type": "code",
   "execution_count": 19,
   "id": "4b0748f6-29cb-410e-b05b-921c84998941",
   "metadata": {},
   "outputs": [
    {
     "ename": "NameError",
     "evalue": "name 'latracts' is not defined",
     "output_type": "error",
     "traceback": [
      "\u001b[0;31m---------------------------------------------------------------------------\u001b[0m",
      "\u001b[0;31mNameError\u001b[0m                                 Traceback (most recent call last)",
      "Cell \u001b[0;32mIn[19], line 2\u001b[0m\n\u001b[1;32m      1\u001b[0m \u001b[38;5;66;03m#merge the data\u001b[39;00m\n\u001b[0;32m----> 2\u001b[0m tracts_census\u001b[38;5;241m=\u001b[39m \u001b[43mlatracts\u001b[49m\u001b[38;5;241m.\u001b[39mmerge(new,on\u001b[38;5;241m=\u001b[39m\u001b[38;5;124m\"\u001b[39m\u001b[38;5;124mgeoid20_x\u001b[39m\u001b[38;5;124m\"\u001b[39m)\n\u001b[1;32m      4\u001b[0m \u001b[38;5;66;03m#check map of census tracts merged with usc/spa data\u001b[39;00m\n\u001b[1;32m      5\u001b[0m latracts\u001b[38;5;241m.\u001b[39mplot(figsize\u001b[38;5;241m=\u001b[39m(\u001b[38;5;241m12\u001b[39m,\u001b[38;5;241m10\u001b[39m))\n",
      "\u001b[0;31mNameError\u001b[0m: name 'latracts' is not defined"
     ]
    }
   ],
   "source": [
    "#merge the data\n",
    "tracts_census= latracts.merge(new,on=\"geoid20_x\")\n",
    "\n",
    "#check map of census tracts merged with usc/spa data\n",
    "latracts.plot(figsize=(12,10))\n",
    "\n",
    "#make sure is a geodataframe\n",
    "tracts_census.info(verbose=True,show_counts=True)\n",
    "tracts_census.head(5)"
   ]
  },
  {
   "cell_type": "markdown",
   "id": "93321a4b-5bf4-4f70-981e-58c7396ee7e5",
   "metadata": {},
   "source": [
    "# Part 2 - Descriptive statistics"
   ]
  },
  {
   "cell_type": "code",
   "execution_count": null,
   "id": "842c7a2e-26c6-4b24-bf03-0205f550c59b",
   "metadata": {},
   "outputs": [],
   "source": [
    "#look at the mean and median population\n",
    "tracts_census['total_pop'].mean() #mean per census tract\n",
    "tracts_census['total_pop'].median() #median across census tracts\n",
    "\n",
    "#look at mean and median snap acceptance rate\n",
    "tracts_census['snap_rate'].mean() #mean per census tract\n",
    "tracts_census['snap_rate'].median() #median across census tracts\n",
    "\n",
    "#box plot\n",
    "tracts_census.boxplot(column=['snap_rate'])"
   ]
  },
  {
   "cell_type": "code",
   "execution_count": null,
   "id": "e916ee24-7013-4657-9efe-6f5474ea8359",
   "metadata": {},
   "outputs": [],
   "source": [
    "# make boxplots for the distribution of key variables\n",
    "df = pd.read_csv('Data/new.csv')\n",
    "\n",
    "#SNAP Rate\n",
    "px.box(data_frame = df\n",
    "       ,x = 'snap_rate', \n",
    "       labels ={\n",
    "                \"snap_rate\": \"Grocery Store SNAP Acceptance Rate\"},\n",
    "       \n",
    "       title='Census Tract Grocery Store SNAP Acceptance Rate'\n",
    "       )\n",
    "# Coronary Heart Disease Percent\n",
    "px.box(data_frame = df\n",
    "       ,x = 'chd_pct', \n",
    "        labels ={\n",
    "                \"chd_pct\": \"CHD Rate\"},\n",
    "       title='Census Tract Prevalence of Coronary Heart Disease'\n",
    "       )"
   ]
  },
  {
   "cell_type": "code",
   "execution_count": null,
   "id": "c038d82e-08fc-4614-9091-95d7bb843638",
   "metadata": {},
   "outputs": [],
   "source": [
    "# Look at distribution of Hispanic because in LA, most SNAP participants are Hispanic\n",
    "px.box(data_frame = df\n",
    "       ,x = 'pop_below_100_pct', title='Census Tract Percent Hispanic/Latino'\n",
    "       )"
   ]
  },
  {
   "cell_type": "code",
   "execution_count": null,
   "id": "4df85ae7-c094-485a-a437-83087d4f31db",
   "metadata": {},
   "outputs": [],
   "source": [
    "# Look at distribution of % of census that are 100% below poverty threshold\n",
    "px.box(data_frame = df\n",
    "       ,x = 'pop_below_200_pct', \n",
    "       labels ={\n",
    "                \"pop_below_100_pct\": \"Percent of Pop Below 100% Poverty Threshold\",},\n",
    "       title='Census Tract Percent Below 100% of Poverty Threshold'\n",
    "       )"
   ]
  },
  {
   "cell_type": "code",
   "execution_count": null,
   "id": "68e65666-7dcb-4ed1-a887-5ccf75977bcd",
   "metadata": {},
   "outputs": [],
   "source": [
    "# Initial Correlation of SNAP acceptance and CHD\n",
    " px.scatter(df, x=\"snap_rate\", y=\"chd_pct\",\n",
    "            labels ={\n",
    "                \"chd_pct\": \"CHD Rate\",\n",
    "                \"snap_rate\": \"Grocery Store SNAP Acceptance Rate\"},\n",
    "            title=\"Census Tract Coronary Heart Disease Rate vs. Grocery Store SNAP Acceptance Rate\")\n"
   ]
  },
  {
   "cell_type": "markdown",
   "id": "01ce25a2-138e-4160-a9a5-2d1f34ecf3a1",
   "metadata": {},
   "source": [
    "# Part 3 - Loops using OSM (Jessica)"
   ]
  },
  {
   "cell_type": "code",
   "execution_count": null,
   "id": "95e49fad-7650-4e35-9e10-db70738df1e3",
   "metadata": {},
   "outputs": [],
   "source": [
    "def chd_by_spa (place):\n",
    "    fig, ax = plt.subplots(figsize=(10,10))\n",
    "    # create the map plot\n",
    "fig, ax = plt.subplots(figsize=(10,10))\n",
    "tracts_census.plot(ax=ax,\n",
    "         column='snap_rate',\n",
    "         cmap='tab20',\n",
    "         legend=True)"
   ]
  },
  {
   "cell_type": "code",
   "execution_count": null,
   "id": "87db7f73-131c-4de8-84f1-452b47e53329",
   "metadata": {},
   "outputs": [],
   "source": [
    "# Define aread of interests\n",
    "place = 'Downtown, Los Angeles, CA'\n",
    "\n",
    "osm = ox.features.features_from_address(place, tags={'amenity': ['restaurant','fast_food']})\n",
    "\n",
    "# examine data\n",
    "osm.shape\n",
    "osm.info(verbose=True, show_counts=True)\n",
    "\n",
    "# subset data set to keep only variables of interest\n",
    "columns_to_keep = ['amenity','name','brand', 'diet:vegan', 'access', 'geometry']\n",
    "osm = osm[columns_to_keep]\n",
    "osm.head(10)"
   ]
  },
  {
   "cell_type": "code",
   "execution_count": null,
   "id": "7b21f109-edef-412e-8883-1699a519b21b",
   "metadata": {},
   "outputs": [],
   "source": [
    "# get the counts of outlet by restaurant type\n",
    "osm_food_counts = osm.value_counts(['amenity']).reset_index(name=\"count\")\n",
    "osm_food_counts\n",
    "\n",
    "# create bar chart of food outlet type\n",
    "osm_food_counts.plot.bar(x='amenity');"
   ]
  },
  {
   "cell_type": "code",
   "execution_count": null,
   "id": "686d5929-1ba9-4648-a968-600c68329089",
   "metadata": {},
   "outputs": [],
   "source": [
    "# create enhanced bar chart\n",
    "\n",
    "# create empty figure and axis where dataframe will be plotted\n",
    "fig, ax = plt.subplots(figsize=(12,4))\n",
    "\n",
    "# plot top ten building types with counts \n",
    "osm_food_counts[:10].plot.bar(ax=ax,\n",
    "                                      x='amenity',\n",
    "                                      y='count',\n",
    "                                      legend=False,\n",
    "                                      color='dodgerblue'\n",
    "                                      )\n",
    "\n",
    "ax.set_xlabel('Food Outlet Type') # override x label\n",
    "ax.set_ylabel('Number of Outlets') # override y label\n",
    "ax.set_title(\"Food outlet types\\n\"+place,fontsize=14,pad=10); # multi-line title with padding"
   ]
  },
  {
   "cell_type": "code",
   "execution_count": null,
   "id": "873b78ba-2410-4b1b-80d1-118650604fa8",
   "metadata": {},
   "outputs": [],
   "source": [
    "# list the templates available\n",
    "pio.templates"
   ]
  },
  {
   "cell_type": "code",
   "execution_count": null,
   "id": "75e73b54-001a-4440-af94-39ab743d96ba",
   "metadata": {},
   "outputs": [],
   "source": [
    "# set template theme\n",
    "pio.templates.default = \"seaborn\""
   ]
  },
  {
   "cell_type": "code",
   "execution_count": null,
   "id": "da1ca2fb-1060-45f0-aeca-a2e80c57a071",
   "metadata": {},
   "outputs": [],
   "source": [
    "# make bar chart with new theme\n",
    "fig = px.bar(osm_food_counts.head(10),\n",
    "        x='amenity',\n",
    "        y='count',\n",
    "        title=\"food outlet types in \"+place, # title\n",
    "        text_auto = True,\n",
    "        height=600,\n",
    "        width=900,\n",
    "        color_discrete_sequence =['slategray']*len(osm_food_counts), # single color for all the bars\n",
    "        labels={\n",
    "                'count': 'Number of outlets',\n",
    "                'amenity': 'Type of food outlet',\n",
    "        })\n",
    "\n",
    "# bar label\n",
    "fig.update_traces(textposition='outside',textfont_size=10,textfont_color='#444')\n",
    "\n",
    "# axes labels\n",
    "fig.update_yaxes(title_font_size=12,title_font_color='#aaa',tickfont_color='#aaa',tickfont_size=9)\n",
    "fig.update_xaxes(title_font_size=10,title_font_color='#aaa',tickfont_color='#aaa',tickfont_size=9)\n",
    "\n",
    "# show the figure\n",
    "fig.show()\n",
    "plt.savefig('city-name.png')"
   ]
  },
  {
   "cell_type": "code",
   "execution_count": null,
   "id": "258b454d-30a2-4a1c-b089-4f1e28e3779f",
   "metadata": {},
   "outputs": [],
   "source": [
    "#examine osm data again\n",
    "osm.shape\n",
    "osm.dtypes\n",
    "\n",
    "#create a plot of the fast food and restaurants in dtla\n",
    "osm.plot(figsize=(10,10),\n",
    "         column='amenity',\n",
    "         cmap='tab20',\n",
    "         legend=True)"
   ]
  },
  {
   "cell_type": "code",
   "execution_count": null,
   "id": "cfdb0fc2-c435-4cd5-b962-05e7cbd92729",
   "metadata": {},
   "outputs": [],
   "source": [
    "fig, ax = plt.subplots(figsize=(10,10))\n",
    "\n",
    "# create the map plot\n",
    "osm.plot(ax=ax,\n",
    "         column='amenity',\n",
    "         cmap='tab20',\n",
    "         legend=True,\n",
    "         legend_kwds={'loc':'upper left','bbox_to_anchor':(1,.9)})\n",
    "\n",
    "# add a title\n",
    "ax.set_title('Food Outlets types in ' + place)\n",
    "\n",
    "# get rid of the axis\n",
    "ax.axis('off');"
   ]
  },
  {
   "cell_type": "code",
   "execution_count": null,
   "id": "493bd1b6-0341-4273-ac00-83b199712f5f",
   "metadata": {},
   "outputs": [],
   "source": [
    "# define geography bounds\n",
    "minx = osm.total_bounds[0]\n",
    "miny = osm.total_bounds[1]\n",
    "maxx = osm.total_bounds[2]\n",
    "maxy = osm.total_bounds[3]\n",
    "\n",
    "# get unique buiding types in a list\n",
    "foodtypes = osm['amenity'].unique().tolist()\n",
    "foodtypes"
   ]
  },
  {
   "cell_type": "code",
   "execution_count": null,
   "id": "5335cf84-dfd6-4724-8855-8af50f968c5f",
   "metadata": {},
   "outputs": [],
   "source": [
    "# loop through food outlet types\n",
    "for type in foodtypes:\n",
    "    fig, ax = plt.subplots(figsize=(4,4))\n",
    "\n",
    "    # create the map plot\n",
    "    osm.plot(ax=ax,\n",
    "            # column='amenity',\n",
    "            color='#eee')\n",
    "\n",
    "    # create the map plot\n",
    "    osm[osm['amenity'] == type].plot(ax=ax,\n",
    "            # column='amenity',\n",
    "            color='black')\n",
    "\n",
    "    # set the extent of the map \n",
    "    # so that each map has the same bounds\n",
    "    ax.set_xlim((minx,maxx))\n",
    "    ax.set_ylim((miny,maxy))\n",
    "\n",
    "    # add a title\n",
    "    number_of_outlets = len(osm[osm['amenity']==type])\n",
    "    ax.set_title(str(number_of_outlets) + ' ' + type + 'amenity')\n",
    "\n",
    "    # get rid of the axis\n",
    "    ax.axis('off');"
   ]
  },
  {
   "cell_type": "code",
   "execution_count": null,
   "id": "94e59019-4345-408f-bc51-55380a82619a",
   "metadata": {},
   "outputs": [],
   "source": [
    " # add a base map\n",
    "#reproject to Web Mercator\n",
    "osm_web_mercator = osm.to_crs(epsg=3857)"
   ]
  },
  {
   "cell_type": "code",
   "execution_count": null,
   "id": "098ede1b-9d45-453c-a7cb-421345425971",
   "metadata": {},
   "outputs": [],
   "source": [
    "fig,ax = plt.subplots(figsize=(10,10))\n",
    "\n",
    "osm_web_mercator.plot(ax=ax,\n",
    "                    color=\"black\",\n",
    "                    alpha=0.8,\n",
    "                    )\n",
    "\n",
    "# get rid of the axis\n",
    "ax.axis('off');\n",
    "\n",
    "# basemap from carto that has a dark background (easier to see)\n",
    "ctx.add_basemap(ax=ax,\n",
    "                source=ctx.providers.CartoDB.Positron,\n",
    "                alpha=0.3 # add transparency to make it less dominant\n",
    "                )\n",
    "plt.savefig('LA.png')"
   ]
  },
  {
   "cell_type": "code",
   "execution_count": null,
   "id": "f46bfb18-1014-4656-afad-4185eecc774a",
   "metadata": {},
   "outputs": [],
   "source": [
    "# create a function to create a map\n",
    "def make_food_map(place):\n",
    " \n",
    "    # get the data from osm\n",
    "    osm = ox.features.features_from_address(place,\n",
    "                                    tags={'amenity': ['restaurant','fast_food']},\n",
    "                                    dist=500)\n",
    "\n",
    "    # reproject to Web Mercator\n",
    "    osm_web_mercator = osm.to_crs(epsg=3857)\n",
    "\n",
    "    # create the figure as a subplot\n",
    "    fig,ax = plt.subplots(figsize=(10,10))\n",
    "    \n",
    "    # add the map\n",
    "    osm_web_mercator.plot(ax=ax,\n",
    "                          column='amenity',\n",
    "                          cmap='tab20',\n",
    "                          legend=True,\n",
    "                          legend_kwds={'loc' :'upper left','bbox_to_anchor':(1,1)})\n",
    "                \n",
    "    # add a title\n",
    "    ax.set_title(\"Food outlet Types in\" + place)\n",
    "\n",
    "    # get rid of the axis\n",
    "    ax.axis('off')  \n",
    "    \n",
    "    #add a dark basemap\n",
    "    ctx.add_basemap(ax,source=ctx.providers.CartoDB.DarkMatter)"
   ]
  },
  {
   "cell_type": "code",
   "execution_count": null,
   "id": "9f9e7ab5-d9f7-4353-b788-382fe3372598",
   "metadata": {},
   "outputs": [],
   "source": [
    "#make a list of places to loop through\n",
    "place_list=[' Downtown, Los Angeles, CA', 'Westlake, Los Angeles', 'Westwood, Los Angeles, CA']"
   ]
  },
  {
   "cell_type": "code",
   "execution_count": null,
   "id": "626ade27-7d13-4fa9-be46-9c09dab54d8d",
   "metadata": {},
   "outputs": [],
   "source": [
    "#execute for loop\n",
    "for place in place_list:\n",
    "    make_food_map(place)"
   ]
  },
  {
   "cell_type": "markdown",
   "id": "cfa24b0c-c1a3-4f69-9c29-55151c4c2093",
   "metadata": {},
   "source": [
    "# Part 4 - Choropleth Maps (Madi, Meaghan)"
   ]
  },
  {
   "cell_type": "code",
   "execution_count": null,
   "id": "b6dc97b8-82f6-4c2f-8bbd-51178fc07ff6",
   "metadata": {},
   "outputs": [],
   "source": [
    "ax = tracts_census.plot(figsize=(12,10),\n",
    "                   column='pop_below_100_pct',\n",
    "                   legend=True,\n",
    "                   scheme='NaturalBreaks',\n",
    "                    cmap='YlOrRd')\n",
    "ax.set_axis_off()\n",
    "ax.set_title('Percent of the Population with Income Below 100% Poverty Level from 2016-2020')\n",
    "cx.add_basemap(ax,crs=4326,\n",
    "               source=cx.providers.CartoDB.Positron)\n",
    "plt.savefig('pop_below_100_pct.png')"
   ]
  },
  {
   "cell_type": "code",
   "execution_count": null,
   "id": "d97c6c87-1e4c-4e04-b47b-32760a098a34",
   "metadata": {},
   "outputs": [],
   "source": [
    "ax = tracts_census.plot(figsize=(12,10),\n",
    "                   column='pop_below_200_pct',\n",
    "                   legend=True,\n",
    "                   scheme='NaturalBreaks',\n",
    "                    cmap='YlOrRd')\n",
    "ax.set_axis_off()\n",
    "ax.set_title('Percent of the Population with Income Below 100% Poverty Level from 2016-2020')\n",
    "cx.add_basemap(ax,crs=4326,\n",
    "               source=cx.providers.CartoDB.Positron)\n",
    "plt.savefig('pop_below_100_pct.png')"
   ]
  },
  {
   "cell_type": "code",
   "execution_count": null,
   "id": "a77c8cbb-c79e-46a4-8ea1-26bb84f8f623",
   "metadata": {},
   "outputs": [],
   "source": [
    "ax = tracts_census.plot(figsize=(12,10),\n",
    "                   column='chd_pct',\n",
    "                   legend=True,\n",
    "                   scheme='NaturalBreaks',\n",
    "                    cmap='GnBu')\n",
    "ax.set_axis_off()\n",
    "ax.set_title('Percent of the Population with Coronary Heart Disease in 2020')\n",
    "cx.add_basemap(ax,crs=4326,\n",
    "               source=cx.providers.CartoDB.Positron)\n",
    "plt.savefig('chd_pct.png')"
   ]
  },
  {
   "cell_type": "code",
   "execution_count": null,
   "id": "aa55edbb-e8fe-407d-ba65-8c38a3e2ea32",
   "metadata": {},
   "outputs": [],
   "source": [
    "ax = tracts_census.plot(figsize=(12,10),\n",
    "                   column='snap_rate',\n",
    "                   legend=True,\n",
    "                   scheme='NaturalBreaks',\n",
    "                    cmap='YlGnBu')\n",
    "ax.set_axis_off()\n",
    "ax.set_title('Number of SNAP Accepting Institutions per 10,000 Residents in a Census Tract in 2023')\n",
    "cx.add_basemap(ax,crs=4326,\n",
    "               source=cx.providers.CartoDB.Positron)\n",
    "plt.savefig('snap_rate.png')"
   ]
  },
  {
   "cell_type": "markdown",
   "id": "335eff6e-8aaa-493f-a5c9-ea86fed7d901",
   "metadata": {},
   "source": [
    "# Part 5 - Folium Maps (Branden)"
   ]
  },
  {
   "cell_type": "code",
   "execution_count": null,
   "id": "0dbbecba-b7a9-4509-ae24-4ac3ba7d0b4b",
   "metadata": {},
   "outputs": [],
   "source": [
    "# Coerce to GDF, extract longitude and latitude from geometry column\n",
    "\n",
    "df = pd.read_excel(\"output_JF.xlsx\")\n",
    "\n",
    "df['geometry'] = df['geometry'].apply(wkt.loads)\n",
    "gdf = gpd.GeoDataFrame(df, geometry='geometry')\n",
    "gdf.set_crs(epsg=4326, inplace=True)\n",
    "\n",
    "gdf_projected = gdf.to_crs(epsg=2163)\n",
    "gdf_projected['centroid'] = gdf_projected.geometry.centroid\n",
    "centroids_geo = gdf_projected['centroid'].to_crs(epsg=4326)\n",
    "\n",
    "gdf['longitude'] = centroids_geo.x\n",
    "gdf['latitude'] = centroids_geo.y"
   ]
  },
  {
   "cell_type": "code",
   "execution_count": null,
   "id": "8dc94530-3d91-46ab-bffb-04991184126e",
   "metadata": {},
   "outputs": [],
   "source": [
    "gdf.head()\n",
    "gdf.columns\n",
    "gdf.snap_rate"
   ]
  },
  {
   "cell_type": "code",
   "execution_count": null,
   "id": "3e0c0d4c-4534-4f34-bdb2-702a8ec08235",
   "metadata": {},
   "outputs": [],
   "source": [
    "# Get proper data types\n",
    "df['snap_rate'] = gdf['snap_rate'].astype(float)\n",
    "gdf['chd_pct'] = gdf['chd_pct'].astype(float)"
   ]
  },
  {
   "cell_type": "code",
   "execution_count": null,
   "id": "06c7983d-6450-4dfc-8d36-f37c927a7341",
   "metadata": {},
   "outputs": [],
   "source": [
    "# Create map with snap_rate as the fill variable\n",
    "\n",
    "snap_rate_min = gdf['snap_rate'].min()\n",
    "snap_rate_max = gdf['snap_rate'].max()\n",
    "\n",
    "colormap = cm.linear.YlOrRd_09.scale(snap_rate_min, snap_rate_max)\n",
    "colormap.caption = 'SNAP Rate'\n",
    "\n",
    "def style_function(feature):\n",
    "    snap_rate = feature['properties']['snap_rate']\n",
    "    return {\n",
    "        'fillColor': colormap(snap_rate),\n",
    "        'color': 'black',\n",
    "        'weight': 1,\n",
    "        'fillOpacity': 0.7\n",
    "    }\n",
    "\n",
    "m = folium.Map(location=[gdf['latitude'].mean(), gdf['longitude'].mean()], zoom_start=5)\n",
    "\n",
    "folium.GeoJson(\n",
    "    gdf,\n",
    "    style_function=style_function,\n",
    "    tooltip=folium.GeoJsonTooltip(fields=['snap_rate', 'chd_pct'], \n",
    "                                  aliases=['SNAP Rate:', 'CHD %:'], \n",
    "                                  localize=True),\n",
    "    popup=folium.GeoJsonPopup(fields=['snap_rate', 'chd_pct'], \n",
    "                              aliases=['SNAP Rate:', 'CHD %:'], \n",
    "                              labels=True)\n",
    ").add_to(m)\n",
    "\n",
    "colormap.add_to(m)\n",
    "\n",
    "m"
   ]
  },
  {
   "cell_type": "markdown",
   "id": "0fcb3cb9-6318-4dea-9652-5c62bdfaeed5",
   "metadata": {},
   "source": [
    "# Group Member Contributions"
   ]
  },
  {
   "cell_type": "markdown",
   "id": "6849a481-faa9-4736-95fd-63892271333b",
   "metadata": {},
   "source": [
    "1. Branden - folium\n",
    "2. Jessica - cleaned data for import and analysis, conducted data exploration and developed visualizations of key variables\n",
    "3. Madi - I created three chorpleth maps describing the spatial distribution of the percent of the population below the 100% poverty level, the prevalence of coronary heart disease, and SNAP acceptance rate.\n",
    "4. Meaghan - maps, compiled notebook"
   ]
  }
 ],
 "metadata": {
  "kernelspec": {
   "display_name": "Python 3 (ipykernel)",
   "language": "python",
   "name": "python3"
  },
  "language_info": {
   "codemirror_mode": {
    "name": "ipython",
    "version": 3
   },
   "file_extension": ".py",
   "mimetype": "text/x-python",
   "name": "python",
   "nbconvert_exporter": "python",
   "pygments_lexer": "ipython3",
   "version": "3.11.7"
  }
 },
 "nbformat": 4,
 "nbformat_minor": 5
}
