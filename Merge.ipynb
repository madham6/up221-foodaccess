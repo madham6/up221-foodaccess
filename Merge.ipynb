{
 "cells": [
  {
   "cell_type": "markdown",
   "id": "8f1e2484-4feb-49d6-a735-2682ab98bbfd",
   "metadata": {},
   "source": [
    "# Code to Recreate Dataset for Final\n",
    "## Merges census variables, Cal Fresh cases per census, and census tract geometry data\n",
    "### Last Edited: 2/27/2024"
   ]
  },
  {
   "cell_type": "code",
   "execution_count": 111,
   "id": "9b154571-d588-4afb-8bfd-64f74f25c920",
   "metadata": {},
   "outputs": [],
   "source": [
    "import pandas as pd\n",
    "import geopandas as gpd"
   ]
  },
  {
   "cell_type": "code",
   "execution_count": 112,
   "id": "3cf9fc31-753c-4616-bf97-85881f434266",
   "metadata": {},
   "outputs": [
    {
     "name": "stderr",
     "output_type": "stream",
     "text": [
      "/tmp/ipykernel_152/890708841.py:1: DtypeWarning: Columns (23,24,51,52,71,72,201,202,203,204,207,208,209,210,211,212,213,214,215,216,217,218,219,220,221,222,223,224,225,226,227,228,229,230,231,232,235,236,237,238,239,240,241,242,243,244,245,246,249,250,251,252,265,266,267,268,269,270,271,272,273,274,275,276,277,278,279,280,281,282,283,284,285,286,287,288,289,290,291,292,293,294,295,296,297,298,299,300,301,302,303,304,305,306,307,308,309,310,311,312,313,314,315,316,317,318,319,320,321,322,323,324,325,326,329,330,331,332,333,334,335,336,337,338,339,340,343,344,345,346,347,348,349,350,351,352,353,354,355,356,357,358,359,360,361,362,363,364,365,366,367,368,369,370,371,372,377,378,379,380) have mixed types. Specify dtype option on import or set low_memory=False.\n",
      "  new = pd.read_csv('data/output.csv',dtype = {'geoid20_x':str})\n"
     ]
    },
    {
     "data": {
      "text/html": [
       "<div>\n",
       "<style scoped>\n",
       "    .dataframe tbody tr th:only-of-type {\n",
       "        vertical-align: middle;\n",
       "    }\n",
       "\n",
       "    .dataframe tbody tr th {\n",
       "        vertical-align: top;\n",
       "    }\n",
       "\n",
       "    .dataframe thead th {\n",
       "        text-align: right;\n",
       "    }\n",
       "</style>\n",
       "<table border=\"1\" class=\"dataframe\">\n",
       "  <thead>\n",
       "    <tr style=\"text-align: right;\">\n",
       "      <th></th>\n",
       "      <th>geoid20_x</th>\n",
       "      <th>ShapeSTArea</th>\n",
       "      <th>ShapeSTLength</th>\n",
       "      <th>geometry</th>\n",
       "      <th>pop_below_100_pct</th>\n",
       "      <th>pop_below_200_pct</th>\n",
       "      <th>mental_health_pct</th>\n",
       "      <th>physical_health_pct</th>\n",
       "      <th>diabetes_pct</th>\n",
       "      <th>cancer_pct</th>\n",
       "      <th>...</th>\n",
       "      <th>Percent Margin of Error!!HISPANIC OR LATINO AND RACE!!Total population!!Not Hispanic or Latino!!Two or More Races!!Two races excluding Some Other Race, and three or more races</th>\n",
       "      <th>Percent!!Total housing units</th>\n",
       "      <th>Percent Margin of Error!!Total housing units</th>\n",
       "      <th>Percent!!CITIZEN, VOTING AGE POPULATION!!Citizen, 18 and over population</th>\n",
       "      <th>Percent Margin of Error!!CITIZEN, VOTING AGE POPULATION!!Citizen, 18 and over population</th>\n",
       "      <th>Percent!!CITIZEN, VOTING AGE POPULATION!!Citizen, 18 and over population!!Male</th>\n",
       "      <th>Percent Margin of Error!!CITIZEN, VOTING AGE POPULATION!!Citizen, 18 and over population!!Male</th>\n",
       "      <th>Percent!!CITIZEN, VOTING AGE POPULATION!!Citizen, 18 and over population!!Female</th>\n",
       "      <th>Percent Margin of Error!!CITIZEN, VOTING AGE POPULATION!!Citizen, 18 and over population!!Female</th>\n",
       "      <th>geoid20_y</th>\n",
       "    </tr>\n",
       "  </thead>\n",
       "  <tbody>\n",
       "    <tr>\n",
       "      <th>0</th>\n",
       "      <td>101110</td>\n",
       "      <td>1.229562e+07</td>\n",
       "      <td>15083.854290</td>\n",
       "      <td>POLYGON ((-118.2979312139962 34.2632268762169,...</td>\n",
       "      <td>11.287386</td>\n",
       "      <td>26.736021</td>\n",
       "      <td>16.309769</td>\n",
       "      <td>10.794954</td>\n",
       "      <td>9.504253</td>\n",
       "      <td>5.485480</td>\n",
       "      <td>...</td>\n",
       "      <td>2.8</td>\n",
       "      <td>(X)</td>\n",
       "      <td>(X)</td>\n",
       "      <td>3106.0</td>\n",
       "      <td>(X)</td>\n",
       "      <td>46.5</td>\n",
       "      <td>4.3</td>\n",
       "      <td>53.5</td>\n",
       "      <td>4.3</td>\n",
       "      <td>101110.0</td>\n",
       "    </tr>\n",
       "    <tr>\n",
       "      <th>1</th>\n",
       "      <td>101122</td>\n",
       "      <td>2.845774e+07</td>\n",
       "      <td>31671.455840</td>\n",
       "      <td>POLYGON ((-118.27743420965825 34.2599078772977...</td>\n",
       "      <td>4.429760</td>\n",
       "      <td>10.499266</td>\n",
       "      <td>13.911290</td>\n",
       "      <td>8.702957</td>\n",
       "      <td>8.299731</td>\n",
       "      <td>6.283602</td>\n",
       "      <td>...</td>\n",
       "      <td>2.8</td>\n",
       "      <td>(X)</td>\n",
       "      <td>(X)</td>\n",
       "      <td>3252.0</td>\n",
       "      <td>(X)</td>\n",
       "      <td>52.4</td>\n",
       "      <td>3.9</td>\n",
       "      <td>47.6</td>\n",
       "      <td>3.9</td>\n",
       "      <td>101122.0</td>\n",
       "    </tr>\n",
       "    <tr>\n",
       "      <th>2</th>\n",
       "      <td>101220</td>\n",
       "      <td>7.522093e+06</td>\n",
       "      <td>12698.783810</td>\n",
       "      <td>POLYGON ((-118.27817921018234 34.2557728762786...</td>\n",
       "      <td>16.900661</td>\n",
       "      <td>34.781456</td>\n",
       "      <td>16.807861</td>\n",
       "      <td>11.995934</td>\n",
       "      <td>10.606574</td>\n",
       "      <td>5.489665</td>\n",
       "      <td>...</td>\n",
       "      <td>1.1</td>\n",
       "      <td>(X)</td>\n",
       "      <td>(X)</td>\n",
       "      <td>2459.0</td>\n",
       "      <td>(X)</td>\n",
       "      <td>46.8</td>\n",
       "      <td>5.8</td>\n",
       "      <td>53.2</td>\n",
       "      <td>5.8</td>\n",
       "      <td>101220.0</td>\n",
       "    </tr>\n",
       "    <tr>\n",
       "      <th>3</th>\n",
       "      <td>101221</td>\n",
       "      <td>3.812000e+06</td>\n",
       "      <td>9161.710543</td>\n",
       "      <td>POLYGON ((-118.28734521088782 34.2559088762374...</td>\n",
       "      <td>20.601543</td>\n",
       "      <td>43.918018</td>\n",
       "      <td>18.384296</td>\n",
       "      <td>12.306531</td>\n",
       "      <td>9.890525</td>\n",
       "      <td>4.605512</td>\n",
       "      <td>...</td>\n",
       "      <td>1.9</td>\n",
       "      <td>(X)</td>\n",
       "      <td>(X)</td>\n",
       "      <td>2224.0</td>\n",
       "      <td>(X)</td>\n",
       "      <td>54.9</td>\n",
       "      <td>8.4</td>\n",
       "      <td>45.1</td>\n",
       "      <td>8.4</td>\n",
       "      <td>101221.0</td>\n",
       "    </tr>\n",
       "    <tr>\n",
       "      <th>4</th>\n",
       "      <td>101222</td>\n",
       "      <td>3.191371e+06</td>\n",
       "      <td>9980.600461</td>\n",
       "      <td>POLYGON ((-118.28593621132488 34.2558998758872...</td>\n",
       "      <td>38.019875</td>\n",
       "      <td>66.654396</td>\n",
       "      <td>18.394951</td>\n",
       "      <td>12.308386</td>\n",
       "      <td>9.918846</td>\n",
       "      <td>4.598738</td>\n",
       "      <td>...</td>\n",
       "      <td>3.1</td>\n",
       "      <td>(X)</td>\n",
       "      <td>(X)</td>\n",
       "      <td>1552.0</td>\n",
       "      <td>(X)</td>\n",
       "      <td>45.0</td>\n",
       "      <td>7.3</td>\n",
       "      <td>55.0</td>\n",
       "      <td>7.3</td>\n",
       "      <td>101222.0</td>\n",
       "    </tr>\n",
       "    <tr>\n",
       "      <th>...</th>\n",
       "      <td>...</td>\n",
       "      <td>...</td>\n",
       "      <td>...</td>\n",
       "      <td>...</td>\n",
       "      <td>...</td>\n",
       "      <td>...</td>\n",
       "      <td>...</td>\n",
       "      <td>...</td>\n",
       "      <td>...</td>\n",
       "      <td>...</td>\n",
       "      <td>...</td>\n",
       "      <td>...</td>\n",
       "      <td>...</td>\n",
       "      <td>...</td>\n",
       "      <td>...</td>\n",
       "      <td>...</td>\n",
       "      <td>...</td>\n",
       "      <td>...</td>\n",
       "      <td>...</td>\n",
       "      <td>...</td>\n",
       "      <td>...</td>\n",
       "    </tr>\n",
       "    <tr>\n",
       "      <th>2962</th>\n",
       "      <td>NaN</td>\n",
       "      <td>NaN</td>\n",
       "      <td>NaN</td>\n",
       "      <td>NaN</td>\n",
       "      <td>NaN</td>\n",
       "      <td>NaN</td>\n",
       "      <td>NaN</td>\n",
       "      <td>NaN</td>\n",
       "      <td>NaN</td>\n",
       "      <td>NaN</td>\n",
       "      <td>...</td>\n",
       "      <td>1.2</td>\n",
       "      <td>(X)</td>\n",
       "      <td>(X)</td>\n",
       "      <td>3749.0</td>\n",
       "      <td>(X)</td>\n",
       "      <td>100</td>\n",
       "      <td>1.1</td>\n",
       "      <td>0</td>\n",
       "      <td>1.1</td>\n",
       "      <td>9202.0</td>\n",
       "    </tr>\n",
       "    <tr>\n",
       "      <th>2963</th>\n",
       "      <td>NaN</td>\n",
       "      <td>NaN</td>\n",
       "      <td>NaN</td>\n",
       "      <td>NaN</td>\n",
       "      <td>NaN</td>\n",
       "      <td>NaN</td>\n",
       "      <td>NaN</td>\n",
       "      <td>NaN</td>\n",
       "      <td>NaN</td>\n",
       "      <td>NaN</td>\n",
       "      <td>...</td>\n",
       "      <td>2.4</td>\n",
       "      <td>(X)</td>\n",
       "      <td>(X)</td>\n",
       "      <td>1026.0</td>\n",
       "      <td>(X)</td>\n",
       "      <td>61.7</td>\n",
       "      <td>7.2</td>\n",
       "      <td>38.3</td>\n",
       "      <td>7.2</td>\n",
       "      <td>9304.0</td>\n",
       "    </tr>\n",
       "    <tr>\n",
       "      <th>2964</th>\n",
       "      <td>NaN</td>\n",
       "      <td>NaN</td>\n",
       "      <td>NaN</td>\n",
       "      <td>NaN</td>\n",
       "      <td>NaN</td>\n",
       "      <td>NaN</td>\n",
       "      <td>NaN</td>\n",
       "      <td>NaN</td>\n",
       "      <td>NaN</td>\n",
       "      <td>NaN</td>\n",
       "      <td>...</td>\n",
       "      <td>**</td>\n",
       "      <td>(X)</td>\n",
       "      <td>(X)</td>\n",
       "      <td>0.0</td>\n",
       "      <td>(X)</td>\n",
       "      <td>-</td>\n",
       "      <td>**</td>\n",
       "      <td>-</td>\n",
       "      <td>**</td>\n",
       "      <td>9901.0</td>\n",
       "    </tr>\n",
       "    <tr>\n",
       "      <th>2965</th>\n",
       "      <td>NaN</td>\n",
       "      <td>NaN</td>\n",
       "      <td>NaN</td>\n",
       "      <td>NaN</td>\n",
       "      <td>NaN</td>\n",
       "      <td>NaN</td>\n",
       "      <td>NaN</td>\n",
       "      <td>NaN</td>\n",
       "      <td>NaN</td>\n",
       "      <td>NaN</td>\n",
       "      <td>...</td>\n",
       "      <td>**</td>\n",
       "      <td>(X)</td>\n",
       "      <td>(X)</td>\n",
       "      <td>0.0</td>\n",
       "      <td>(X)</td>\n",
       "      <td>-</td>\n",
       "      <td>**</td>\n",
       "      <td>-</td>\n",
       "      <td>**</td>\n",
       "      <td>9902.0</td>\n",
       "    </tr>\n",
       "    <tr>\n",
       "      <th>2966</th>\n",
       "      <td>NaN</td>\n",
       "      <td>NaN</td>\n",
       "      <td>NaN</td>\n",
       "      <td>NaN</td>\n",
       "      <td>NaN</td>\n",
       "      <td>NaN</td>\n",
       "      <td>NaN</td>\n",
       "      <td>NaN</td>\n",
       "      <td>NaN</td>\n",
       "      <td>NaN</td>\n",
       "      <td>...</td>\n",
       "      <td>**</td>\n",
       "      <td>(X)</td>\n",
       "      <td>(X)</td>\n",
       "      <td>0.0</td>\n",
       "      <td>(X)</td>\n",
       "      <td>-</td>\n",
       "      <td>**</td>\n",
       "      <td>-</td>\n",
       "      <td>**</td>\n",
       "      <td>9903.0</td>\n",
       "    </tr>\n",
       "  </tbody>\n",
       "</table>\n",
       "<p>2967 rows × 382 columns</p>\n",
       "</div>"
      ],
      "text/plain": [
       "     geoid20_x   ShapeSTArea  ShapeSTLength  \\\n",
       "0       101110  1.229562e+07   15083.854290   \n",
       "1       101122  2.845774e+07   31671.455840   \n",
       "2       101220  7.522093e+06   12698.783810   \n",
       "3       101221  3.812000e+06    9161.710543   \n",
       "4       101222  3.191371e+06    9980.600461   \n",
       "...        ...           ...            ...   \n",
       "2962       NaN           NaN            NaN   \n",
       "2963       NaN           NaN            NaN   \n",
       "2964       NaN           NaN            NaN   \n",
       "2965       NaN           NaN            NaN   \n",
       "2966       NaN           NaN            NaN   \n",
       "\n",
       "                                               geometry  pop_below_100_pct  \\\n",
       "0     POLYGON ((-118.2979312139962 34.2632268762169,...          11.287386   \n",
       "1     POLYGON ((-118.27743420965825 34.2599078772977...           4.429760   \n",
       "2     POLYGON ((-118.27817921018234 34.2557728762786...          16.900661   \n",
       "3     POLYGON ((-118.28734521088782 34.2559088762374...          20.601543   \n",
       "4     POLYGON ((-118.28593621132488 34.2558998758872...          38.019875   \n",
       "...                                                 ...                ...   \n",
       "2962                                                NaN                NaN   \n",
       "2963                                                NaN                NaN   \n",
       "2964                                                NaN                NaN   \n",
       "2965                                                NaN                NaN   \n",
       "2966                                                NaN                NaN   \n",
       "\n",
       "      pop_below_200_pct  mental_health_pct  physical_health_pct  diabetes_pct  \\\n",
       "0             26.736021          16.309769            10.794954      9.504253   \n",
       "1             10.499266          13.911290             8.702957      8.299731   \n",
       "2             34.781456          16.807861            11.995934     10.606574   \n",
       "3             43.918018          18.384296            12.306531      9.890525   \n",
       "4             66.654396          18.394951            12.308386      9.918846   \n",
       "...                 ...                ...                  ...           ...   \n",
       "2962                NaN                NaN                  NaN           NaN   \n",
       "2963                NaN                NaN                  NaN           NaN   \n",
       "2964                NaN                NaN                  NaN           NaN   \n",
       "2965                NaN                NaN                  NaN           NaN   \n",
       "2966                NaN                NaN                  NaN           NaN   \n",
       "\n",
       "      cancer_pct  ...  \\\n",
       "0       5.485480  ...   \n",
       "1       6.283602  ...   \n",
       "2       5.489665  ...   \n",
       "3       4.605512  ...   \n",
       "4       4.598738  ...   \n",
       "...          ...  ...   \n",
       "2962         NaN  ...   \n",
       "2963         NaN  ...   \n",
       "2964         NaN  ...   \n",
       "2965         NaN  ...   \n",
       "2966         NaN  ...   \n",
       "\n",
       "      Percent Margin of Error!!HISPANIC OR LATINO AND RACE!!Total population!!Not Hispanic or Latino!!Two or More Races!!Two races excluding Some Other Race, and three or more races  \\\n",
       "0                                                   2.8                                                                                                                                 \n",
       "1                                                   2.8                                                                                                                                 \n",
       "2                                                   1.1                                                                                                                                 \n",
       "3                                                   1.9                                                                                                                                 \n",
       "4                                                   3.1                                                                                                                                 \n",
       "...                                                 ...                                                                                                                                 \n",
       "2962                                                1.2                                                                                                                                 \n",
       "2963                                                2.4                                                                                                                                 \n",
       "2964                                                 **                                                                                                                                 \n",
       "2965                                                 **                                                                                                                                 \n",
       "2966                                                 **                                                                                                                                 \n",
       "\n",
       "      Percent!!Total housing units  \\\n",
       "0                              (X)   \n",
       "1                              (X)   \n",
       "2                              (X)   \n",
       "3                              (X)   \n",
       "4                              (X)   \n",
       "...                            ...   \n",
       "2962                           (X)   \n",
       "2963                           (X)   \n",
       "2964                           (X)   \n",
       "2965                           (X)   \n",
       "2966                           (X)   \n",
       "\n",
       "      Percent Margin of Error!!Total housing units  \\\n",
       "0                                              (X)   \n",
       "1                                              (X)   \n",
       "2                                              (X)   \n",
       "3                                              (X)   \n",
       "4                                              (X)   \n",
       "...                                            ...   \n",
       "2962                                           (X)   \n",
       "2963                                           (X)   \n",
       "2964                                           (X)   \n",
       "2965                                           (X)   \n",
       "2966                                           (X)   \n",
       "\n",
       "      Percent!!CITIZEN, VOTING AGE POPULATION!!Citizen, 18 and over population  \\\n",
       "0                                                3106.0                          \n",
       "1                                                3252.0                          \n",
       "2                                                2459.0                          \n",
       "3                                                2224.0                          \n",
       "4                                                1552.0                          \n",
       "...                                                 ...                          \n",
       "2962                                             3749.0                          \n",
       "2963                                             1026.0                          \n",
       "2964                                                0.0                          \n",
       "2965                                                0.0                          \n",
       "2966                                                0.0                          \n",
       "\n",
       "      Percent Margin of Error!!CITIZEN, VOTING AGE POPULATION!!Citizen, 18 and over population  \\\n",
       "0                                                   (X)                                          \n",
       "1                                                   (X)                                          \n",
       "2                                                   (X)                                          \n",
       "3                                                   (X)                                          \n",
       "4                                                   (X)                                          \n",
       "...                                                 ...                                          \n",
       "2962                                                (X)                                          \n",
       "2963                                                (X)                                          \n",
       "2964                                                (X)                                          \n",
       "2965                                                (X)                                          \n",
       "2966                                                (X)                                          \n",
       "\n",
       "      Percent!!CITIZEN, VOTING AGE POPULATION!!Citizen, 18 and over population!!Male  \\\n",
       "0                                                  46.5                                \n",
       "1                                                  52.4                                \n",
       "2                                                  46.8                                \n",
       "3                                                  54.9                                \n",
       "4                                                  45.0                                \n",
       "...                                                 ...                                \n",
       "2962                                                100                                \n",
       "2963                                               61.7                                \n",
       "2964                                                  -                                \n",
       "2965                                                  -                                \n",
       "2966                                                  -                                \n",
       "\n",
       "      Percent Margin of Error!!CITIZEN, VOTING AGE POPULATION!!Citizen, 18 and over population!!Male  \\\n",
       "0                                                   4.3                                                \n",
       "1                                                   3.9                                                \n",
       "2                                                   5.8                                                \n",
       "3                                                   8.4                                                \n",
       "4                                                   7.3                                                \n",
       "...                                                 ...                                                \n",
       "2962                                                1.1                                                \n",
       "2963                                                7.2                                                \n",
       "2964                                                 **                                                \n",
       "2965                                                 **                                                \n",
       "2966                                                 **                                                \n",
       "\n",
       "      Percent!!CITIZEN, VOTING AGE POPULATION!!Citizen, 18 and over population!!Female  \\\n",
       "0                                                  53.5                                  \n",
       "1                                                  47.6                                  \n",
       "2                                                  53.2                                  \n",
       "3                                                  45.1                                  \n",
       "4                                                  55.0                                  \n",
       "...                                                 ...                                  \n",
       "2962                                                  0                                  \n",
       "2963                                               38.3                                  \n",
       "2964                                                  -                                  \n",
       "2965                                                  -                                  \n",
       "2966                                                  -                                  \n",
       "\n",
       "      Percent Margin of Error!!CITIZEN, VOTING AGE POPULATION!!Citizen, 18 and over population!!Female  \\\n",
       "0                                                   4.3                                                  \n",
       "1                                                   3.9                                                  \n",
       "2                                                   5.8                                                  \n",
       "3                                                   8.4                                                  \n",
       "4                                                   7.3                                                  \n",
       "...                                                 ...                                                  \n",
       "2962                                                1.1                                                  \n",
       "2963                                                7.2                                                  \n",
       "2964                                                 **                                                  \n",
       "2965                                                 **                                                  \n",
       "2966                                                 **                                                  \n",
       "\n",
       "      geoid20_y  \n",
       "0      101110.0  \n",
       "1      101122.0  \n",
       "2      101220.0  \n",
       "3      101221.0  \n",
       "4      101222.0  \n",
       "...         ...  \n",
       "2962     9202.0  \n",
       "2963     9304.0  \n",
       "2964     9901.0  \n",
       "2965     9902.0  \n",
       "2966     9903.0  \n",
       "\n",
       "[2967 rows x 382 columns]"
      ]
     },
     "execution_count": 112,
     "metadata": {},
     "output_type": "execute_result"
    }
   ],
   "source": [
    "#importing census data\n",
    "new = pd.read_csv('data/output.csv',dtype = {'geoid20_x':str})\n",
    "new"
   ]
  },
  {
   "cell_type": "code",
   "execution_count": 114,
   "id": "2f8ce68d-eeab-4283-b7c7-1dbb4a9c942b",
   "metadata": {},
   "outputs": [],
   "source": [
    "#this is what we will merge with\n",
    "new['FIPS']='06037'+new['geoid20_x']"
   ]
  },
  {
   "cell_type": "code",
   "execution_count": 115,
   "id": "ed8b5b02-0e58-4f4e-942f-f6e3d8a72dd1",
   "metadata": {},
   "outputs": [
    {
     "data": {
      "text/html": [
       "<div>\n",
       "<style scoped>\n",
       "    .dataframe tbody tr th:only-of-type {\n",
       "        vertical-align: middle;\n",
       "    }\n",
       "\n",
       "    .dataframe tbody tr th {\n",
       "        vertical-align: top;\n",
       "    }\n",
       "\n",
       "    .dataframe thead th {\n",
       "        text-align: right;\n",
       "    }\n",
       "</style>\n",
       "<table border=\"1\" class=\"dataframe\">\n",
       "  <thead>\n",
       "    <tr style=\"text-align: right;\">\n",
       "      <th></th>\n",
       "      <th>geoid20_x</th>\n",
       "      <th>ShapeSTArea</th>\n",
       "      <th>ShapeSTLength</th>\n",
       "      <th>geometry</th>\n",
       "      <th>pop_below_100_pct</th>\n",
       "      <th>pop_below_200_pct</th>\n",
       "      <th>mental_health_pct</th>\n",
       "      <th>physical_health_pct</th>\n",
       "      <th>diabetes_pct</th>\n",
       "      <th>cancer_pct</th>\n",
       "      <th>...</th>\n",
       "      <th>Percent!!Total housing units</th>\n",
       "      <th>Percent Margin of Error!!Total housing units</th>\n",
       "      <th>Percent!!CITIZEN, VOTING AGE POPULATION!!Citizen, 18 and over population</th>\n",
       "      <th>Percent Margin of Error!!CITIZEN, VOTING AGE POPULATION!!Citizen, 18 and over population</th>\n",
       "      <th>Percent!!CITIZEN, VOTING AGE POPULATION!!Citizen, 18 and over population!!Male</th>\n",
       "      <th>Percent Margin of Error!!CITIZEN, VOTING AGE POPULATION!!Citizen, 18 and over population!!Male</th>\n",
       "      <th>Percent!!CITIZEN, VOTING AGE POPULATION!!Citizen, 18 and over population!!Female</th>\n",
       "      <th>Percent Margin of Error!!CITIZEN, VOTING AGE POPULATION!!Citizen, 18 and over population!!Female</th>\n",
       "      <th>geoid20_y</th>\n",
       "      <th>tract</th>\n",
       "    </tr>\n",
       "  </thead>\n",
       "  <tbody>\n",
       "    <tr>\n",
       "      <th>0</th>\n",
       "      <td>101110</td>\n",
       "      <td>1.229562e+07</td>\n",
       "      <td>15083.854290</td>\n",
       "      <td>POLYGON ((-118.2979312139962 34.2632268762169,...</td>\n",
       "      <td>11.287386</td>\n",
       "      <td>26.736021</td>\n",
       "      <td>16.309769</td>\n",
       "      <td>10.794954</td>\n",
       "      <td>9.504253</td>\n",
       "      <td>5.485480</td>\n",
       "      <td>...</td>\n",
       "      <td>(X)</td>\n",
       "      <td>(X)</td>\n",
       "      <td>3106.0</td>\n",
       "      <td>(X)</td>\n",
       "      <td>46.5</td>\n",
       "      <td>4.3</td>\n",
       "      <td>53.5</td>\n",
       "      <td>4.3</td>\n",
       "      <td>101110.0</td>\n",
       "      <td>06037101110</td>\n",
       "    </tr>\n",
       "    <tr>\n",
       "      <th>1</th>\n",
       "      <td>101122</td>\n",
       "      <td>2.845774e+07</td>\n",
       "      <td>31671.455840</td>\n",
       "      <td>POLYGON ((-118.27743420965825 34.2599078772977...</td>\n",
       "      <td>4.429760</td>\n",
       "      <td>10.499266</td>\n",
       "      <td>13.911290</td>\n",
       "      <td>8.702957</td>\n",
       "      <td>8.299731</td>\n",
       "      <td>6.283602</td>\n",
       "      <td>...</td>\n",
       "      <td>(X)</td>\n",
       "      <td>(X)</td>\n",
       "      <td>3252.0</td>\n",
       "      <td>(X)</td>\n",
       "      <td>52.4</td>\n",
       "      <td>3.9</td>\n",
       "      <td>47.6</td>\n",
       "      <td>3.9</td>\n",
       "      <td>101122.0</td>\n",
       "      <td>06037101122</td>\n",
       "    </tr>\n",
       "    <tr>\n",
       "      <th>2</th>\n",
       "      <td>101220</td>\n",
       "      <td>7.522093e+06</td>\n",
       "      <td>12698.783810</td>\n",
       "      <td>POLYGON ((-118.27817921018234 34.2557728762786...</td>\n",
       "      <td>16.900661</td>\n",
       "      <td>34.781456</td>\n",
       "      <td>16.807861</td>\n",
       "      <td>11.995934</td>\n",
       "      <td>10.606574</td>\n",
       "      <td>5.489665</td>\n",
       "      <td>...</td>\n",
       "      <td>(X)</td>\n",
       "      <td>(X)</td>\n",
       "      <td>2459.0</td>\n",
       "      <td>(X)</td>\n",
       "      <td>46.8</td>\n",
       "      <td>5.8</td>\n",
       "      <td>53.2</td>\n",
       "      <td>5.8</td>\n",
       "      <td>101220.0</td>\n",
       "      <td>06037101220</td>\n",
       "    </tr>\n",
       "    <tr>\n",
       "      <th>3</th>\n",
       "      <td>101221</td>\n",
       "      <td>3.812000e+06</td>\n",
       "      <td>9161.710543</td>\n",
       "      <td>POLYGON ((-118.28734521088782 34.2559088762374...</td>\n",
       "      <td>20.601543</td>\n",
       "      <td>43.918018</td>\n",
       "      <td>18.384296</td>\n",
       "      <td>12.306531</td>\n",
       "      <td>9.890525</td>\n",
       "      <td>4.605512</td>\n",
       "      <td>...</td>\n",
       "      <td>(X)</td>\n",
       "      <td>(X)</td>\n",
       "      <td>2224.0</td>\n",
       "      <td>(X)</td>\n",
       "      <td>54.9</td>\n",
       "      <td>8.4</td>\n",
       "      <td>45.1</td>\n",
       "      <td>8.4</td>\n",
       "      <td>101221.0</td>\n",
       "      <td>06037101221</td>\n",
       "    </tr>\n",
       "    <tr>\n",
       "      <th>4</th>\n",
       "      <td>101222</td>\n",
       "      <td>3.191371e+06</td>\n",
       "      <td>9980.600461</td>\n",
       "      <td>POLYGON ((-118.28593621132488 34.2558998758872...</td>\n",
       "      <td>38.019875</td>\n",
       "      <td>66.654396</td>\n",
       "      <td>18.394951</td>\n",
       "      <td>12.308386</td>\n",
       "      <td>9.918846</td>\n",
       "      <td>4.598738</td>\n",
       "      <td>...</td>\n",
       "      <td>(X)</td>\n",
       "      <td>(X)</td>\n",
       "      <td>1552.0</td>\n",
       "      <td>(X)</td>\n",
       "      <td>45.0</td>\n",
       "      <td>7.3</td>\n",
       "      <td>55.0</td>\n",
       "      <td>7.3</td>\n",
       "      <td>101222.0</td>\n",
       "      <td>06037101222</td>\n",
       "    </tr>\n",
       "    <tr>\n",
       "      <th>...</th>\n",
       "      <td>...</td>\n",
       "      <td>...</td>\n",
       "      <td>...</td>\n",
       "      <td>...</td>\n",
       "      <td>...</td>\n",
       "      <td>...</td>\n",
       "      <td>...</td>\n",
       "      <td>...</td>\n",
       "      <td>...</td>\n",
       "      <td>...</td>\n",
       "      <td>...</td>\n",
       "      <td>...</td>\n",
       "      <td>...</td>\n",
       "      <td>...</td>\n",
       "      <td>...</td>\n",
       "      <td>...</td>\n",
       "      <td>...</td>\n",
       "      <td>...</td>\n",
       "      <td>...</td>\n",
       "      <td>...</td>\n",
       "      <td>...</td>\n",
       "    </tr>\n",
       "    <tr>\n",
       "      <th>2962</th>\n",
       "      <td>NaN</td>\n",
       "      <td>NaN</td>\n",
       "      <td>NaN</td>\n",
       "      <td>NaN</td>\n",
       "      <td>NaN</td>\n",
       "      <td>NaN</td>\n",
       "      <td>NaN</td>\n",
       "      <td>NaN</td>\n",
       "      <td>NaN</td>\n",
       "      <td>NaN</td>\n",
       "      <td>...</td>\n",
       "      <td>(X)</td>\n",
       "      <td>(X)</td>\n",
       "      <td>3749.0</td>\n",
       "      <td>(X)</td>\n",
       "      <td>100</td>\n",
       "      <td>1.1</td>\n",
       "      <td>0</td>\n",
       "      <td>1.1</td>\n",
       "      <td>9202.0</td>\n",
       "      <td>NaN</td>\n",
       "    </tr>\n",
       "    <tr>\n",
       "      <th>2963</th>\n",
       "      <td>NaN</td>\n",
       "      <td>NaN</td>\n",
       "      <td>NaN</td>\n",
       "      <td>NaN</td>\n",
       "      <td>NaN</td>\n",
       "      <td>NaN</td>\n",
       "      <td>NaN</td>\n",
       "      <td>NaN</td>\n",
       "      <td>NaN</td>\n",
       "      <td>NaN</td>\n",
       "      <td>...</td>\n",
       "      <td>(X)</td>\n",
       "      <td>(X)</td>\n",
       "      <td>1026.0</td>\n",
       "      <td>(X)</td>\n",
       "      <td>61.7</td>\n",
       "      <td>7.2</td>\n",
       "      <td>38.3</td>\n",
       "      <td>7.2</td>\n",
       "      <td>9304.0</td>\n",
       "      <td>NaN</td>\n",
       "    </tr>\n",
       "    <tr>\n",
       "      <th>2964</th>\n",
       "      <td>NaN</td>\n",
       "      <td>NaN</td>\n",
       "      <td>NaN</td>\n",
       "      <td>NaN</td>\n",
       "      <td>NaN</td>\n",
       "      <td>NaN</td>\n",
       "      <td>NaN</td>\n",
       "      <td>NaN</td>\n",
       "      <td>NaN</td>\n",
       "      <td>NaN</td>\n",
       "      <td>...</td>\n",
       "      <td>(X)</td>\n",
       "      <td>(X)</td>\n",
       "      <td>0.0</td>\n",
       "      <td>(X)</td>\n",
       "      <td>-</td>\n",
       "      <td>**</td>\n",
       "      <td>-</td>\n",
       "      <td>**</td>\n",
       "      <td>9901.0</td>\n",
       "      <td>NaN</td>\n",
       "    </tr>\n",
       "    <tr>\n",
       "      <th>2965</th>\n",
       "      <td>NaN</td>\n",
       "      <td>NaN</td>\n",
       "      <td>NaN</td>\n",
       "      <td>NaN</td>\n",
       "      <td>NaN</td>\n",
       "      <td>NaN</td>\n",
       "      <td>NaN</td>\n",
       "      <td>NaN</td>\n",
       "      <td>NaN</td>\n",
       "      <td>NaN</td>\n",
       "      <td>...</td>\n",
       "      <td>(X)</td>\n",
       "      <td>(X)</td>\n",
       "      <td>0.0</td>\n",
       "      <td>(X)</td>\n",
       "      <td>-</td>\n",
       "      <td>**</td>\n",
       "      <td>-</td>\n",
       "      <td>**</td>\n",
       "      <td>9902.0</td>\n",
       "      <td>NaN</td>\n",
       "    </tr>\n",
       "    <tr>\n",
       "      <th>2966</th>\n",
       "      <td>NaN</td>\n",
       "      <td>NaN</td>\n",
       "      <td>NaN</td>\n",
       "      <td>NaN</td>\n",
       "      <td>NaN</td>\n",
       "      <td>NaN</td>\n",
       "      <td>NaN</td>\n",
       "      <td>NaN</td>\n",
       "      <td>NaN</td>\n",
       "      <td>NaN</td>\n",
       "      <td>...</td>\n",
       "      <td>(X)</td>\n",
       "      <td>(X)</td>\n",
       "      <td>0.0</td>\n",
       "      <td>(X)</td>\n",
       "      <td>-</td>\n",
       "      <td>**</td>\n",
       "      <td>-</td>\n",
       "      <td>**</td>\n",
       "      <td>9903.0</td>\n",
       "      <td>NaN</td>\n",
       "    </tr>\n",
       "  </tbody>\n",
       "</table>\n",
       "<p>2967 rows × 383 columns</p>\n",
       "</div>"
      ],
      "text/plain": [
       "     geoid20_x   ShapeSTArea  ShapeSTLength  \\\n",
       "0       101110  1.229562e+07   15083.854290   \n",
       "1       101122  2.845774e+07   31671.455840   \n",
       "2       101220  7.522093e+06   12698.783810   \n",
       "3       101221  3.812000e+06    9161.710543   \n",
       "4       101222  3.191371e+06    9980.600461   \n",
       "...        ...           ...            ...   \n",
       "2962       NaN           NaN            NaN   \n",
       "2963       NaN           NaN            NaN   \n",
       "2964       NaN           NaN            NaN   \n",
       "2965       NaN           NaN            NaN   \n",
       "2966       NaN           NaN            NaN   \n",
       "\n",
       "                                               geometry  pop_below_100_pct  \\\n",
       "0     POLYGON ((-118.2979312139962 34.2632268762169,...          11.287386   \n",
       "1     POLYGON ((-118.27743420965825 34.2599078772977...           4.429760   \n",
       "2     POLYGON ((-118.27817921018234 34.2557728762786...          16.900661   \n",
       "3     POLYGON ((-118.28734521088782 34.2559088762374...          20.601543   \n",
       "4     POLYGON ((-118.28593621132488 34.2558998758872...          38.019875   \n",
       "...                                                 ...                ...   \n",
       "2962                                                NaN                NaN   \n",
       "2963                                                NaN                NaN   \n",
       "2964                                                NaN                NaN   \n",
       "2965                                                NaN                NaN   \n",
       "2966                                                NaN                NaN   \n",
       "\n",
       "      pop_below_200_pct  mental_health_pct  physical_health_pct  diabetes_pct  \\\n",
       "0             26.736021          16.309769            10.794954      9.504253   \n",
       "1             10.499266          13.911290             8.702957      8.299731   \n",
       "2             34.781456          16.807861            11.995934     10.606574   \n",
       "3             43.918018          18.384296            12.306531      9.890525   \n",
       "4             66.654396          18.394951            12.308386      9.918846   \n",
       "...                 ...                ...                  ...           ...   \n",
       "2962                NaN                NaN                  NaN           NaN   \n",
       "2963                NaN                NaN                  NaN           NaN   \n",
       "2964                NaN                NaN                  NaN           NaN   \n",
       "2965                NaN                NaN                  NaN           NaN   \n",
       "2966                NaN                NaN                  NaN           NaN   \n",
       "\n",
       "      cancer_pct  ...  Percent!!Total housing units  \\\n",
       "0       5.485480  ...                           (X)   \n",
       "1       6.283602  ...                           (X)   \n",
       "2       5.489665  ...                           (X)   \n",
       "3       4.605512  ...                           (X)   \n",
       "4       4.598738  ...                           (X)   \n",
       "...          ...  ...                           ...   \n",
       "2962         NaN  ...                           (X)   \n",
       "2963         NaN  ...                           (X)   \n",
       "2964         NaN  ...                           (X)   \n",
       "2965         NaN  ...                           (X)   \n",
       "2966         NaN  ...                           (X)   \n",
       "\n",
       "      Percent Margin of Error!!Total housing units  \\\n",
       "0                                              (X)   \n",
       "1                                              (X)   \n",
       "2                                              (X)   \n",
       "3                                              (X)   \n",
       "4                                              (X)   \n",
       "...                                            ...   \n",
       "2962                                           (X)   \n",
       "2963                                           (X)   \n",
       "2964                                           (X)   \n",
       "2965                                           (X)   \n",
       "2966                                           (X)   \n",
       "\n",
       "      Percent!!CITIZEN, VOTING AGE POPULATION!!Citizen, 18 and over population  \\\n",
       "0                                                3106.0                          \n",
       "1                                                3252.0                          \n",
       "2                                                2459.0                          \n",
       "3                                                2224.0                          \n",
       "4                                                1552.0                          \n",
       "...                                                 ...                          \n",
       "2962                                             3749.0                          \n",
       "2963                                             1026.0                          \n",
       "2964                                                0.0                          \n",
       "2965                                                0.0                          \n",
       "2966                                                0.0                          \n",
       "\n",
       "      Percent Margin of Error!!CITIZEN, VOTING AGE POPULATION!!Citizen, 18 and over population  \\\n",
       "0                                                   (X)                                          \n",
       "1                                                   (X)                                          \n",
       "2                                                   (X)                                          \n",
       "3                                                   (X)                                          \n",
       "4                                                   (X)                                          \n",
       "...                                                 ...                                          \n",
       "2962                                                (X)                                          \n",
       "2963                                                (X)                                          \n",
       "2964                                                (X)                                          \n",
       "2965                                                (X)                                          \n",
       "2966                                                (X)                                          \n",
       "\n",
       "      Percent!!CITIZEN, VOTING AGE POPULATION!!Citizen, 18 and over population!!Male  \\\n",
       "0                                                  46.5                                \n",
       "1                                                  52.4                                \n",
       "2                                                  46.8                                \n",
       "3                                                  54.9                                \n",
       "4                                                  45.0                                \n",
       "...                                                 ...                                \n",
       "2962                                                100                                \n",
       "2963                                               61.7                                \n",
       "2964                                                  -                                \n",
       "2965                                                  -                                \n",
       "2966                                                  -                                \n",
       "\n",
       "      Percent Margin of Error!!CITIZEN, VOTING AGE POPULATION!!Citizen, 18 and over population!!Male  \\\n",
       "0                                                   4.3                                                \n",
       "1                                                   3.9                                                \n",
       "2                                                   5.8                                                \n",
       "3                                                   8.4                                                \n",
       "4                                                   7.3                                                \n",
       "...                                                 ...                                                \n",
       "2962                                                1.1                                                \n",
       "2963                                                7.2                                                \n",
       "2964                                                 **                                                \n",
       "2965                                                 **                                                \n",
       "2966                                                 **                                                \n",
       "\n",
       "     Percent!!CITIZEN, VOTING AGE POPULATION!!Citizen, 18 and over population!!Female  \\\n",
       "0                                                  53.5                                 \n",
       "1                                                  47.6                                 \n",
       "2                                                  53.2                                 \n",
       "3                                                  45.1                                 \n",
       "4                                                  55.0                                 \n",
       "...                                                 ...                                 \n",
       "2962                                                  0                                 \n",
       "2963                                               38.3                                 \n",
       "2964                                                  -                                 \n",
       "2965                                                  -                                 \n",
       "2966                                                  -                                 \n",
       "\n",
       "      Percent Margin of Error!!CITIZEN, VOTING AGE POPULATION!!Citizen, 18 and over population!!Female  \\\n",
       "0                                                   4.3                                                  \n",
       "1                                                   3.9                                                  \n",
       "2                                                   5.8                                                  \n",
       "3                                                   8.4                                                  \n",
       "4                                                   7.3                                                  \n",
       "...                                                 ...                                                  \n",
       "2962                                                1.1                                                  \n",
       "2963                                                7.2                                                  \n",
       "2964                                                 **                                                  \n",
       "2965                                                 **                                                  \n",
       "2966                                                 **                                                  \n",
       "\n",
       "      geoid20_y        tract  \n",
       "0      101110.0  06037101110  \n",
       "1      101122.0  06037101122  \n",
       "2      101220.0  06037101220  \n",
       "3      101221.0  06037101221  \n",
       "4      101222.0  06037101222  \n",
       "...         ...          ...  \n",
       "2962     9202.0          NaN  \n",
       "2963     9304.0          NaN  \n",
       "2964     9901.0          NaN  \n",
       "2965     9902.0          NaN  \n",
       "2966     9903.0          NaN  \n",
       "\n",
       "[2967 rows x 383 columns]"
      ]
     },
     "execution_count": 115,
     "metadata": {},
     "output_type": "execute_result"
    }
   ],
   "source": [
    "new"
   ]
  },
  {
   "cell_type": "code",
   "execution_count": 116,
   "id": "7c0aafcf-76a4-467f-96a5-acea5636d039",
   "metadata": {},
   "outputs": [],
   "source": [
    "#importing Cal Fresh data\n",
    "calfresh = gpd.read_file('data/CalFresh_Cases_(tract).geojson')"
   ]
  },
  {
   "cell_type": "code",
   "execution_count": 117,
   "id": "5425b9c2-40ab-4300-9173-a5020a1a8c3b",
   "metadata": {},
   "outputs": [
    {
     "data": {
      "text/html": [
       "<div>\n",
       "<style scoped>\n",
       "    .dataframe tbody tr th:only-of-type {\n",
       "        vertical-align: middle;\n",
       "    }\n",
       "\n",
       "    .dataframe tbody tr th {\n",
       "        vertical-align: top;\n",
       "    }\n",
       "\n",
       "    .dataframe thead th {\n",
       "        text-align: right;\n",
       "    }\n",
       "</style>\n",
       "<table border=\"1\" class=\"dataframe\">\n",
       "  <thead>\n",
       "    <tr style=\"text-align: right;\">\n",
       "      <th></th>\n",
       "      <th>tract</th>\n",
       "      <th>families_all</th>\n",
       "      <th>fam_below_200fpl</th>\n",
       "      <th>fam_below_300fpl</th>\n",
       "      <th>fam_received_ssi_cash_assistanc</th>\n",
       "      <th>fam_below_fpl_pct</th>\n",
       "      <th>fam_below_200fpl_pct</th>\n",
       "      <th>fam_below_300fpl_pct</th>\n",
       "      <th>fam_received_assistance_pct</th>\n",
       "      <th>fam_below_fpl_received_assistan</th>\n",
       "      <th>...</th>\n",
       "      <th>csa</th>\n",
       "      <th>spa</th>\n",
       "      <th>calfresh_cases</th>\n",
       "      <th>calfresh_per_100_families</th>\n",
       "      <th>calfresh_per_100_fam_below_200f</th>\n",
       "      <th>calfresh_per_100_fam_below_300f</th>\n",
       "      <th>ESRI_OID</th>\n",
       "      <th>Shape__Area</th>\n",
       "      <th>Shape__Length</th>\n",
       "      <th>geometry</th>\n",
       "    </tr>\n",
       "  </thead>\n",
       "  <tbody>\n",
       "    <tr>\n",
       "      <th>0</th>\n",
       "      <td>06037101110</td>\n",
       "      <td>1085</td>\n",
       "      <td>249</td>\n",
       "      <td>453</td>\n",
       "      <td>165</td>\n",
       "      <td>7.4</td>\n",
       "      <td>22.9</td>\n",
       "      <td>41.8</td>\n",
       "      <td>15.2</td>\n",
       "      <td>14.5</td>\n",
       "      <td>...</td>\n",
       "      <td>Los Angeles - Tujunga</td>\n",
       "      <td>SPA 2 - San Fernando</td>\n",
       "      <td>504.0</td>\n",
       "      <td>46.5</td>\n",
       "      <td>202.4</td>\n",
       "      <td>111.3</td>\n",
       "      <td>1</td>\n",
       "      <td>1.232981e+07</td>\n",
       "      <td>14765.649004</td>\n",
       "      <td>POLYGON ((-118.30077 34.25961, -118.30077 34.2...</td>\n",
       "    </tr>\n",
       "    <tr>\n",
       "      <th>1</th>\n",
       "      <td>06037101122</td>\n",
       "      <td>988</td>\n",
       "      <td>81</td>\n",
       "      <td>180</td>\n",
       "      <td>88</td>\n",
       "      <td>2.8</td>\n",
       "      <td>8.2</td>\n",
       "      <td>18.2</td>\n",
       "      <td>8.9</td>\n",
       "      <td>0.0</td>\n",
       "      <td>...</td>\n",
       "      <td>Los Angeles - Tujunga</td>\n",
       "      <td>SPA 2 - San Fernando</td>\n",
       "      <td>210.0</td>\n",
       "      <td>21.3</td>\n",
       "      <td>259.3</td>\n",
       "      <td>116.7</td>\n",
       "      <td>2</td>\n",
       "      <td>2.908866e+07</td>\n",
       "      <td>30028.213771</td>\n",
       "      <td>POLYGON ((-118.30321 34.27334, -118.29971 34.2...</td>\n",
       "    </tr>\n",
       "    <tr>\n",
       "      <th>2</th>\n",
       "      <td>06037101220</td>\n",
       "      <td>960</td>\n",
       "      <td>328</td>\n",
       "      <td>458</td>\n",
       "      <td>193</td>\n",
       "      <td>13.5</td>\n",
       "      <td>34.2</td>\n",
       "      <td>47.7</td>\n",
       "      <td>20.1</td>\n",
       "      <td>22.3</td>\n",
       "      <td>...</td>\n",
       "      <td>Los Angeles - Tujunga</td>\n",
       "      <td>SPA 2 - San Fernando</td>\n",
       "      <td>393.0</td>\n",
       "      <td>40.9</td>\n",
       "      <td>119.8</td>\n",
       "      <td>85.8</td>\n",
       "      <td>3</td>\n",
       "      <td>7.532651e+06</td>\n",
       "      <td>12504.552130</td>\n",
       "      <td>POLYGON ((-118.28594 34.25228, -118.28594 34.2...</td>\n",
       "    </tr>\n",
       "    <tr>\n",
       "      <th>3</th>\n",
       "      <td>06037101221</td>\n",
       "      <td>934</td>\n",
       "      <td>398</td>\n",
       "      <td>545</td>\n",
       "      <td>369</td>\n",
       "      <td>10.3</td>\n",
       "      <td>42.6</td>\n",
       "      <td>58.4</td>\n",
       "      <td>39.5</td>\n",
       "      <td>19.0</td>\n",
       "      <td>...</td>\n",
       "      <td>Los Angeles - Tujunga</td>\n",
       "      <td>SPA 2 - San Fernando</td>\n",
       "      <td>501.0</td>\n",
       "      <td>53.6</td>\n",
       "      <td>125.9</td>\n",
       "      <td>91.9</td>\n",
       "      <td>4</td>\n",
       "      <td>3.874399e+06</td>\n",
       "      <td>8938.421349</td>\n",
       "      <td>POLYGON ((-118.29946 34.25598, -118.29319 34.2...</td>\n",
       "    </tr>\n",
       "    <tr>\n",
       "      <th>4</th>\n",
       "      <td>06037101222</td>\n",
       "      <td>681</td>\n",
       "      <td>462</td>\n",
       "      <td>558</td>\n",
       "      <td>151</td>\n",
       "      <td>33.2</td>\n",
       "      <td>67.8</td>\n",
       "      <td>81.9</td>\n",
       "      <td>22.2</td>\n",
       "      <td>19.2</td>\n",
       "      <td>...</td>\n",
       "      <td>Los Angeles - Tujunga</td>\n",
       "      <td>SPA 2 - San Fernando</td>\n",
       "      <td>401.0</td>\n",
       "      <td>58.9</td>\n",
       "      <td>86.8</td>\n",
       "      <td>71.9</td>\n",
       "      <td>5</td>\n",
       "      <td>3.090538e+06</td>\n",
       "      <td>9750.960420</td>\n",
       "      <td>POLYGON ((-118.29319 34.25233, -118.28863 34.2...</td>\n",
       "    </tr>\n",
       "    <tr>\n",
       "      <th>...</th>\n",
       "      <td>...</td>\n",
       "      <td>...</td>\n",
       "      <td>...</td>\n",
       "      <td>...</td>\n",
       "      <td>...</td>\n",
       "      <td>...</td>\n",
       "      <td>...</td>\n",
       "      <td>...</td>\n",
       "      <td>...</td>\n",
       "      <td>...</td>\n",
       "      <td>...</td>\n",
       "      <td>...</td>\n",
       "      <td>...</td>\n",
       "      <td>...</td>\n",
       "      <td>...</td>\n",
       "      <td>...</td>\n",
       "      <td>...</td>\n",
       "      <td>...</td>\n",
       "      <td>...</td>\n",
       "      <td>...</td>\n",
       "      <td>...</td>\n",
       "    </tr>\n",
       "    <tr>\n",
       "      <th>2490</th>\n",
       "      <td>06037980035</td>\n",
       "      <td>104</td>\n",
       "      <td>54</td>\n",
       "      <td>67</td>\n",
       "      <td>1</td>\n",
       "      <td>15.4</td>\n",
       "      <td>51.9</td>\n",
       "      <td>64.4</td>\n",
       "      <td>1.0</td>\n",
       "      <td>0.0</td>\n",
       "      <td>...</td>\n",
       "      <td>City of Industry</td>\n",
       "      <td>SPA 3 - San Gabriel</td>\n",
       "      <td>56.0</td>\n",
       "      <td>53.8</td>\n",
       "      <td>103.7</td>\n",
       "      <td>83.6</td>\n",
       "      <td>2491</td>\n",
       "      <td>1.715306e+08</td>\n",
       "      <td>105850.878716</td>\n",
       "      <td>POLYGON ((-117.99802 34.02968, -117.99593 34.0...</td>\n",
       "    </tr>\n",
       "    <tr>\n",
       "      <th>2491</th>\n",
       "      <td>06037980036</td>\n",
       "      <td>149</td>\n",
       "      <td>80</td>\n",
       "      <td>80</td>\n",
       "      <td>0</td>\n",
       "      <td>26.2</td>\n",
       "      <td>53.7</td>\n",
       "      <td>53.7</td>\n",
       "      <td>0.0</td>\n",
       "      <td>NaN</td>\n",
       "      <td>...</td>\n",
       "      <td>Unincorporated - Whittier Narrows</td>\n",
       "      <td>SPA 3 - San Gabriel</td>\n",
       "      <td>25.0</td>\n",
       "      <td>16.8</td>\n",
       "      <td>31.3</td>\n",
       "      <td>31.3</td>\n",
       "      <td>2492</td>\n",
       "      <td>9.410894e+07</td>\n",
       "      <td>63183.082619</td>\n",
       "      <td>POLYGON ((-118.08206 34.02148, -118.07362 34.0...</td>\n",
       "    </tr>\n",
       "    <tr>\n",
       "      <th>2492</th>\n",
       "      <td>06037980037</td>\n",
       "      <td>0</td>\n",
       "      <td>0</td>\n",
       "      <td>0</td>\n",
       "      <td>0</td>\n",
       "      <td>NaN</td>\n",
       "      <td>0.0</td>\n",
       "      <td>0.0</td>\n",
       "      <td>0.0</td>\n",
       "      <td>NaN</td>\n",
       "      <td>...</td>\n",
       "      <td>City of Carson</td>\n",
       "      <td>SPA 8 - South Bay</td>\n",
       "      <td>28.0</td>\n",
       "      <td>0.0</td>\n",
       "      <td>0.0</td>\n",
       "      <td>0.0</td>\n",
       "      <td>2493</td>\n",
       "      <td>1.376446e+07</td>\n",
       "      <td>14866.138291</td>\n",
       "      <td>POLYGON ((-118.28858 33.80427, -118.28752 33.8...</td>\n",
       "    </tr>\n",
       "    <tr>\n",
       "      <th>2493</th>\n",
       "      <td>06037980038</td>\n",
       "      <td>0</td>\n",
       "      <td>0</td>\n",
       "      <td>0</td>\n",
       "      <td>0</td>\n",
       "      <td>NaN</td>\n",
       "      <td>0.0</td>\n",
       "      <td>0.0</td>\n",
       "      <td>0.0</td>\n",
       "      <td>NaN</td>\n",
       "      <td>...</td>\n",
       "      <td>Unincorporated - Ladera Heights</td>\n",
       "      <td>SPA 5 - West</td>\n",
       "      <td>NaN</td>\n",
       "      <td>0.0</td>\n",
       "      <td>0.0</td>\n",
       "      <td>0.0</td>\n",
       "      <td>2494</td>\n",
       "      <td>4.852656e+07</td>\n",
       "      <td>42566.840167</td>\n",
       "      <td>POLYGON ((-118.38971 34.00449, -118.38820 34.0...</td>\n",
       "    </tr>\n",
       "    <tr>\n",
       "      <th>2494</th>\n",
       "      <td>06037980039</td>\n",
       "      <td>0</td>\n",
       "      <td>0</td>\n",
       "      <td>0</td>\n",
       "      <td>0</td>\n",
       "      <td>NaN</td>\n",
       "      <td>0.0</td>\n",
       "      <td>0.0</td>\n",
       "      <td>0.0</td>\n",
       "      <td>NaN</td>\n",
       "      <td>...</td>\n",
       "      <td>Unincorporated - Universal City</td>\n",
       "      <td>SPA 2 - San Fernando</td>\n",
       "      <td>NaN</td>\n",
       "      <td>0.0</td>\n",
       "      <td>0.0</td>\n",
       "      <td>0.0</td>\n",
       "      <td>2495</td>\n",
       "      <td>1.464017e+07</td>\n",
       "      <td>17601.678331</td>\n",
       "      <td>POLYGON ((-118.36097 34.14114, -118.36128 34.1...</td>\n",
       "    </tr>\n",
       "  </tbody>\n",
       "</table>\n",
       "<p>2495 rows × 23 columns</p>\n",
       "</div>"
      ],
      "text/plain": [
       "            tract  families_all  fam_below_200fpl  fam_below_300fpl  \\\n",
       "0     06037101110          1085               249               453   \n",
       "1     06037101122           988                81               180   \n",
       "2     06037101220           960               328               458   \n",
       "3     06037101221           934               398               545   \n",
       "4     06037101222           681               462               558   \n",
       "...           ...           ...               ...               ...   \n",
       "2490  06037980035           104                54                67   \n",
       "2491  06037980036           149                80                80   \n",
       "2492  06037980037             0                 0                 0   \n",
       "2493  06037980038             0                 0                 0   \n",
       "2494  06037980039             0                 0                 0   \n",
       "\n",
       "      fam_received_ssi_cash_assistanc  fam_below_fpl_pct  \\\n",
       "0                                 165                7.4   \n",
       "1                                  88                2.8   \n",
       "2                                 193               13.5   \n",
       "3                                 369               10.3   \n",
       "4                                 151               33.2   \n",
       "...                               ...                ...   \n",
       "2490                                1               15.4   \n",
       "2491                                0               26.2   \n",
       "2492                                0                NaN   \n",
       "2493                                0                NaN   \n",
       "2494                                0                NaN   \n",
       "\n",
       "      fam_below_200fpl_pct  fam_below_300fpl_pct  fam_received_assistance_pct  \\\n",
       "0                     22.9                  41.8                         15.2   \n",
       "1                      8.2                  18.2                          8.9   \n",
       "2                     34.2                  47.7                         20.1   \n",
       "3                     42.6                  58.4                         39.5   \n",
       "4                     67.8                  81.9                         22.2   \n",
       "...                    ...                   ...                          ...   \n",
       "2490                  51.9                  64.4                          1.0   \n",
       "2491                  53.7                  53.7                          0.0   \n",
       "2492                   0.0                   0.0                          0.0   \n",
       "2493                   0.0                   0.0                          0.0   \n",
       "2494                   0.0                   0.0                          0.0   \n",
       "\n",
       "      fam_below_fpl_received_assistan  ...                                csa  \\\n",
       "0                                14.5  ...              Los Angeles - Tujunga   \n",
       "1                                 0.0  ...              Los Angeles - Tujunga   \n",
       "2                                22.3  ...              Los Angeles - Tujunga   \n",
       "3                                19.0  ...              Los Angeles - Tujunga   \n",
       "4                                19.2  ...              Los Angeles - Tujunga   \n",
       "...                               ...  ...                                ...   \n",
       "2490                              0.0  ...                   City of Industry   \n",
       "2491                              NaN  ...  Unincorporated - Whittier Narrows   \n",
       "2492                              NaN  ...                     City of Carson   \n",
       "2493                              NaN  ...    Unincorporated - Ladera Heights   \n",
       "2494                              NaN  ...    Unincorporated - Universal City   \n",
       "\n",
       "                       spa calfresh_cases calfresh_per_100_families  \\\n",
       "0     SPA 2 - San Fernando          504.0                      46.5   \n",
       "1     SPA 2 - San Fernando          210.0                      21.3   \n",
       "2     SPA 2 - San Fernando          393.0                      40.9   \n",
       "3     SPA 2 - San Fernando          501.0                      53.6   \n",
       "4     SPA 2 - San Fernando          401.0                      58.9   \n",
       "...                    ...            ...                       ...   \n",
       "2490   SPA 3 - San Gabriel           56.0                      53.8   \n",
       "2491   SPA 3 - San Gabriel           25.0                      16.8   \n",
       "2492     SPA 8 - South Bay           28.0                       0.0   \n",
       "2493          SPA 5 - West            NaN                       0.0   \n",
       "2494  SPA 2 - San Fernando            NaN                       0.0   \n",
       "\n",
       "     calfresh_per_100_fam_below_200f  calfresh_per_100_fam_below_300f  \\\n",
       "0                              202.4                            111.3   \n",
       "1                              259.3                            116.7   \n",
       "2                              119.8                             85.8   \n",
       "3                              125.9                             91.9   \n",
       "4                               86.8                             71.9   \n",
       "...                              ...                              ...   \n",
       "2490                           103.7                             83.6   \n",
       "2491                            31.3                             31.3   \n",
       "2492                             0.0                              0.0   \n",
       "2493                             0.0                              0.0   \n",
       "2494                             0.0                              0.0   \n",
       "\n",
       "      ESRI_OID   Shape__Area  Shape__Length  \\\n",
       "0            1  1.232981e+07   14765.649004   \n",
       "1            2  2.908866e+07   30028.213771   \n",
       "2            3  7.532651e+06   12504.552130   \n",
       "3            4  3.874399e+06    8938.421349   \n",
       "4            5  3.090538e+06    9750.960420   \n",
       "...        ...           ...            ...   \n",
       "2490      2491  1.715306e+08  105850.878716   \n",
       "2491      2492  9.410894e+07   63183.082619   \n",
       "2492      2493  1.376446e+07   14866.138291   \n",
       "2493      2494  4.852656e+07   42566.840167   \n",
       "2494      2495  1.464017e+07   17601.678331   \n",
       "\n",
       "                                               geometry  \n",
       "0     POLYGON ((-118.30077 34.25961, -118.30077 34.2...  \n",
       "1     POLYGON ((-118.30321 34.27334, -118.29971 34.2...  \n",
       "2     POLYGON ((-118.28594 34.25228, -118.28594 34.2...  \n",
       "3     POLYGON ((-118.29946 34.25598, -118.29319 34.2...  \n",
       "4     POLYGON ((-118.29319 34.25233, -118.28863 34.2...  \n",
       "...                                                 ...  \n",
       "2490  POLYGON ((-117.99802 34.02968, -117.99593 34.0...  \n",
       "2491  POLYGON ((-118.08206 34.02148, -118.07362 34.0...  \n",
       "2492  POLYGON ((-118.28858 33.80427, -118.28752 33.8...  \n",
       "2493  POLYGON ((-118.38971 34.00449, -118.38820 34.0...  \n",
       "2494  POLYGON ((-118.36097 34.14114, -118.36128 34.1...  \n",
       "\n",
       "[2495 rows x 23 columns]"
      ]
     },
     "execution_count": 117,
     "metadata": {},
     "output_type": "execute_result"
    }
   ],
   "source": [
    "calfresh"
   ]
  },
  {
   "cell_type": "code",
   "execution_count": 119,
   "id": "22ca7b63-23e5-4a52-acec-51b02514f81e",
   "metadata": {},
   "outputs": [],
   "source": [
    "calfresh['FIPS'] = calfresh.tract"
   ]
  },
  {
   "cell_type": "code",
   "execution_count": 120,
   "id": "65613077-dd1b-44af-a172-eb2079d31516",
   "metadata": {},
   "outputs": [
    {
     "data": {
      "text/html": [
       "<div>\n",
       "<style scoped>\n",
       "    .dataframe tbody tr th:only-of-type {\n",
       "        vertical-align: middle;\n",
       "    }\n",
       "\n",
       "    .dataframe tbody tr th {\n",
       "        vertical-align: top;\n",
       "    }\n",
       "\n",
       "    .dataframe thead th {\n",
       "        text-align: right;\n",
       "    }\n",
       "</style>\n",
       "<table border=\"1\" class=\"dataframe\">\n",
       "  <thead>\n",
       "    <tr style=\"text-align: right;\">\n",
       "      <th></th>\n",
       "      <th>geoid20_x</th>\n",
       "      <th>ShapeSTArea</th>\n",
       "      <th>ShapeSTLength</th>\n",
       "      <th>geometry_x</th>\n",
       "      <th>pop_below_100_pct</th>\n",
       "      <th>pop_below_200_pct</th>\n",
       "      <th>mental_health_pct</th>\n",
       "      <th>physical_health_pct</th>\n",
       "      <th>diabetes_pct</th>\n",
       "      <th>cancer_pct</th>\n",
       "      <th>...</th>\n",
       "      <th>spa</th>\n",
       "      <th>calfresh_cases</th>\n",
       "      <th>calfresh_per_100_families</th>\n",
       "      <th>calfresh_per_100_fam_below_200f</th>\n",
       "      <th>calfresh_per_100_fam_below_300f</th>\n",
       "      <th>ESRI_OID</th>\n",
       "      <th>Shape__Area</th>\n",
       "      <th>Shape__Length</th>\n",
       "      <th>geometry_y</th>\n",
       "      <th>FIPS_y</th>\n",
       "    </tr>\n",
       "  </thead>\n",
       "  <tbody>\n",
       "    <tr>\n",
       "      <th>0</th>\n",
       "      <td>101110</td>\n",
       "      <td>1.229562e+07</td>\n",
       "      <td>15083.854290</td>\n",
       "      <td>POLYGON ((-118.2979312139962 34.2632268762169,...</td>\n",
       "      <td>11.287386</td>\n",
       "      <td>26.736021</td>\n",
       "      <td>16.309769</td>\n",
       "      <td>10.794954</td>\n",
       "      <td>9.504253</td>\n",
       "      <td>5.485480</td>\n",
       "      <td>...</td>\n",
       "      <td>SPA 2 - San Fernando</td>\n",
       "      <td>504.0</td>\n",
       "      <td>46.5</td>\n",
       "      <td>202.4</td>\n",
       "      <td>111.3</td>\n",
       "      <td>1</td>\n",
       "      <td>1.232981e+07</td>\n",
       "      <td>14765.649004</td>\n",
       "      <td>POLYGON ((-118.30077 34.25961, -118.30077 34.2...</td>\n",
       "      <td>06037101110</td>\n",
       "    </tr>\n",
       "    <tr>\n",
       "      <th>1</th>\n",
       "      <td>101122</td>\n",
       "      <td>2.845774e+07</td>\n",
       "      <td>31671.455840</td>\n",
       "      <td>POLYGON ((-118.27743420965825 34.2599078772977...</td>\n",
       "      <td>4.429760</td>\n",
       "      <td>10.499266</td>\n",
       "      <td>13.911290</td>\n",
       "      <td>8.702957</td>\n",
       "      <td>8.299731</td>\n",
       "      <td>6.283602</td>\n",
       "      <td>...</td>\n",
       "      <td>SPA 2 - San Fernando</td>\n",
       "      <td>210.0</td>\n",
       "      <td>21.3</td>\n",
       "      <td>259.3</td>\n",
       "      <td>116.7</td>\n",
       "      <td>2</td>\n",
       "      <td>2.908866e+07</td>\n",
       "      <td>30028.213771</td>\n",
       "      <td>POLYGON ((-118.30321 34.27334, -118.29971 34.2...</td>\n",
       "      <td>06037101122</td>\n",
       "    </tr>\n",
       "    <tr>\n",
       "      <th>2</th>\n",
       "      <td>101220</td>\n",
       "      <td>7.522093e+06</td>\n",
       "      <td>12698.783810</td>\n",
       "      <td>POLYGON ((-118.27817921018234 34.2557728762786...</td>\n",
       "      <td>16.900661</td>\n",
       "      <td>34.781456</td>\n",
       "      <td>16.807861</td>\n",
       "      <td>11.995934</td>\n",
       "      <td>10.606574</td>\n",
       "      <td>5.489665</td>\n",
       "      <td>...</td>\n",
       "      <td>SPA 2 - San Fernando</td>\n",
       "      <td>393.0</td>\n",
       "      <td>40.9</td>\n",
       "      <td>119.8</td>\n",
       "      <td>85.8</td>\n",
       "      <td>3</td>\n",
       "      <td>7.532651e+06</td>\n",
       "      <td>12504.552130</td>\n",
       "      <td>POLYGON ((-118.28594 34.25228, -118.28594 34.2...</td>\n",
       "      <td>06037101220</td>\n",
       "    </tr>\n",
       "    <tr>\n",
       "      <th>3</th>\n",
       "      <td>101221</td>\n",
       "      <td>3.812000e+06</td>\n",
       "      <td>9161.710543</td>\n",
       "      <td>POLYGON ((-118.28734521088782 34.2559088762374...</td>\n",
       "      <td>20.601543</td>\n",
       "      <td>43.918018</td>\n",
       "      <td>18.384296</td>\n",
       "      <td>12.306531</td>\n",
       "      <td>9.890525</td>\n",
       "      <td>4.605512</td>\n",
       "      <td>...</td>\n",
       "      <td>SPA 2 - San Fernando</td>\n",
       "      <td>501.0</td>\n",
       "      <td>53.6</td>\n",
       "      <td>125.9</td>\n",
       "      <td>91.9</td>\n",
       "      <td>4</td>\n",
       "      <td>3.874399e+06</td>\n",
       "      <td>8938.421349</td>\n",
       "      <td>POLYGON ((-118.29946 34.25598, -118.29319 34.2...</td>\n",
       "      <td>06037101221</td>\n",
       "    </tr>\n",
       "    <tr>\n",
       "      <th>4</th>\n",
       "      <td>101222</td>\n",
       "      <td>3.191371e+06</td>\n",
       "      <td>9980.600461</td>\n",
       "      <td>POLYGON ((-118.28593621132488 34.2558998758872...</td>\n",
       "      <td>38.019875</td>\n",
       "      <td>66.654396</td>\n",
       "      <td>18.394951</td>\n",
       "      <td>12.308386</td>\n",
       "      <td>9.918846</td>\n",
       "      <td>4.598738</td>\n",
       "      <td>...</td>\n",
       "      <td>SPA 2 - San Fernando</td>\n",
       "      <td>401.0</td>\n",
       "      <td>58.9</td>\n",
       "      <td>86.8</td>\n",
       "      <td>71.9</td>\n",
       "      <td>5</td>\n",
       "      <td>3.090538e+06</td>\n",
       "      <td>9750.960420</td>\n",
       "      <td>POLYGON ((-118.29319 34.25233, -118.28863 34.2...</td>\n",
       "      <td>06037101222</td>\n",
       "    </tr>\n",
       "    <tr>\n",
       "      <th>...</th>\n",
       "      <td>...</td>\n",
       "      <td>...</td>\n",
       "      <td>...</td>\n",
       "      <td>...</td>\n",
       "      <td>...</td>\n",
       "      <td>...</td>\n",
       "      <td>...</td>\n",
       "      <td>...</td>\n",
       "      <td>...</td>\n",
       "      <td>...</td>\n",
       "      <td>...</td>\n",
       "      <td>...</td>\n",
       "      <td>...</td>\n",
       "      <td>...</td>\n",
       "      <td>...</td>\n",
       "      <td>...</td>\n",
       "      <td>...</td>\n",
       "      <td>...</td>\n",
       "      <td>...</td>\n",
       "      <td>...</td>\n",
       "      <td>...</td>\n",
       "    </tr>\n",
       "    <tr>\n",
       "      <th>2490</th>\n",
       "      <td>577200</td>\n",
       "      <td>3.763257e+07</td>\n",
       "      <td>29676.510890</td>\n",
       "      <td>POLYGON ((-118.15164014868971 33.7662598291107...</td>\n",
       "      <td>10.819729</td>\n",
       "      <td>17.558180</td>\n",
       "      <td>14.794112</td>\n",
       "      <td>7.098938</td>\n",
       "      <td>5.906466</td>\n",
       "      <td>5.105273</td>\n",
       "      <td>...</td>\n",
       "      <td>SPA 8 - South Bay</td>\n",
       "      <td>197.0</td>\n",
       "      <td>17.8</td>\n",
       "      <td>185.8</td>\n",
       "      <td>87.2</td>\n",
       "      <td>2046</td>\n",
       "      <td>9.192743e+06</td>\n",
       "      <td>13068.708351</td>\n",
       "      <td>POLYGON ((-118.15546 33.76413, -118.15459 33.7...</td>\n",
       "      <td>06037577200</td>\n",
       "    </tr>\n",
       "    <tr>\n",
       "      <th>2491</th>\n",
       "      <td>577300</td>\n",
       "      <td>3.454461e+07</td>\n",
       "      <td>26605.219290</td>\n",
       "      <td>POLYGON ((-118.1326921444076 33.7530458289731,...</td>\n",
       "      <td>4.683590</td>\n",
       "      <td>10.958170</td>\n",
       "      <td>14.306240</td>\n",
       "      <td>5.993432</td>\n",
       "      <td>4.802956</td>\n",
       "      <td>4.495074</td>\n",
       "      <td>...</td>\n",
       "      <td>SPA 8 - South Bay</td>\n",
       "      <td>194.0</td>\n",
       "      <td>18.8</td>\n",
       "      <td>524.3</td>\n",
       "      <td>206.4</td>\n",
       "      <td>2047</td>\n",
       "      <td>8.753222e+06</td>\n",
       "      <td>12674.194794</td>\n",
       "      <td>POLYGON ((-118.14588 33.76067, -118.14516 33.7...</td>\n",
       "      <td>06037577300</td>\n",
       "    </tr>\n",
       "    <tr>\n",
       "      <th>2492</th>\n",
       "      <td>577504</td>\n",
       "      <td>4.154029e+07</td>\n",
       "      <td>30008.423940</td>\n",
       "      <td>POLYGON ((-118.13009214414437 33.7544698295901...</td>\n",
       "      <td>12.464788</td>\n",
       "      <td>19.295774</td>\n",
       "      <td>13.001605</td>\n",
       "      <td>8.025682</td>\n",
       "      <td>7.463884</td>\n",
       "      <td>7.303371</td>\n",
       "      <td>...</td>\n",
       "      <td>SPA 8 - South Bay</td>\n",
       "      <td>27.0</td>\n",
       "      <td>8.8</td>\n",
       "      <td>180.0</td>\n",
       "      <td>57.4</td>\n",
       "      <td>2050</td>\n",
       "      <td>6.017113e+06</td>\n",
       "      <td>16934.855734</td>\n",
       "      <td>POLYGON ((-118.13208 33.75527, -118.13014 33.7...</td>\n",
       "      <td>06037577504</td>\n",
       "    </tr>\n",
       "    <tr>\n",
       "      <th>2493</th>\n",
       "      <td>599100</td>\n",
       "      <td>3.618834e+09</td>\n",
       "      <td>792259.729400</td>\n",
       "      <td>NaN</td>\n",
       "      <td>17.596567</td>\n",
       "      <td>26.609442</td>\n",
       "      <td>NaN</td>\n",
       "      <td>NaN</td>\n",
       "      <td>NaN</td>\n",
       "      <td>NaN</td>\n",
       "      <td>...</td>\n",
       "      <td>SPA 8 - South Bay</td>\n",
       "      <td>2.0</td>\n",
       "      <td>3.8</td>\n",
       "      <td>16.7</td>\n",
       "      <td>8.3</td>\n",
       "      <td>2061</td>\n",
       "      <td>3.698756e+09</td>\n",
       "      <td>554591.259931</td>\n",
       "      <td>MULTIPOLYGON (((-118.60443 33.47856, -118.5988...</td>\n",
       "      <td>06037599100</td>\n",
       "    </tr>\n",
       "    <tr>\n",
       "      <th>2494</th>\n",
       "      <td>599000</td>\n",
       "      <td>4.140374e+07</td>\n",
       "      <td>30722.660050</td>\n",
       "      <td>POLYGON ((-118.33162915779049 33.3563367214137...</td>\n",
       "      <td>10.739532</td>\n",
       "      <td>24.333878</td>\n",
       "      <td>15.487218</td>\n",
       "      <td>11.004076</td>\n",
       "      <td>9.892552</td>\n",
       "      <td>5.816969</td>\n",
       "      <td>...</td>\n",
       "      <td>SPA 8 - South Bay</td>\n",
       "      <td>114.0</td>\n",
       "      <td>10.4</td>\n",
       "      <td>53.8</td>\n",
       "      <td>31.2</td>\n",
       "      <td>2060</td>\n",
       "      <td>3.566450e+07</td>\n",
       "      <td>28399.116302</td>\n",
       "      <td>POLYGON ((-118.34352 33.34031, -118.33722 33.3...</td>\n",
       "      <td>06037599000</td>\n",
       "    </tr>\n",
       "  </tbody>\n",
       "</table>\n",
       "<p>2495 rows × 406 columns</p>\n",
       "</div>"
      ],
      "text/plain": [
       "     geoid20_x   ShapeSTArea  ShapeSTLength  \\\n",
       "0       101110  1.229562e+07   15083.854290   \n",
       "1       101122  2.845774e+07   31671.455840   \n",
       "2       101220  7.522093e+06   12698.783810   \n",
       "3       101221  3.812000e+06    9161.710543   \n",
       "4       101222  3.191371e+06    9980.600461   \n",
       "...        ...           ...            ...   \n",
       "2490    577200  3.763257e+07   29676.510890   \n",
       "2491    577300  3.454461e+07   26605.219290   \n",
       "2492    577504  4.154029e+07   30008.423940   \n",
       "2493    599100  3.618834e+09  792259.729400   \n",
       "2494    599000  4.140374e+07   30722.660050   \n",
       "\n",
       "                                             geometry_x  pop_below_100_pct  \\\n",
       "0     POLYGON ((-118.2979312139962 34.2632268762169,...          11.287386   \n",
       "1     POLYGON ((-118.27743420965825 34.2599078772977...           4.429760   \n",
       "2     POLYGON ((-118.27817921018234 34.2557728762786...          16.900661   \n",
       "3     POLYGON ((-118.28734521088782 34.2559088762374...          20.601543   \n",
       "4     POLYGON ((-118.28593621132488 34.2558998758872...          38.019875   \n",
       "...                                                 ...                ...   \n",
       "2490  POLYGON ((-118.15164014868971 33.7662598291107...          10.819729   \n",
       "2491  POLYGON ((-118.1326921444076 33.7530458289731,...           4.683590   \n",
       "2492  POLYGON ((-118.13009214414437 33.7544698295901...          12.464788   \n",
       "2493                                                NaN          17.596567   \n",
       "2494  POLYGON ((-118.33162915779049 33.3563367214137...          10.739532   \n",
       "\n",
       "      pop_below_200_pct  mental_health_pct  physical_health_pct  diabetes_pct  \\\n",
       "0             26.736021          16.309769            10.794954      9.504253   \n",
       "1             10.499266          13.911290             8.702957      8.299731   \n",
       "2             34.781456          16.807861            11.995934     10.606574   \n",
       "3             43.918018          18.384296            12.306531      9.890525   \n",
       "4             66.654396          18.394951            12.308386      9.918846   \n",
       "...                 ...                ...                  ...           ...   \n",
       "2490          17.558180          14.794112             7.098938      5.906466   \n",
       "2491          10.958170          14.306240             5.993432      4.802956   \n",
       "2492          19.295774          13.001605             8.025682      7.463884   \n",
       "2493          26.609442                NaN                  NaN           NaN   \n",
       "2494          24.333878          15.487218            11.004076      9.892552   \n",
       "\n",
       "      cancer_pct  ...                   spa  calfresh_cases  \\\n",
       "0       5.485480  ...  SPA 2 - San Fernando           504.0   \n",
       "1       6.283602  ...  SPA 2 - San Fernando           210.0   \n",
       "2       5.489665  ...  SPA 2 - San Fernando           393.0   \n",
       "3       4.605512  ...  SPA 2 - San Fernando           501.0   \n",
       "4       4.598738  ...  SPA 2 - San Fernando           401.0   \n",
       "...          ...  ...                   ...             ...   \n",
       "2490    5.105273  ...     SPA 8 - South Bay           197.0   \n",
       "2491    4.495074  ...     SPA 8 - South Bay           194.0   \n",
       "2492    7.303371  ...     SPA 8 - South Bay            27.0   \n",
       "2493         NaN  ...     SPA 8 - South Bay             2.0   \n",
       "2494    5.816969  ...     SPA 8 - South Bay           114.0   \n",
       "\n",
       "      calfresh_per_100_families  calfresh_per_100_fam_below_200f  \\\n",
       "0                          46.5                            202.4   \n",
       "1                          21.3                            259.3   \n",
       "2                          40.9                            119.8   \n",
       "3                          53.6                            125.9   \n",
       "4                          58.9                             86.8   \n",
       "...                         ...                              ...   \n",
       "2490                       17.8                            185.8   \n",
       "2491                       18.8                            524.3   \n",
       "2492                        8.8                            180.0   \n",
       "2493                        3.8                             16.7   \n",
       "2494                       10.4                             53.8   \n",
       "\n",
       "      calfresh_per_100_fam_below_300f  ESRI_OID   Shape__Area  Shape__Length  \\\n",
       "0                               111.3         1  1.232981e+07   14765.649004   \n",
       "1                               116.7         2  2.908866e+07   30028.213771   \n",
       "2                                85.8         3  7.532651e+06   12504.552130   \n",
       "3                                91.9         4  3.874399e+06    8938.421349   \n",
       "4                                71.9         5  3.090538e+06    9750.960420   \n",
       "...                               ...       ...           ...            ...   \n",
       "2490                             87.2      2046  9.192743e+06   13068.708351   \n",
       "2491                            206.4      2047  8.753222e+06   12674.194794   \n",
       "2492                             57.4      2050  6.017113e+06   16934.855734   \n",
       "2493                              8.3      2061  3.698756e+09  554591.259931   \n",
       "2494                             31.2      2060  3.566450e+07   28399.116302   \n",
       "\n",
       "                                             geometry_y       FIPS_y  \n",
       "0     POLYGON ((-118.30077 34.25961, -118.30077 34.2...  06037101110  \n",
       "1     POLYGON ((-118.30321 34.27334, -118.29971 34.2...  06037101122  \n",
       "2     POLYGON ((-118.28594 34.25228, -118.28594 34.2...  06037101220  \n",
       "3     POLYGON ((-118.29946 34.25598, -118.29319 34.2...  06037101221  \n",
       "4     POLYGON ((-118.29319 34.25233, -118.28863 34.2...  06037101222  \n",
       "...                                                 ...          ...  \n",
       "2490  POLYGON ((-118.15546 33.76413, -118.15459 33.7...  06037577200  \n",
       "2491  POLYGON ((-118.14588 33.76067, -118.14516 33.7...  06037577300  \n",
       "2492  POLYGON ((-118.13208 33.75527, -118.13014 33.7...  06037577504  \n",
       "2493  MULTIPOLYGON (((-118.60443 33.47856, -118.5988...  06037599100  \n",
       "2494  POLYGON ((-118.34352 33.34031, -118.33722 33.3...  06037599000  \n",
       "\n",
       "[2495 rows x 406 columns]"
      ]
     },
     "execution_count": 120,
     "metadata": {},
     "output_type": "execute_result"
    }
   ],
   "source": [
    "#merging census and Cal Fresh data\n",
    "merge = pd.merge(new,calfresh,on='tract')\n",
    "merge"
   ]
  },
  {
   "cell_type": "code",
   "execution_count": 121,
   "id": "8cbaca2c-0406-402c-9dd2-961d1b37b43b",
   "metadata": {},
   "outputs": [
    {
     "name": "stdout",
     "output_type": "stream",
     "text": [
      "<class 'pandas.core.frame.DataFrame'>\n",
      "RangeIndex: 2495 entries, 0 to 2494\n",
      "Data columns (total 406 columns):\n",
      " #    Column                                                                                                                                                                           Non-Null Count  Dtype   \n",
      "---   ------                                                                                                                                                                           --------------  -----   \n",
      " 0    geoid20_x                                                                                                                                                                        2495 non-null   object  \n",
      " 1    ShapeSTArea                                                                                                                                                                      2495 non-null   float64 \n",
      " 2    ShapeSTLength                                                                                                                                                                    2495 non-null   float64 \n",
      " 3    geometry_x                                                                                                                                                                       2481 non-null   object  \n",
      " 4    pop_below_100_pct                                                                                                                                                                2471 non-null   float64 \n",
      " 5    pop_below_200_pct                                                                                                                                                                2471 non-null   float64 \n",
      " 6    mental_health_pct                                                                                                                                                                2477 non-null   float64 \n",
      " 7    physical_health_pct                                                                                                                                                              2477 non-null   float64 \n",
      " 8    diabetes_pct                                                                                                                                                                     2477 non-null   float64 \n",
      " 9    cancer_pct                                                                                                                                                                       2477 non-null   float64 \n",
      " 10   copd_pct                                                                                                                                                                         2477 non-null   float64 \n",
      " 11   chd_pct                                                                                                                                                                          2477 non-null   float64 \n",
      " 12   smoking_pct                                                                                                                                                                      2477 non-null   float64 \n",
      " 13   binge_drinking_pct                                                                                                                                                               2477 non-null   float64 \n",
      " 14   total_pop                                                                                                                                                                        1986 non-null   float64 \n",
      " 15   snap_rate                                                                                                                                                                        1979 non-null   float64 \n",
      " 16   FIPS_x                                                                                                                                                                           2495 non-null   object  \n",
      " 17   Estimate!!SEX AND AGE!!Total population                                                                                                                                          2029 non-null   float64 \n",
      " 18   Margin of Error!!SEX AND AGE!!Total population                                                                                                                                   2029 non-null   float64 \n",
      " 19   Estimate!!SEX AND AGE!!Total population!!Male                                                                                                                                    2029 non-null   float64 \n",
      " 20   Margin of Error!!SEX AND AGE!!Total population!!Male                                                                                                                             2029 non-null   float64 \n",
      " 21   Estimate!!SEX AND AGE!!Total population!!Female                                                                                                                                  2029 non-null   float64 \n",
      " 22   Margin of Error!!SEX AND AGE!!Total population!!Female                                                                                                                           2029 non-null   float64 \n",
      " 23   Estimate!!SEX AND AGE!!Total population!!Sex ratio (males per 100 females)                                                                                                       2029 non-null   object  \n",
      " 24   Margin of Error!!SEX AND AGE!!Total population!!Sex ratio (males per 100 females)                                                                                                2029 non-null   object  \n",
      " 25   Estimate!!SEX AND AGE!!Total population!!Under 5 years                                                                                                                           2029 non-null   float64 \n",
      " 26   Margin of Error!!SEX AND AGE!!Total population!!Under 5 years                                                                                                                    2029 non-null   float64 \n",
      " 27   Estimate!!SEX AND AGE!!Total population!!5 to 9 years                                                                                                                            2029 non-null   float64 \n",
      " 28   Margin of Error!!SEX AND AGE!!Total population!!5 to 9 years                                                                                                                     2029 non-null   float64 \n",
      " 29   Estimate!!SEX AND AGE!!Total population!!10 to 14 years                                                                                                                          2029 non-null   float64 \n",
      " 30   Margin of Error!!SEX AND AGE!!Total population!!10 to 14 years                                                                                                                   2029 non-null   float64 \n",
      " 31   Estimate!!SEX AND AGE!!Total population!!15 to 19 years                                                                                                                          2029 non-null   float64 \n",
      " 32   Margin of Error!!SEX AND AGE!!Total population!!15 to 19 years                                                                                                                   2029 non-null   float64 \n",
      " 33   Estimate!!SEX AND AGE!!Total population!!20 to 24 years                                                                                                                          2029 non-null   float64 \n",
      " 34   Margin of Error!!SEX AND AGE!!Total population!!20 to 24 years                                                                                                                   2029 non-null   float64 \n",
      " 35   Estimate!!SEX AND AGE!!Total population!!25 to 34 years                                                                                                                          2029 non-null   float64 \n",
      " 36   Margin of Error!!SEX AND AGE!!Total population!!25 to 34 years                                                                                                                   2029 non-null   float64 \n",
      " 37   Estimate!!SEX AND AGE!!Total population!!35 to 44 years                                                                                                                          2029 non-null   float64 \n",
      " 38   Margin of Error!!SEX AND AGE!!Total population!!35 to 44 years                                                                                                                   2029 non-null   float64 \n",
      " 39   Estimate!!SEX AND AGE!!Total population!!45 to 54 years                                                                                                                          2029 non-null   float64 \n",
      " 40   Margin of Error!!SEX AND AGE!!Total population!!45 to 54 years                                                                                                                   2029 non-null   float64 \n",
      " 41   Estimate!!SEX AND AGE!!Total population!!55 to 59 years                                                                                                                          2029 non-null   float64 \n",
      " 42   Margin of Error!!SEX AND AGE!!Total population!!55 to 59 years                                                                                                                   2029 non-null   float64 \n",
      " 43   Estimate!!SEX AND AGE!!Total population!!60 to 64 years                                                                                                                          2029 non-null   float64 \n",
      " 44   Margin of Error!!SEX AND AGE!!Total population!!60 to 64 years                                                                                                                   2029 non-null   float64 \n",
      " 45   Estimate!!SEX AND AGE!!Total population!!65 to 74 years                                                                                                                          2029 non-null   float64 \n",
      " 46   Margin of Error!!SEX AND AGE!!Total population!!65 to 74 years                                                                                                                   2029 non-null   float64 \n",
      " 47   Estimate!!SEX AND AGE!!Total population!!75 to 84 years                                                                                                                          2029 non-null   float64 \n",
      " 48   Margin of Error!!SEX AND AGE!!Total population!!75 to 84 years                                                                                                                   2029 non-null   float64 \n",
      " 49   Estimate!!SEX AND AGE!!Total population!!85 years and over                                                                                                                       2029 non-null   float64 \n",
      " 50   Margin of Error!!SEX AND AGE!!Total population!!85 years and over                                                                                                                2029 non-null   float64 \n",
      " 51   Estimate!!SEX AND AGE!!Total population!!Median age (years)                                                                                                                      2029 non-null   object  \n",
      " 52   Margin of Error!!SEX AND AGE!!Total population!!Median age (years)                                                                                                               2029 non-null   object  \n",
      " 53   Estimate!!SEX AND AGE!!Total population!!Under 18 years                                                                                                                          2029 non-null   float64 \n",
      " 54   Margin of Error!!SEX AND AGE!!Total population!!Under 18 years                                                                                                                   2029 non-null   float64 \n",
      " 55   Estimate!!SEX AND AGE!!Total population!!16 years and over                                                                                                                       2029 non-null   float64 \n",
      " 56   Margin of Error!!SEX AND AGE!!Total population!!16 years and over                                                                                                                2029 non-null   float64 \n",
      " 57   Estimate!!SEX AND AGE!!Total population!!18 years and over                                                                                                                       2029 non-null   float64 \n",
      " 58   Margin of Error!!SEX AND AGE!!Total population!!18 years and over                                                                                                                2029 non-null   float64 \n",
      " 59   Estimate!!SEX AND AGE!!Total population!!21 years and over                                                                                                                       2029 non-null   float64 \n",
      " 60   Margin of Error!!SEX AND AGE!!Total population!!21 years and over                                                                                                                2029 non-null   float64 \n",
      " 61   Estimate!!SEX AND AGE!!Total population!!62 years and over                                                                                                                       2029 non-null   float64 \n",
      " 62   Margin of Error!!SEX AND AGE!!Total population!!62 years and over                                                                                                                2029 non-null   float64 \n",
      " 63   Estimate!!SEX AND AGE!!Total population!!65 years and over                                                                                                                       2029 non-null   float64 \n",
      " 64   Margin of Error!!SEX AND AGE!!Total population!!65 years and over                                                                                                                2029 non-null   float64 \n",
      " 65   Estimate!!SEX AND AGE!!Total population!!18 years and over.1                                                                                                                     2029 non-null   float64 \n",
      " 66   Margin of Error!!SEX AND AGE!!Total population!!18 years and over.1                                                                                                              2029 non-null   float64 \n",
      " 67   Estimate!!SEX AND AGE!!Total population!!18 years and over!!Male                                                                                                                 2029 non-null   float64 \n",
      " 68   Margin of Error!!SEX AND AGE!!Total population!!18 years and over!!Male                                                                                                          2029 non-null   float64 \n",
      " 69   Estimate!!SEX AND AGE!!Total population!!18 years and over!!Female                                                                                                               2029 non-null   float64 \n",
      " 70   Margin of Error!!SEX AND AGE!!Total population!!18 years and over!!Female                                                                                                        2029 non-null   float64 \n",
      " 71   Estimate!!SEX AND AGE!!Total population!!18 years and over!!Sex ratio (males per 100 females)                                                                                    2029 non-null   object  \n",
      " 72   Margin of Error!!SEX AND AGE!!Total population!!18 years and over!!Sex ratio (males per 100 females)                                                                             2029 non-null   object  \n",
      " 73   Estimate!!SEX AND AGE!!Total population!!65 years and over.1                                                                                                                     2029 non-null   float64 \n",
      " 74   Margin of Error!!SEX AND AGE!!Total population!!65 years and over.1                                                                                                              2029 non-null   float64 \n",
      " 75   Estimate!!SEX AND AGE!!Total population!!65 years and over!!Male                                                                                                                 2029 non-null   float64 \n",
      " 76   Margin of Error!!SEX AND AGE!!Total population!!65 years and over!!Male                                                                                                          2029 non-null   float64 \n",
      " 77   Estimate!!SEX AND AGE!!Total population!!65 years and over!!Female                                                                                                               2029 non-null   float64 \n",
      " 78   Margin of Error!!SEX AND AGE!!Total population!!65 years and over!!Female                                                                                                        2029 non-null   float64 \n",
      " 79   Estimate!!SEX AND AGE!!Total population!!65 years and over!!Sex ratio (males per 100 females)                                                                                    2029 non-null   object  \n",
      " 80   Margin of Error!!SEX AND AGE!!Total population!!65 years and over!!Sex ratio (males per 100 females)                                                                             2029 non-null   object  \n",
      " 81   Estimate!!RACE!!Total population                                                                                                                                                 2029 non-null   float64 \n",
      " 82   Margin of Error!!RACE!!Total population                                                                                                                                          2029 non-null   float64 \n",
      " 83   Estimate!!RACE!!Total population!!One race                                                                                                                                       2029 non-null   float64 \n",
      " 84   Margin of Error!!RACE!!Total population!!One race                                                                                                                                2029 non-null   float64 \n",
      " 85   Estimate!!RACE!!Total population!!Two or More Races                                                                                                                              2029 non-null   float64 \n",
      " 86   Margin of Error!!RACE!!Total population!!Two or More Races                                                                                                                       2029 non-null   float64 \n",
      " 87   Estimate!!RACE!!Total population!!One race.1                                                                                                                                     2029 non-null   float64 \n",
      " 88   Margin of Error!!RACE!!Total population!!One race.1                                                                                                                              2029 non-null   float64 \n",
      " 89   Estimate!!RACE!!Total population!!One race!!White                                                                                                                                2029 non-null   float64 \n",
      " 90   Margin of Error!!RACE!!Total population!!One race!!White                                                                                                                         2029 non-null   float64 \n",
      " 91   Estimate!!RACE!!Total population!!One race!!Black or African American                                                                                                            2029 non-null   float64 \n",
      " 92   Margin of Error!!RACE!!Total population!!One race!!Black or African American                                                                                                     2029 non-null   float64 \n",
      " 93   Estimate!!RACE!!Total population!!One race!!American Indian and Alaska Native                                                                                                    2029 non-null   float64 \n",
      " 94   Margin of Error!!RACE!!Total population!!One race!!American Indian and Alaska Native                                                                                             2029 non-null   float64 \n",
      " 95   Estimate!!RACE!!Total population!!One race!!American Indian and Alaska Native!!Cherokee tribal grouping                                                                          2029 non-null   float64 \n",
      " 96   Margin of Error!!RACE!!Total population!!One race!!American Indian and Alaska Native!!Cherokee tribal grouping                                                                   2029 non-null   float64 \n",
      " 97   Estimate!!RACE!!Total population!!One race!!American Indian and Alaska Native!!Chippewa tribal grouping                                                                          2029 non-null   float64 \n",
      " 98   Margin of Error!!RACE!!Total population!!One race!!American Indian and Alaska Native!!Chippewa tribal grouping                                                                   2029 non-null   float64 \n",
      " 99   Estimate!!RACE!!Total population!!One race!!American Indian and Alaska Native!!Navajo tribal grouping                                                                            2029 non-null   float64 \n",
      " 100  Margin of Error!!RACE!!Total population!!One race!!American Indian and Alaska Native!!Navajo tribal grouping                                                                     2029 non-null   float64 \n",
      " 101  Estimate!!RACE!!Total population!!One race!!American Indian and Alaska Native!!Sioux tribal grouping                                                                             2029 non-null   float64 \n",
      " 102  Margin of Error!!RACE!!Total population!!One race!!American Indian and Alaska Native!!Sioux tribal grouping                                                                      2029 non-null   float64 \n",
      " 103  Estimate!!RACE!!Total population!!One race!!Asian                                                                                                                                2029 non-null   float64 \n",
      " 104  Margin of Error!!RACE!!Total population!!One race!!Asian                                                                                                                         2029 non-null   float64 \n",
      " 105  Estimate!!RACE!!Total population!!One race!!Asian!!Asian Indian                                                                                                                  2029 non-null   float64 \n",
      " 106  Margin of Error!!RACE!!Total population!!One race!!Asian!!Asian Indian                                                                                                           2029 non-null   float64 \n",
      " 107  Estimate!!RACE!!Total population!!One race!!Asian!!Chinese                                                                                                                       2029 non-null   float64 \n",
      " 108  Margin of Error!!RACE!!Total population!!One race!!Asian!!Chinese                                                                                                                2029 non-null   float64 \n",
      " 109  Estimate!!RACE!!Total population!!One race!!Asian!!Filipino                                                                                                                      2029 non-null   float64 \n",
      " 110  Margin of Error!!RACE!!Total population!!One race!!Asian!!Filipino                                                                                                               2029 non-null   float64 \n",
      " 111  Estimate!!RACE!!Total population!!One race!!Asian!!Japanese                                                                                                                      2029 non-null   float64 \n",
      " 112  Margin of Error!!RACE!!Total population!!One race!!Asian!!Japanese                                                                                                               2029 non-null   float64 \n",
      " 113  Estimate!!RACE!!Total population!!One race!!Asian!!Korean                                                                                                                        2029 non-null   float64 \n",
      " 114  Margin of Error!!RACE!!Total population!!One race!!Asian!!Korean                                                                                                                 2029 non-null   float64 \n",
      " 115  Estimate!!RACE!!Total population!!One race!!Asian!!Vietnamese                                                                                                                    2029 non-null   float64 \n",
      " 116  Margin of Error!!RACE!!Total population!!One race!!Asian!!Vietnamese                                                                                                             2029 non-null   float64 \n",
      " 117  Estimate!!RACE!!Total population!!One race!!Asian!!Other Asian                                                                                                                   2029 non-null   float64 \n",
      " 118  Margin of Error!!RACE!!Total population!!One race!!Asian!!Other Asian                                                                                                            2029 non-null   float64 \n",
      " 119  Estimate!!RACE!!Total population!!One race!!Native Hawaiian and Other Pacific Islander                                                                                           2029 non-null   float64 \n",
      " 120  Margin of Error!!RACE!!Total population!!One race!!Native Hawaiian and Other Pacific Islander                                                                                    2029 non-null   float64 \n",
      " 121  Estimate!!RACE!!Total population!!One race!!Native Hawaiian and Other Pacific Islander!!Chamorro                                                                                 2029 non-null   float64 \n",
      " 122  Margin of Error!!RACE!!Total population!!One race!!Native Hawaiian and Other Pacific Islander!!Chamorro                                                                          2029 non-null   float64 \n",
      " 123  Estimate!!RACE!!Total population!!One race!!Native Hawaiian and Other Pacific Islander!!Native Hawaiian                                                                          2029 non-null   float64 \n",
      " 124  Margin of Error!!RACE!!Total population!!One race!!Native Hawaiian and Other Pacific Islander!!Native Hawaiian                                                                   2029 non-null   float64 \n",
      " 125  Estimate!!RACE!!Total population!!One race!!Native Hawaiian and Other Pacific Islander!!Samoan                                                                                   2029 non-null   float64 \n",
      " 126  Margin of Error!!RACE!!Total population!!One race!!Native Hawaiian and Other Pacific Islander!!Samoan                                                                            2029 non-null   float64 \n",
      " 127  Estimate!!RACE!!Total population!!One race!!Native Hawaiian and Other Pacific Islander!!Other Native Hawaiian and Other Pacific Islander                                         2029 non-null   float64 \n",
      " 128  Margin of Error!!RACE!!Total population!!One race!!Native Hawaiian and Other Pacific Islander!!Other Native Hawaiian and Other Pacific Islander                                  2029 non-null   float64 \n",
      " 129  Estimate!!RACE!!Total population!!One race!!Some Other Race                                                                                                                      2029 non-null   float64 \n",
      " 130  Margin of Error!!RACE!!Total population!!One race!!Some Other Race                                                                                                               2029 non-null   float64 \n",
      " 131  Estimate!!RACE!!Total population!!Two or More Races.1                                                                                                                            2029 non-null   float64 \n",
      " 132  Margin of Error!!RACE!!Total population!!Two or More Races.1                                                                                                                     2029 non-null   float64 \n",
      " 133  Estimate!!RACE!!Total population!!Two or More Races!!White and Black or African American                                                                                         2029 non-null   float64 \n",
      " 134  Margin of Error!!RACE!!Total population!!Two or More Races!!White and Black or African American                                                                                  2029 non-null   float64 \n",
      " 135  Estimate!!RACE!!Total population!!Two or More Races!!White and American Indian and Alaska Native                                                                                 2029 non-null   float64 \n",
      " 136  Margin of Error!!RACE!!Total population!!Two or More Races!!White and American Indian and Alaska Native                                                                          2029 non-null   float64 \n",
      " 137  Estimate!!RACE!!Total population!!Two or More Races!!White and Asian                                                                                                             2029 non-null   float64 \n",
      " 138  Margin of Error!!RACE!!Total population!!Two or More Races!!White and Asian                                                                                                      2029 non-null   float64 \n",
      " 139  Estimate!!RACE!!Total population!!Two or More Races!!White and Some Other Race                                                                                                   2029 non-null   float64 \n",
      " 140  Margin of Error!!RACE!!Total population!!Two or More Races!!White and Some Other Race                                                                                            2029 non-null   float64 \n",
      " 141  Estimate!!RACE!!Total population!!Two or More Races!!Black or African American and American Indian and Alaska Native                                                             2029 non-null   float64 \n",
      " 142  Margin of Error!!RACE!!Total population!!Two or More Races!!Black or African American and American Indian and Alaska Native                                                      2029 non-null   float64 \n",
      " 143  Estimate!!RACE!!Total population!!Two or More Races!!Black or African American and Some Other Race                                                                               2029 non-null   float64 \n",
      " 144  Margin of Error!!RACE!!Total population!!Two or More Races!!Black or African American and Some Other Race                                                                        2029 non-null   float64 \n",
      " 145  Estimate!!Race alone or in combination with one or more other races!!Total population                                                                                            2029 non-null   float64 \n",
      " 146  Margin of Error!!Race alone or in combination with one or more other races!!Total population                                                                                     2029 non-null   float64 \n",
      " 147  Estimate!!Race alone or in combination with one or more other races!!Total population!!White                                                                                     2029 non-null   float64 \n",
      " 148  Margin of Error!!Race alone or in combination with one or more other races!!Total population!!White                                                                              2029 non-null   float64 \n",
      " 149  Estimate!!Race alone or in combination with one or more other races!!Total population!!Black or African American                                                                 2029 non-null   float64 \n",
      " 150  Margin of Error!!Race alone or in combination with one or more other races!!Total population!!Black or African American                                                          2029 non-null   float64 \n",
      " 151  Estimate!!Race alone or in combination with one or more other races!!Total population!!American Indian and Alaska Native                                                         2029 non-null   float64 \n",
      " 152  Margin of Error!!Race alone or in combination with one or more other races!!Total population!!American Indian and Alaska Native                                                  2029 non-null   float64 \n",
      " 153  Estimate!!Race alone or in combination with one or more other races!!Total population!!Asian                                                                                     2029 non-null   float64 \n",
      " 154  Margin of Error!!Race alone or in combination with one or more other races!!Total population!!Asian                                                                              2029 non-null   float64 \n",
      " 155  Estimate!!Race alone or in combination with one or more other races!!Total population!!Native Hawaiian and Other Pacific Islander                                                2029 non-null   float64 \n",
      " 156  Margin of Error!!Race alone or in combination with one or more other races!!Total population!!Native Hawaiian and Other Pacific Islander                                         2029 non-null   float64 \n",
      " 157  Estimate!!Race alone or in combination with one or more other races!!Total population!!Some Other Race                                                                           2029 non-null   float64 \n",
      " 158  Margin of Error!!Race alone or in combination with one or more other races!!Total population!!Some Other Race                                                                    2029 non-null   float64 \n",
      " 159  Estimate!!HISPANIC OR LATINO AND RACE!!Total population                                                                                                                          2029 non-null   float64 \n",
      " 160  Margin of Error!!HISPANIC OR LATINO AND RACE!!Total population                                                                                                                   2029 non-null   float64 \n",
      " 161  Estimate!!HISPANIC OR LATINO AND RACE!!Total population!!Hispanic or Latino (of any race)                                                                                        2029 non-null   float64 \n",
      " 162  Margin of Error!!HISPANIC OR LATINO AND RACE!!Total population!!Hispanic or Latino (of any race)                                                                                 2029 non-null   float64 \n",
      " 163  Estimate!!HISPANIC OR LATINO AND RACE!!Total population!!Hispanic or Latino (of any race)!!Mexican                                                                               2029 non-null   float64 \n",
      " 164  Margin of Error!!HISPANIC OR LATINO AND RACE!!Total population!!Hispanic or Latino (of any race)!!Mexican                                                                        2029 non-null   float64 \n",
      " 165  Estimate!!HISPANIC OR LATINO AND RACE!!Total population!!Hispanic or Latino (of any race)!!Puerto Rican                                                                          2029 non-null   float64 \n",
      " 166  Margin of Error!!HISPANIC OR LATINO AND RACE!!Total population!!Hispanic or Latino (of any race)!!Puerto Rican                                                                   2029 non-null   float64 \n",
      " 167  Estimate!!HISPANIC OR LATINO AND RACE!!Total population!!Hispanic or Latino (of any race)!!Cuban                                                                                 2029 non-null   float64 \n",
      " 168  Margin of Error!!HISPANIC OR LATINO AND RACE!!Total population!!Hispanic or Latino (of any race)!!Cuban                                                                          2029 non-null   float64 \n",
      " 169  Estimate!!HISPANIC OR LATINO AND RACE!!Total population!!Hispanic or Latino (of any race)!!Other Hispanic or Latino                                                              2029 non-null   float64 \n",
      " 170  Margin of Error!!HISPANIC OR LATINO AND RACE!!Total population!!Hispanic or Latino (of any race)!!Other Hispanic or Latino                                                       2029 non-null   float64 \n",
      " 171  Estimate!!HISPANIC OR LATINO AND RACE!!Total population!!Not Hispanic or Latino                                                                                                  2029 non-null   float64 \n",
      " 172  Margin of Error!!HISPANIC OR LATINO AND RACE!!Total population!!Not Hispanic or Latino                                                                                           2029 non-null   float64 \n",
      " 173  Estimate!!HISPANIC OR LATINO AND RACE!!Total population!!Not Hispanic or Latino!!White alone                                                                                     2029 non-null   float64 \n",
      " 174  Margin of Error!!HISPANIC OR LATINO AND RACE!!Total population!!Not Hispanic or Latino!!White alone                                                                              2029 non-null   float64 \n",
      " 175  Estimate!!HISPANIC OR LATINO AND RACE!!Total population!!Not Hispanic or Latino!!Black or African American alone                                                                 2029 non-null   float64 \n",
      " 176  Margin of Error!!HISPANIC OR LATINO AND RACE!!Total population!!Not Hispanic or Latino!!Black or African American alone                                                          2029 non-null   float64 \n",
      " 177  Estimate!!HISPANIC OR LATINO AND RACE!!Total population!!Not Hispanic or Latino!!American Indian and Alaska Native alone                                                         2029 non-null   float64 \n",
      " 178  Margin of Error!!HISPANIC OR LATINO AND RACE!!Total population!!Not Hispanic or Latino!!American Indian and Alaska Native alone                                                  2029 non-null   float64 \n",
      " 179  Estimate!!HISPANIC OR LATINO AND RACE!!Total population!!Not Hispanic or Latino!!Asian alone                                                                                     2029 non-null   float64 \n",
      " 180  Margin of Error!!HISPANIC OR LATINO AND RACE!!Total population!!Not Hispanic or Latino!!Asian alone                                                                              2029 non-null   float64 \n",
      " 181  Estimate!!HISPANIC OR LATINO AND RACE!!Total population!!Not Hispanic or Latino!!Native Hawaiian and Other Pacific Islander alone                                                2029 non-null   float64 \n",
      " 182  Margin of Error!!HISPANIC OR LATINO AND RACE!!Total population!!Not Hispanic or Latino!!Native Hawaiian and Other Pacific Islander alone                                         2029 non-null   float64 \n",
      " 183  Estimate!!HISPANIC OR LATINO AND RACE!!Total population!!Not Hispanic or Latino!!Some Other Race alone                                                                           2029 non-null   float64 \n",
      " 184  Margin of Error!!HISPANIC OR LATINO AND RACE!!Total population!!Not Hispanic or Latino!!Some Other Race alone                                                                    2029 non-null   float64 \n",
      " 185  Estimate!!HISPANIC OR LATINO AND RACE!!Total population!!Not Hispanic or Latino!!Two or More Races                                                                               2029 non-null   float64 \n",
      " 186  Margin of Error!!HISPANIC OR LATINO AND RACE!!Total population!!Not Hispanic or Latino!!Two or More Races                                                                        2029 non-null   float64 \n",
      " 187  Estimate!!HISPANIC OR LATINO AND RACE!!Total population!!Not Hispanic or Latino!!Two or More Races!!Two races including Some Other Race                                          2029 non-null   float64 \n",
      " 188  Margin of Error!!HISPANIC OR LATINO AND RACE!!Total population!!Not Hispanic or Latino!!Two or More Races!!Two races including Some Other Race                                   2029 non-null   float64 \n",
      " 189  Estimate!!HISPANIC OR LATINO AND RACE!!Total population!!Not Hispanic or Latino!!Two or More Races!!Two races excluding Some Other Race, and three or more races                 2029 non-null   float64 \n",
      " 190  Margin of Error!!HISPANIC OR LATINO AND RACE!!Total population!!Not Hispanic or Latino!!Two or More Races!!Two races excluding Some Other Race, and three or more races          2029 non-null   float64 \n",
      " 191  Estimate!!Total housing units                                                                                                                                                    2029 non-null   float64 \n",
      " 192  Margin of Error!!Total housing units                                                                                                                                             2029 non-null   float64 \n",
      " 193  Estimate!!CITIZEN, VOTING AGE POPULATION!!Citizen, 18 and over population                                                                                                        2029 non-null   float64 \n",
      " 194  Margin of Error!!CITIZEN, VOTING AGE POPULATION!!Citizen, 18 and over population                                                                                                 2029 non-null   float64 \n",
      " 195  Estimate!!CITIZEN, VOTING AGE POPULATION!!Citizen, 18 and over population!!Male                                                                                                  2029 non-null   float64 \n",
      " 196  Margin of Error!!CITIZEN, VOTING AGE POPULATION!!Citizen, 18 and over population!!Male                                                                                           2029 non-null   float64 \n",
      " 197  Estimate!!CITIZEN, VOTING AGE POPULATION!!Citizen, 18 and over population!!Female                                                                                                2029 non-null   float64 \n",
      " 198  Margin of Error!!CITIZEN, VOTING AGE POPULATION!!Citizen, 18 and over population!!Female                                                                                         2029 non-null   float64 \n",
      " 199  Percent!!SEX AND AGE!!Total population                                                                                                                                           2029 non-null   float64 \n",
      " 200  Percent Margin of Error!!SEX AND AGE!!Total population                                                                                                                           2029 non-null   object  \n",
      " 201  Percent!!SEX AND AGE!!Total population!!Male                                                                                                                                     2029 non-null   object  \n",
      " 202  Percent Margin of Error!!SEX AND AGE!!Total population!!Male                                                                                                                     2029 non-null   object  \n",
      " 203  Percent!!SEX AND AGE!!Total population!!Female                                                                                                                                   2029 non-null   object  \n",
      " 204  Percent Margin of Error!!SEX AND AGE!!Total population!!Female                                                                                                                   2029 non-null   object  \n",
      " 205  Percent!!SEX AND AGE!!Total population!!Sex ratio (males per 100 females)                                                                                                        2029 non-null   object  \n",
      " 206  Percent Margin of Error!!SEX AND AGE!!Total population!!Sex ratio (males per 100 females)                                                                                        2029 non-null   object  \n",
      " 207  Percent!!SEX AND AGE!!Total population!!Under 5 years                                                                                                                            2029 non-null   object  \n",
      " 208  Percent Margin of Error!!SEX AND AGE!!Total population!!Under 5 years                                                                                                            2029 non-null   object  \n",
      " 209  Percent!!SEX AND AGE!!Total population!!5 to 9 years                                                                                                                             2029 non-null   object  \n",
      " 210  Percent Margin of Error!!SEX AND AGE!!Total population!!5 to 9 years                                                                                                             2029 non-null   object  \n",
      " 211  Percent!!SEX AND AGE!!Total population!!10 to 14 years                                                                                                                           2029 non-null   object  \n",
      " 212  Percent Margin of Error!!SEX AND AGE!!Total population!!10 to 14 years                                                                                                           2029 non-null   object  \n",
      " 213  Percent!!SEX AND AGE!!Total population!!15 to 19 years                                                                                                                           2029 non-null   object  \n",
      " 214  Percent Margin of Error!!SEX AND AGE!!Total population!!15 to 19 years                                                                                                           2029 non-null   object  \n",
      " 215  Percent!!SEX AND AGE!!Total population!!20 to 24 years                                                                                                                           2029 non-null   object  \n",
      " 216  Percent Margin of Error!!SEX AND AGE!!Total population!!20 to 24 years                                                                                                           2029 non-null   object  \n",
      " 217  Percent!!SEX AND AGE!!Total population!!25 to 34 years                                                                                                                           2029 non-null   object  \n",
      " 218  Percent Margin of Error!!SEX AND AGE!!Total population!!25 to 34 years                                                                                                           2029 non-null   object  \n",
      " 219  Percent!!SEX AND AGE!!Total population!!35 to 44 years                                                                                                                           2029 non-null   object  \n",
      " 220  Percent Margin of Error!!SEX AND AGE!!Total population!!35 to 44 years                                                                                                           2029 non-null   object  \n",
      " 221  Percent!!SEX AND AGE!!Total population!!45 to 54 years                                                                                                                           2029 non-null   object  \n",
      " 222  Percent Margin of Error!!SEX AND AGE!!Total population!!45 to 54 years                                                                                                           2029 non-null   object  \n",
      " 223  Percent!!SEX AND AGE!!Total population!!55 to 59 years                                                                                                                           2029 non-null   object  \n",
      " 224  Percent Margin of Error!!SEX AND AGE!!Total population!!55 to 59 years                                                                                                           2029 non-null   object  \n",
      " 225  Percent!!SEX AND AGE!!Total population!!60 to 64 years                                                                                                                           2029 non-null   object  \n",
      " 226  Percent Margin of Error!!SEX AND AGE!!Total population!!60 to 64 years                                                                                                           2029 non-null   object  \n",
      " 227  Percent!!SEX AND AGE!!Total population!!65 to 74 years                                                                                                                           2029 non-null   object  \n",
      " 228  Percent Margin of Error!!SEX AND AGE!!Total population!!65 to 74 years                                                                                                           2029 non-null   object  \n",
      " 229  Percent!!SEX AND AGE!!Total population!!75 to 84 years                                                                                                                           2029 non-null   object  \n",
      " 230  Percent Margin of Error!!SEX AND AGE!!Total population!!75 to 84 years                                                                                                           2029 non-null   object  \n",
      " 231  Percent!!SEX AND AGE!!Total population!!85 years and over                                                                                                                        2029 non-null   object  \n",
      " 232  Percent Margin of Error!!SEX AND AGE!!Total population!!85 years and over                                                                                                        2029 non-null   object  \n",
      " 233  Percent!!SEX AND AGE!!Total population!!Median age (years)                                                                                                                       2029 non-null   object  \n",
      " 234  Percent Margin of Error!!SEX AND AGE!!Total population!!Median age (years)                                                                                                       2029 non-null   object  \n",
      " 235  Percent!!SEX AND AGE!!Total population!!Under 18 years                                                                                                                           2029 non-null   object  \n",
      " 236  Percent Margin of Error!!SEX AND AGE!!Total population!!Under 18 years                                                                                                           2029 non-null   object  \n",
      " 237  Percent!!SEX AND AGE!!Total population!!16 years and over                                                                                                                        2029 non-null   object  \n",
      " 238  Percent Margin of Error!!SEX AND AGE!!Total population!!16 years and over                                                                                                        2029 non-null   object  \n",
      " 239  Percent!!SEX AND AGE!!Total population!!18 years and over                                                                                                                        2029 non-null   object  \n",
      " 240  Percent Margin of Error!!SEX AND AGE!!Total population!!18 years and over                                                                                                        2029 non-null   object  \n",
      " 241  Percent!!SEX AND AGE!!Total population!!21 years and over                                                                                                                        2029 non-null   object  \n",
      " 242  Percent Margin of Error!!SEX AND AGE!!Total population!!21 years and over                                                                                                        2029 non-null   object  \n",
      " 243  Percent!!SEX AND AGE!!Total population!!62 years and over                                                                                                                        2029 non-null   object  \n",
      " 244  Percent Margin of Error!!SEX AND AGE!!Total population!!62 years and over                                                                                                        2029 non-null   object  \n",
      " 245  Percent!!SEX AND AGE!!Total population!!65 years and over                                                                                                                        2029 non-null   object  \n",
      " 246  Percent Margin of Error!!SEX AND AGE!!Total population!!65 years and over                                                                                                        2029 non-null   object  \n",
      " 247  Percent!!SEX AND AGE!!Total population!!18 years and over.1                                                                                                                      2029 non-null   float64 \n",
      " 248  Percent Margin of Error!!SEX AND AGE!!Total population!!18 years and over.1                                                                                                      2029 non-null   object  \n",
      " 249  Percent!!SEX AND AGE!!Total population!!18 years and over!!Male                                                                                                                  2029 non-null   object  \n",
      " 250  Percent Margin of Error!!SEX AND AGE!!Total population!!18 years and over!!Male                                                                                                  2029 non-null   object  \n",
      " 251  Percent!!SEX AND AGE!!Total population!!18 years and over!!Female                                                                                                                2029 non-null   object  \n",
      " 252  Percent Margin of Error!!SEX AND AGE!!Total population!!18 years and over!!Female                                                                                                2029 non-null   object  \n",
      " 253  Percent!!SEX AND AGE!!Total population!!18 years and over!!Sex ratio (males per 100 females)                                                                                     2029 non-null   object  \n",
      " 254  Percent Margin of Error!!SEX AND AGE!!Total population!!18 years and over!!Sex ratio (males per 100 females)                                                                     2029 non-null   object  \n",
      " 255  Percent!!SEX AND AGE!!Total population!!65 years and over.1                                                                                                                      2029 non-null   float64 \n",
      " 256  Percent Margin of Error!!SEX AND AGE!!Total population!!65 years and over.1                                                                                                      2029 non-null   object  \n",
      " 257  Percent!!SEX AND AGE!!Total population!!65 years and over!!Male                                                                                                                  2029 non-null   object  \n",
      " 258  Percent Margin of Error!!SEX AND AGE!!Total population!!65 years and over!!Male                                                                                                  2029 non-null   object  \n",
      " 259  Percent!!SEX AND AGE!!Total population!!65 years and over!!Female                                                                                                                2029 non-null   object  \n",
      " 260  Percent Margin of Error!!SEX AND AGE!!Total population!!65 years and over!!Female                                                                                                2029 non-null   object  \n",
      " 261  Percent!!SEX AND AGE!!Total population!!65 years and over!!Sex ratio (males per 100 females)                                                                                     2029 non-null   object  \n",
      " 262  Percent Margin of Error!!SEX AND AGE!!Total population!!65 years and over!!Sex ratio (males per 100 females)                                                                     2029 non-null   object  \n",
      " 263  Percent!!RACE!!Total population                                                                                                                                                  2029 non-null   float64 \n",
      " 264  Percent Margin of Error!!RACE!!Total population                                                                                                                                  2029 non-null   object  \n",
      " 265  Percent!!RACE!!Total population!!One race                                                                                                                                        2029 non-null   object  \n",
      " 266  Percent Margin of Error!!RACE!!Total population!!One race                                                                                                                        2029 non-null   object  \n",
      " 267  Percent!!RACE!!Total population!!Two or More Races                                                                                                                               2029 non-null   object  \n",
      " 268  Percent Margin of Error!!RACE!!Total population!!Two or More Races                                                                                                               2029 non-null   object  \n",
      " 269  Percent!!RACE!!Total population!!One race.1                                                                                                                                      2029 non-null   object  \n",
      " 270  Percent Margin of Error!!RACE!!Total population!!One race.1                                                                                                                      2029 non-null   object  \n",
      " 271  Percent!!RACE!!Total population!!One race!!White                                                                                                                                 2029 non-null   object  \n",
      " 272  Percent Margin of Error!!RACE!!Total population!!One race!!White                                                                                                                 2029 non-null   object  \n",
      " 273  Percent!!RACE!!Total population!!One race!!Black or African American                                                                                                             2029 non-null   object  \n",
      " 274  Percent Margin of Error!!RACE!!Total population!!One race!!Black or African American                                                                                             2029 non-null   object  \n",
      " 275  Percent!!RACE!!Total population!!One race!!American Indian and Alaska Native                                                                                                     2029 non-null   object  \n",
      " 276  Percent Margin of Error!!RACE!!Total population!!One race!!American Indian and Alaska Native                                                                                     2029 non-null   object  \n",
      " 277  Percent!!RACE!!Total population!!One race!!American Indian and Alaska Native!!Cherokee tribal grouping                                                                           2029 non-null   object  \n",
      " 278  Percent Margin of Error!!RACE!!Total population!!One race!!American Indian and Alaska Native!!Cherokee tribal grouping                                                           2029 non-null   object  \n",
      " 279  Percent!!RACE!!Total population!!One race!!American Indian and Alaska Native!!Chippewa tribal grouping                                                                           2029 non-null   object  \n",
      " 280  Percent Margin of Error!!RACE!!Total population!!One race!!American Indian and Alaska Native!!Chippewa tribal grouping                                                           2029 non-null   object  \n",
      " 281  Percent!!RACE!!Total population!!One race!!American Indian and Alaska Native!!Navajo tribal grouping                                                                             2029 non-null   object  \n",
      " 282  Percent Margin of Error!!RACE!!Total population!!One race!!American Indian and Alaska Native!!Navajo tribal grouping                                                             2029 non-null   object  \n",
      " 283  Percent!!RACE!!Total population!!One race!!American Indian and Alaska Native!!Sioux tribal grouping                                                                              2029 non-null   object  \n",
      " 284  Percent Margin of Error!!RACE!!Total population!!One race!!American Indian and Alaska Native!!Sioux tribal grouping                                                              2029 non-null   object  \n",
      " 285  Percent!!RACE!!Total population!!One race!!Asian                                                                                                                                 2029 non-null   object  \n",
      " 286  Percent Margin of Error!!RACE!!Total population!!One race!!Asian                                                                                                                 2029 non-null   object  \n",
      " 287  Percent!!RACE!!Total population!!One race!!Asian!!Asian Indian                                                                                                                   2029 non-null   object  \n",
      " 288  Percent Margin of Error!!RACE!!Total population!!One race!!Asian!!Asian Indian                                                                                                   2029 non-null   object  \n",
      " 289  Percent!!RACE!!Total population!!One race!!Asian!!Chinese                                                                                                                        2029 non-null   object  \n",
      " 290  Percent Margin of Error!!RACE!!Total population!!One race!!Asian!!Chinese                                                                                                        2029 non-null   object  \n",
      " 291  Percent!!RACE!!Total population!!One race!!Asian!!Filipino                                                                                                                       2029 non-null   object  \n",
      " 292  Percent Margin of Error!!RACE!!Total population!!One race!!Asian!!Filipino                                                                                                       2029 non-null   object  \n",
      " 293  Percent!!RACE!!Total population!!One race!!Asian!!Japanese                                                                                                                       2029 non-null   object  \n",
      " 294  Percent Margin of Error!!RACE!!Total population!!One race!!Asian!!Japanese                                                                                                       2029 non-null   object  \n",
      " 295  Percent!!RACE!!Total population!!One race!!Asian!!Korean                                                                                                                         2029 non-null   object  \n",
      " 296  Percent Margin of Error!!RACE!!Total population!!One race!!Asian!!Korean                                                                                                         2029 non-null   object  \n",
      " 297  Percent!!RACE!!Total population!!One race!!Asian!!Vietnamese                                                                                                                     2029 non-null   object  \n",
      " 298  Percent Margin of Error!!RACE!!Total population!!One race!!Asian!!Vietnamese                                                                                                     2029 non-null   object  \n",
      " 299  Percent!!RACE!!Total population!!One race!!Asian!!Other Asian                                                                                                                    2029 non-null   object  \n",
      " 300  Percent Margin of Error!!RACE!!Total population!!One race!!Asian!!Other Asian                                                                                                    2029 non-null   object  \n",
      " 301  Percent!!RACE!!Total population!!One race!!Native Hawaiian and Other Pacific Islander                                                                                            2029 non-null   object  \n",
      " 302  Percent Margin of Error!!RACE!!Total population!!One race!!Native Hawaiian and Other Pacific Islander                                                                            2029 non-null   object  \n",
      " 303  Percent!!RACE!!Total population!!One race!!Native Hawaiian and Other Pacific Islander!!Chamorro                                                                                  2029 non-null   object  \n",
      " 304  Percent Margin of Error!!RACE!!Total population!!One race!!Native Hawaiian and Other Pacific Islander!!Chamorro                                                                  2029 non-null   object  \n",
      " 305  Percent!!RACE!!Total population!!One race!!Native Hawaiian and Other Pacific Islander!!Native Hawaiian                                                                           2029 non-null   object  \n",
      " 306  Percent Margin of Error!!RACE!!Total population!!One race!!Native Hawaiian and Other Pacific Islander!!Native Hawaiian                                                           2029 non-null   object  \n",
      " 307  Percent!!RACE!!Total population!!One race!!Native Hawaiian and Other Pacific Islander!!Samoan                                                                                    2029 non-null   object  \n",
      " 308  Percent Margin of Error!!RACE!!Total population!!One race!!Native Hawaiian and Other Pacific Islander!!Samoan                                                                    2029 non-null   object  \n",
      " 309  Percent!!RACE!!Total population!!One race!!Native Hawaiian and Other Pacific Islander!!Other Native Hawaiian and Other Pacific Islander                                          2029 non-null   object  \n",
      " 310  Percent Margin of Error!!RACE!!Total population!!One race!!Native Hawaiian and Other Pacific Islander!!Other Native Hawaiian and Other Pacific Islander                          2029 non-null   object  \n",
      " 311  Percent!!RACE!!Total population!!One race!!Some Other Race                                                                                                                       2029 non-null   object  \n",
      " 312  Percent Margin of Error!!RACE!!Total population!!One race!!Some Other Race                                                                                                       2029 non-null   object  \n",
      " 313  Percent!!RACE!!Total population!!Two or More Races.1                                                                                                                             2029 non-null   object  \n",
      " 314  Percent Margin of Error!!RACE!!Total population!!Two or More Races.1                                                                                                             2029 non-null   object  \n",
      " 315  Percent!!RACE!!Total population!!Two or More Races!!White and Black or African American                                                                                          2029 non-null   object  \n",
      " 316  Percent Margin of Error!!RACE!!Total population!!Two or More Races!!White and Black or African American                                                                          2029 non-null   object  \n",
      " 317  Percent!!RACE!!Total population!!Two or More Races!!White and American Indian and Alaska Native                                                                                  2029 non-null   object  \n",
      " 318  Percent Margin of Error!!RACE!!Total population!!Two or More Races!!White and American Indian and Alaska Native                                                                  2029 non-null   object  \n",
      " 319  Percent!!RACE!!Total population!!Two or More Races!!White and Asian                                                                                                              2029 non-null   object  \n",
      " 320  Percent Margin of Error!!RACE!!Total population!!Two or More Races!!White and Asian                                                                                              2029 non-null   object  \n",
      " 321  Percent!!RACE!!Total population!!Two or More Races!!White and Some Other Race                                                                                                    2029 non-null   object  \n",
      " 322  Percent Margin of Error!!RACE!!Total population!!Two or More Races!!White and Some Other Race                                                                                    2029 non-null   object  \n",
      " 323  Percent!!RACE!!Total population!!Two or More Races!!Black or African American and American Indian and Alaska Native                                                              2029 non-null   object  \n",
      " 324  Percent Margin of Error!!RACE!!Total population!!Two or More Races!!Black or African American and American Indian and Alaska Native                                              2029 non-null   object  \n",
      " 325  Percent!!RACE!!Total population!!Two or More Races!!Black or African American and Some Other Race                                                                                2029 non-null   object  \n",
      " 326  Percent Margin of Error!!RACE!!Total population!!Two or More Races!!Black or African American and Some Other Race                                                                2029 non-null   object  \n",
      " 327  Percent!!Race alone or in combination with one or more other races!!Total population                                                                                             2029 non-null   float64 \n",
      " 328  Percent Margin of Error!!Race alone or in combination with one or more other races!!Total population                                                                             2029 non-null   object  \n",
      " 329  Percent!!Race alone or in combination with one or more other races!!Total population!!White                                                                                      2029 non-null   object  \n",
      " 330  Percent Margin of Error!!Race alone or in combination with one or more other races!!Total population!!White                                                                      2029 non-null   object  \n",
      " 331  Percent!!Race alone or in combination with one or more other races!!Total population!!Black or African American                                                                  2029 non-null   object  \n",
      " 332  Percent Margin of Error!!Race alone or in combination with one or more other races!!Total population!!Black or African American                                                  2029 non-null   object  \n",
      " 333  Percent!!Race alone or in combination with one or more other races!!Total population!!American Indian and Alaska Native                                                          2029 non-null   object  \n",
      " 334  Percent Margin of Error!!Race alone or in combination with one or more other races!!Total population!!American Indian and Alaska Native                                          2029 non-null   object  \n",
      " 335  Percent!!Race alone or in combination with one or more other races!!Total population!!Asian                                                                                      2029 non-null   object  \n",
      " 336  Percent Margin of Error!!Race alone or in combination with one or more other races!!Total population!!Asian                                                                      2029 non-null   object  \n",
      " 337  Percent!!Race alone or in combination with one or more other races!!Total population!!Native Hawaiian and Other Pacific Islander                                                 2029 non-null   object  \n",
      " 338  Percent Margin of Error!!Race alone or in combination with one or more other races!!Total population!!Native Hawaiian and Other Pacific Islander                                 2029 non-null   object  \n",
      " 339  Percent!!Race alone or in combination with one or more other races!!Total population!!Some Other Race                                                                            2029 non-null   object  \n",
      " 340  Percent Margin of Error!!Race alone or in combination with one or more other races!!Total population!!Some Other Race                                                            2029 non-null   object  \n",
      " 341  Percent!!HISPANIC OR LATINO AND RACE!!Total population                                                                                                                           2029 non-null   float64 \n",
      " 342  Percent Margin of Error!!HISPANIC OR LATINO AND RACE!!Total population                                                                                                           2029 non-null   object  \n",
      " 343  Percent!!HISPANIC OR LATINO AND RACE!!Total population!!Hispanic or Latino (of any race)                                                                                         2029 non-null   object  \n",
      " 344  Percent Margin of Error!!HISPANIC OR LATINO AND RACE!!Total population!!Hispanic or Latino (of any race)                                                                         2029 non-null   object  \n",
      " 345  Percent!!HISPANIC OR LATINO AND RACE!!Total population!!Hispanic or Latino (of any race)!!Mexican                                                                                2029 non-null   object  \n",
      " 346  Percent Margin of Error!!HISPANIC OR LATINO AND RACE!!Total population!!Hispanic or Latino (of any race)!!Mexican                                                                2029 non-null   object  \n",
      " 347  Percent!!HISPANIC OR LATINO AND RACE!!Total population!!Hispanic or Latino (of any race)!!Puerto Rican                                                                           2029 non-null   object  \n",
      " 348  Percent Margin of Error!!HISPANIC OR LATINO AND RACE!!Total population!!Hispanic or Latino (of any race)!!Puerto Rican                                                           2029 non-null   object  \n",
      " 349  Percent!!HISPANIC OR LATINO AND RACE!!Total population!!Hispanic or Latino (of any race)!!Cuban                                                                                  2029 non-null   object  \n",
      " 350  Percent Margin of Error!!HISPANIC OR LATINO AND RACE!!Total population!!Hispanic or Latino (of any race)!!Cuban                                                                  2029 non-null   object  \n",
      " 351  Percent!!HISPANIC OR LATINO AND RACE!!Total population!!Hispanic or Latino (of any race)!!Other Hispanic or Latino                                                               2029 non-null   object  \n",
      " 352  Percent Margin of Error!!HISPANIC OR LATINO AND RACE!!Total population!!Hispanic or Latino (of any race)!!Other Hispanic or Latino                                               2029 non-null   object  \n",
      " 353  Percent!!HISPANIC OR LATINO AND RACE!!Total population!!Not Hispanic or Latino                                                                                                   2029 non-null   object  \n",
      " 354  Percent Margin of Error!!HISPANIC OR LATINO AND RACE!!Total population!!Not Hispanic or Latino                                                                                   2029 non-null   object  \n",
      " 355  Percent!!HISPANIC OR LATINO AND RACE!!Total population!!Not Hispanic or Latino!!White alone                                                                                      2029 non-null   object  \n",
      " 356  Percent Margin of Error!!HISPANIC OR LATINO AND RACE!!Total population!!Not Hispanic or Latino!!White alone                                                                      2029 non-null   object  \n",
      " 357  Percent!!HISPANIC OR LATINO AND RACE!!Total population!!Not Hispanic or Latino!!Black or African American alone                                                                  2029 non-null   object  \n",
      " 358  Percent Margin of Error!!HISPANIC OR LATINO AND RACE!!Total population!!Not Hispanic or Latino!!Black or African American alone                                                  2029 non-null   object  \n",
      " 359  Percent!!HISPANIC OR LATINO AND RACE!!Total population!!Not Hispanic or Latino!!American Indian and Alaska Native alone                                                          2029 non-null   object  \n",
      " 360  Percent Margin of Error!!HISPANIC OR LATINO AND RACE!!Total population!!Not Hispanic or Latino!!American Indian and Alaska Native alone                                          2029 non-null   object  \n",
      " 361  Percent!!HISPANIC OR LATINO AND RACE!!Total population!!Not Hispanic or Latino!!Asian alone                                                                                      2029 non-null   object  \n",
      " 362  Percent Margin of Error!!HISPANIC OR LATINO AND RACE!!Total population!!Not Hispanic or Latino!!Asian alone                                                                      2029 non-null   object  \n",
      " 363  Percent!!HISPANIC OR LATINO AND RACE!!Total population!!Not Hispanic or Latino!!Native Hawaiian and Other Pacific Islander alone                                                 2029 non-null   object  \n",
      " 364  Percent Margin of Error!!HISPANIC OR LATINO AND RACE!!Total population!!Not Hispanic or Latino!!Native Hawaiian and Other Pacific Islander alone                                 2029 non-null   object  \n",
      " 365  Percent!!HISPANIC OR LATINO AND RACE!!Total population!!Not Hispanic or Latino!!Some Other Race alone                                                                            2029 non-null   object  \n",
      " 366  Percent Margin of Error!!HISPANIC OR LATINO AND RACE!!Total population!!Not Hispanic or Latino!!Some Other Race alone                                                            2029 non-null   object  \n",
      " 367  Percent!!HISPANIC OR LATINO AND RACE!!Total population!!Not Hispanic or Latino!!Two or More Races                                                                                2029 non-null   object  \n",
      " 368  Percent Margin of Error!!HISPANIC OR LATINO AND RACE!!Total population!!Not Hispanic or Latino!!Two or More Races                                                                2029 non-null   object  \n",
      " 369  Percent!!HISPANIC OR LATINO AND RACE!!Total population!!Not Hispanic or Latino!!Two or More Races!!Two races including Some Other Race                                           2029 non-null   object  \n",
      " 370  Percent Margin of Error!!HISPANIC OR LATINO AND RACE!!Total population!!Not Hispanic or Latino!!Two or More Races!!Two races including Some Other Race                           2029 non-null   object  \n",
      " 371  Percent!!HISPANIC OR LATINO AND RACE!!Total population!!Not Hispanic or Latino!!Two or More Races!!Two races excluding Some Other Race, and three or more races                  2029 non-null   object  \n",
      " 372  Percent Margin of Error!!HISPANIC OR LATINO AND RACE!!Total population!!Not Hispanic or Latino!!Two or More Races!!Two races excluding Some Other Race, and three or more races  2029 non-null   object  \n",
      " 373  Percent!!Total housing units                                                                                                                                                     2029 non-null   object  \n",
      " 374  Percent Margin of Error!!Total housing units                                                                                                                                     2029 non-null   object  \n",
      " 375  Percent!!CITIZEN, VOTING AGE POPULATION!!Citizen, 18 and over population                                                                                                         2029 non-null   float64 \n",
      " 376  Percent Margin of Error!!CITIZEN, VOTING AGE POPULATION!!Citizen, 18 and over population                                                                                         2029 non-null   object  \n",
      " 377  Percent!!CITIZEN, VOTING AGE POPULATION!!Citizen, 18 and over population!!Male                                                                                                   2029 non-null   object  \n",
      " 378  Percent Margin of Error!!CITIZEN, VOTING AGE POPULATION!!Citizen, 18 and over population!!Male                                                                                   2029 non-null   object  \n",
      " 379  Percent!!CITIZEN, VOTING AGE POPULATION!!Citizen, 18 and over population!!Female                                                                                                 2029 non-null   object  \n",
      " 380  Percent Margin of Error!!CITIZEN, VOTING AGE POPULATION!!Citizen, 18 and over population!!Female                                                                                 2029 non-null   object  \n",
      " 381  geoid20_y                                                                                                                                                                        2029 non-null   float64 \n",
      " 382  tract                                                                                                                                                                            2495 non-null   object  \n",
      " 383  families_all                                                                                                                                                                     2495 non-null   int64   \n",
      " 384  fam_below_200fpl                                                                                                                                                                 2495 non-null   int64   \n",
      " 385  fam_below_300fpl                                                                                                                                                                 2495 non-null   int64   \n",
      " 386  fam_received_ssi_cash_assistanc                                                                                                                                                  2495 non-null   int64   \n",
      " 387  fam_below_fpl_pct                                                                                                                                                                2468 non-null   float64 \n",
      " 388  fam_below_200fpl_pct                                                                                                                                                             2495 non-null   float64 \n",
      " 389  fam_below_300fpl_pct                                                                                                                                                             2495 non-null   float64 \n",
      " 390  fam_received_assistance_pct                                                                                                                                                      2495 non-null   float64 \n",
      " 391  fam_below_fpl_received_assistan                                                                                                                                                  2368 non-null   float64 \n",
      " 392  assistance_per_100_fam_below_20                                                                                                                                                  2495 non-null   float64 \n",
      " 393  assistance_per_100_fam_below_30                                                                                                                                                  2495 non-null   float64 \n",
      " 394  sup_dist                                                                                                                                                                         2495 non-null   object  \n",
      " 395  csa                                                                                                                                                                              2495 non-null   object  \n",
      " 396  spa                                                                                                                                                                              2495 non-null   object  \n",
      " 397  calfresh_cases                                                                                                                                                                   2483 non-null   float64 \n",
      " 398  calfresh_per_100_families                                                                                                                                                        2495 non-null   float64 \n",
      " 399  calfresh_per_100_fam_below_200f                                                                                                                                                  2495 non-null   float64 \n",
      " 400  calfresh_per_100_fam_below_300f                                                                                                                                                  2495 non-null   float64 \n",
      " 401  ESRI_OID                                                                                                                                                                         2495 non-null   int64   \n",
      " 402  Shape__Area                                                                                                                                                                      2495 non-null   float64 \n",
      " 403  Shape__Length                                                                                                                                                                    2495 non-null   float64 \n",
      " 404  geometry_y                                                                                                                                                                       2495 non-null   geometry\n",
      " 405  FIPS_y                                                                                                                                                                           2495 non-null   object  \n",
      "dtypes: float64(209), geometry(1), int64(5), object(191)\n",
      "memory usage: 7.7+ MB\n"
     ]
    }
   ],
   "source": [
    "merge.info(verbose=True,show_counts=True)"
   ]
  },
  {
   "cell_type": "code",
   "execution_count": 122,
   "id": "9d8f9a52-2a54-4c16-aeb4-026cd9dcdd53",
   "metadata": {},
   "outputs": [
    {
     "data": {
      "text/html": [
       "<div>\n",
       "<style scoped>\n",
       "    .dataframe tbody tr th:only-of-type {\n",
       "        vertical-align: middle;\n",
       "    }\n",
       "\n",
       "    .dataframe tbody tr th {\n",
       "        vertical-align: top;\n",
       "    }\n",
       "\n",
       "    .dataframe thead th {\n",
       "        text-align: right;\n",
       "    }\n",
       "</style>\n",
       "<table border=\"1\" class=\"dataframe\">\n",
       "  <thead>\n",
       "    <tr style=\"text-align: right;\">\n",
       "      <th></th>\n",
       "      <th>geoid20_x</th>\n",
       "      <th>ShapeSTArea</th>\n",
       "      <th>ShapeSTLength</th>\n",
       "      <th>geometry_x</th>\n",
       "      <th>pop_below_100_pct</th>\n",
       "      <th>pop_below_200_pct</th>\n",
       "      <th>mental_health_pct</th>\n",
       "      <th>physical_health_pct</th>\n",
       "      <th>diabetes_pct</th>\n",
       "      <th>cancer_pct</th>\n",
       "      <th>...</th>\n",
       "      <th>spa</th>\n",
       "      <th>calfresh_cases</th>\n",
       "      <th>calfresh_per_100_families</th>\n",
       "      <th>calfresh_per_100_fam_below_200f</th>\n",
       "      <th>calfresh_per_100_fam_below_300f</th>\n",
       "      <th>ESRI_OID</th>\n",
       "      <th>Shape__Area</th>\n",
       "      <th>Shape__Length</th>\n",
       "      <th>geometry_y</th>\n",
       "      <th>FIPS_y</th>\n",
       "    </tr>\n",
       "  </thead>\n",
       "  <tbody>\n",
       "    <tr>\n",
       "      <th>0</th>\n",
       "      <td>101110</td>\n",
       "      <td>1.229562e+07</td>\n",
       "      <td>15083.854290</td>\n",
       "      <td>POLYGON ((-118.2979312139962 34.2632268762169,...</td>\n",
       "      <td>11.287386</td>\n",
       "      <td>26.736021</td>\n",
       "      <td>16.309769</td>\n",
       "      <td>10.794954</td>\n",
       "      <td>9.504253</td>\n",
       "      <td>5.485480</td>\n",
       "      <td>...</td>\n",
       "      <td>SPA 2 - San Fernando</td>\n",
       "      <td>504.0</td>\n",
       "      <td>46.5</td>\n",
       "      <td>202.4</td>\n",
       "      <td>111.3</td>\n",
       "      <td>1</td>\n",
       "      <td>1.232981e+07</td>\n",
       "      <td>14765.649004</td>\n",
       "      <td>POLYGON ((-118.30077 34.25961, -118.30077 34.2...</td>\n",
       "      <td>06037101110</td>\n",
       "    </tr>\n",
       "    <tr>\n",
       "      <th>1</th>\n",
       "      <td>101122</td>\n",
       "      <td>2.845774e+07</td>\n",
       "      <td>31671.455840</td>\n",
       "      <td>POLYGON ((-118.27743420965825 34.2599078772977...</td>\n",
       "      <td>4.429760</td>\n",
       "      <td>10.499266</td>\n",
       "      <td>13.911290</td>\n",
       "      <td>8.702957</td>\n",
       "      <td>8.299731</td>\n",
       "      <td>6.283602</td>\n",
       "      <td>...</td>\n",
       "      <td>SPA 2 - San Fernando</td>\n",
       "      <td>210.0</td>\n",
       "      <td>21.3</td>\n",
       "      <td>259.3</td>\n",
       "      <td>116.7</td>\n",
       "      <td>2</td>\n",
       "      <td>2.908866e+07</td>\n",
       "      <td>30028.213771</td>\n",
       "      <td>POLYGON ((-118.30321 34.27334, -118.29971 34.2...</td>\n",
       "      <td>06037101122</td>\n",
       "    </tr>\n",
       "    <tr>\n",
       "      <th>2</th>\n",
       "      <td>101220</td>\n",
       "      <td>7.522093e+06</td>\n",
       "      <td>12698.783810</td>\n",
       "      <td>POLYGON ((-118.27817921018234 34.2557728762786...</td>\n",
       "      <td>16.900661</td>\n",
       "      <td>34.781456</td>\n",
       "      <td>16.807861</td>\n",
       "      <td>11.995934</td>\n",
       "      <td>10.606574</td>\n",
       "      <td>5.489665</td>\n",
       "      <td>...</td>\n",
       "      <td>SPA 2 - San Fernando</td>\n",
       "      <td>393.0</td>\n",
       "      <td>40.9</td>\n",
       "      <td>119.8</td>\n",
       "      <td>85.8</td>\n",
       "      <td>3</td>\n",
       "      <td>7.532651e+06</td>\n",
       "      <td>12504.552130</td>\n",
       "      <td>POLYGON ((-118.28594 34.25228, -118.28594 34.2...</td>\n",
       "      <td>06037101220</td>\n",
       "    </tr>\n",
       "    <tr>\n",
       "      <th>3</th>\n",
       "      <td>101221</td>\n",
       "      <td>3.812000e+06</td>\n",
       "      <td>9161.710543</td>\n",
       "      <td>POLYGON ((-118.28734521088782 34.2559088762374...</td>\n",
       "      <td>20.601543</td>\n",
       "      <td>43.918018</td>\n",
       "      <td>18.384296</td>\n",
       "      <td>12.306531</td>\n",
       "      <td>9.890525</td>\n",
       "      <td>4.605512</td>\n",
       "      <td>...</td>\n",
       "      <td>SPA 2 - San Fernando</td>\n",
       "      <td>501.0</td>\n",
       "      <td>53.6</td>\n",
       "      <td>125.9</td>\n",
       "      <td>91.9</td>\n",
       "      <td>4</td>\n",
       "      <td>3.874399e+06</td>\n",
       "      <td>8938.421349</td>\n",
       "      <td>POLYGON ((-118.29946 34.25598, -118.29319 34.2...</td>\n",
       "      <td>06037101221</td>\n",
       "    </tr>\n",
       "    <tr>\n",
       "      <th>4</th>\n",
       "      <td>101222</td>\n",
       "      <td>3.191371e+06</td>\n",
       "      <td>9980.600461</td>\n",
       "      <td>POLYGON ((-118.28593621132488 34.2558998758872...</td>\n",
       "      <td>38.019875</td>\n",
       "      <td>66.654396</td>\n",
       "      <td>18.394951</td>\n",
       "      <td>12.308386</td>\n",
       "      <td>9.918846</td>\n",
       "      <td>4.598738</td>\n",
       "      <td>...</td>\n",
       "      <td>SPA 2 - San Fernando</td>\n",
       "      <td>401.0</td>\n",
       "      <td>58.9</td>\n",
       "      <td>86.8</td>\n",
       "      <td>71.9</td>\n",
       "      <td>5</td>\n",
       "      <td>3.090538e+06</td>\n",
       "      <td>9750.960420</td>\n",
       "      <td>POLYGON ((-118.29319 34.25233, -118.28863 34.2...</td>\n",
       "      <td>06037101222</td>\n",
       "    </tr>\n",
       "    <tr>\n",
       "      <th>...</th>\n",
       "      <td>...</td>\n",
       "      <td>...</td>\n",
       "      <td>...</td>\n",
       "      <td>...</td>\n",
       "      <td>...</td>\n",
       "      <td>...</td>\n",
       "      <td>...</td>\n",
       "      <td>...</td>\n",
       "      <td>...</td>\n",
       "      <td>...</td>\n",
       "      <td>...</td>\n",
       "      <td>...</td>\n",
       "      <td>...</td>\n",
       "      <td>...</td>\n",
       "      <td>...</td>\n",
       "      <td>...</td>\n",
       "      <td>...</td>\n",
       "      <td>...</td>\n",
       "      <td>...</td>\n",
       "      <td>...</td>\n",
       "      <td>...</td>\n",
       "    </tr>\n",
       "    <tr>\n",
       "      <th>2490</th>\n",
       "      <td>577200</td>\n",
       "      <td>3.763257e+07</td>\n",
       "      <td>29676.510890</td>\n",
       "      <td>POLYGON ((-118.15164014868971 33.7662598291107...</td>\n",
       "      <td>10.819729</td>\n",
       "      <td>17.558180</td>\n",
       "      <td>14.794112</td>\n",
       "      <td>7.098938</td>\n",
       "      <td>5.906466</td>\n",
       "      <td>5.105273</td>\n",
       "      <td>...</td>\n",
       "      <td>SPA 8 - South Bay</td>\n",
       "      <td>197.0</td>\n",
       "      <td>17.8</td>\n",
       "      <td>185.8</td>\n",
       "      <td>87.2</td>\n",
       "      <td>2046</td>\n",
       "      <td>9.192743e+06</td>\n",
       "      <td>13068.708351</td>\n",
       "      <td>POLYGON ((-118.15546 33.76413, -118.15459 33.7...</td>\n",
       "      <td>06037577200</td>\n",
       "    </tr>\n",
       "    <tr>\n",
       "      <th>2491</th>\n",
       "      <td>577300</td>\n",
       "      <td>3.454461e+07</td>\n",
       "      <td>26605.219290</td>\n",
       "      <td>POLYGON ((-118.1326921444076 33.7530458289731,...</td>\n",
       "      <td>4.683590</td>\n",
       "      <td>10.958170</td>\n",
       "      <td>14.306240</td>\n",
       "      <td>5.993432</td>\n",
       "      <td>4.802956</td>\n",
       "      <td>4.495074</td>\n",
       "      <td>...</td>\n",
       "      <td>SPA 8 - South Bay</td>\n",
       "      <td>194.0</td>\n",
       "      <td>18.8</td>\n",
       "      <td>524.3</td>\n",
       "      <td>206.4</td>\n",
       "      <td>2047</td>\n",
       "      <td>8.753222e+06</td>\n",
       "      <td>12674.194794</td>\n",
       "      <td>POLYGON ((-118.14588 33.76067, -118.14516 33.7...</td>\n",
       "      <td>06037577300</td>\n",
       "    </tr>\n",
       "    <tr>\n",
       "      <th>2492</th>\n",
       "      <td>577504</td>\n",
       "      <td>4.154029e+07</td>\n",
       "      <td>30008.423940</td>\n",
       "      <td>POLYGON ((-118.13009214414437 33.7544698295901...</td>\n",
       "      <td>12.464788</td>\n",
       "      <td>19.295774</td>\n",
       "      <td>13.001605</td>\n",
       "      <td>8.025682</td>\n",
       "      <td>7.463884</td>\n",
       "      <td>7.303371</td>\n",
       "      <td>...</td>\n",
       "      <td>SPA 8 - South Bay</td>\n",
       "      <td>27.0</td>\n",
       "      <td>8.8</td>\n",
       "      <td>180.0</td>\n",
       "      <td>57.4</td>\n",
       "      <td>2050</td>\n",
       "      <td>6.017113e+06</td>\n",
       "      <td>16934.855734</td>\n",
       "      <td>POLYGON ((-118.13208 33.75527, -118.13014 33.7...</td>\n",
       "      <td>06037577504</td>\n",
       "    </tr>\n",
       "    <tr>\n",
       "      <th>2493</th>\n",
       "      <td>599100</td>\n",
       "      <td>3.618834e+09</td>\n",
       "      <td>792259.729400</td>\n",
       "      <td>NaN</td>\n",
       "      <td>17.596567</td>\n",
       "      <td>26.609442</td>\n",
       "      <td>NaN</td>\n",
       "      <td>NaN</td>\n",
       "      <td>NaN</td>\n",
       "      <td>NaN</td>\n",
       "      <td>...</td>\n",
       "      <td>SPA 8 - South Bay</td>\n",
       "      <td>2.0</td>\n",
       "      <td>3.8</td>\n",
       "      <td>16.7</td>\n",
       "      <td>8.3</td>\n",
       "      <td>2061</td>\n",
       "      <td>3.698756e+09</td>\n",
       "      <td>554591.259931</td>\n",
       "      <td>MULTIPOLYGON (((-118.60443 33.47856, -118.5988...</td>\n",
       "      <td>06037599100</td>\n",
       "    </tr>\n",
       "    <tr>\n",
       "      <th>2494</th>\n",
       "      <td>599000</td>\n",
       "      <td>4.140374e+07</td>\n",
       "      <td>30722.660050</td>\n",
       "      <td>POLYGON ((-118.33162915779049 33.3563367214137...</td>\n",
       "      <td>10.739532</td>\n",
       "      <td>24.333878</td>\n",
       "      <td>15.487218</td>\n",
       "      <td>11.004076</td>\n",
       "      <td>9.892552</td>\n",
       "      <td>5.816969</td>\n",
       "      <td>...</td>\n",
       "      <td>SPA 8 - South Bay</td>\n",
       "      <td>114.0</td>\n",
       "      <td>10.4</td>\n",
       "      <td>53.8</td>\n",
       "      <td>31.2</td>\n",
       "      <td>2060</td>\n",
       "      <td>3.566450e+07</td>\n",
       "      <td>28399.116302</td>\n",
       "      <td>POLYGON ((-118.34352 33.34031, -118.33722 33.3...</td>\n",
       "      <td>06037599000</td>\n",
       "    </tr>\n",
       "  </tbody>\n",
       "</table>\n",
       "<p>2495 rows × 406 columns</p>\n",
       "</div>"
      ],
      "text/plain": [
       "     geoid20_x   ShapeSTArea  ShapeSTLength  \\\n",
       "0       101110  1.229562e+07   15083.854290   \n",
       "1       101122  2.845774e+07   31671.455840   \n",
       "2       101220  7.522093e+06   12698.783810   \n",
       "3       101221  3.812000e+06    9161.710543   \n",
       "4       101222  3.191371e+06    9980.600461   \n",
       "...        ...           ...            ...   \n",
       "2490    577200  3.763257e+07   29676.510890   \n",
       "2491    577300  3.454461e+07   26605.219290   \n",
       "2492    577504  4.154029e+07   30008.423940   \n",
       "2493    599100  3.618834e+09  792259.729400   \n",
       "2494    599000  4.140374e+07   30722.660050   \n",
       "\n",
       "                                             geometry_x  pop_below_100_pct  \\\n",
       "0     POLYGON ((-118.2979312139962 34.2632268762169,...          11.287386   \n",
       "1     POLYGON ((-118.27743420965825 34.2599078772977...           4.429760   \n",
       "2     POLYGON ((-118.27817921018234 34.2557728762786...          16.900661   \n",
       "3     POLYGON ((-118.28734521088782 34.2559088762374...          20.601543   \n",
       "4     POLYGON ((-118.28593621132488 34.2558998758872...          38.019875   \n",
       "...                                                 ...                ...   \n",
       "2490  POLYGON ((-118.15164014868971 33.7662598291107...          10.819729   \n",
       "2491  POLYGON ((-118.1326921444076 33.7530458289731,...           4.683590   \n",
       "2492  POLYGON ((-118.13009214414437 33.7544698295901...          12.464788   \n",
       "2493                                                NaN          17.596567   \n",
       "2494  POLYGON ((-118.33162915779049 33.3563367214137...          10.739532   \n",
       "\n",
       "      pop_below_200_pct  mental_health_pct  physical_health_pct  diabetes_pct  \\\n",
       "0             26.736021          16.309769            10.794954      9.504253   \n",
       "1             10.499266          13.911290             8.702957      8.299731   \n",
       "2             34.781456          16.807861            11.995934     10.606574   \n",
       "3             43.918018          18.384296            12.306531      9.890525   \n",
       "4             66.654396          18.394951            12.308386      9.918846   \n",
       "...                 ...                ...                  ...           ...   \n",
       "2490          17.558180          14.794112             7.098938      5.906466   \n",
       "2491          10.958170          14.306240             5.993432      4.802956   \n",
       "2492          19.295774          13.001605             8.025682      7.463884   \n",
       "2493          26.609442                NaN                  NaN           NaN   \n",
       "2494          24.333878          15.487218            11.004076      9.892552   \n",
       "\n",
       "      cancer_pct  ...                   spa  calfresh_cases  \\\n",
       "0       5.485480  ...  SPA 2 - San Fernando           504.0   \n",
       "1       6.283602  ...  SPA 2 - San Fernando           210.0   \n",
       "2       5.489665  ...  SPA 2 - San Fernando           393.0   \n",
       "3       4.605512  ...  SPA 2 - San Fernando           501.0   \n",
       "4       4.598738  ...  SPA 2 - San Fernando           401.0   \n",
       "...          ...  ...                   ...             ...   \n",
       "2490    5.105273  ...     SPA 8 - South Bay           197.0   \n",
       "2491    4.495074  ...     SPA 8 - South Bay           194.0   \n",
       "2492    7.303371  ...     SPA 8 - South Bay            27.0   \n",
       "2493         NaN  ...     SPA 8 - South Bay             2.0   \n",
       "2494    5.816969  ...     SPA 8 - South Bay           114.0   \n",
       "\n",
       "      calfresh_per_100_families  calfresh_per_100_fam_below_200f  \\\n",
       "0                          46.5                            202.4   \n",
       "1                          21.3                            259.3   \n",
       "2                          40.9                            119.8   \n",
       "3                          53.6                            125.9   \n",
       "4                          58.9                             86.8   \n",
       "...                         ...                              ...   \n",
       "2490                       17.8                            185.8   \n",
       "2491                       18.8                            524.3   \n",
       "2492                        8.8                            180.0   \n",
       "2493                        3.8                             16.7   \n",
       "2494                       10.4                             53.8   \n",
       "\n",
       "      calfresh_per_100_fam_below_300f  ESRI_OID   Shape__Area  Shape__Length  \\\n",
       "0                               111.3         1  1.232981e+07   14765.649004   \n",
       "1                               116.7         2  2.908866e+07   30028.213771   \n",
       "2                                85.8         3  7.532651e+06   12504.552130   \n",
       "3                                91.9         4  3.874399e+06    8938.421349   \n",
       "4                                71.9         5  3.090538e+06    9750.960420   \n",
       "...                               ...       ...           ...            ...   \n",
       "2490                             87.2      2046  9.192743e+06   13068.708351   \n",
       "2491                            206.4      2047  8.753222e+06   12674.194794   \n",
       "2492                             57.4      2050  6.017113e+06   16934.855734   \n",
       "2493                              8.3      2061  3.698756e+09  554591.259931   \n",
       "2494                             31.2      2060  3.566450e+07   28399.116302   \n",
       "\n",
       "                                             geometry_y       FIPS_y  \n",
       "0     POLYGON ((-118.30077 34.25961, -118.30077 34.2...  06037101110  \n",
       "1     POLYGON ((-118.30321 34.27334, -118.29971 34.2...  06037101122  \n",
       "2     POLYGON ((-118.28594 34.25228, -118.28594 34.2...  06037101220  \n",
       "3     POLYGON ((-118.29946 34.25598, -118.29319 34.2...  06037101221  \n",
       "4     POLYGON ((-118.29319 34.25233, -118.28863 34.2...  06037101222  \n",
       "...                                                 ...          ...  \n",
       "2490  POLYGON ((-118.15546 33.76413, -118.15459 33.7...  06037577200  \n",
       "2491  POLYGON ((-118.14588 33.76067, -118.14516 33.7...  06037577300  \n",
       "2492  POLYGON ((-118.13208 33.75527, -118.13014 33.7...  06037577504  \n",
       "2493  MULTIPOLYGON (((-118.60443 33.47856, -118.5988...  06037599100  \n",
       "2494  POLYGON ((-118.34352 33.34031, -118.33722 33.3...  06037599000  \n",
       "\n",
       "[2495 rows x 406 columns]"
      ]
     },
     "execution_count": 122,
     "metadata": {},
     "output_type": "execute_result"
    }
   ],
   "source": [
    "merge"
   ]
  },
  {
   "cell_type": "code",
   "execution_count": 123,
   "id": "fb1aee8f-c484-4de8-9e97-b6e6be210857",
   "metadata": {},
   "outputs": [
    {
     "name": "stdout",
     "output_type": "stream",
     "text": [
      "<class 'pandas.core.frame.DataFrame'>\n",
      "RangeIndex: 2495 entries, 0 to 2494\n",
      "Columns: 406 entries, geoid20_x to FIPS_y\n",
      "dtypes: float64(209), geometry(1), int64(5), object(191)\n",
      "memory usage: 7.7+ MB\n"
     ]
    }
   ],
   "source": [
    "merge.info()"
   ]
  },
  {
   "cell_type": "code",
   "execution_count": 124,
   "id": "4346f041-e223-4c69-ab18-8f9bffb858aa",
   "metadata": {},
   "outputs": [],
   "source": [
    "merge['TRACTCE']=merge['tract']"
   ]
  },
  {
   "cell_type": "code",
   "execution_count": 125,
   "id": "c0136bf2-5aa4-42de-9024-b1dc9db10683",
   "metadata": {},
   "outputs": [],
   "source": [
    "merge['Age Total population'] = merge['Estimate!!SEX AND AGE!!Total population']"
   ]
  },
  {
   "cell_type": "code",
   "execution_count": 126,
   "id": "66b90080-218e-4249-8377-db3f8d7174f9",
   "metadata": {},
   "outputs": [],
   "source": [
    "merge['Under 18 years'] = merge['Estimate!!SEX AND AGE!!Total population!!Under 18 years']"
   ]
  },
  {
   "cell_type": "code",
   "execution_count": 127,
   "id": "f64f45dd-e049-4986-93c5-9f4df7c2ae10",
   "metadata": {},
   "outputs": [],
   "source": [
    "merge['Percent Under 18 years'] = merge['Percent!!SEX AND AGE!!Total population!!Under 18 years']"
   ]
  },
  {
   "cell_type": "code",
   "execution_count": 128,
   "id": "2694d814-862c-4994-8605-053587c03ddc",
   "metadata": {},
   "outputs": [],
   "source": [
    "merge['0-19 years'] = merge['Estimate!!SEX AND AGE!!Total population!!Under 5 years'] + merge['Estimate!!SEX AND AGE!!Total population!!5 to 9 years'] + merge['Estimate!!SEX AND AGE!!Total population!!10 to 14 years'] + merge['Estimate!!SEX AND AGE!!Total population!!15 to 19 years'] "
   ]
  },
  {
   "cell_type": "code",
   "execution_count": 129,
   "id": "edde9dfb-27a6-41f1-ba45-45b8ad6d1067",
   "metadata": {},
   "outputs": [],
   "source": [
    "merge['65 years and over'] = merge['Estimate!!SEX AND AGE!!Total population!!65 years and over']"
   ]
  },
  {
   "cell_type": "code",
   "execution_count": 130,
   "id": "4e103630-9cc6-489b-9f4a-2b2bb51adcfb",
   "metadata": {},
   "outputs": [],
   "source": [
    "merge['Percent 65 years and over'] = merge['Percent!!SEX AND AGE!!Total population!!65 years and over']"
   ]
  },
  {
   "cell_type": "code",
   "execution_count": 131,
   "id": "133a6faa-16bf-46cd-aca6-5535040f1105",
   "metadata": {},
   "outputs": [],
   "source": [
    "merge['85 years and over'] = merge['Estimate!!SEX AND AGE!!Total population!!85 years and over']"
   ]
  },
  {
   "cell_type": "code",
   "execution_count": 132,
   "id": "0d58dd85-2a9f-463e-af86-4a82bd92e698",
   "metadata": {},
   "outputs": [],
   "source": [
    "merge['Hispanic or Latino'] = merge['Estimate!!HISPANIC OR LATINO AND RACE!!Total population!!Hispanic or Latino (of any race)']"
   ]
  },
  {
   "cell_type": "code",
   "execution_count": 133,
   "id": "f8ad5dc5-c3df-4546-bb4e-e30a931b6ba8",
   "metadata": {},
   "outputs": [],
   "source": [
    "merge['Percent Hispanic or Latino'] = merge['Percent!!HISPANIC OR LATINO AND RACE!!Total population!!Hispanic or Latino (of any race)']"
   ]
  },
  {
   "cell_type": "code",
   "execution_count": 134,
   "id": "a27bfae0-0e9e-4379-9816-8d32a2400db3",
   "metadata": {},
   "outputs": [],
   "source": [
    "merge['Not Hispanic or Latino'] = merge['Estimate!!HISPANIC OR LATINO AND RACE!!Total population!!Not Hispanic or Latino']"
   ]
  },
  {
   "cell_type": "code",
   "execution_count": 144,
   "id": "41117a30-91da-4065-8be7-67409e0f4b53",
   "metadata": {},
   "outputs": [
    {
     "data": {
      "text/html": [
       "<div>\n",
       "<style scoped>\n",
       "    .dataframe tbody tr th:only-of-type {\n",
       "        vertical-align: middle;\n",
       "    }\n",
       "\n",
       "    .dataframe tbody tr th {\n",
       "        vertical-align: top;\n",
       "    }\n",
       "\n",
       "    .dataframe thead th {\n",
       "        text-align: right;\n",
       "    }\n",
       "</style>\n",
       "<table border=\"1\" class=\"dataframe\">\n",
       "  <thead>\n",
       "    <tr style=\"text-align: right;\">\n",
       "      <th></th>\n",
       "      <th>geoid20_x</th>\n",
       "      <th>ShapeSTArea</th>\n",
       "      <th>ShapeSTLength</th>\n",
       "      <th>geometry_x</th>\n",
       "      <th>pop_below_100_pct</th>\n",
       "      <th>pop_below_200_pct</th>\n",
       "      <th>mental_health_pct</th>\n",
       "      <th>physical_health_pct</th>\n",
       "      <th>diabetes_pct</th>\n",
       "      <th>cancer_pct</th>\n",
       "      <th>...</th>\n",
       "      <th>Age Total population</th>\n",
       "      <th>Under 18 years</th>\n",
       "      <th>Percent Under 18 years</th>\n",
       "      <th>0-19 years</th>\n",
       "      <th>65 years and over</th>\n",
       "      <th>Percent 65 years and over</th>\n",
       "      <th>85 years and over</th>\n",
       "      <th>Hispanic or Latino</th>\n",
       "      <th>Percent Hispanic or Latino</th>\n",
       "      <th>Not Hispanic or Latino</th>\n",
       "    </tr>\n",
       "  </thead>\n",
       "  <tbody>\n",
       "    <tr>\n",
       "      <th>0</th>\n",
       "      <td>101110</td>\n",
       "      <td>1.229562e+07</td>\n",
       "      <td>15083.854290</td>\n",
       "      <td>POLYGON ((-118.2979312139962 34.2632268762169,...</td>\n",
       "      <td>11.287386</td>\n",
       "      <td>26.736021</td>\n",
       "      <td>16.309769</td>\n",
       "      <td>10.794954</td>\n",
       "      <td>9.504253</td>\n",
       "      <td>5.485480</td>\n",
       "      <td>...</td>\n",
       "      <td>4014.0</td>\n",
       "      <td>595.0</td>\n",
       "      <td>14.8</td>\n",
       "      <td>716.0</td>\n",
       "      <td>840.0</td>\n",
       "      <td>20.9</td>\n",
       "      <td>34.0</td>\n",
       "      <td>1082.0</td>\n",
       "      <td>27.0</td>\n",
       "      <td>2932.0</td>\n",
       "    </tr>\n",
       "    <tr>\n",
       "      <th>1</th>\n",
       "      <td>101122</td>\n",
       "      <td>2.845774e+07</td>\n",
       "      <td>31671.455840</td>\n",
       "      <td>POLYGON ((-118.27743420965825 34.2599078772977...</td>\n",
       "      <td>4.429760</td>\n",
       "      <td>10.499266</td>\n",
       "      <td>13.911290</td>\n",
       "      <td>8.702957</td>\n",
       "      <td>8.299731</td>\n",
       "      <td>6.283602</td>\n",
       "      <td>...</td>\n",
       "      <td>4164.0</td>\n",
       "      <td>665.0</td>\n",
       "      <td>16.0</td>\n",
       "      <td>729.0</td>\n",
       "      <td>909.0</td>\n",
       "      <td>21.8</td>\n",
       "      <td>149.0</td>\n",
       "      <td>362.0</td>\n",
       "      <td>8.7</td>\n",
       "      <td>3802.0</td>\n",
       "    </tr>\n",
       "    <tr>\n",
       "      <th>2</th>\n",
       "      <td>101220</td>\n",
       "      <td>7.522093e+06</td>\n",
       "      <td>12698.783810</td>\n",
       "      <td>POLYGON ((-118.27817921018234 34.2557728762786...</td>\n",
       "      <td>16.900661</td>\n",
       "      <td>34.781456</td>\n",
       "      <td>16.807861</td>\n",
       "      <td>11.995934</td>\n",
       "      <td>10.606574</td>\n",
       "      <td>5.489665</td>\n",
       "      <td>...</td>\n",
       "      <td>3481.0</td>\n",
       "      <td>596.0</td>\n",
       "      <td>17.1</td>\n",
       "      <td>686.0</td>\n",
       "      <td>569.0</td>\n",
       "      <td>16.3</td>\n",
       "      <td>39.0</td>\n",
       "      <td>1463.0</td>\n",
       "      <td>42.0</td>\n",
       "      <td>2018.0</td>\n",
       "    </tr>\n",
       "    <tr>\n",
       "      <th>3</th>\n",
       "      <td>101221</td>\n",
       "      <td>3.812000e+06</td>\n",
       "      <td>9161.710543</td>\n",
       "      <td>POLYGON ((-118.28734521088782 34.2559088762374...</td>\n",
       "      <td>20.601543</td>\n",
       "      <td>43.918018</td>\n",
       "      <td>18.384296</td>\n",
       "      <td>12.306531</td>\n",
       "      <td>9.890525</td>\n",
       "      <td>4.605512</td>\n",
       "      <td>...</td>\n",
       "      <td>3756.0</td>\n",
       "      <td>694.0</td>\n",
       "      <td>18.5</td>\n",
       "      <td>805.0</td>\n",
       "      <td>733.0</td>\n",
       "      <td>19.5</td>\n",
       "      <td>182.0</td>\n",
       "      <td>1204.0</td>\n",
       "      <td>32.1</td>\n",
       "      <td>2552.0</td>\n",
       "    </tr>\n",
       "    <tr>\n",
       "      <th>4</th>\n",
       "      <td>101222</td>\n",
       "      <td>3.191371e+06</td>\n",
       "      <td>9980.600461</td>\n",
       "      <td>POLYGON ((-118.28593621132488 34.2558998758872...</td>\n",
       "      <td>38.019875</td>\n",
       "      <td>66.654396</td>\n",
       "      <td>18.394951</td>\n",
       "      <td>12.308386</td>\n",
       "      <td>9.918846</td>\n",
       "      <td>4.598738</td>\n",
       "      <td>...</td>\n",
       "      <td>2808.0</td>\n",
       "      <td>512.0</td>\n",
       "      <td>18.2</td>\n",
       "      <td>542.0</td>\n",
       "      <td>459.0</td>\n",
       "      <td>16.3</td>\n",
       "      <td>70.0</td>\n",
       "      <td>1295.0</td>\n",
       "      <td>46.1</td>\n",
       "      <td>1513.0</td>\n",
       "    </tr>\n",
       "  </tbody>\n",
       "</table>\n",
       "<p>5 rows × 417 columns</p>\n",
       "</div>"
      ],
      "text/plain": [
       "  geoid20_x   ShapeSTArea  ShapeSTLength  \\\n",
       "0    101110  1.229562e+07   15083.854290   \n",
       "1    101122  2.845774e+07   31671.455840   \n",
       "2    101220  7.522093e+06   12698.783810   \n",
       "3    101221  3.812000e+06    9161.710543   \n",
       "4    101222  3.191371e+06    9980.600461   \n",
       "\n",
       "                                          geometry_x  pop_below_100_pct  \\\n",
       "0  POLYGON ((-118.2979312139962 34.2632268762169,...          11.287386   \n",
       "1  POLYGON ((-118.27743420965825 34.2599078772977...           4.429760   \n",
       "2  POLYGON ((-118.27817921018234 34.2557728762786...          16.900661   \n",
       "3  POLYGON ((-118.28734521088782 34.2559088762374...          20.601543   \n",
       "4  POLYGON ((-118.28593621132488 34.2558998758872...          38.019875   \n",
       "\n",
       "   pop_below_200_pct  mental_health_pct  physical_health_pct  diabetes_pct  \\\n",
       "0          26.736021          16.309769            10.794954      9.504253   \n",
       "1          10.499266          13.911290             8.702957      8.299731   \n",
       "2          34.781456          16.807861            11.995934     10.606574   \n",
       "3          43.918018          18.384296            12.306531      9.890525   \n",
       "4          66.654396          18.394951            12.308386      9.918846   \n",
       "\n",
       "   cancer_pct  ...  Age Total population  Under 18 years  \\\n",
       "0    5.485480  ...                4014.0           595.0   \n",
       "1    6.283602  ...                4164.0           665.0   \n",
       "2    5.489665  ...                3481.0           596.0   \n",
       "3    4.605512  ...                3756.0           694.0   \n",
       "4    4.598738  ...                2808.0           512.0   \n",
       "\n",
       "   Percent Under 18 years  0-19 years  65 years and over  \\\n",
       "0                    14.8       716.0              840.0   \n",
       "1                    16.0       729.0              909.0   \n",
       "2                    17.1       686.0              569.0   \n",
       "3                    18.5       805.0              733.0   \n",
       "4                    18.2       542.0              459.0   \n",
       "\n",
       "   Percent 65 years and over 85 years and over  Hispanic or Latino  \\\n",
       "0                       20.9              34.0              1082.0   \n",
       "1                       21.8             149.0               362.0   \n",
       "2                       16.3              39.0              1463.0   \n",
       "3                       19.5             182.0              1204.0   \n",
       "4                       16.3              70.0              1295.0   \n",
       "\n",
       "   Percent Hispanic or Latino  Not Hispanic or Latino  \n",
       "0                        27.0                  2932.0  \n",
       "1                         8.7                  3802.0  \n",
       "2                        42.0                  2018.0  \n",
       "3                        32.1                  2552.0  \n",
       "4                        46.1                  1513.0  \n",
       "\n",
       "[5 rows x 417 columns]"
      ]
     },
     "execution_count": 144,
     "metadata": {},
     "output_type": "execute_result"
    }
   ],
   "source": [
    "merge.head()"
   ]
  },
  {
   "cell_type": "code",
   "execution_count": 145,
   "id": "55c9924f-343e-42c0-9603-710b0db38d4b",
   "metadata": {},
   "outputs": [],
   "source": [
    "merge = merge.drop('Estimate!!SEX AND AGE!!Total population', axis=1)"
   ]
  },
  {
   "cell_type": "code",
   "execution_count": 146,
   "id": "9ef888fe-d366-44a5-9c69-18bbfbf9bf0e",
   "metadata": {},
   "outputs": [],
   "source": [
    "merge = merge.drop('Margin of Error!!SEX AND AGE!!Total population', axis=1)"
   ]
  },
  {
   "cell_type": "code",
   "execution_count": 147,
   "id": "7e791147-f899-44bf-915b-a5e548e44e50",
   "metadata": {},
   "outputs": [],
   "source": [
    "merge = merge.drop('Estimate!!SEX AND AGE!!Total population!!Male', axis=1)"
   ]
  },
  {
   "cell_type": "code",
   "execution_count": 148,
   "id": "48aa4e74-0dc9-4e6a-8082-1df5bb24a384",
   "metadata": {},
   "outputs": [],
   "source": [
    "merge = merge.drop('Margin of Error!!SEX AND AGE!!Total population!!Male',axis=1)"
   ]
  },
  {
   "cell_type": "code",
   "execution_count": 149,
   "id": "4d46e557-4562-4890-a69a-cc6238750069",
   "metadata": {},
   "outputs": [],
   "source": [
    "merge = merge.drop('Estimate!!SEX AND AGE!!Total population!!Female',axis=1)"
   ]
  },
  {
   "cell_type": "code",
   "execution_count": 150,
   "id": "48c3e10e-5536-4548-ac72-3c9797fe3333",
   "metadata": {},
   "outputs": [],
   "source": [
    "merge = merge.drop('Margin of Error!!SEX AND AGE!!Total population!!Female',axis=1)"
   ]
  },
  {
   "cell_type": "code",
   "execution_count": 151,
   "id": "63eb1086-c89a-41a1-befe-8a54dea320ce",
   "metadata": {},
   "outputs": [],
   "source": [
    "merge = merge.drop('Estimate!!SEX AND AGE!!Total population!!Sex ratio (males per 100 females)',axis=1)"
   ]
  },
  {
   "cell_type": "code",
   "execution_count": 152,
   "id": "450b4037-1862-4864-ba1a-551c618eba11",
   "metadata": {},
   "outputs": [],
   "source": [
    "merge = merge.drop('Margin of Error!!SEX AND AGE!!Total population!!Sex ratio (males per 100 females)',axis=1)"
   ]
  },
  {
   "cell_type": "code",
   "execution_count": 153,
   "id": "42e65557-ab67-4386-bbe6-da3e78ad37ee",
   "metadata": {},
   "outputs": [],
   "source": [
    "merge = merge.drop('Estimate!!SEX AND AGE!!Total population!!Under 5 years',axis=1)"
   ]
  },
  {
   "cell_type": "code",
   "execution_count": 154,
   "id": "e9b48732-faef-4f17-83f7-82aac5cc0a93",
   "metadata": {},
   "outputs": [],
   "source": [
    "merge = merge.drop('Margin of Error!!SEX AND AGE!!Total population!!Under 5 years',axis=1)"
   ]
  },
  {
   "cell_type": "code",
   "execution_count": 155,
   "id": "5bd0120b-856a-442a-84f2-52c5d6e1755e",
   "metadata": {},
   "outputs": [],
   "source": [
    "merge = merge.drop('Estimate!!SEX AND AGE!!Total population!!5 to 9 years',axis=1)"
   ]
  },
  {
   "cell_type": "code",
   "execution_count": 156,
   "id": "a8972705-e280-4c8b-a31a-181ef118a277",
   "metadata": {},
   "outputs": [],
   "source": [
    "merge = merge.drop('Margin of Error!!SEX AND AGE!!Total population!!5 to 9 years',axis=1)"
   ]
  },
  {
   "cell_type": "code",
   "execution_count": 157,
   "id": "4ce5bd14-dca9-4d3b-b27f-f707966980ae",
   "metadata": {},
   "outputs": [],
   "source": [
    "merge = merge.drop('Estimate!!SEX AND AGE!!Total population!!10 to 14 years',axis=1)"
   ]
  },
  {
   "cell_type": "code",
   "execution_count": 158,
   "id": "456df919-fc90-435f-9e1b-4138005cbc94",
   "metadata": {},
   "outputs": [],
   "source": [
    "merge = merge.drop('Margin of Error!!SEX AND AGE!!Total population!!10 to 14 years',axis=1)"
   ]
  },
  {
   "cell_type": "code",
   "execution_count": 159,
   "id": "3cf39c74-156d-4c6d-acf2-a61dd7fcbb50",
   "metadata": {},
   "outputs": [],
   "source": [
    "merge = merge.drop('Estimate!!SEX AND AGE!!Total population!!15 to 19 years',axis=1)"
   ]
  },
  {
   "cell_type": "code",
   "execution_count": 160,
   "id": "9e8db204-ee90-452f-9243-62aeed178657",
   "metadata": {},
   "outputs": [],
   "source": [
    "merge = merge.drop('Margin of Error!!SEX AND AGE!!Total population!!15 to 19 years',axis=1)"
   ]
  },
  {
   "cell_type": "code",
   "execution_count": 161,
   "id": "a3372a64-60b1-4372-bb60-514a4d549d30",
   "metadata": {},
   "outputs": [],
   "source": [
    "merge = merge.drop('Estimate!!SEX AND AGE!!Total population!!20 to 24 years',axis=1)"
   ]
  },
  {
   "cell_type": "code",
   "execution_count": 162,
   "id": "8ecc01f5-51a2-4629-ace4-c50056a5f3a2",
   "metadata": {},
   "outputs": [],
   "source": [
    "merge = merge.drop('Margin of Error!!SEX AND AGE!!Total population!!20 to 24 years',axis=1)"
   ]
  },
  {
   "cell_type": "code",
   "execution_count": 163,
   "id": "f386873d-17e0-4944-ba7e-3c972fac8ec7",
   "metadata": {},
   "outputs": [],
   "source": [
    "merge = merge.drop('Estimate!!SEX AND AGE!!Total population!!25 to 34 years',axis=1)"
   ]
  },
  {
   "cell_type": "code",
   "execution_count": 164,
   "id": "a2eb092d-2eb5-4705-b049-b9dc01eb4959",
   "metadata": {},
   "outputs": [],
   "source": [
    "merge = merge.drop('Margin of Error!!SEX AND AGE!!Total population!!25 to 34 years',axis=1)"
   ]
  },
  {
   "cell_type": "code",
   "execution_count": 165,
   "id": "9a9c8719-4cca-4b42-9750-6d6fedd475b9",
   "metadata": {},
   "outputs": [],
   "source": [
    "merge = merge.drop('Estimate!!SEX AND AGE!!Total population!!35 to 44 years',axis=1)"
   ]
  },
  {
   "cell_type": "code",
   "execution_count": 166,
   "id": "53b0ff52-c9c4-4950-a879-330d272c9d52",
   "metadata": {},
   "outputs": [],
   "source": [
    "merge = merge.drop('Estimate!!SEX AND AGE!!Total population!!45 to 54 years',axis=1)"
   ]
  },
  {
   "cell_type": "code",
   "execution_count": 167,
   "id": "a75167e7-e50b-450a-8c8f-e4bda991156a",
   "metadata": {},
   "outputs": [],
   "source": [
    "merge = merge.drop('Margin of Error!!SEX AND AGE!!Total population!!45 to 54 years',axis=1)"
   ]
  },
  {
   "cell_type": "code",
   "execution_count": 168,
   "id": "fb027723-6deb-44bd-8916-8b2406b7c3c1",
   "metadata": {},
   "outputs": [],
   "source": [
    "merge = merge.drop('Estimate!!SEX AND AGE!!Total population!!55 to 59 years',axis=1)"
   ]
  },
  {
   "cell_type": "code",
   "execution_count": 169,
   "id": "4d794b4c-2b5b-4fbb-93ab-f80b620f7996",
   "metadata": {},
   "outputs": [],
   "source": [
    "merge = merge.drop('Estimate!!SEX AND AGE!!Total population!!60 to 64 years',axis=1)"
   ]
  },
  {
   "cell_type": "code",
   "execution_count": 170,
   "id": "681b837c-3e66-455c-8ce8-ed41fd7c47ae",
   "metadata": {},
   "outputs": [],
   "source": [
    "merge = merge.drop('Margin of Error!!SEX AND AGE!!Total population!!60 to 64 years',axis=1)"
   ]
  },
  {
   "cell_type": "code",
   "execution_count": 171,
   "id": "035603b7-53d5-49ce-a059-3abc6f9259cd",
   "metadata": {},
   "outputs": [],
   "source": [
    "merge = merge.drop('Estimate!!SEX AND AGE!!Total population!!65 to 74 years',axis=1)"
   ]
  },
  {
   "cell_type": "code",
   "execution_count": 172,
   "id": "deccfe56-f957-4f0a-8294-01927d7c7e6a",
   "metadata": {},
   "outputs": [],
   "source": [
    "merge = merge.drop('Margin of Error!!SEX AND AGE!!Total population!!65 to 74 years',axis=1)"
   ]
  },
  {
   "cell_type": "code",
   "execution_count": 173,
   "id": "9972a6b5-94bc-4a30-a9fa-aabc40942c5a",
   "metadata": {},
   "outputs": [],
   "source": [
    "merge = merge.drop('Margin of Error!!SEX AND AGE!!Total population!!75 to 84 years',axis=1)"
   ]
  },
  {
   "cell_type": "code",
   "execution_count": 174,
   "id": "ce0844a8-1416-49e5-83c0-1d6ed028c735",
   "metadata": {},
   "outputs": [],
   "source": [
    "merge = merge.drop('Estimate!!SEX AND AGE!!Total population!!85 years and over',axis=1)"
   ]
  },
  {
   "cell_type": "code",
   "execution_count": 175,
   "id": "da32ddd3-e812-4091-8d4a-4fa970b11d0d",
   "metadata": {},
   "outputs": [],
   "source": [
    "merge = merge.drop('Margin of Error!!SEX AND AGE!!Total population!!85 years and over',axis=1)"
   ]
  },
  {
   "cell_type": "code",
   "execution_count": 176,
   "id": "8e2ce5cb-47d8-4049-af08-48d6f3b14dbd",
   "metadata": {},
   "outputs": [],
   "source": [
    "merge = merge.drop('Estimate!!SEX AND AGE!!Total population!!Median age (years)',axis=1)"
   ]
  },
  {
   "cell_type": "code",
   "execution_count": 177,
   "id": "24d6d670-acfd-4c5b-8cf7-1936df2b279d",
   "metadata": {},
   "outputs": [],
   "source": [
    "merge = merge.drop('Margin of Error!!SEX AND AGE!!Total population!!Median age (years)',axis=1)"
   ]
  },
  {
   "cell_type": "code",
   "execution_count": 178,
   "id": "925d07e8-5f5c-4eb8-9a20-6c993cbb2163",
   "metadata": {},
   "outputs": [],
   "source": [
    "merge = merge.drop('Margin of Error!!SEX AND AGE!!Total population!!Under 18 years',axis=1)"
   ]
  },
  {
   "cell_type": "code",
   "execution_count": 179,
   "id": "4757d584-3cf9-451b-a556-7175b31318e5",
   "metadata": {},
   "outputs": [],
   "source": [
    "merge = merge.drop('Margin of Error!!SEX AND AGE!!Total population!!16 years and over',axis=1)"
   ]
  },
  {
   "cell_type": "code",
   "execution_count": 180,
   "id": "3e3e868c-fc80-4934-83fa-bf2818937c93",
   "metadata": {},
   "outputs": [],
   "source": [
    "merge = merge.drop('Estimate!!SEX AND AGE!!Total population!!18 years and over',axis=1)"
   ]
  },
  {
   "cell_type": "code",
   "execution_count": 181,
   "id": "00aaa487-0020-4845-b149-a7ea2e32f2a1",
   "metadata": {},
   "outputs": [],
   "source": [
    "merge = merge.drop('Margin of Error!!SEX AND AGE!!Total population!!18 years and over',axis=1)"
   ]
  },
  {
   "cell_type": "code",
   "execution_count": 182,
   "id": "0ea6fcbe-b8a8-4f23-9c5e-c5f12a5daae1",
   "metadata": {},
   "outputs": [],
   "source": [
    "merge = merge.drop('Estimate!!SEX AND AGE!!Total population!!21 years and over',axis=1)"
   ]
  },
  {
   "cell_type": "code",
   "execution_count": 183,
   "id": "1c93717b-8314-4e1f-a240-aedd2976f2d2",
   "metadata": {},
   "outputs": [],
   "source": [
    "merge = merge.drop('Margin of Error!!SEX AND AGE!!Total population!!21 years and over',axis=1)"
   ]
  },
  {
   "cell_type": "code",
   "execution_count": 184,
   "id": "2d77b9fa-ada2-43b8-af94-ca0a24ecfb4e",
   "metadata": {},
   "outputs": [],
   "source": [
    "merge = merge.drop('Estimate!!SEX AND AGE!!Total population!!62 years and over',axis=1)"
   ]
  },
  {
   "cell_type": "code",
   "execution_count": 185,
   "id": "13205daf-2200-4df5-98ef-d03ead350aaa",
   "metadata": {},
   "outputs": [],
   "source": [
    "merge = merge.drop('Margin of Error!!SEX AND AGE!!Total population!!62 years and over',axis=1)"
   ]
  },
  {
   "cell_type": "code",
   "execution_count": 186,
   "id": "08257264-e8cd-46cb-8a32-ea6c9a468b31",
   "metadata": {},
   "outputs": [],
   "source": [
    "merge = merge.drop('Estimate!!SEX AND AGE!!Total population!!65 years and over',axis=1)"
   ]
  },
  {
   "cell_type": "code",
   "execution_count": 187,
   "id": "b8a32f7f-fc4c-440f-bf4d-aaac4405d79d",
   "metadata": {},
   "outputs": [],
   "source": [
    "merge = merge.drop('Margin of Error!!SEX AND AGE!!Total population!!65 years and over',axis=1)"
   ]
  },
  {
   "cell_type": "code",
   "execution_count": 188,
   "id": "9c22eb54-9579-43fb-b352-b5326bf15504",
   "metadata": {},
   "outputs": [],
   "source": [
    "merge = merge.drop('Estimate!!SEX AND AGE!!Total population!!18 years and over.1',axis=1)"
   ]
  },
  {
   "cell_type": "code",
   "execution_count": 189,
   "id": "95b45c5f-9d39-46d4-adac-d167876dc03c",
   "metadata": {},
   "outputs": [],
   "source": [
    "merge = merge.drop('Margin of Error!!SEX AND AGE!!Total population!!18 years and over.1',axis=1)"
   ]
  },
  {
   "cell_type": "code",
   "execution_count": 190,
   "id": "62d6c8ba-e874-4c93-8f47-4c21bcd738cc",
   "metadata": {},
   "outputs": [],
   "source": [
    "merge = merge.drop('Estimate!!SEX AND AGE!!Total population!!18 years and over!!Male',axis=1)"
   ]
  },
  {
   "cell_type": "code",
   "execution_count": 191,
   "id": "cfb422ce-3e57-4ec8-9336-d423bf234d61",
   "metadata": {},
   "outputs": [],
   "source": [
    "merge = merge.drop('Margin of Error!!SEX AND AGE!!Total population!!18 years and over!!Male',axis=1)"
   ]
  },
  {
   "cell_type": "code",
   "execution_count": 192,
   "id": "5e137560-8870-4150-8838-852e2c41d2fd",
   "metadata": {},
   "outputs": [],
   "source": [
    "merge = merge.drop('Estimate!!SEX AND AGE!!Total population!!18 years and over!!Female',axis=1)"
   ]
  },
  {
   "cell_type": "code",
   "execution_count": 193,
   "id": "9922ac49-6ad3-45ee-8c19-1f4f5135eb22",
   "metadata": {},
   "outputs": [],
   "source": [
    "merge = merge.drop('Margin of Error!!SEX AND AGE!!Total population!!18 years and over!!Female',axis=1)"
   ]
  },
  {
   "cell_type": "code",
   "execution_count": 194,
   "id": "4cc5e603-cb9d-4560-9901-30ad2cb573af",
   "metadata": {},
   "outputs": [],
   "source": [
    "merge = merge.drop('Estimate!!SEX AND AGE!!Total population!!18 years and over!!Sex ratio (males per 100 females)',axis=1)"
   ]
  },
  {
   "cell_type": "code",
   "execution_count": 195,
   "id": "7c8e29bb-7f5e-4a7f-a637-fa9b4e8e9a4f",
   "metadata": {},
   "outputs": [],
   "source": [
    "merge = merge.drop('Margin of Error!!SEX AND AGE!!Total population!!18 years and over!!Sex ratio (males per 100 females)',axis=1)"
   ]
  },
  {
   "cell_type": "code",
   "execution_count": 196,
   "id": "f0bea313-cdb6-4bbd-9523-b0e2eee6b996",
   "metadata": {},
   "outputs": [],
   "source": [
    "merge = merge.drop('Estimate!!SEX AND AGE!!Total population!!65 years and over.1',axis=1)"
   ]
  },
  {
   "cell_type": "code",
   "execution_count": 197,
   "id": "4a181b5e-7a4d-4536-bda8-a937324f606e",
   "metadata": {},
   "outputs": [],
   "source": [
    "merge = merge.drop('Margin of Error!!SEX AND AGE!!Total population!!65 years and over.1',axis=1)"
   ]
  },
  {
   "cell_type": "code",
   "execution_count": 198,
   "id": "fd81c67f-ff6e-40ec-ac76-8b62566d289f",
   "metadata": {},
   "outputs": [],
   "source": [
    "merge = merge.drop('Estimate!!SEX AND AGE!!Total population!!65 years and over!!Male',axis=1)"
   ]
  },
  {
   "cell_type": "code",
   "execution_count": 199,
   "id": "51046da7-a025-432c-a076-787f148fe8c0",
   "metadata": {},
   "outputs": [],
   "source": [
    "merge = merge.drop('Margin of Error!!SEX AND AGE!!Total population!!65 years and over!!Male',axis=1)"
   ]
  },
  {
   "cell_type": "code",
   "execution_count": 200,
   "id": "151c7b4a-3376-4ccc-9289-77efb0851725",
   "metadata": {},
   "outputs": [],
   "source": [
    "merge = merge.drop('Estimate!!SEX AND AGE!!Total population!!65 years and over!!Female',axis=1)"
   ]
  },
  {
   "cell_type": "code",
   "execution_count": 201,
   "id": "abb03708-b055-4830-be61-0d2fdb840cab",
   "metadata": {},
   "outputs": [],
   "source": [
    "merge = merge.drop('Margin of Error!!SEX AND AGE!!Total population!!65 years and over!!Female',axis=1)"
   ]
  },
  {
   "cell_type": "code",
   "execution_count": 202,
   "id": "926b11a7-73b6-4739-9070-f8e80a71070b",
   "metadata": {},
   "outputs": [],
   "source": [
    "merge = merge.drop('Estimate!!SEX AND AGE!!Total population!!65 years and over!!Sex ratio (males per 100 females)',axis=1)"
   ]
  },
  {
   "cell_type": "code",
   "execution_count": 203,
   "id": "2e3197b3-ba69-4419-963f-0cdca56ed822",
   "metadata": {},
   "outputs": [],
   "source": [
    "merge = merge.drop('Margin of Error!!SEX AND AGE!!Total population!!65 years and over!!Sex ratio (males per 100 females)',axis=1)"
   ]
  },
  {
   "cell_type": "code",
   "execution_count": 204,
   "id": "3c9d6125-e527-4723-af9c-bdaccb16293f",
   "metadata": {},
   "outputs": [],
   "source": [
    "merge = merge.drop('Estimate!!RACE!!Total population',axis=1)"
   ]
  },
  {
   "cell_type": "code",
   "execution_count": 205,
   "id": "0008976e-e060-43e9-9519-e34f3a4e7d96",
   "metadata": {},
   "outputs": [],
   "source": [
    "merge = merge.drop('Margin of Error!!RACE!!Total population',axis=1)"
   ]
  },
  {
   "cell_type": "code",
   "execution_count": 206,
   "id": "fa3b1b89-652d-468a-a1d1-48c6b552213b",
   "metadata": {},
   "outputs": [],
   "source": [
    "merge = merge.drop('Estimate!!RACE!!Total population!!One race',axis=1)"
   ]
  },
  {
   "cell_type": "code",
   "execution_count": 207,
   "id": "f152b0d5-7118-40a7-a65c-b6746062ea56",
   "metadata": {},
   "outputs": [],
   "source": [
    "merge = merge.drop('Margin of Error!!RACE!!Total population!!One race',axis=1)"
   ]
  },
  {
   "cell_type": "code",
   "execution_count": 208,
   "id": "1029b182-27a3-4824-9bad-c693544e64da",
   "metadata": {},
   "outputs": [],
   "source": [
    "merge = merge.drop('Estimate!!RACE!!Total population!!Two or More Races',axis=1)"
   ]
  },
  {
   "cell_type": "code",
   "execution_count": 209,
   "id": "8cb2e6bd-f5bb-45ab-9758-09c19acafaa8",
   "metadata": {},
   "outputs": [],
   "source": [
    "merge = merge.drop('Margin of Error!!RACE!!Total population!!Two or More Races',axis=1)"
   ]
  },
  {
   "cell_type": "code",
   "execution_count": 210,
   "id": "8f901c18-1e8b-42df-8d0d-4bfb6775afe8",
   "metadata": {},
   "outputs": [],
   "source": [
    "merge = merge.drop('Estimate!!RACE!!Total population!!One race.1',axis=1)"
   ]
  },
  {
   "cell_type": "code",
   "execution_count": 211,
   "id": "b534004c-3c69-4868-a960-cd5e5ab73812",
   "metadata": {},
   "outputs": [],
   "source": [
    "merge = merge.drop('Margin of Error!!RACE!!Total population!!One race.1',axis=1)"
   ]
  },
  {
   "cell_type": "code",
   "execution_count": 212,
   "id": "d65293a4-348c-49cd-a753-e9fd66a45156",
   "metadata": {},
   "outputs": [],
   "source": [
    "merge = merge.drop('Estimate!!RACE!!Total population!!One race!!White',axis=1)"
   ]
  },
  {
   "cell_type": "code",
   "execution_count": 213,
   "id": "319efcf9-16cc-4702-a7db-fd9db3e1fe0c",
   "metadata": {},
   "outputs": [],
   "source": [
    "merge = merge.drop('Margin of Error!!RACE!!Total population!!One race!!White',axis=1)"
   ]
  },
  {
   "cell_type": "code",
   "execution_count": 214,
   "id": "05bc8177-ceeb-4d72-89fc-e3f7317e6749",
   "metadata": {},
   "outputs": [],
   "source": [
    "merge = merge.drop('Estimate!!RACE!!Total population!!One race!!Black or African American',axis=1)"
   ]
  },
  {
   "cell_type": "code",
   "execution_count": 215,
   "id": "b1dfe717-8740-41b6-8604-563df15de2c5",
   "metadata": {},
   "outputs": [],
   "source": [
    "merge = merge.drop('Margin of Error!!RACE!!Total population!!One race!!Black or African American',axis=1)"
   ]
  },
  {
   "cell_type": "code",
   "execution_count": 216,
   "id": "aed5c5b7-b672-40fd-b86b-091c913f4762",
   "metadata": {},
   "outputs": [],
   "source": [
    "merge = merge.drop('Estimate!!RACE!!Total population!!One race!!American Indian and Alaska Native',axis=1)"
   ]
  },
  {
   "cell_type": "code",
   "execution_count": 217,
   "id": "032691c4-d5db-4d70-9934-ca6219422baf",
   "metadata": {},
   "outputs": [],
   "source": [
    "merge = merge.drop('Margin of Error!!RACE!!Total population!!One race!!American Indian and Alaska Native',axis=1)"
   ]
  },
  {
   "cell_type": "code",
   "execution_count": 218,
   "id": "de2dda3e-7972-450b-a005-62247ac011db",
   "metadata": {},
   "outputs": [],
   "source": [
    "merge = merge.drop('Estimate!!RACE!!Total population!!One race!!American Indian and Alaska Native!!Cherokee tribal grouping',axis=1)"
   ]
  },
  {
   "cell_type": "code",
   "execution_count": 219,
   "id": "ea932844-0bce-4236-afa6-4de6760d26f8",
   "metadata": {},
   "outputs": [],
   "source": [
    "merge = merge.drop('Margin of Error!!RACE!!Total population!!One race!!American Indian and Alaska Native!!Cherokee tribal grouping',axis=1)"
   ]
  },
  {
   "cell_type": "code",
   "execution_count": 220,
   "id": "b6969a10-ec4a-43b6-91ff-8c429cb55d48",
   "metadata": {},
   "outputs": [],
   "source": [
    "merge = merge.drop('Estimate!!RACE!!Total population!!One race!!American Indian and Alaska Native!!Chippewa tribal grouping',axis=1)"
   ]
  },
  {
   "cell_type": "code",
   "execution_count": 221,
   "id": "0cd1c39c-d1a0-4023-b95e-d5d48d4f7d3e",
   "metadata": {},
   "outputs": [],
   "source": [
    "merge = merge.drop('Margin of Error!!RACE!!Total population!!One race!!American Indian and Alaska Native!!Chippewa tribal grouping',axis=1)"
   ]
  },
  {
   "cell_type": "code",
   "execution_count": 222,
   "id": "03680400-32d4-4a6e-95cf-cd5a85850c32",
   "metadata": {},
   "outputs": [],
   "source": [
    "merge = merge.drop('Estimate!!RACE!!Total population!!One race!!American Indian and Alaska Native!!Navajo tribal grouping',axis=1)"
   ]
  },
  {
   "cell_type": "code",
   "execution_count": 223,
   "id": "3bdc72bb-b55a-4b0b-9439-b74e5530a86e",
   "metadata": {},
   "outputs": [],
   "source": [
    "merge = merge.drop('Margin of Error!!RACE!!Total population!!One race!!American Indian and Alaska Native!!Navajo tribal grouping',axis=1)"
   ]
  },
  {
   "cell_type": "code",
   "execution_count": 224,
   "id": "6d71e1d9-0daf-489c-9ac1-e6006c42eb81",
   "metadata": {},
   "outputs": [],
   "source": [
    "merge = merge.drop('Estimate!!RACE!!Total population!!One race!!American Indian and Alaska Native!!Sioux tribal grouping',axis=1)"
   ]
  },
  {
   "cell_type": "code",
   "execution_count": 225,
   "id": "d9f2114c-dd74-4155-8ed5-a0a76f697346",
   "metadata": {},
   "outputs": [],
   "source": [
    "merge = merge.drop('Margin of Error!!RACE!!Total population!!One race!!American Indian and Alaska Native!!Sioux tribal grouping',axis=1)"
   ]
  },
  {
   "cell_type": "code",
   "execution_count": 226,
   "id": "e9889ba8-f092-4dcf-aa10-c30dc6b8adef",
   "metadata": {},
   "outputs": [],
   "source": [
    "merge = merge.drop('Estimate!!RACE!!Total population!!One race!!Asian',axis=1)"
   ]
  },
  {
   "cell_type": "code",
   "execution_count": 227,
   "id": "7e1fbb6c-d0a6-4ee9-be3f-4b9cf45fe655",
   "metadata": {},
   "outputs": [],
   "source": [
    "merge = merge.drop('Margin of Error!!RACE!!Total population!!One race!!Asian',axis=1)"
   ]
  },
  {
   "cell_type": "code",
   "execution_count": 228,
   "id": "fb7541ce-72e6-430d-a638-a06567ab07ec",
   "metadata": {},
   "outputs": [],
   "source": [
    "merge = merge.drop('Estimate!!RACE!!Total population!!One race!!Asian!!Asian Indian',axis=1)"
   ]
  },
  {
   "cell_type": "code",
   "execution_count": 229,
   "id": "6263c3c1-d885-45ec-90e8-6f71c1dbd9be",
   "metadata": {},
   "outputs": [],
   "source": [
    "merge = merge.drop('Margin of Error!!RACE!!Total population!!One race!!Asian!!Asian Indian',axis=1)"
   ]
  },
  {
   "cell_type": "code",
   "execution_count": 230,
   "id": "16ae449d-494c-4fe7-adf0-f00730051f91",
   "metadata": {},
   "outputs": [],
   "source": [
    "merge = merge.drop('Estimate!!RACE!!Total population!!One race!!Asian!!Chinese',axis=1)"
   ]
  },
  {
   "cell_type": "code",
   "execution_count": 231,
   "id": "ad871154-5208-44df-b425-87232ad6ecf1",
   "metadata": {},
   "outputs": [],
   "source": [
    "merge = merge.drop('Margin of Error!!RACE!!Total population!!One race!!Asian!!Chinese',axis=1)"
   ]
  },
  {
   "cell_type": "code",
   "execution_count": 232,
   "id": "359ba33d-984b-4988-b890-4b0c7cf47418",
   "metadata": {},
   "outputs": [],
   "source": [
    "merge = merge.drop('Estimate!!RACE!!Total population!!One race!!Asian!!Filipino',axis=1)"
   ]
  },
  {
   "cell_type": "code",
   "execution_count": 233,
   "id": "a3118b62-dc5c-41d6-835d-ad789225ffe0",
   "metadata": {},
   "outputs": [],
   "source": [
    "merge = merge.drop('Margin of Error!!RACE!!Total population!!One race!!Asian!!Filipino',axis=1)"
   ]
  },
  {
   "cell_type": "code",
   "execution_count": 234,
   "id": "ddc02be3-9e0b-4880-b146-b5e5197446da",
   "metadata": {},
   "outputs": [],
   "source": [
    "merge = merge.drop('Estimate!!RACE!!Total population!!One race!!Asian!!Japanese',axis=1)"
   ]
  },
  {
   "cell_type": "code",
   "execution_count": 235,
   "id": "0e00ec50-c728-4c00-b5b2-be915c155804",
   "metadata": {},
   "outputs": [],
   "source": [
    "merge = merge.drop('Margin of Error!!RACE!!Total population!!One race!!Asian!!Japanese',axis=1)"
   ]
  },
  {
   "cell_type": "code",
   "execution_count": 236,
   "id": "c8f20ffc-0703-48e4-9a1a-374b1ff3ec92",
   "metadata": {},
   "outputs": [],
   "source": [
    "merge = merge.drop('Estimate!!RACE!!Total population!!One race!!Asian!!Korean',axis=1)"
   ]
  },
  {
   "cell_type": "code",
   "execution_count": 237,
   "id": "12b3a9cd-f730-46fe-8dce-12c24e1964e5",
   "metadata": {},
   "outputs": [],
   "source": [
    "merge = merge.drop('Margin of Error!!RACE!!Total population!!One race!!Asian!!Korean',axis=1)"
   ]
  },
  {
   "cell_type": "code",
   "execution_count": 238,
   "id": "3755a6d5-e3c8-4c91-a3f3-e331e05d3404",
   "metadata": {},
   "outputs": [],
   "source": [
    "merge = merge.drop('Estimate!!RACE!!Total population!!One race!!Asian!!Vietnamese',axis=1)"
   ]
  },
  {
   "cell_type": "code",
   "execution_count": 239,
   "id": "1f32e340-6b1b-4c52-888e-7e31f9c721ef",
   "metadata": {},
   "outputs": [],
   "source": [
    "merge = merge.drop('Margin of Error!!RACE!!Total population!!One race!!Asian!!Vietnamese',axis=1)"
   ]
  },
  {
   "cell_type": "code",
   "execution_count": 240,
   "id": "78ce4692-0717-4a55-829d-7480a126425d",
   "metadata": {},
   "outputs": [],
   "source": [
    "merge = merge.drop('Estimate!!RACE!!Total population!!One race!!Asian!!Other Asian',axis=1)"
   ]
  },
  {
   "cell_type": "code",
   "execution_count": 241,
   "id": "6e5e573d-3eb0-4013-84bd-b37a2aad7742",
   "metadata": {},
   "outputs": [],
   "source": [
    "merge = merge.drop('Margin of Error!!RACE!!Total population!!One race!!Asian!!Other Asian',axis=1)"
   ]
  },
  {
   "cell_type": "code",
   "execution_count": 242,
   "id": "253e5f51-8795-4f5c-a350-3bf70b977ed1",
   "metadata": {},
   "outputs": [],
   "source": [
    "merge = merge.drop('Estimate!!RACE!!Total population!!One race!!Native Hawaiian and Other Pacific Islander',axis=1)"
   ]
  },
  {
   "cell_type": "code",
   "execution_count": 243,
   "id": "c04ffcdb-e7be-44dc-b441-695d4697a8a7",
   "metadata": {},
   "outputs": [],
   "source": [
    "merge = merge.drop('Margin of Error!!RACE!!Total population!!One race!!Native Hawaiian and Other Pacific Islander',axis=1)"
   ]
  },
  {
   "cell_type": "code",
   "execution_count": 244,
   "id": "d010b140-f28e-4cf9-a9dd-1f1699b53f80",
   "metadata": {},
   "outputs": [],
   "source": [
    "merge = merge.drop('Estimate!!RACE!!Total population!!One race!!Native Hawaiian and Other Pacific Islander!!Chamorro',axis=1)"
   ]
  },
  {
   "cell_type": "code",
   "execution_count": 245,
   "id": "0bb5514f-ef14-455d-a106-e355182d0c3d",
   "metadata": {},
   "outputs": [],
   "source": [
    "merge = merge.drop('Margin of Error!!RACE!!Total population!!One race!!Native Hawaiian and Other Pacific Islander!!Chamorro',axis=1)"
   ]
  },
  {
   "cell_type": "code",
   "execution_count": 246,
   "id": "78c62cea-eb00-494a-a96a-316b261e4aee",
   "metadata": {},
   "outputs": [],
   "source": [
    "merge = merge.drop('Estimate!!RACE!!Total population!!One race!!Native Hawaiian and Other Pacific Islander!!Native Hawaiian',axis=1)"
   ]
  },
  {
   "cell_type": "code",
   "execution_count": 247,
   "id": "56b08bff-dfe8-490f-83f1-ea15a06c83af",
   "metadata": {},
   "outputs": [],
   "source": [
    "merge = merge.drop('Margin of Error!!RACE!!Total population!!One race!!Native Hawaiian and Other Pacific Islander!!Native Hawaiian',axis=1)"
   ]
  },
  {
   "cell_type": "code",
   "execution_count": 248,
   "id": "42a15fd4-4073-424e-b69e-908cac949d68",
   "metadata": {},
   "outputs": [],
   "source": [
    "merge = merge.drop('Estimate!!RACE!!Total population!!One race!!Native Hawaiian and Other Pacific Islander!!Samoan',axis=1)"
   ]
  },
  {
   "cell_type": "code",
   "execution_count": 249,
   "id": "2d138987-3178-42ed-a3a1-0901fe4d7794",
   "metadata": {},
   "outputs": [],
   "source": [
    "merge = merge.drop('Margin of Error!!RACE!!Total population!!One race!!Native Hawaiian and Other Pacific Islander!!Samoan',axis=1)"
   ]
  },
  {
   "cell_type": "code",
   "execution_count": 251,
   "id": "f0426296-0d2f-43b6-b01e-42ddddfdb0cc",
   "metadata": {},
   "outputs": [],
   "source": [
    "merge = merge.drop('Estimate!!RACE!!Total population!!One race!!Native Hawaiian and Other Pacific Islander!!Other Native Hawaiian and Other Pacific Islander',axis=1)"
   ]
  },
  {
   "cell_type": "code",
   "execution_count": 252,
   "id": "d0675aaa-9fbf-4fbc-a9e9-011ad5fb2473",
   "metadata": {},
   "outputs": [],
   "source": [
    "merge = merge.drop('Margin of Error!!RACE!!Total population!!One race!!Native Hawaiian and Other Pacific Islander!!Other Native Hawaiian and Other Pacific Islander',axis=1)"
   ]
  },
  {
   "cell_type": "code",
   "execution_count": 253,
   "id": "1dd9b4bb-b36b-474c-86f0-1e8d6d6c7f1b",
   "metadata": {},
   "outputs": [],
   "source": [
    "merge = merge.drop('Estimate!!RACE!!Total population!!One race!!Some Other Race',axis=1)"
   ]
  },
  {
   "cell_type": "code",
   "execution_count": 254,
   "id": "d76fbda2-b855-4c59-b7f1-4975b794d4ff",
   "metadata": {},
   "outputs": [],
   "source": [
    "merge = merge.drop('Margin of Error!!RACE!!Total population!!One race!!Some Other Race',axis=1)"
   ]
  },
  {
   "cell_type": "code",
   "execution_count": 255,
   "id": "c1f6d1c7-2e0f-437c-8fb4-5a22eb4dbf49",
   "metadata": {},
   "outputs": [],
   "source": [
    "merge = merge.drop('Estimate!!RACE!!Total population!!Two or More Races.1',axis=1)"
   ]
  },
  {
   "cell_type": "code",
   "execution_count": 256,
   "id": "623b37fa-41b7-420f-9f21-01749137c913",
   "metadata": {},
   "outputs": [],
   "source": [
    "merge = merge.drop('Margin of Error!!RACE!!Total population!!Two or More Races.1',axis=1)"
   ]
  },
  {
   "cell_type": "code",
   "execution_count": 257,
   "id": "6639981c-557a-4bff-a09d-5964474e484a",
   "metadata": {},
   "outputs": [],
   "source": [
    "merge = merge.drop('Estimate!!RACE!!Total population!!Two or More Races!!White and Black or African American',axis=1)"
   ]
  },
  {
   "cell_type": "code",
   "execution_count": 258,
   "id": "3754c36e-90fd-4c13-883f-6255cc9c6a61",
   "metadata": {},
   "outputs": [],
   "source": [
    "merge = merge.drop('Margin of Error!!RACE!!Total population!!Two or More Races!!White and Black or African American',axis=1)"
   ]
  },
  {
   "cell_type": "code",
   "execution_count": 259,
   "id": "e87161a6-d524-4dd1-a330-dcdd59802bce",
   "metadata": {},
   "outputs": [],
   "source": [
    "merge = merge.drop('Estimate!!RACE!!Total population!!Two or More Races!!White and American Indian and Alaska Native',axis=1)"
   ]
  },
  {
   "cell_type": "code",
   "execution_count": 260,
   "id": "c02c1ed0-1ec3-447e-b2be-ec3bc0cb9d01",
   "metadata": {},
   "outputs": [],
   "source": [
    "merge = merge.drop('Margin of Error!!RACE!!Total population!!Two or More Races!!White and American Indian and Alaska Native',axis=1)"
   ]
  },
  {
   "cell_type": "code",
   "execution_count": 261,
   "id": "aa344b95-2b76-47fb-ae18-46addaaf0947",
   "metadata": {},
   "outputs": [],
   "source": [
    "merge = merge.drop('Estimate!!RACE!!Total population!!Two or More Races!!White and Asian',axis=1)"
   ]
  },
  {
   "cell_type": "code",
   "execution_count": 262,
   "id": "a1737904-d611-4d98-b7b8-289a5d0ba1d8",
   "metadata": {},
   "outputs": [],
   "source": [
    "merge = merge.drop('Margin of Error!!RACE!!Total population!!Two or More Races!!White and Asian',axis=1)"
   ]
  },
  {
   "cell_type": "code",
   "execution_count": 263,
   "id": "1d9c8139-562f-442e-9542-a88dc333d986",
   "metadata": {},
   "outputs": [],
   "source": [
    "merge = merge.drop('Estimate!!RACE!!Total population!!Two or More Races!!White and Some Other Race',axis=1)"
   ]
  },
  {
   "cell_type": "code",
   "execution_count": 264,
   "id": "a08df74a-2428-4b07-8657-53d936a86102",
   "metadata": {},
   "outputs": [],
   "source": [
    "merge = merge.drop('Margin of Error!!RACE!!Total population!!Two or More Races!!White and Some Other Race',axis=1)"
   ]
  },
  {
   "cell_type": "code",
   "execution_count": 265,
   "id": "28377e5f-969c-4206-9bb2-46ff2f656b13",
   "metadata": {},
   "outputs": [],
   "source": [
    "merge = merge.drop('Estimate!!RACE!!Total population!!Two or More Races!!Black or African American and American Indian and Alaska Native',axis=1)"
   ]
  },
  {
   "cell_type": "code",
   "execution_count": 266,
   "id": "e601ac55-68bc-405f-a66e-e0b0e58fb3e5",
   "metadata": {},
   "outputs": [],
   "source": [
    "merge = merge.drop('Margin of Error!!RACE!!Total population!!Two or More Races!!Black or African American and American Indian and Alaska Native',axis=1)"
   ]
  },
  {
   "cell_type": "code",
   "execution_count": 267,
   "id": "338322a0-6192-4020-8caa-2377de8cfefa",
   "metadata": {},
   "outputs": [],
   "source": [
    "merge = merge.drop('Estimate!!RACE!!Total population!!Two or More Races!!Black or African American and Some Other Race',axis=1)"
   ]
  },
  {
   "cell_type": "code",
   "execution_count": 268,
   "id": "fd4d3e6d-f0d5-48e1-b21d-79a64a5cd7ac",
   "metadata": {},
   "outputs": [],
   "source": [
    "merge = merge.drop('Margin of Error!!RACE!!Total population!!Two or More Races!!Black or African American and Some Other Race',axis=1)"
   ]
  },
  {
   "cell_type": "code",
   "execution_count": 269,
   "id": "7dc55ce0-8696-4f99-8ea1-63e186238e61",
   "metadata": {},
   "outputs": [],
   "source": [
    "merge = merge.drop('Estimate!!Race alone or in combination with one or more other races!!Total population',axis=1)"
   ]
  },
  {
   "cell_type": "code",
   "execution_count": 270,
   "id": "27525ece-378c-4646-84bd-830c7be5cdc0",
   "metadata": {},
   "outputs": [],
   "source": [
    "merge = merge.drop('Margin of Error!!Race alone or in combination with one or more other races!!Total population',axis=1)"
   ]
  },
  {
   "cell_type": "code",
   "execution_count": 271,
   "id": "6075cab7-ae9d-402b-9d93-d068bfb4d4df",
   "metadata": {},
   "outputs": [],
   "source": [
    "merge = merge.drop('Estimate!!Race alone or in combination with one or more other races!!Total population!!White',axis=1)"
   ]
  },
  {
   "cell_type": "code",
   "execution_count": 272,
   "id": "121aafba-31bb-4278-8616-2c37589726f8",
   "metadata": {},
   "outputs": [],
   "source": [
    "merge = merge.drop('Margin of Error!!Race alone or in combination with one or more other races!!Total population!!White',axis=1)"
   ]
  },
  {
   "cell_type": "code",
   "execution_count": 273,
   "id": "de92d80a-de49-4875-bb7b-5c898d4567fa",
   "metadata": {},
   "outputs": [],
   "source": [
    "merge = merge.drop('Estimate!!Race alone or in combination with one or more other races!!Total population!!Black or African American',axis=1)"
   ]
  },
  {
   "cell_type": "code",
   "execution_count": 274,
   "id": "4df068bb-3c1f-44ea-b95d-968972613b60",
   "metadata": {},
   "outputs": [],
   "source": [
    "merge = merge.drop('Margin of Error!!Race alone or in combination with one or more other races!!Total population!!Black or African American',axis=1)"
   ]
  },
  {
   "cell_type": "code",
   "execution_count": 275,
   "id": "02b1b164-313e-4886-bbab-75aeb5c7793c",
   "metadata": {},
   "outputs": [],
   "source": [
    "merge = merge.drop('Estimate!!Race alone or in combination with one or more other races!!Total population!!American Indian and Alaska Native',axis=1)"
   ]
  },
  {
   "cell_type": "code",
   "execution_count": 276,
   "id": "f660421f-8aea-4bd6-86fd-f277f07ec0b6",
   "metadata": {},
   "outputs": [],
   "source": [
    "merge = merge.drop('Margin of Error!!Race alone or in combination with one or more other races!!Total population!!American Indian and Alaska Native',axis=1)"
   ]
  },
  {
   "cell_type": "code",
   "execution_count": 277,
   "id": "495ba402-908f-493b-b5f5-233fe31279c3",
   "metadata": {},
   "outputs": [],
   "source": [
    "merge = merge.drop('Estimate!!Race alone or in combination with one or more other races!!Total population!!Asian',axis=1)"
   ]
  },
  {
   "cell_type": "code",
   "execution_count": 278,
   "id": "5c310e59-4254-4ea6-a116-6a15d259046a",
   "metadata": {},
   "outputs": [],
   "source": [
    "merge = merge.drop('Margin of Error!!Race alone or in combination with one or more other races!!Total population!!Asian',axis=1)"
   ]
  },
  {
   "cell_type": "code",
   "execution_count": 279,
   "id": "5995bc54-d33e-40f1-a51e-78aa1aecc22d",
   "metadata": {},
   "outputs": [],
   "source": [
    "merge = merge.drop('Estimate!!Race alone or in combination with one or more other races!!Total population!!Native Hawaiian and Other Pacific Islander',axis=1)"
   ]
  },
  {
   "cell_type": "code",
   "execution_count": 280,
   "id": "4c7faf67-6aed-40fe-b9f1-5e36eaa18729",
   "metadata": {},
   "outputs": [],
   "source": [
    "merge = merge.drop('Margin of Error!!Race alone or in combination with one or more other races!!Total population!!Native Hawaiian and Other Pacific Islander',axis=1)"
   ]
  },
  {
   "cell_type": "code",
   "execution_count": 281,
   "id": "42f00890-4104-42a8-b876-d50a6e50c1b0",
   "metadata": {},
   "outputs": [],
   "source": [
    "merge = merge.drop('Estimate!!Race alone or in combination with one or more other races!!Total population!!Some Other Race',axis=1)"
   ]
  },
  {
   "cell_type": "code",
   "execution_count": 282,
   "id": "788ed2aa-51a9-4cdc-b2b6-12dd1409a942",
   "metadata": {},
   "outputs": [],
   "source": [
    "merge = merge.drop('Margin of Error!!Race alone or in combination with one or more other races!!Total population!!Some Other Race',axis=1)"
   ]
  },
  {
   "cell_type": "code",
   "execution_count": 283,
   "id": "92bdf467-7322-403a-a8d4-6e1b4434efb9",
   "metadata": {},
   "outputs": [],
   "source": [
    "merge = merge.drop('Estimate!!HISPANIC OR LATINO AND RACE!!Total population',axis=1)"
   ]
  },
  {
   "cell_type": "code",
   "execution_count": 284,
   "id": "bd18e69a-eff3-4bc6-960f-16e2a2b07c9e",
   "metadata": {},
   "outputs": [],
   "source": [
    "merge = merge.drop('Margin of Error!!HISPANIC OR LATINO AND RACE!!Total population',axis=1)"
   ]
  },
  {
   "cell_type": "code",
   "execution_count": 285,
   "id": "edb8509f-ca36-43c1-a86d-16c6fede082a",
   "metadata": {},
   "outputs": [],
   "source": [
    "merge = merge.drop('Estimate!!HISPANIC OR LATINO AND RACE!!Total population!!Hispanic or Latino (of any race)',axis=1)"
   ]
  },
  {
   "cell_type": "code",
   "execution_count": 286,
   "id": "df856031-e8af-42ae-ab3b-9c35f9130f0e",
   "metadata": {},
   "outputs": [],
   "source": [
    "merge = merge.drop('Margin of Error!!HISPANIC OR LATINO AND RACE!!Total population!!Hispanic or Latino (of any race)',axis=1)"
   ]
  },
  {
   "cell_type": "code",
   "execution_count": 287,
   "id": "418aba3d-b2e8-4096-bedd-c9dc481a77c0",
   "metadata": {},
   "outputs": [],
   "source": [
    "merge = merge.drop('Estimate!!HISPANIC OR LATINO AND RACE!!Total population!!Hispanic or Latino (of any race)!!Mexican',axis=1)"
   ]
  },
  {
   "cell_type": "code",
   "execution_count": 288,
   "id": "23a11544-a762-48b6-986b-849f5d5fcb84",
   "metadata": {},
   "outputs": [],
   "source": [
    "merge = merge.drop('Margin of Error!!HISPANIC OR LATINO AND RACE!!Total population!!Hispanic or Latino (of any race)!!Mexican',axis=1)"
   ]
  },
  {
   "cell_type": "code",
   "execution_count": 289,
   "id": "07bf17f0-3fcc-4bd5-9bff-72e3e54576c9",
   "metadata": {},
   "outputs": [],
   "source": [
    "merge = merge.drop('Estimate!!HISPANIC OR LATINO AND RACE!!Total population!!Hispanic or Latino (of any race)!!Puerto Rican',axis=1)"
   ]
  },
  {
   "cell_type": "code",
   "execution_count": 290,
   "id": "a9fc83aa-04fb-4ae8-b337-e1837ce6ee91",
   "metadata": {},
   "outputs": [],
   "source": [
    "merge = merge.drop('Margin of Error!!HISPANIC OR LATINO AND RACE!!Total population!!Hispanic or Latino (of any race)!!Puerto Rican',axis=1)"
   ]
  },
  {
   "cell_type": "code",
   "execution_count": 291,
   "id": "1892b49e-0b54-487c-aaaa-f34bddcf3766",
   "metadata": {},
   "outputs": [],
   "source": [
    "merge = merge.drop('Estimate!!HISPANIC OR LATINO AND RACE!!Total population!!Hispanic or Latino (of any race)!!Cuban',axis=1)"
   ]
  },
  {
   "cell_type": "code",
   "execution_count": 292,
   "id": "4ad0fd3e-5bb1-4f12-830b-de169bb272d8",
   "metadata": {},
   "outputs": [],
   "source": [
    "merge = merge.drop('Margin of Error!!HISPANIC OR LATINO AND RACE!!Total population!!Hispanic or Latino (of any race)!!Cuban',axis=1)"
   ]
  },
  {
   "cell_type": "code",
   "execution_count": 293,
   "id": "013cd1a9-8070-4e51-b3b8-2532af1ad81e",
   "metadata": {},
   "outputs": [],
   "source": [
    "merge = merge.drop('Estimate!!HISPANIC OR LATINO AND RACE!!Total population!!Hispanic or Latino (of any race)!!Other Hispanic or Latino',axis=1)"
   ]
  },
  {
   "cell_type": "code",
   "execution_count": 294,
   "id": "ad237ba2-11f3-45d2-9803-e08837e4d0ec",
   "metadata": {},
   "outputs": [],
   "source": [
    "merge = merge.drop('Margin of Error!!HISPANIC OR LATINO AND RACE!!Total population!!Hispanic or Latino (of any race)!!Other Hispanic or Latino',axis=1)"
   ]
  },
  {
   "cell_type": "code",
   "execution_count": 295,
   "id": "75381471-9674-4e93-8f85-cbc50e221890",
   "metadata": {},
   "outputs": [],
   "source": [
    "merge = merge.drop('Estimate!!HISPANIC OR LATINO AND RACE!!Total population!!Not Hispanic or Latino',axis=1)"
   ]
  },
  {
   "cell_type": "code",
   "execution_count": 296,
   "id": "d0f81855-f7dc-497c-b420-44ea7b875754",
   "metadata": {},
   "outputs": [],
   "source": [
    "merge = merge.drop('Margin of Error!!HISPANIC OR LATINO AND RACE!!Total population!!Not Hispanic or Latino',axis=1)"
   ]
  },
  {
   "cell_type": "code",
   "execution_count": 297,
   "id": "06f52656-9c07-40eb-94f5-f1e693923b4b",
   "metadata": {},
   "outputs": [],
   "source": [
    "merge = merge.drop('Estimate!!HISPANIC OR LATINO AND RACE!!Total population!!Not Hispanic or Latino!!White alone',axis=1)"
   ]
  },
  {
   "cell_type": "code",
   "execution_count": 298,
   "id": "9918cf07-87a4-4143-a772-1e672986ccd5",
   "metadata": {},
   "outputs": [],
   "source": [
    "merge = merge.drop('Margin of Error!!HISPANIC OR LATINO AND RACE!!Total population!!Not Hispanic or Latino!!White alone',axis=1)"
   ]
  },
  {
   "cell_type": "code",
   "execution_count": 299,
   "id": "47bac455-2649-4dbd-947a-d9bb64f13572",
   "metadata": {},
   "outputs": [],
   "source": [
    "merge = merge.drop('Estimate!!HISPANIC OR LATINO AND RACE!!Total population!!Not Hispanic or Latino!!Black or African American alone',axis=1)"
   ]
  },
  {
   "cell_type": "code",
   "execution_count": 300,
   "id": "015dbbc7-30f5-4334-95a5-004c0107af7c",
   "metadata": {},
   "outputs": [],
   "source": [
    "merge = merge.drop('Margin of Error!!HISPANIC OR LATINO AND RACE!!Total population!!Not Hispanic or Latino!!Black or African American alone',axis=1)"
   ]
  },
  {
   "cell_type": "code",
   "execution_count": 301,
   "id": "b93f5670-67e3-4cf6-ad27-3b08076714e0",
   "metadata": {},
   "outputs": [],
   "source": [
    "merge = merge.drop('Estimate!!HISPANIC OR LATINO AND RACE!!Total population!!Not Hispanic or Latino!!American Indian and Alaska Native alone',axis=1)"
   ]
  },
  {
   "cell_type": "code",
   "execution_count": 302,
   "id": "23fd5611-4b43-46cd-b2a2-9fdce29051c8",
   "metadata": {},
   "outputs": [],
   "source": [
    "merge = merge.drop('Margin of Error!!HISPANIC OR LATINO AND RACE!!Total population!!Not Hispanic or Latino!!American Indian and Alaska Native alone',axis=1)"
   ]
  },
  {
   "cell_type": "code",
   "execution_count": 303,
   "id": "eca01054-eac5-4e04-a6f2-683b76f1f3fc",
   "metadata": {},
   "outputs": [],
   "source": [
    "merge = merge.drop('Estimate!!HISPANIC OR LATINO AND RACE!!Total population!!Not Hispanic or Latino!!Asian alone',axis=1)"
   ]
  },
  {
   "cell_type": "code",
   "execution_count": 304,
   "id": "5180f6aa-7b20-4480-bb1b-4e2a131c0a3e",
   "metadata": {},
   "outputs": [],
   "source": [
    "merge = merge.drop('Margin of Error!!HISPANIC OR LATINO AND RACE!!Total population!!Not Hispanic or Latino!!Asian alone',axis=1)"
   ]
  },
  {
   "cell_type": "code",
   "execution_count": 305,
   "id": "dd5b8d0c-8011-4815-b0ab-1fd80f39f76f",
   "metadata": {},
   "outputs": [],
   "source": [
    "merge = merge.drop('Estimate!!HISPANIC OR LATINO AND RACE!!Total population!!Not Hispanic or Latino!!Native Hawaiian and Other Pacific Islander alone',axis=1)"
   ]
  },
  {
   "cell_type": "code",
   "execution_count": 306,
   "id": "c515dd1d-ee14-48c9-9c69-dd75a3d62597",
   "metadata": {},
   "outputs": [],
   "source": [
    "merge = merge.drop('Margin of Error!!HISPANIC OR LATINO AND RACE!!Total population!!Not Hispanic or Latino!!Native Hawaiian and Other Pacific Islander alone',axis=1)"
   ]
  },
  {
   "cell_type": "code",
   "execution_count": 307,
   "id": "16cea7f8-88a5-45cb-8fda-a64e85513c4f",
   "metadata": {},
   "outputs": [],
   "source": [
    "merge = merge.drop('Estimate!!HISPANIC OR LATINO AND RACE!!Total population!!Not Hispanic or Latino!!Some Other Race alone',axis=1)"
   ]
  },
  {
   "cell_type": "code",
   "execution_count": 308,
   "id": "8bb02435-6495-46db-8b8a-ed00ba4b2b03",
   "metadata": {},
   "outputs": [],
   "source": [
    "merge = merge.drop('Margin of Error!!HISPANIC OR LATINO AND RACE!!Total population!!Not Hispanic or Latino!!Some Other Race alone',axis=1)"
   ]
  },
  {
   "cell_type": "code",
   "execution_count": 309,
   "id": "5b65a803-5c4c-46d5-81b0-69456f1b0a30",
   "metadata": {},
   "outputs": [],
   "source": [
    "merge = merge.drop('Margin of Error!!HISPANIC OR LATINO AND RACE!!Total population!!Not Hispanic or Latino!!Two or More Races',axis=1)"
   ]
  },
  {
   "cell_type": "code",
   "execution_count": 310,
   "id": "2f518e26-3566-4049-9506-d6f861e8808b",
   "metadata": {},
   "outputs": [],
   "source": [
    "merge = merge.drop('Estimate!!HISPANIC OR LATINO AND RACE!!Total population!!Not Hispanic or Latino!!Two or More Races!!Two races including Some Other Race',axis=1)"
   ]
  },
  {
   "cell_type": "code",
   "execution_count": 311,
   "id": "535d2a4b-1b76-4470-b4b2-de4a0b3f03aa",
   "metadata": {},
   "outputs": [],
   "source": [
    "merge = merge.drop('Margin of Error!!HISPANIC OR LATINO AND RACE!!Total population!!Not Hispanic or Latino!!Two or More Races!!Two races including Some Other Race',axis=1)"
   ]
  },
  {
   "cell_type": "code",
   "execution_count": 312,
   "id": "68f5e84a-3e59-4837-bf6b-c0228b3b600a",
   "metadata": {},
   "outputs": [],
   "source": [
    "merge = merge.drop('Estimate!!HISPANIC OR LATINO AND RACE!!Total population!!Not Hispanic or Latino!!Two or More Races',axis=1)"
   ]
  },
  {
   "cell_type": "code",
   "execution_count": 313,
   "id": "d10fecff-882a-4dc7-85ff-b2e079a04fe7",
   "metadata": {},
   "outputs": [],
   "source": [
    "merge = merge.drop('Estimate!!HISPANIC OR LATINO AND RACE!!Total population!!Not Hispanic or Latino!!Two or More Races!!Two races excluding Some Other Race, and three or more races',axis=1)"
   ]
  },
  {
   "cell_type": "code",
   "execution_count": 314,
   "id": "4b9a7047-7f06-4539-96a6-2d59fbe821fc",
   "metadata": {},
   "outputs": [],
   "source": [
    "merge = merge.drop('Margin of Error!!HISPANIC OR LATINO AND RACE!!Total population!!Not Hispanic or Latino!!Two or More Races!!Two races excluding Some Other Race, and three or more races',axis=1)"
   ]
  },
  {
   "cell_type": "code",
   "execution_count": 315,
   "id": "ba636d1b-d18b-4b66-bf9e-34d625f654be",
   "metadata": {},
   "outputs": [],
   "source": [
    "merge = merge.drop('Estimate!!Total housing units',axis=1)"
   ]
  },
  {
   "cell_type": "code",
   "execution_count": 316,
   "id": "30c372be-89b0-480b-913a-68305d130861",
   "metadata": {},
   "outputs": [],
   "source": [
    "merge = merge.drop('Margin of Error!!Total housing units',axis=1)"
   ]
  },
  {
   "cell_type": "code",
   "execution_count": 317,
   "id": "db4c6cc2-3c94-4b3c-9ac8-68c53fb3102c",
   "metadata": {},
   "outputs": [],
   "source": [
    "merge = merge.drop('Estimate!!CITIZEN, VOTING AGE POPULATION!!Citizen, 18 and over population',axis=1)"
   ]
  },
  {
   "cell_type": "code",
   "execution_count": 318,
   "id": "4648cee8-5c4b-4814-833c-92e60e88e31d",
   "metadata": {},
   "outputs": [],
   "source": [
    "merge = merge.drop('Margin of Error!!CITIZEN, VOTING AGE POPULATION!!Citizen, 18 and over population',axis=1)"
   ]
  },
  {
   "cell_type": "code",
   "execution_count": 319,
   "id": "acedfbc0-6f4b-46bc-a536-ee959e7e27f1",
   "metadata": {},
   "outputs": [],
   "source": [
    "merge = merge.drop('Estimate!!CITIZEN, VOTING AGE POPULATION!!Citizen, 18 and over population!!Male',axis=1)"
   ]
  },
  {
   "cell_type": "code",
   "execution_count": 320,
   "id": "4017dbef-c797-4752-b0ac-f8905cf7fc1b",
   "metadata": {},
   "outputs": [],
   "source": [
    "merge = merge.drop('Margin of Error!!CITIZEN, VOTING AGE POPULATION!!Citizen, 18 and over population!!Male',axis=1)"
   ]
  },
  {
   "cell_type": "code",
   "execution_count": 321,
   "id": "5e5d2fec-c93d-4686-8ea7-4916516acb25",
   "metadata": {},
   "outputs": [],
   "source": [
    "merge = merge.drop('Estimate!!CITIZEN, VOTING AGE POPULATION!!Citizen, 18 and over population!!Female',axis=1)"
   ]
  },
  {
   "cell_type": "code",
   "execution_count": 322,
   "id": "6359e5e3-4bbc-4655-b229-79c03a3acc37",
   "metadata": {},
   "outputs": [],
   "source": [
    "merge = merge.drop('Margin of Error!!CITIZEN, VOTING AGE POPULATION!!Citizen, 18 and over population!!Female',axis=1)"
   ]
  },
  {
   "cell_type": "code",
   "execution_count": 323,
   "id": "11f3089c-843a-4368-aedf-9ef6135258c2",
   "metadata": {},
   "outputs": [],
   "source": [
    "merge = merge.drop('Percent!!SEX AND AGE!!Total population',axis=1)"
   ]
  },
  {
   "cell_type": "code",
   "execution_count": 324,
   "id": "3ad30c02-b020-44c9-a4a9-4abe6b358abe",
   "metadata": {},
   "outputs": [],
   "source": [
    "merge = merge.drop('Percent Margin of Error!!SEX AND AGE!!Total population',axis=1)"
   ]
  },
  {
   "cell_type": "code",
   "execution_count": 325,
   "id": "4c98bc69-ce12-4b01-91a5-8d1d25838dda",
   "metadata": {},
   "outputs": [],
   "source": [
    "merge = merge.drop('Percent!!SEX AND AGE!!Total population!!Male',axis=1)"
   ]
  },
  {
   "cell_type": "code",
   "execution_count": 326,
   "id": "d3312812-a1d6-4fbc-8960-e469e8f1cb7f",
   "metadata": {},
   "outputs": [],
   "source": [
    "merge = merge.drop('Percent Margin of Error!!SEX AND AGE!!Total population!!Male',axis=1)"
   ]
  },
  {
   "cell_type": "code",
   "execution_count": 327,
   "id": "ba14e338-5df1-41e5-a806-2386f271fab4",
   "metadata": {},
   "outputs": [],
   "source": [
    "merge = merge.drop('Percent!!SEX AND AGE!!Total population!!Female',axis=1)"
   ]
  },
  {
   "cell_type": "code",
   "execution_count": 328,
   "id": "63d77d34-9c7f-429b-b09b-283d2f120f1c",
   "metadata": {},
   "outputs": [],
   "source": [
    "merge = merge.drop('Percent Margin of Error!!SEX AND AGE!!Total population!!Female',axis=1)"
   ]
  },
  {
   "cell_type": "code",
   "execution_count": 329,
   "id": "6c22e04d-34d3-44be-b5c0-3779004602f7",
   "metadata": {},
   "outputs": [],
   "source": [
    "merge = merge.drop('Percent!!SEX AND AGE!!Total population!!Sex ratio (males per 100 females)',axis=1)"
   ]
  },
  {
   "cell_type": "code",
   "execution_count": 330,
   "id": "50aee1f7-dbac-41b2-a6b6-013ec749d678",
   "metadata": {},
   "outputs": [],
   "source": [
    "merge = merge.drop('Percent Margin of Error!!SEX AND AGE!!Total population!!Sex ratio (males per 100 females)',axis=1)"
   ]
  },
  {
   "cell_type": "code",
   "execution_count": 331,
   "id": "5b6806ea-fd62-4774-ba3b-06348714876f",
   "metadata": {},
   "outputs": [],
   "source": [
    "merge = merge.drop('Percent!!SEX AND AGE!!Total population!!Under 5 years',axis=1)"
   ]
  },
  {
   "cell_type": "code",
   "execution_count": 332,
   "id": "932fcb94-6166-4f6e-ac59-5b9aa02f80ea",
   "metadata": {},
   "outputs": [],
   "source": [
    "merge = merge.drop('Percent Margin of Error!!SEX AND AGE!!Total population!!Under 5 years',axis=1)"
   ]
  },
  {
   "cell_type": "code",
   "execution_count": 333,
   "id": "779a666c-4832-4090-a4fd-5c0d6bf3dbf6",
   "metadata": {},
   "outputs": [],
   "source": [
    "merge = merge.drop('Percent!!SEX AND AGE!!Total population!!5 to 9 years',axis=1)"
   ]
  },
  {
   "cell_type": "code",
   "execution_count": 334,
   "id": "5df30d3a-b77b-46dd-8d4f-5ac6b3bffd57",
   "metadata": {},
   "outputs": [],
   "source": [
    "merge = merge.drop('Percent Margin of Error!!SEX AND AGE!!Total population!!5 to 9 years',axis=1)"
   ]
  },
  {
   "cell_type": "code",
   "execution_count": 335,
   "id": "cea004d2-5a15-4e3a-ae2d-da453a11062f",
   "metadata": {},
   "outputs": [],
   "source": [
    "merge = merge.drop('Percent!!SEX AND AGE!!Total population!!10 to 14 years',axis=1)"
   ]
  },
  {
   "cell_type": "code",
   "execution_count": 336,
   "id": "08194570-7f9f-4ea7-a64b-0a71797e8275",
   "metadata": {},
   "outputs": [],
   "source": [
    "merge = merge.drop('Percent Margin of Error!!SEX AND AGE!!Total population!!10 to 14 years',axis=1)"
   ]
  },
  {
   "cell_type": "code",
   "execution_count": 337,
   "id": "2d7d0edb-6dda-4f4f-9e79-0cb664a887f4",
   "metadata": {},
   "outputs": [],
   "source": [
    "merge = merge.drop('Percent!!SEX AND AGE!!Total population!!15 to 19 years',axis=1)"
   ]
  },
  {
   "cell_type": "code",
   "execution_count": 338,
   "id": "e190297f-cb1c-4b8e-9b6d-497a04d26dc9",
   "metadata": {},
   "outputs": [],
   "source": [
    "merge = merge.drop('Percent Margin of Error!!SEX AND AGE!!Total population!!15 to 19 years',axis=1)"
   ]
  },
  {
   "cell_type": "code",
   "execution_count": 339,
   "id": "1e858d06-17cd-47fd-a4f4-bf8c0d3a57e2",
   "metadata": {},
   "outputs": [],
   "source": [
    "merge = merge.drop('Percent!!SEX AND AGE!!Total population!!20 to 24 years',axis=1)"
   ]
  },
  {
   "cell_type": "code",
   "execution_count": 343,
   "id": "e938aca3-eccd-4581-a7b5-21ad9430a9b7",
   "metadata": {},
   "outputs": [],
   "source": [
    "merge = merge.drop('Percent!!SEX AND AGE!!Total population!!25 to 34 years',axis=1)"
   ]
  },
  {
   "cell_type": "code",
   "execution_count": 344,
   "id": "0cd811a8-0b62-425e-8692-cdcbac5b9caf",
   "metadata": {},
   "outputs": [
    {
     "ename": "KeyError",
     "evalue": "\"['Percent Margin of Error!!SEX AND AGE!!Total population!!25 to 34 years'] not found in axis\"",
     "output_type": "error",
     "traceback": [
      "\u001b[0;31m---------------------------------------------------------------------------\u001b[0m",
      "\u001b[0;31mKeyError\u001b[0m                                  Traceback (most recent call last)",
      "Cell \u001b[0;32mIn[344], line 1\u001b[0m\n\u001b[0;32m----> 1\u001b[0m merge \u001b[38;5;241m=\u001b[39m \u001b[43mmerge\u001b[49m\u001b[38;5;241;43m.\u001b[39;49m\u001b[43mdrop\u001b[49m\u001b[43m(\u001b[49m\u001b[38;5;124;43m'\u001b[39;49m\u001b[38;5;124;43mPercent Margin of Error!!SEX AND AGE!!Total population!!25 to 34 years\u001b[39;49m\u001b[38;5;124;43m'\u001b[39;49m\u001b[43m,\u001b[49m\u001b[43maxis\u001b[49m\u001b[38;5;241;43m=\u001b[39;49m\u001b[38;5;241;43m1\u001b[39;49m\u001b[43m)\u001b[49m\n",
      "File \u001b[0;32m/opt/conda/lib/python3.11/site-packages/pandas/core/frame.py:5344\u001b[0m, in \u001b[0;36mDataFrame.drop\u001b[0;34m(self, labels, axis, index, columns, level, inplace, errors)\u001b[0m\n\u001b[1;32m   5196\u001b[0m \u001b[38;5;28;01mdef\u001b[39;00m \u001b[38;5;21mdrop\u001b[39m(\n\u001b[1;32m   5197\u001b[0m     \u001b[38;5;28mself\u001b[39m,\n\u001b[1;32m   5198\u001b[0m     labels: IndexLabel \u001b[38;5;241m|\u001b[39m \u001b[38;5;28;01mNone\u001b[39;00m \u001b[38;5;241m=\u001b[39m \u001b[38;5;28;01mNone\u001b[39;00m,\n\u001b[0;32m   (...)\u001b[0m\n\u001b[1;32m   5205\u001b[0m     errors: IgnoreRaise \u001b[38;5;241m=\u001b[39m \u001b[38;5;124m\"\u001b[39m\u001b[38;5;124mraise\u001b[39m\u001b[38;5;124m\"\u001b[39m,\n\u001b[1;32m   5206\u001b[0m ) \u001b[38;5;241m-\u001b[39m\u001b[38;5;241m>\u001b[39m DataFrame \u001b[38;5;241m|\u001b[39m \u001b[38;5;28;01mNone\u001b[39;00m:\n\u001b[1;32m   5207\u001b[0m \u001b[38;5;250m    \u001b[39m\u001b[38;5;124;03m\"\"\"\u001b[39;00m\n\u001b[1;32m   5208\u001b[0m \u001b[38;5;124;03m    Drop specified labels from rows or columns.\u001b[39;00m\n\u001b[1;32m   5209\u001b[0m \n\u001b[0;32m   (...)\u001b[0m\n\u001b[1;32m   5342\u001b[0m \u001b[38;5;124;03m            weight  1.0     0.8\u001b[39;00m\n\u001b[1;32m   5343\u001b[0m \u001b[38;5;124;03m    \"\"\"\u001b[39;00m\n\u001b[0;32m-> 5344\u001b[0m     \u001b[38;5;28;01mreturn\u001b[39;00m \u001b[38;5;28;43msuper\u001b[39;49m\u001b[43m(\u001b[49m\u001b[43m)\u001b[49m\u001b[38;5;241;43m.\u001b[39;49m\u001b[43mdrop\u001b[49m\u001b[43m(\u001b[49m\n\u001b[1;32m   5345\u001b[0m \u001b[43m        \u001b[49m\u001b[43mlabels\u001b[49m\u001b[38;5;241;43m=\u001b[39;49m\u001b[43mlabels\u001b[49m\u001b[43m,\u001b[49m\n\u001b[1;32m   5346\u001b[0m \u001b[43m        \u001b[49m\u001b[43maxis\u001b[49m\u001b[38;5;241;43m=\u001b[39;49m\u001b[43maxis\u001b[49m\u001b[43m,\u001b[49m\n\u001b[1;32m   5347\u001b[0m \u001b[43m        \u001b[49m\u001b[43mindex\u001b[49m\u001b[38;5;241;43m=\u001b[39;49m\u001b[43mindex\u001b[49m\u001b[43m,\u001b[49m\n\u001b[1;32m   5348\u001b[0m \u001b[43m        \u001b[49m\u001b[43mcolumns\u001b[49m\u001b[38;5;241;43m=\u001b[39;49m\u001b[43mcolumns\u001b[49m\u001b[43m,\u001b[49m\n\u001b[1;32m   5349\u001b[0m \u001b[43m        \u001b[49m\u001b[43mlevel\u001b[49m\u001b[38;5;241;43m=\u001b[39;49m\u001b[43mlevel\u001b[49m\u001b[43m,\u001b[49m\n\u001b[1;32m   5350\u001b[0m \u001b[43m        \u001b[49m\u001b[43minplace\u001b[49m\u001b[38;5;241;43m=\u001b[39;49m\u001b[43minplace\u001b[49m\u001b[43m,\u001b[49m\n\u001b[1;32m   5351\u001b[0m \u001b[43m        \u001b[49m\u001b[43merrors\u001b[49m\u001b[38;5;241;43m=\u001b[39;49m\u001b[43merrors\u001b[49m\u001b[43m,\u001b[49m\n\u001b[1;32m   5352\u001b[0m \u001b[43m    \u001b[49m\u001b[43m)\u001b[49m\n",
      "File \u001b[0;32m/opt/conda/lib/python3.11/site-packages/pandas/core/generic.py:4711\u001b[0m, in \u001b[0;36mNDFrame.drop\u001b[0;34m(self, labels, axis, index, columns, level, inplace, errors)\u001b[0m\n\u001b[1;32m   4709\u001b[0m \u001b[38;5;28;01mfor\u001b[39;00m axis, labels \u001b[38;5;129;01min\u001b[39;00m axes\u001b[38;5;241m.\u001b[39mitems():\n\u001b[1;32m   4710\u001b[0m     \u001b[38;5;28;01mif\u001b[39;00m labels \u001b[38;5;129;01mis\u001b[39;00m \u001b[38;5;129;01mnot\u001b[39;00m \u001b[38;5;28;01mNone\u001b[39;00m:\n\u001b[0;32m-> 4711\u001b[0m         obj \u001b[38;5;241m=\u001b[39m \u001b[43mobj\u001b[49m\u001b[38;5;241;43m.\u001b[39;49m\u001b[43m_drop_axis\u001b[49m\u001b[43m(\u001b[49m\u001b[43mlabels\u001b[49m\u001b[43m,\u001b[49m\u001b[43m \u001b[49m\u001b[43maxis\u001b[49m\u001b[43m,\u001b[49m\u001b[43m \u001b[49m\u001b[43mlevel\u001b[49m\u001b[38;5;241;43m=\u001b[39;49m\u001b[43mlevel\u001b[49m\u001b[43m,\u001b[49m\u001b[43m \u001b[49m\u001b[43merrors\u001b[49m\u001b[38;5;241;43m=\u001b[39;49m\u001b[43merrors\u001b[49m\u001b[43m)\u001b[49m\n\u001b[1;32m   4713\u001b[0m \u001b[38;5;28;01mif\u001b[39;00m inplace:\n\u001b[1;32m   4714\u001b[0m     \u001b[38;5;28mself\u001b[39m\u001b[38;5;241m.\u001b[39m_update_inplace(obj)\n",
      "File \u001b[0;32m/opt/conda/lib/python3.11/site-packages/pandas/core/generic.py:4753\u001b[0m, in \u001b[0;36mNDFrame._drop_axis\u001b[0;34m(self, labels, axis, level, errors, only_slice)\u001b[0m\n\u001b[1;32m   4751\u001b[0m         new_axis \u001b[38;5;241m=\u001b[39m axis\u001b[38;5;241m.\u001b[39mdrop(labels, level\u001b[38;5;241m=\u001b[39mlevel, errors\u001b[38;5;241m=\u001b[39merrors)\n\u001b[1;32m   4752\u001b[0m     \u001b[38;5;28;01melse\u001b[39;00m:\n\u001b[0;32m-> 4753\u001b[0m         new_axis \u001b[38;5;241m=\u001b[39m \u001b[43maxis\u001b[49m\u001b[38;5;241;43m.\u001b[39;49m\u001b[43mdrop\u001b[49m\u001b[43m(\u001b[49m\u001b[43mlabels\u001b[49m\u001b[43m,\u001b[49m\u001b[43m \u001b[49m\u001b[43merrors\u001b[49m\u001b[38;5;241;43m=\u001b[39;49m\u001b[43merrors\u001b[49m\u001b[43m)\u001b[49m\n\u001b[1;32m   4754\u001b[0m     indexer \u001b[38;5;241m=\u001b[39m axis\u001b[38;5;241m.\u001b[39mget_indexer(new_axis)\n\u001b[1;32m   4756\u001b[0m \u001b[38;5;66;03m# Case for non-unique axis\u001b[39;00m\n\u001b[1;32m   4757\u001b[0m \u001b[38;5;28;01melse\u001b[39;00m:\n",
      "File \u001b[0;32m/opt/conda/lib/python3.11/site-packages/pandas/core/indexes/base.py:7000\u001b[0m, in \u001b[0;36mIndex.drop\u001b[0;34m(self, labels, errors)\u001b[0m\n\u001b[1;32m   6998\u001b[0m \u001b[38;5;28;01mif\u001b[39;00m mask\u001b[38;5;241m.\u001b[39many():\n\u001b[1;32m   6999\u001b[0m     \u001b[38;5;28;01mif\u001b[39;00m errors \u001b[38;5;241m!=\u001b[39m \u001b[38;5;124m\"\u001b[39m\u001b[38;5;124mignore\u001b[39m\u001b[38;5;124m\"\u001b[39m:\n\u001b[0;32m-> 7000\u001b[0m         \u001b[38;5;28;01mraise\u001b[39;00m \u001b[38;5;167;01mKeyError\u001b[39;00m(\u001b[38;5;124mf\u001b[39m\u001b[38;5;124m\"\u001b[39m\u001b[38;5;132;01m{\u001b[39;00mlabels[mask]\u001b[38;5;241m.\u001b[39mtolist()\u001b[38;5;132;01m}\u001b[39;00m\u001b[38;5;124m not found in axis\u001b[39m\u001b[38;5;124m\"\u001b[39m)\n\u001b[1;32m   7001\u001b[0m     indexer \u001b[38;5;241m=\u001b[39m indexer[\u001b[38;5;241m~\u001b[39mmask]\n\u001b[1;32m   7002\u001b[0m \u001b[38;5;28;01mreturn\u001b[39;00m \u001b[38;5;28mself\u001b[39m\u001b[38;5;241m.\u001b[39mdelete(indexer)\n",
      "\u001b[0;31mKeyError\u001b[0m: \"['Percent Margin of Error!!SEX AND AGE!!Total population!!25 to 34 years'] not found in axis\""
     ]
    }
   ],
   "source": [
    "merge = merge.drop('Percent Margin of Error!!SEX AND AGE!!Total population!!25 to 34 years',axis=1)"
   ]
  },
  {
   "cell_type": "code",
   "execution_count": 345,
   "id": "ba8b6f28-50fc-49dc-97d8-8dd0e84a1543",
   "metadata": {},
   "outputs": [
    {
     "ename": "KeyError",
     "evalue": "\"['Percent!!SEX AND AGE!!Total population!!35 to 44 years'] not found in axis\"",
     "output_type": "error",
     "traceback": [
      "\u001b[0;31m---------------------------------------------------------------------------\u001b[0m",
      "\u001b[0;31mKeyError\u001b[0m                                  Traceback (most recent call last)",
      "Cell \u001b[0;32mIn[345], line 1\u001b[0m\n\u001b[0;32m----> 1\u001b[0m merge \u001b[38;5;241m=\u001b[39m \u001b[43mmerge\u001b[49m\u001b[38;5;241;43m.\u001b[39;49m\u001b[43mdrop\u001b[49m\u001b[43m(\u001b[49m\u001b[38;5;124;43m'\u001b[39;49m\u001b[38;5;124;43mPercent!!SEX AND AGE!!Total population!!35 to 44 years\u001b[39;49m\u001b[38;5;124;43m'\u001b[39;49m\u001b[43m,\u001b[49m\u001b[43maxis\u001b[49m\u001b[38;5;241;43m=\u001b[39;49m\u001b[38;5;241;43m1\u001b[39;49m\u001b[43m)\u001b[49m\n",
      "File \u001b[0;32m/opt/conda/lib/python3.11/site-packages/pandas/core/frame.py:5344\u001b[0m, in \u001b[0;36mDataFrame.drop\u001b[0;34m(self, labels, axis, index, columns, level, inplace, errors)\u001b[0m\n\u001b[1;32m   5196\u001b[0m \u001b[38;5;28;01mdef\u001b[39;00m \u001b[38;5;21mdrop\u001b[39m(\n\u001b[1;32m   5197\u001b[0m     \u001b[38;5;28mself\u001b[39m,\n\u001b[1;32m   5198\u001b[0m     labels: IndexLabel \u001b[38;5;241m|\u001b[39m \u001b[38;5;28;01mNone\u001b[39;00m \u001b[38;5;241m=\u001b[39m \u001b[38;5;28;01mNone\u001b[39;00m,\n\u001b[0;32m   (...)\u001b[0m\n\u001b[1;32m   5205\u001b[0m     errors: IgnoreRaise \u001b[38;5;241m=\u001b[39m \u001b[38;5;124m\"\u001b[39m\u001b[38;5;124mraise\u001b[39m\u001b[38;5;124m\"\u001b[39m,\n\u001b[1;32m   5206\u001b[0m ) \u001b[38;5;241m-\u001b[39m\u001b[38;5;241m>\u001b[39m DataFrame \u001b[38;5;241m|\u001b[39m \u001b[38;5;28;01mNone\u001b[39;00m:\n\u001b[1;32m   5207\u001b[0m \u001b[38;5;250m    \u001b[39m\u001b[38;5;124;03m\"\"\"\u001b[39;00m\n\u001b[1;32m   5208\u001b[0m \u001b[38;5;124;03m    Drop specified labels from rows or columns.\u001b[39;00m\n\u001b[1;32m   5209\u001b[0m \n\u001b[0;32m   (...)\u001b[0m\n\u001b[1;32m   5342\u001b[0m \u001b[38;5;124;03m            weight  1.0     0.8\u001b[39;00m\n\u001b[1;32m   5343\u001b[0m \u001b[38;5;124;03m    \"\"\"\u001b[39;00m\n\u001b[0;32m-> 5344\u001b[0m     \u001b[38;5;28;01mreturn\u001b[39;00m \u001b[38;5;28;43msuper\u001b[39;49m\u001b[43m(\u001b[49m\u001b[43m)\u001b[49m\u001b[38;5;241;43m.\u001b[39;49m\u001b[43mdrop\u001b[49m\u001b[43m(\u001b[49m\n\u001b[1;32m   5345\u001b[0m \u001b[43m        \u001b[49m\u001b[43mlabels\u001b[49m\u001b[38;5;241;43m=\u001b[39;49m\u001b[43mlabels\u001b[49m\u001b[43m,\u001b[49m\n\u001b[1;32m   5346\u001b[0m \u001b[43m        \u001b[49m\u001b[43maxis\u001b[49m\u001b[38;5;241;43m=\u001b[39;49m\u001b[43maxis\u001b[49m\u001b[43m,\u001b[49m\n\u001b[1;32m   5347\u001b[0m \u001b[43m        \u001b[49m\u001b[43mindex\u001b[49m\u001b[38;5;241;43m=\u001b[39;49m\u001b[43mindex\u001b[49m\u001b[43m,\u001b[49m\n\u001b[1;32m   5348\u001b[0m \u001b[43m        \u001b[49m\u001b[43mcolumns\u001b[49m\u001b[38;5;241;43m=\u001b[39;49m\u001b[43mcolumns\u001b[49m\u001b[43m,\u001b[49m\n\u001b[1;32m   5349\u001b[0m \u001b[43m        \u001b[49m\u001b[43mlevel\u001b[49m\u001b[38;5;241;43m=\u001b[39;49m\u001b[43mlevel\u001b[49m\u001b[43m,\u001b[49m\n\u001b[1;32m   5350\u001b[0m \u001b[43m        \u001b[49m\u001b[43minplace\u001b[49m\u001b[38;5;241;43m=\u001b[39;49m\u001b[43minplace\u001b[49m\u001b[43m,\u001b[49m\n\u001b[1;32m   5351\u001b[0m \u001b[43m        \u001b[49m\u001b[43merrors\u001b[49m\u001b[38;5;241;43m=\u001b[39;49m\u001b[43merrors\u001b[49m\u001b[43m,\u001b[49m\n\u001b[1;32m   5352\u001b[0m \u001b[43m    \u001b[49m\u001b[43m)\u001b[49m\n",
      "File \u001b[0;32m/opt/conda/lib/python3.11/site-packages/pandas/core/generic.py:4711\u001b[0m, in \u001b[0;36mNDFrame.drop\u001b[0;34m(self, labels, axis, index, columns, level, inplace, errors)\u001b[0m\n\u001b[1;32m   4709\u001b[0m \u001b[38;5;28;01mfor\u001b[39;00m axis, labels \u001b[38;5;129;01min\u001b[39;00m axes\u001b[38;5;241m.\u001b[39mitems():\n\u001b[1;32m   4710\u001b[0m     \u001b[38;5;28;01mif\u001b[39;00m labels \u001b[38;5;129;01mis\u001b[39;00m \u001b[38;5;129;01mnot\u001b[39;00m \u001b[38;5;28;01mNone\u001b[39;00m:\n\u001b[0;32m-> 4711\u001b[0m         obj \u001b[38;5;241m=\u001b[39m \u001b[43mobj\u001b[49m\u001b[38;5;241;43m.\u001b[39;49m\u001b[43m_drop_axis\u001b[49m\u001b[43m(\u001b[49m\u001b[43mlabels\u001b[49m\u001b[43m,\u001b[49m\u001b[43m \u001b[49m\u001b[43maxis\u001b[49m\u001b[43m,\u001b[49m\u001b[43m \u001b[49m\u001b[43mlevel\u001b[49m\u001b[38;5;241;43m=\u001b[39;49m\u001b[43mlevel\u001b[49m\u001b[43m,\u001b[49m\u001b[43m \u001b[49m\u001b[43merrors\u001b[49m\u001b[38;5;241;43m=\u001b[39;49m\u001b[43merrors\u001b[49m\u001b[43m)\u001b[49m\n\u001b[1;32m   4713\u001b[0m \u001b[38;5;28;01mif\u001b[39;00m inplace:\n\u001b[1;32m   4714\u001b[0m     \u001b[38;5;28mself\u001b[39m\u001b[38;5;241m.\u001b[39m_update_inplace(obj)\n",
      "File \u001b[0;32m/opt/conda/lib/python3.11/site-packages/pandas/core/generic.py:4753\u001b[0m, in \u001b[0;36mNDFrame._drop_axis\u001b[0;34m(self, labels, axis, level, errors, only_slice)\u001b[0m\n\u001b[1;32m   4751\u001b[0m         new_axis \u001b[38;5;241m=\u001b[39m axis\u001b[38;5;241m.\u001b[39mdrop(labels, level\u001b[38;5;241m=\u001b[39mlevel, errors\u001b[38;5;241m=\u001b[39merrors)\n\u001b[1;32m   4752\u001b[0m     \u001b[38;5;28;01melse\u001b[39;00m:\n\u001b[0;32m-> 4753\u001b[0m         new_axis \u001b[38;5;241m=\u001b[39m \u001b[43maxis\u001b[49m\u001b[38;5;241;43m.\u001b[39;49m\u001b[43mdrop\u001b[49m\u001b[43m(\u001b[49m\u001b[43mlabels\u001b[49m\u001b[43m,\u001b[49m\u001b[43m \u001b[49m\u001b[43merrors\u001b[49m\u001b[38;5;241;43m=\u001b[39;49m\u001b[43merrors\u001b[49m\u001b[43m)\u001b[49m\n\u001b[1;32m   4754\u001b[0m     indexer \u001b[38;5;241m=\u001b[39m axis\u001b[38;5;241m.\u001b[39mget_indexer(new_axis)\n\u001b[1;32m   4756\u001b[0m \u001b[38;5;66;03m# Case for non-unique axis\u001b[39;00m\n\u001b[1;32m   4757\u001b[0m \u001b[38;5;28;01melse\u001b[39;00m:\n",
      "File \u001b[0;32m/opt/conda/lib/python3.11/site-packages/pandas/core/indexes/base.py:7000\u001b[0m, in \u001b[0;36mIndex.drop\u001b[0;34m(self, labels, errors)\u001b[0m\n\u001b[1;32m   6998\u001b[0m \u001b[38;5;28;01mif\u001b[39;00m mask\u001b[38;5;241m.\u001b[39many():\n\u001b[1;32m   6999\u001b[0m     \u001b[38;5;28;01mif\u001b[39;00m errors \u001b[38;5;241m!=\u001b[39m \u001b[38;5;124m\"\u001b[39m\u001b[38;5;124mignore\u001b[39m\u001b[38;5;124m\"\u001b[39m:\n\u001b[0;32m-> 7000\u001b[0m         \u001b[38;5;28;01mraise\u001b[39;00m \u001b[38;5;167;01mKeyError\u001b[39;00m(\u001b[38;5;124mf\u001b[39m\u001b[38;5;124m\"\u001b[39m\u001b[38;5;132;01m{\u001b[39;00mlabels[mask]\u001b[38;5;241m.\u001b[39mtolist()\u001b[38;5;132;01m}\u001b[39;00m\u001b[38;5;124m not found in axis\u001b[39m\u001b[38;5;124m\"\u001b[39m)\n\u001b[1;32m   7001\u001b[0m     indexer \u001b[38;5;241m=\u001b[39m indexer[\u001b[38;5;241m~\u001b[39mmask]\n\u001b[1;32m   7002\u001b[0m \u001b[38;5;28;01mreturn\u001b[39;00m \u001b[38;5;28mself\u001b[39m\u001b[38;5;241m.\u001b[39mdelete(indexer)\n",
      "\u001b[0;31mKeyError\u001b[0m: \"['Percent!!SEX AND AGE!!Total population!!35 to 44 years'] not found in axis\""
     ]
    }
   ],
   "source": [
    "merge = merge.drop('Percent!!SEX AND AGE!!Total population!!35 to 44 years',axis=1)"
   ]
  },
  {
   "cell_type": "code",
   "execution_count": 346,
   "id": "00b702bf-5a15-4400-830b-fb62bd2d39d5",
   "metadata": {},
   "outputs": [],
   "source": [
    "merge = merge.drop('Percent Margin of Error!!SEX AND AGE!!Total population!!35 to 44 years',axis=1)"
   ]
  },
  {
   "cell_type": "code",
   "execution_count": 347,
   "id": "a0f8837c-693c-4e9f-bcb8-2c7fcc57a8bc",
   "metadata": {},
   "outputs": [],
   "source": [
    "merge = merge.drop('Percent!!SEX AND AGE!!Total population!!45 to 54 years',axis=1)"
   ]
  },
  {
   "cell_type": "code",
   "execution_count": 348,
   "id": "3c275c2d-d5c2-4d6a-9a11-76e68fcc7f31",
   "metadata": {},
   "outputs": [],
   "source": [
    "merge = merge.drop('Percent Margin of Error!!SEX AND AGE!!Total population!!45 to 54 years',axis=1)"
   ]
  },
  {
   "cell_type": "code",
   "execution_count": 349,
   "id": "2fc3ba89-7ae4-418b-bae6-efabead55a6e",
   "metadata": {},
   "outputs": [],
   "source": [
    "merge = merge.drop('Percent!!SEX AND AGE!!Total population!!55 to 59 years',axis=1)"
   ]
  },
  {
   "cell_type": "code",
   "execution_count": 350,
   "id": "93e488a3-3b81-4de4-a802-2d23c12836ec",
   "metadata": {},
   "outputs": [],
   "source": [
    "merge = merge.drop('Percent Margin of Error!!SEX AND AGE!!Total population!!55 to 59 years',axis=1)"
   ]
  },
  {
   "cell_type": "code",
   "execution_count": 351,
   "id": "0669518b-0f18-48d8-ab4c-066b78d78272",
   "metadata": {},
   "outputs": [],
   "source": [
    "merge = merge.drop('Percent!!SEX AND AGE!!Total population!!60 to 64 years',axis=1)"
   ]
  },
  {
   "cell_type": "code",
   "execution_count": 352,
   "id": "b9a9179e-28ac-43c3-ad34-4023c33590ae",
   "metadata": {},
   "outputs": [],
   "source": [
    "merge = merge.drop('Percent Margin of Error!!SEX AND AGE!!Total population!!60 to 64 years',axis=1)"
   ]
  },
  {
   "cell_type": "code",
   "execution_count": 353,
   "id": "8f54bfd6-5f91-466c-9914-97b8ae8c085c",
   "metadata": {},
   "outputs": [],
   "source": [
    "merge = merge.drop('Percent!!SEX AND AGE!!Total population!!65 to 74 years',axis=1)"
   ]
  },
  {
   "cell_type": "code",
   "execution_count": 354,
   "id": "9e306b3d-5176-4f4f-8fa4-13451c76acf4",
   "metadata": {},
   "outputs": [],
   "source": [
    "merge = merge.drop('Percent Margin of Error!!SEX AND AGE!!Total population!!65 to 74 years',axis=1)"
   ]
  },
  {
   "cell_type": "code",
   "execution_count": 355,
   "id": "f6f941f2-2f76-40ab-90d9-c0c61223bcc6",
   "metadata": {},
   "outputs": [],
   "source": [
    "merge = merge.drop('Percent!!SEX AND AGE!!Total population!!75 to 84 years',axis=1)"
   ]
  },
  {
   "cell_type": "code",
   "execution_count": 356,
   "id": "67c431e9-e5be-487e-9cc2-460980b7dba8",
   "metadata": {},
   "outputs": [],
   "source": [
    "merge = merge.drop('Percent Margin of Error!!SEX AND AGE!!Total population!!75 to 84 years',axis=1)"
   ]
  },
  {
   "cell_type": "code",
   "execution_count": 357,
   "id": "333ff13a-1f08-4732-a249-de0a9b617271",
   "metadata": {},
   "outputs": [],
   "source": [
    "merge = merge.drop('Percent!!SEX AND AGE!!Total population!!85 years and over',axis=1)"
   ]
  },
  {
   "cell_type": "code",
   "execution_count": 358,
   "id": "d03ac2b7-e527-437c-9072-4f87d7617a2f",
   "metadata": {},
   "outputs": [],
   "source": [
    "merge = merge.drop('Percent Margin of Error!!SEX AND AGE!!Total population!!85 years and over',axis=1)"
   ]
  },
  {
   "cell_type": "code",
   "execution_count": 359,
   "id": "5efef470-db0d-4c65-9bad-ed86c672f0f8",
   "metadata": {},
   "outputs": [],
   "source": [
    "merge = merge.drop('Percent!!SEX AND AGE!!Total population!!Median age (years)',axis=1)"
   ]
  },
  {
   "cell_type": "code",
   "execution_count": 360,
   "id": "bd183169-2a2c-4935-84d5-c23cab966daf",
   "metadata": {},
   "outputs": [],
   "source": [
    "merge = merge.drop('Percent Margin of Error!!SEX AND AGE!!Total population!!Median age (years)',axis=1)"
   ]
  },
  {
   "cell_type": "code",
   "execution_count": 361,
   "id": "95d60c3c-6965-4a6e-b5d8-395dd856a336",
   "metadata": {},
   "outputs": [],
   "source": [
    "merge = merge.drop('Percent!!SEX AND AGE!!Total population!!Under 18 years',axis=1)"
   ]
  },
  {
   "cell_type": "code",
   "execution_count": 362,
   "id": "a66e769f-7ac3-4145-bb39-a892ef59b2ef",
   "metadata": {},
   "outputs": [],
   "source": [
    "merge = merge.drop('Percent Margin of Error!!SEX AND AGE!!Total population!!Under 18 years',axis=1)"
   ]
  },
  {
   "cell_type": "code",
   "execution_count": 363,
   "id": "fcadcdcf-2b9f-48b2-97da-99da370c4133",
   "metadata": {},
   "outputs": [],
   "source": [
    "merge = merge.drop('Percent!!SEX AND AGE!!Total population!!16 years and over',axis=1)"
   ]
  },
  {
   "cell_type": "code",
   "execution_count": 364,
   "id": "2027c366-6738-4aab-9dc3-b51493790a75",
   "metadata": {},
   "outputs": [],
   "source": [
    "merge = merge.drop('Percent Margin of Error!!SEX AND AGE!!Total population!!16 years and over',axis=1)"
   ]
  },
  {
   "cell_type": "code",
   "execution_count": 365,
   "id": "f57ecbb4-f46e-4cb0-a09a-e711428e2bd3",
   "metadata": {},
   "outputs": [],
   "source": [
    "merge = merge.drop('Percent!!SEX AND AGE!!Total population!!18 years and over',axis=1)"
   ]
  },
  {
   "cell_type": "code",
   "execution_count": 366,
   "id": "001b2181-16cd-4b31-871b-0664d0015f27",
   "metadata": {},
   "outputs": [],
   "source": [
    "merge = merge.drop('Percent Margin of Error!!SEX AND AGE!!Total population!!18 years and over',axis=1)"
   ]
  },
  {
   "cell_type": "code",
   "execution_count": 367,
   "id": "4dc020cf-756e-4a47-abc7-53476e7ae564",
   "metadata": {},
   "outputs": [],
   "source": [
    "merge = merge.drop('Percent!!SEX AND AGE!!Total population!!21 years and over',axis=1)"
   ]
  },
  {
   "cell_type": "code",
   "execution_count": 368,
   "id": "b5446671-f051-4faf-913d-3b51252fe388",
   "metadata": {},
   "outputs": [],
   "source": [
    "merge = merge.drop('Percent Margin of Error!!SEX AND AGE!!Total population!!21 years and over',axis=1)"
   ]
  },
  {
   "cell_type": "code",
   "execution_count": 369,
   "id": "bdeacf92-5886-4b59-a433-141261ca78b3",
   "metadata": {},
   "outputs": [],
   "source": [
    "merge = merge.drop('Percent!!SEX AND AGE!!Total population!!62 years and over',axis=1)"
   ]
  },
  {
   "cell_type": "code",
   "execution_count": 370,
   "id": "b4122220-ebe2-4553-b841-7b265337d846",
   "metadata": {},
   "outputs": [],
   "source": [
    "merge = merge.drop('Percent Margin of Error!!SEX AND AGE!!Total population!!62 years and over',axis=1)"
   ]
  },
  {
   "cell_type": "code",
   "execution_count": 371,
   "id": "d3b4d55b-6d5e-4bde-9a45-6f29b09e3b15",
   "metadata": {},
   "outputs": [],
   "source": [
    "merge = merge.drop('Percent!!SEX AND AGE!!Total population!!65 years and over',axis=1)"
   ]
  },
  {
   "cell_type": "code",
   "execution_count": 372,
   "id": "6ed88e26-0b7d-4a83-8e9c-28bb0e7f9731",
   "metadata": {},
   "outputs": [],
   "source": [
    "merge = merge.drop('Percent Margin of Error!!SEX AND AGE!!Total population!!65 years and over',axis=1)"
   ]
  },
  {
   "cell_type": "code",
   "execution_count": 373,
   "id": "36522252-0c16-4e53-896a-9cf6dc1922be",
   "metadata": {},
   "outputs": [],
   "source": [
    "merge = merge.drop('Percent!!SEX AND AGE!!Total population!!18 years and over.1',axis=1)"
   ]
  },
  {
   "cell_type": "code",
   "execution_count": 374,
   "id": "8461cdb7-7a56-4926-8696-134f3cf79d72",
   "metadata": {},
   "outputs": [],
   "source": [
    "merge = merge.drop('Percent Margin of Error!!SEX AND AGE!!Total population!!18 years and over.1',axis=1)"
   ]
  },
  {
   "cell_type": "code",
   "execution_count": 375,
   "id": "7340f7e6-cb92-485b-9514-5b9d1bc81e67",
   "metadata": {},
   "outputs": [],
   "source": [
    "merge = merge.drop('Percent!!SEX AND AGE!!Total population!!18 years and over!!Male',axis=1)"
   ]
  },
  {
   "cell_type": "code",
   "execution_count": 376,
   "id": "e8e07bda-9870-4b7c-8dfb-116ec3573bce",
   "metadata": {},
   "outputs": [],
   "source": [
    "merge = merge.drop('Percent Margin of Error!!SEX AND AGE!!Total population!!18 years and over!!Male',axis=1)"
   ]
  },
  {
   "cell_type": "code",
   "execution_count": 377,
   "id": "eb43a47d-85f0-4027-97c7-387da0b8bdcf",
   "metadata": {},
   "outputs": [],
   "source": [
    "merge = merge.drop('Percent!!SEX AND AGE!!Total population!!18 years and over!!Female',axis=1)"
   ]
  },
  {
   "cell_type": "code",
   "execution_count": 378,
   "id": "2a299c9a-5313-4a4b-9971-1cf71d9669b2",
   "metadata": {},
   "outputs": [],
   "source": [
    "merge = merge.drop('Percent Margin of Error!!SEX AND AGE!!Total population!!18 years and over!!Female',axis=1)"
   ]
  },
  {
   "cell_type": "code",
   "execution_count": 379,
   "id": "986dc5b9-fcc6-4853-8a11-d8a072b4b46a",
   "metadata": {},
   "outputs": [],
   "source": [
    "merge = merge.drop('Percent!!SEX AND AGE!!Total population!!18 years and over!!Sex ratio (males per 100 females)',axis=1)"
   ]
  },
  {
   "cell_type": "code",
   "execution_count": 380,
   "id": "558e3d3a-b215-430d-913f-f550818ba4ac",
   "metadata": {},
   "outputs": [],
   "source": [
    "merge = merge.drop('Percent Margin of Error!!SEX AND AGE!!Total population!!18 years and over!!Sex ratio (males per 100 females)',axis=1)"
   ]
  },
  {
   "cell_type": "code",
   "execution_count": 381,
   "id": "ba18928b-b847-4439-bd15-df6d2f7b35c6",
   "metadata": {},
   "outputs": [],
   "source": [
    "merge = merge.drop('Percent!!SEX AND AGE!!Total population!!65 years and over.1',axis=1)"
   ]
  },
  {
   "cell_type": "code",
   "execution_count": 382,
   "id": "70c9f8ca-b6e1-496b-afad-a74869bfc3c9",
   "metadata": {},
   "outputs": [],
   "source": [
    "merge = merge.drop('Percent Margin of Error!!SEX AND AGE!!Total population!!65 years and over.1',axis=1)"
   ]
  },
  {
   "cell_type": "code",
   "execution_count": 383,
   "id": "87dcd732-ee7d-4fb2-95a6-45e5f3acaeb9",
   "metadata": {},
   "outputs": [],
   "source": [
    "merge = merge.drop('Percent!!SEX AND AGE!!Total population!!65 years and over!!Male',axis=1)"
   ]
  },
  {
   "cell_type": "code",
   "execution_count": 384,
   "id": "71f0cd2a-df27-4b07-b21f-22bc13285554",
   "metadata": {},
   "outputs": [],
   "source": [
    "merge = merge.drop('Percent Margin of Error!!SEX AND AGE!!Total population!!65 years and over!!Male',axis=1)"
   ]
  },
  {
   "cell_type": "code",
   "execution_count": 385,
   "id": "45d6dcfe-fb0a-4d62-8399-81af10c619ec",
   "metadata": {},
   "outputs": [],
   "source": [
    "merge = merge.drop('Percent!!SEX AND AGE!!Total population!!65 years and over!!Female',axis=1)"
   ]
  },
  {
   "cell_type": "code",
   "execution_count": 386,
   "id": "d72d2f0d-aa4c-4af3-bb2a-6500c76c8f0b",
   "metadata": {},
   "outputs": [],
   "source": [
    "merge = merge.drop('Percent Margin of Error!!SEX AND AGE!!Total population!!65 years and over!!Female',axis=1)"
   ]
  },
  {
   "cell_type": "code",
   "execution_count": 387,
   "id": "d2feffff-0945-490a-a631-dcf4475f81a4",
   "metadata": {},
   "outputs": [],
   "source": [
    "merge = merge.drop('Percent!!SEX AND AGE!!Total population!!65 years and over!!Sex ratio (males per 100 females)',axis=1)"
   ]
  },
  {
   "cell_type": "code",
   "execution_count": 388,
   "id": "2aef6737-1c12-41df-a380-8045fc339fb3",
   "metadata": {},
   "outputs": [],
   "source": [
    "merge = merge.drop('Percent Margin of Error!!SEX AND AGE!!Total population!!65 years and over!!Sex ratio (males per 100 females)',axis=1)"
   ]
  },
  {
   "cell_type": "code",
   "execution_count": 389,
   "id": "a5f72a57-fd31-451a-8c5b-0b2ec0bad544",
   "metadata": {},
   "outputs": [],
   "source": [
    "merge = merge.drop('Percent!!RACE!!Total population',axis=1)"
   ]
  },
  {
   "cell_type": "code",
   "execution_count": 390,
   "id": "aed05407-e901-4227-901f-b67de18e8b03",
   "metadata": {},
   "outputs": [],
   "source": [
    "merge = merge.drop('Percent Margin of Error!!RACE!!Total population',axis=1)"
   ]
  },
  {
   "cell_type": "code",
   "execution_count": 391,
   "id": "11305988-7956-43c3-9f4a-179a9cb222dd",
   "metadata": {},
   "outputs": [],
   "source": [
    "merge = merge.drop('Percent!!RACE!!Total population!!One race',axis=1)"
   ]
  },
  {
   "cell_type": "code",
   "execution_count": 392,
   "id": "570750d4-e20a-4cc2-a456-b11e0f7818ec",
   "metadata": {},
   "outputs": [],
   "source": [
    "merge = merge.drop('Percent Margin of Error!!RACE!!Total population!!One race',axis=1)"
   ]
  },
  {
   "cell_type": "code",
   "execution_count": 393,
   "id": "26b67317-57f5-4e72-a0b9-f357c6e81805",
   "metadata": {},
   "outputs": [],
   "source": [
    "merge = merge.drop('Percent!!RACE!!Total population!!Two or More Races',axis=1)"
   ]
  },
  {
   "cell_type": "code",
   "execution_count": 394,
   "id": "3b8b3e9a-100f-4cbc-b8af-16981de8a691",
   "metadata": {},
   "outputs": [],
   "source": [
    "merge = merge.drop('Percent Margin of Error!!RACE!!Total population!!Two or More Races',axis=1)"
   ]
  },
  {
   "cell_type": "code",
   "execution_count": 395,
   "id": "68b1c033-dcc4-4fc9-9f0a-8eab1fa97f54",
   "metadata": {},
   "outputs": [],
   "source": [
    "merge = merge.drop('Percent!!RACE!!Total population!!One race.1',axis=1)"
   ]
  },
  {
   "cell_type": "code",
   "execution_count": 396,
   "id": "05e5093c-1318-44a6-863d-7da1f5a22252",
   "metadata": {},
   "outputs": [],
   "source": [
    "merge = merge.drop('Percent Margin of Error!!RACE!!Total population!!One race.1',axis=1)"
   ]
  },
  {
   "cell_type": "code",
   "execution_count": 397,
   "id": "e1ac919c-e4e6-4abe-ba52-6b5c4c484bee",
   "metadata": {},
   "outputs": [],
   "source": [
    "merge = merge.drop('Percent!!RACE!!Total population!!One race!!White',axis=1)"
   ]
  },
  {
   "cell_type": "code",
   "execution_count": 398,
   "id": "429787fd-7b20-4064-986b-03e167da4836",
   "metadata": {},
   "outputs": [],
   "source": [
    "merge = merge.drop('Percent Margin of Error!!RACE!!Total population!!One race!!White',axis=1)"
   ]
  },
  {
   "cell_type": "code",
   "execution_count": 399,
   "id": "c1d516ff-9e7c-47f0-adf8-09bbbeb6b134",
   "metadata": {},
   "outputs": [],
   "source": [
    "merge = merge.drop('Percent!!RACE!!Total population!!One race!!Black or African American',axis=1)"
   ]
  },
  {
   "cell_type": "code",
   "execution_count": 400,
   "id": "2f7e394d-b8e8-447f-9963-b4abb9008886",
   "metadata": {},
   "outputs": [],
   "source": [
    "merge = merge.drop('Percent Margin of Error!!RACE!!Total population!!One race!!Black or African American',axis=1)"
   ]
  },
  {
   "cell_type": "code",
   "execution_count": 401,
   "id": "5190d96c-4269-4fd6-bb59-bab81098dbb9",
   "metadata": {},
   "outputs": [],
   "source": [
    "merge = merge.drop('Percent!!RACE!!Total population!!One race!!American Indian and Alaska Native',axis=1)"
   ]
  },
  {
   "cell_type": "code",
   "execution_count": 402,
   "id": "dc068796-d572-4323-bc09-b3b04e921fa6",
   "metadata": {},
   "outputs": [],
   "source": [
    "merge = merge.drop('Percent Margin of Error!!RACE!!Total population!!One race!!American Indian and Alaska Native',axis=1)"
   ]
  },
  {
   "cell_type": "code",
   "execution_count": 403,
   "id": "e61ce320-bfa7-4e81-aad1-5c2fc5ea5a3d",
   "metadata": {},
   "outputs": [],
   "source": [
    "merge = merge.drop('Percent!!RACE!!Total population!!One race!!American Indian and Alaska Native!!Cherokee tribal grouping',axis=1)"
   ]
  },
  {
   "cell_type": "code",
   "execution_count": 404,
   "id": "e9d27ea1-7a47-48ab-8c35-7487a8916c25",
   "metadata": {},
   "outputs": [],
   "source": [
    "merge = merge.drop('Percent Margin of Error!!RACE!!Total population!!One race!!American Indian and Alaska Native!!Cherokee tribal grouping',axis=1)"
   ]
  },
  {
   "cell_type": "code",
   "execution_count": 405,
   "id": "95974afe-dff7-429d-8873-5f4e8b4ea950",
   "metadata": {},
   "outputs": [],
   "source": [
    "merge = merge.drop('Percent!!RACE!!Total population!!One race!!American Indian and Alaska Native!!Chippewa tribal grouping',axis=1)"
   ]
  },
  {
   "cell_type": "code",
   "execution_count": 406,
   "id": "ce4d6ed4-6021-4b5e-aa7b-861ed05d939c",
   "metadata": {},
   "outputs": [],
   "source": [
    "merge = merge.drop('Percent Margin of Error!!RACE!!Total population!!One race!!American Indian and Alaska Native!!Chippewa tribal grouping',axis=1)"
   ]
  },
  {
   "cell_type": "code",
   "execution_count": 407,
   "id": "a57b8465-5fc5-4e47-9a65-e5c5cedf2ab3",
   "metadata": {},
   "outputs": [],
   "source": [
    "merge = merge.drop('Percent!!RACE!!Total population!!One race!!American Indian and Alaska Native!!Navajo tribal grouping',axis=1)"
   ]
  },
  {
   "cell_type": "code",
   "execution_count": 408,
   "id": "a806af59-0963-490b-9f93-442811e3e7ac",
   "metadata": {},
   "outputs": [],
   "source": [
    "merge = merge.drop('Percent Margin of Error!!RACE!!Total population!!One race!!American Indian and Alaska Native!!Navajo tribal grouping',axis=1)"
   ]
  },
  {
   "cell_type": "code",
   "execution_count": 409,
   "id": "c21fdfb0-e676-4e0e-87f9-3ff1914aef39",
   "metadata": {},
   "outputs": [],
   "source": [
    "merge = merge.drop('Percent!!RACE!!Total population!!One race!!American Indian and Alaska Native!!Sioux tribal grouping',axis=1)"
   ]
  },
  {
   "cell_type": "code",
   "execution_count": 410,
   "id": "2e348ab6-48bf-46a0-9e86-5c9daf7e4407",
   "metadata": {},
   "outputs": [],
   "source": [
    "merge = merge.drop('Percent Margin of Error!!RACE!!Total population!!One race!!American Indian and Alaska Native!!Sioux tribal grouping',axis=1)"
   ]
  },
  {
   "cell_type": "code",
   "execution_count": 411,
   "id": "ee0f9959-53ba-4d15-afcf-1237c1d1b10d",
   "metadata": {},
   "outputs": [],
   "source": [
    "merge = merge.drop('Percent!!RACE!!Total population!!One race!!Asian',axis=1)"
   ]
  },
  {
   "cell_type": "code",
   "execution_count": 412,
   "id": "64667b8c-10f5-401c-b63f-51cfff114e5e",
   "metadata": {},
   "outputs": [],
   "source": [
    "merge = merge.drop('Percent Margin of Error!!RACE!!Total population!!One race!!Asian',axis=1)"
   ]
  },
  {
   "cell_type": "code",
   "execution_count": 413,
   "id": "197dcd86-92d0-4457-8d6f-042f0aa3f2cb",
   "metadata": {},
   "outputs": [],
   "source": [
    "merge = merge.drop('Percent!!RACE!!Total population!!One race!!Asian!!Asian Indian',axis=1)"
   ]
  },
  {
   "cell_type": "code",
   "execution_count": 414,
   "id": "715fd18f-e77f-4fa3-ba08-989e81c24e8e",
   "metadata": {},
   "outputs": [],
   "source": [
    "merge = merge.drop('Percent Margin of Error!!RACE!!Total population!!One race!!Asian!!Asian Indian',axis=1)"
   ]
  },
  {
   "cell_type": "code",
   "execution_count": 415,
   "id": "062c63cb-db13-4106-a08d-90a1077afddf",
   "metadata": {},
   "outputs": [],
   "source": [
    "merge = merge.drop('Percent!!RACE!!Total population!!One race!!Asian!!Chinese',axis=1)"
   ]
  },
  {
   "cell_type": "code",
   "execution_count": 416,
   "id": "a92d16ad-0ffa-4c4a-aa66-da5451f23c94",
   "metadata": {},
   "outputs": [],
   "source": [
    "merge = merge.drop('Percent Margin of Error!!RACE!!Total population!!One race!!Asian!!Chinese',axis=1)"
   ]
  },
  {
   "cell_type": "code",
   "execution_count": 417,
   "id": "dc4afe19-5e21-481a-8c1c-efac15e4f2fa",
   "metadata": {},
   "outputs": [],
   "source": [
    "merge = merge.drop('Percent!!RACE!!Total population!!One race!!Asian!!Filipino',axis=1)"
   ]
  },
  {
   "cell_type": "code",
   "execution_count": 418,
   "id": "3f9cd474-2659-4abe-8f0e-0a725b9fac12",
   "metadata": {},
   "outputs": [],
   "source": [
    "merge = merge.drop('Percent Margin of Error!!RACE!!Total population!!One race!!Asian!!Filipino',axis=1)"
   ]
  },
  {
   "cell_type": "code",
   "execution_count": 419,
   "id": "9c8fef46-aece-4930-998d-11d5245e4534",
   "metadata": {},
   "outputs": [],
   "source": [
    "merge = merge.drop('Percent!!RACE!!Total population!!One race!!Asian!!Japanese',axis=1)"
   ]
  },
  {
   "cell_type": "code",
   "execution_count": 420,
   "id": "cc6e3038-e4d0-4c33-9e6a-daab05a45a20",
   "metadata": {},
   "outputs": [],
   "source": [
    "merge = merge.drop('Percent Margin of Error!!RACE!!Total population!!One race!!Asian!!Japanese',axis=1)"
   ]
  },
  {
   "cell_type": "code",
   "execution_count": 421,
   "id": "b892212b-6947-463a-8a55-df033c6d5023",
   "metadata": {},
   "outputs": [],
   "source": [
    "merge = merge.drop('Percent!!RACE!!Total population!!One race!!Asian!!Korean',axis=1)"
   ]
  },
  {
   "cell_type": "code",
   "execution_count": 422,
   "id": "8a16f052-023b-4976-b967-bbdfdfde355e",
   "metadata": {},
   "outputs": [],
   "source": [
    "merge = merge.drop('Percent Margin of Error!!RACE!!Total population!!One race!!Asian!!Korean',axis=1)"
   ]
  },
  {
   "cell_type": "code",
   "execution_count": 423,
   "id": "966ae015-af95-43e2-908d-8fc8735e8c58",
   "metadata": {},
   "outputs": [],
   "source": [
    "merge = merge.drop('Percent!!RACE!!Total population!!One race!!Asian!!Vietnamese',axis=1)"
   ]
  },
  {
   "cell_type": "code",
   "execution_count": 424,
   "id": "e8bf0964-c4e9-4a80-9f47-2bfd3df854e9",
   "metadata": {},
   "outputs": [],
   "source": [
    "merge = merge.drop('Percent Margin of Error!!RACE!!Total population!!One race!!Asian!!Vietnamese',axis=1)"
   ]
  },
  {
   "cell_type": "code",
   "execution_count": 425,
   "id": "6fbf39b1-6564-4207-a4ba-b979a881c79e",
   "metadata": {},
   "outputs": [],
   "source": [
    "merge = merge.drop('Percent!!RACE!!Total population!!One race!!Asian!!Other Asian',axis=1)"
   ]
  },
  {
   "cell_type": "code",
   "execution_count": 426,
   "id": "cb58666d-5200-44c4-88d4-54613865712b",
   "metadata": {},
   "outputs": [],
   "source": [
    "merge = merge.drop('Percent Margin of Error!!RACE!!Total population!!One race!!Asian!!Other Asian',axis=1)"
   ]
  },
  {
   "cell_type": "code",
   "execution_count": 427,
   "id": "2e802320-a445-4883-98ad-c1b9a2e12dfc",
   "metadata": {},
   "outputs": [],
   "source": [
    "merge = merge.drop('Percent!!RACE!!Total population!!One race!!Native Hawaiian and Other Pacific Islander',axis=1)"
   ]
  },
  {
   "cell_type": "code",
   "execution_count": 428,
   "id": "693fd822-8c75-4c66-a0d3-a7179fd01d52",
   "metadata": {},
   "outputs": [],
   "source": [
    "merge = merge.drop('Percent Margin of Error!!RACE!!Total population!!One race!!Native Hawaiian and Other Pacific Islander',axis=1)"
   ]
  },
  {
   "cell_type": "code",
   "execution_count": 429,
   "id": "4de0ca44-7682-4514-81ee-d06fd1c1e506",
   "metadata": {},
   "outputs": [],
   "source": [
    "merge = merge.drop('Percent!!RACE!!Total population!!One race!!Native Hawaiian and Other Pacific Islander!!Chamorro',axis=1)"
   ]
  },
  {
   "cell_type": "code",
   "execution_count": 430,
   "id": "a49fc26f-5677-44ec-8111-0f00bae76a9f",
   "metadata": {},
   "outputs": [],
   "source": [
    "merge = merge.drop('Percent Margin of Error!!RACE!!Total population!!One race!!Native Hawaiian and Other Pacific Islander!!Chamorro',axis=1)"
   ]
  },
  {
   "cell_type": "code",
   "execution_count": 431,
   "id": "a686e5bb-6bcf-48f3-973c-7f86440bdbf5",
   "metadata": {},
   "outputs": [],
   "source": [
    "merge = merge.drop('Percent!!RACE!!Total population!!One race!!Native Hawaiian and Other Pacific Islander!!Native Hawaiian',axis=1)"
   ]
  },
  {
   "cell_type": "code",
   "execution_count": 432,
   "id": "63a75380-546f-4efb-a935-4f307735a73f",
   "metadata": {},
   "outputs": [],
   "source": [
    "merge = merge.drop('Percent Margin of Error!!RACE!!Total population!!One race!!Native Hawaiian and Other Pacific Islander!!Native Hawaiian',axis=1)"
   ]
  },
  {
   "cell_type": "code",
   "execution_count": 433,
   "id": "43308eac-6263-41ad-b93f-b501561c9755",
   "metadata": {},
   "outputs": [],
   "source": [
    "merge = merge.drop('Percent!!RACE!!Total population!!One race!!Native Hawaiian and Other Pacific Islander!!Samoan',axis=1)"
   ]
  },
  {
   "cell_type": "code",
   "execution_count": 434,
   "id": "0006bf71-a215-463c-9136-8fd7c6468d8c",
   "metadata": {},
   "outputs": [],
   "source": [
    "merge = merge.drop('Percent Margin of Error!!RACE!!Total population!!One race!!Native Hawaiian and Other Pacific Islander!!Samoan',axis=1)"
   ]
  },
  {
   "cell_type": "code",
   "execution_count": 435,
   "id": "8082a0a6-dd15-45e6-bc11-eb3b405fb2be",
   "metadata": {},
   "outputs": [],
   "source": [
    "merge = merge.drop('Percent!!RACE!!Total population!!One race!!Native Hawaiian and Other Pacific Islander!!Other Native Hawaiian and Other Pacific Islander',axis=1)"
   ]
  },
  {
   "cell_type": "code",
   "execution_count": 436,
   "id": "c6dd95c2-233c-4352-a3b1-76c923ea2979",
   "metadata": {},
   "outputs": [],
   "source": [
    "merge = merge.drop('Percent Margin of Error!!RACE!!Total population!!One race!!Native Hawaiian and Other Pacific Islander!!Other Native Hawaiian and Other Pacific Islander',axis=1)"
   ]
  },
  {
   "cell_type": "code",
   "execution_count": 437,
   "id": "726fc479-295a-4295-9bc3-15e173dde0f5",
   "metadata": {},
   "outputs": [],
   "source": [
    "merge = merge.drop('Percent!!RACE!!Total population!!One race!!Some Other Race',axis=1)"
   ]
  },
  {
   "cell_type": "code",
   "execution_count": 438,
   "id": "5bd1222a-6a36-41cd-a433-291605267725",
   "metadata": {},
   "outputs": [],
   "source": [
    "merge = merge.drop('Percent Margin of Error!!RACE!!Total population!!One race!!Some Other Race',axis=1)"
   ]
  },
  {
   "cell_type": "code",
   "execution_count": 439,
   "id": "43646e5d-3a11-4b71-8138-d1705c1b13ed",
   "metadata": {},
   "outputs": [],
   "source": [
    "merge = merge.drop('Percent!!RACE!!Total population!!Two or More Races.1',axis=1)"
   ]
  },
  {
   "cell_type": "code",
   "execution_count": 440,
   "id": "ca9984fd-f03c-4026-ac58-4bc0353ded99",
   "metadata": {},
   "outputs": [],
   "source": [
    "merge = merge.drop('Percent Margin of Error!!RACE!!Total population!!Two or More Races.1',axis=1)"
   ]
  },
  {
   "cell_type": "code",
   "execution_count": 441,
   "id": "6822207b-e0b1-4393-a9af-c91ae4a8365e",
   "metadata": {},
   "outputs": [],
   "source": [
    "merge = merge.drop('Percent!!RACE!!Total population!!Two or More Races!!White and Black or African American',axis=1)"
   ]
  },
  {
   "cell_type": "code",
   "execution_count": 442,
   "id": "5512b756-f428-4055-955c-3ef161e244ef",
   "metadata": {},
   "outputs": [],
   "source": [
    "merge = merge.drop('Percent Margin of Error!!RACE!!Total population!!Two or More Races!!White and Black or African American',axis=1)"
   ]
  },
  {
   "cell_type": "code",
   "execution_count": 443,
   "id": "8609d79e-317d-4ffe-8506-c07141d56f31",
   "metadata": {},
   "outputs": [],
   "source": [
    "merge = merge.drop('Percent!!RACE!!Total population!!Two or More Races!!White and American Indian and Alaska Native',axis=1)"
   ]
  },
  {
   "cell_type": "code",
   "execution_count": 444,
   "id": "a240ae6f-24c1-4da3-be17-dba86f49d0dd",
   "metadata": {},
   "outputs": [],
   "source": [
    "merge = merge.drop('Percent Margin of Error!!RACE!!Total population!!Two or More Races!!White and American Indian and Alaska Native',axis=1)"
   ]
  },
  {
   "cell_type": "code",
   "execution_count": 445,
   "id": "677774b2-c027-409a-a1d0-33849125f4f9",
   "metadata": {},
   "outputs": [],
   "source": [
    "merge = merge.drop('Percent!!RACE!!Total population!!Two or More Races!!White and Asian',axis=1)"
   ]
  },
  {
   "cell_type": "code",
   "execution_count": 446,
   "id": "7bd36101-8460-4a3c-bb23-2164fca7d42a",
   "metadata": {},
   "outputs": [],
   "source": [
    "merge = merge.drop('Percent Margin of Error!!RACE!!Total population!!Two or More Races!!White and Asian',axis=1)"
   ]
  },
  {
   "cell_type": "code",
   "execution_count": 447,
   "id": "718fc70c-7423-456b-bb50-175840aba2ab",
   "metadata": {},
   "outputs": [],
   "source": [
    "merge = merge.drop('Percent!!RACE!!Total population!!Two or More Races!!White and Some Other Race',axis=1)"
   ]
  },
  {
   "cell_type": "code",
   "execution_count": 448,
   "id": "5f9338a9-d78b-4e4b-b549-bc12f5089774",
   "metadata": {},
   "outputs": [],
   "source": [
    "merge = merge.drop('Percent Margin of Error!!RACE!!Total population!!Two or More Races!!White and Some Other Race',axis=1)"
   ]
  },
  {
   "cell_type": "code",
   "execution_count": 449,
   "id": "b12861cd-e577-4c3e-8eec-401f52cd644d",
   "metadata": {},
   "outputs": [],
   "source": [
    "merge = merge.drop('Percent!!RACE!!Total population!!Two or More Races!!Black or African American and American Indian and Alaska Native',axis=1)"
   ]
  },
  {
   "cell_type": "code",
   "execution_count": 450,
   "id": "1e86b775-7e11-4cd4-8c3e-b6fc1f4a5a6d",
   "metadata": {},
   "outputs": [],
   "source": [
    "merge = merge.drop('Percent Margin of Error!!RACE!!Total population!!Two or More Races!!Black or African American and American Indian and Alaska Native',axis=1)"
   ]
  },
  {
   "cell_type": "code",
   "execution_count": 451,
   "id": "ba5ea1d0-3ceb-4755-9b6d-134236acbf3d",
   "metadata": {},
   "outputs": [],
   "source": [
    "merge = merge.drop('Percent!!RACE!!Total population!!Two or More Races!!Black or African American and Some Other Race',axis=1)"
   ]
  },
  {
   "cell_type": "code",
   "execution_count": 452,
   "id": "e6098a63-9c01-4d24-8f01-fce8bfa1b693",
   "metadata": {},
   "outputs": [],
   "source": [
    "merge = merge.drop('Percent Margin of Error!!RACE!!Total population!!Two or More Races!!Black or African American and Some Other Race',axis=1)"
   ]
  },
  {
   "cell_type": "code",
   "execution_count": 453,
   "id": "38127663-c42f-4828-ae60-a61511c0230b",
   "metadata": {},
   "outputs": [],
   "source": [
    "merge = merge.drop('Percent!!Race alone or in combination with one or more other races!!Total population',axis=1)"
   ]
  },
  {
   "cell_type": "code",
   "execution_count": 454,
   "id": "ec2c4ce2-3df5-4642-b59d-46405487669f",
   "metadata": {},
   "outputs": [],
   "source": [
    "merge = merge.drop('Percent Margin of Error!!Race alone or in combination with one or more other races!!Total population',axis=1)"
   ]
  },
  {
   "cell_type": "code",
   "execution_count": 455,
   "id": "1a6b434d-65d4-4ec5-8f1f-dd0d8ab22433",
   "metadata": {},
   "outputs": [],
   "source": [
    "merge = merge.drop('Percent!!Race alone or in combination with one or more other races!!Total population!!White',axis=1)"
   ]
  },
  {
   "cell_type": "code",
   "execution_count": 456,
   "id": "28bddc94-48f0-48dd-aa82-7c6cc0aad598",
   "metadata": {},
   "outputs": [],
   "source": [
    "merge = merge.drop('Percent Margin of Error!!Race alone or in combination with one or more other races!!Total population!!White',axis=1)"
   ]
  },
  {
   "cell_type": "code",
   "execution_count": 457,
   "id": "d47c43d0-da25-48aa-8522-8d381a0d0044",
   "metadata": {},
   "outputs": [],
   "source": [
    "merge = merge.drop('Percent!!Race alone or in combination with one or more other races!!Total population!!Black or African American',axis=1)"
   ]
  },
  {
   "cell_type": "code",
   "execution_count": 458,
   "id": "83407b4e-09ea-4eaa-9575-0fa58f36c6b4",
   "metadata": {},
   "outputs": [],
   "source": [
    "merge = merge.drop('Percent Margin of Error!!Race alone or in combination with one or more other races!!Total population!!Black or African American',axis=1)"
   ]
  },
  {
   "cell_type": "code",
   "execution_count": 459,
   "id": "e5173e71-2f44-478f-a0f4-8e96c4ffcc28",
   "metadata": {},
   "outputs": [],
   "source": [
    "merge = merge.drop('Percent!!Race alone or in combination with one or more other races!!Total population!!American Indian and Alaska Native',axis=1)"
   ]
  },
  {
   "cell_type": "code",
   "execution_count": 460,
   "id": "5da3bcde-f6de-42c5-9895-6806c3f87ac1",
   "metadata": {},
   "outputs": [],
   "source": [
    "merge = merge.drop('Percent Margin of Error!!Race alone or in combination with one or more other races!!Total population!!American Indian and Alaska Native',axis=1)"
   ]
  },
  {
   "cell_type": "code",
   "execution_count": 461,
   "id": "5054e9ff-681f-4e92-96d6-82da7562df59",
   "metadata": {},
   "outputs": [],
   "source": [
    "merge = merge.drop('Percent!!Race alone or in combination with one or more other races!!Total population!!Asian',axis=1)"
   ]
  },
  {
   "cell_type": "code",
   "execution_count": 462,
   "id": "76ab36b1-a8a0-4763-891b-ebb93faa38c9",
   "metadata": {},
   "outputs": [],
   "source": [
    "merge = merge.drop('Percent Margin of Error!!Race alone or in combination with one or more other races!!Total population!!Asian',axis=1)"
   ]
  },
  {
   "cell_type": "code",
   "execution_count": 463,
   "id": "fab70ef7-1ec3-4e00-8599-3222ae592f9f",
   "metadata": {},
   "outputs": [],
   "source": [
    "merge = merge.drop('Percent!!Race alone or in combination with one or more other races!!Total population!!Native Hawaiian and Other Pacific Islander',axis=1)"
   ]
  },
  {
   "cell_type": "code",
   "execution_count": 464,
   "id": "2c5e8ce5-ec4b-4adb-adc9-d13154f3ffea",
   "metadata": {},
   "outputs": [],
   "source": [
    "merge = merge.drop('Percent Margin of Error!!Race alone or in combination with one or more other races!!Total population!!Native Hawaiian and Other Pacific Islander',axis=1)"
   ]
  },
  {
   "cell_type": "code",
   "execution_count": 465,
   "id": "e6f79cd9-d9b9-4b97-bc5a-83ef53817601",
   "metadata": {},
   "outputs": [],
   "source": [
    "merge = merge.drop('Percent!!Race alone or in combination with one or more other races!!Total population!!Some Other Race',axis=1)"
   ]
  },
  {
   "cell_type": "code",
   "execution_count": 466,
   "id": "a3fe3d02-da21-4e87-b8a7-c09578717195",
   "metadata": {},
   "outputs": [],
   "source": [
    "merge = merge.drop('Percent Margin of Error!!Race alone or in combination with one or more other races!!Total population!!Some Other Race',axis=1)"
   ]
  },
  {
   "cell_type": "code",
   "execution_count": 467,
   "id": "0b921728-6a4b-488c-b840-bba57b658a36",
   "metadata": {},
   "outputs": [],
   "source": [
    "merge = merge.drop('Percent!!HISPANIC OR LATINO AND RACE!!Total population',axis=1)"
   ]
  },
  {
   "cell_type": "code",
   "execution_count": 468,
   "id": "03c893e2-d80d-47ee-849e-87b18388a887",
   "metadata": {},
   "outputs": [],
   "source": [
    "merge = merge.drop('Percent Margin of Error!!HISPANIC OR LATINO AND RACE!!Total population',axis=1)"
   ]
  },
  {
   "cell_type": "code",
   "execution_count": 469,
   "id": "7947398d-8ffc-4e2e-97bf-d07f9bba265a",
   "metadata": {},
   "outputs": [],
   "source": [
    "merge = merge.drop('Percent!!HISPANIC OR LATINO AND RACE!!Total population!!Hispanic or Latino (of any race)',axis=1)"
   ]
  },
  {
   "cell_type": "code",
   "execution_count": 470,
   "id": "880cd4bd-f581-4583-ae11-ed1598203e1e",
   "metadata": {},
   "outputs": [],
   "source": [
    "merge = merge.drop('Percent Margin of Error!!HISPANIC OR LATINO AND RACE!!Total population!!Hispanic or Latino (of any race)',axis=1)"
   ]
  },
  {
   "cell_type": "code",
   "execution_count": 471,
   "id": "11c98eef-fd39-49f7-813a-c1a90907bf00",
   "metadata": {},
   "outputs": [],
   "source": [
    "merge = merge.drop('Percent!!HISPANIC OR LATINO AND RACE!!Total population!!Hispanic or Latino (of any race)!!Mexican',axis=1)"
   ]
  },
  {
   "cell_type": "code",
   "execution_count": 472,
   "id": "ea160e28-90c9-4bb8-a97e-86058132efec",
   "metadata": {},
   "outputs": [],
   "source": [
    "merge = merge.drop('Percent Margin of Error!!HISPANIC OR LATINO AND RACE!!Total population!!Hispanic or Latino (of any race)!!Mexican',axis=1)"
   ]
  },
  {
   "cell_type": "code",
   "execution_count": 473,
   "id": "aa2147e0-d336-4599-b9c9-eddaf8c6af4c",
   "metadata": {},
   "outputs": [],
   "source": [
    "merge = merge.drop('Percent!!HISPANIC OR LATINO AND RACE!!Total population!!Hispanic or Latino (of any race)!!Puerto Rican',axis=1)"
   ]
  },
  {
   "cell_type": "code",
   "execution_count": 474,
   "id": "962f2dc5-65b5-48fb-91cf-ec70f5bf98db",
   "metadata": {},
   "outputs": [],
   "source": [
    "merge = merge.drop('Percent Margin of Error!!HISPANIC OR LATINO AND RACE!!Total population!!Hispanic or Latino (of any race)!!Puerto Rican',axis=1)"
   ]
  },
  {
   "cell_type": "code",
   "execution_count": 475,
   "id": "3dac9c1a-319c-45c3-a700-ea294228b5bb",
   "metadata": {},
   "outputs": [],
   "source": [
    "merge = merge.drop('Percent!!HISPANIC OR LATINO AND RACE!!Total population!!Hispanic or Latino (of any race)!!Cuban',axis=1)\n"
   ]
  },
  {
   "cell_type": "code",
   "execution_count": 476,
   "id": "c56f7dae-c15a-4f8f-9790-c08a6eb7ed46",
   "metadata": {},
   "outputs": [],
   "source": [
    "merge = merge.drop('Percent Margin of Error!!HISPANIC OR LATINO AND RACE!!Total population!!Hispanic or Latino (of any race)!!Cuban',axis=1)"
   ]
  },
  {
   "cell_type": "code",
   "execution_count": 477,
   "id": "765a8a2d-73dc-426b-8071-4440515cfdce",
   "metadata": {},
   "outputs": [],
   "source": [
    "merge = merge.drop('Percent!!HISPANIC OR LATINO AND RACE!!Total population!!Hispanic or Latino (of any race)!!Other Hispanic or Latino',axis=1)"
   ]
  },
  {
   "cell_type": "code",
   "execution_count": 478,
   "id": "b2300fed-36e1-4a02-8d80-8076f679c981",
   "metadata": {},
   "outputs": [],
   "source": [
    "merge = merge.drop('Percent Margin of Error!!HISPANIC OR LATINO AND RACE!!Total population!!Hispanic or Latino (of any race)!!Other Hispanic or Latino',axis=1)"
   ]
  },
  {
   "cell_type": "code",
   "execution_count": 479,
   "id": "330c9574-951c-4131-8655-a8739d416361",
   "metadata": {},
   "outputs": [],
   "source": [
    "merge = merge.drop('Percent!!HISPANIC OR LATINO AND RACE!!Total population!!Not Hispanic or Latino',axis=1)"
   ]
  },
  {
   "cell_type": "code",
   "execution_count": 480,
   "id": "017d972e-4d56-4259-96f0-39e3c4bbdd9e",
   "metadata": {},
   "outputs": [],
   "source": [
    "merge = merge.drop('Percent Margin of Error!!HISPANIC OR LATINO AND RACE!!Total population!!Not Hispanic or Latino',axis=1)"
   ]
  },
  {
   "cell_type": "code",
   "execution_count": 481,
   "id": "f6f5bc10-a07f-4db7-980a-c68f75de658d",
   "metadata": {},
   "outputs": [],
   "source": [
    "merge = merge.drop('Percent!!HISPANIC OR LATINO AND RACE!!Total population!!Not Hispanic or Latino!!White alone',axis=1)"
   ]
  },
  {
   "cell_type": "code",
   "execution_count": 482,
   "id": "ddcad978-b183-48f0-861a-19c011d5f8df",
   "metadata": {},
   "outputs": [],
   "source": [
    "merge = merge.drop('Percent Margin of Error!!HISPANIC OR LATINO AND RACE!!Total population!!Not Hispanic or Latino!!White alone',axis=1)"
   ]
  },
  {
   "cell_type": "code",
   "execution_count": 483,
   "id": "aaa6290f-4999-4dc6-b088-6202d1ab3669",
   "metadata": {},
   "outputs": [],
   "source": [
    "merge = merge.drop('Percent!!HISPANIC OR LATINO AND RACE!!Total population!!Not Hispanic or Latino!!Black or African American alone',axis=1)"
   ]
  },
  {
   "cell_type": "code",
   "execution_count": 484,
   "id": "1380cc35-915e-410f-b8fe-e9d9bbe1cbe9",
   "metadata": {},
   "outputs": [],
   "source": [
    "merge = merge.drop('Percent Margin of Error!!HISPANIC OR LATINO AND RACE!!Total population!!Not Hispanic or Latino!!Black or African American alone',axis=1)"
   ]
  },
  {
   "cell_type": "code",
   "execution_count": 485,
   "id": "d194214d-4f6c-4e42-9c81-e60da34f4f5d",
   "metadata": {},
   "outputs": [],
   "source": [
    "merge = merge.drop('Percent!!HISPANIC OR LATINO AND RACE!!Total population!!Not Hispanic or Latino!!American Indian and Alaska Native alone',axis=1)"
   ]
  },
  {
   "cell_type": "code",
   "execution_count": 486,
   "id": "fdd1b0e3-e49b-4835-9b43-d4f4ca2b35fb",
   "metadata": {},
   "outputs": [],
   "source": [
    "merge = merge.drop('Percent Margin of Error!!HISPANIC OR LATINO AND RACE!!Total population!!Not Hispanic or Latino!!American Indian and Alaska Native alone',axis=1)"
   ]
  },
  {
   "cell_type": "code",
   "execution_count": 487,
   "id": "3367b634-b265-4b44-8a5c-49d196efdee5",
   "metadata": {},
   "outputs": [],
   "source": [
    "merge = merge.drop('Percent!!HISPANIC OR LATINO AND RACE!!Total population!!Not Hispanic or Latino!!Asian alone',axis=1)"
   ]
  },
  {
   "cell_type": "code",
   "execution_count": 488,
   "id": "1bcbbbf8-abe4-4109-889b-9947df094cbb",
   "metadata": {},
   "outputs": [],
   "source": [
    "merge = merge.drop('Percent Margin of Error!!HISPANIC OR LATINO AND RACE!!Total population!!Not Hispanic or Latino!!Asian alone',axis=1)"
   ]
  },
  {
   "cell_type": "code",
   "execution_count": 489,
   "id": "acdd0413-b976-452c-87b2-d187a4c82868",
   "metadata": {},
   "outputs": [],
   "source": [
    "merge = merge.drop('Percent!!HISPANIC OR LATINO AND RACE!!Total population!!Not Hispanic or Latino!!Native Hawaiian and Other Pacific Islander alone',axis=1)"
   ]
  },
  {
   "cell_type": "code",
   "execution_count": 490,
   "id": "9ad099b0-2425-4d86-92e8-c93c0ba3565d",
   "metadata": {},
   "outputs": [],
   "source": [
    "merge = merge.drop('Percent Margin of Error!!HISPANIC OR LATINO AND RACE!!Total population!!Not Hispanic or Latino!!Native Hawaiian and Other Pacific Islander alone',axis=1)"
   ]
  },
  {
   "cell_type": "code",
   "execution_count": 491,
   "id": "b9185133-f5b0-4ef4-a0ef-837671241cc6",
   "metadata": {},
   "outputs": [],
   "source": [
    "merge = merge.drop('Percent!!HISPANIC OR LATINO AND RACE!!Total population!!Not Hispanic or Latino!!Some Other Race alone',axis=1)"
   ]
  },
  {
   "cell_type": "code",
   "execution_count": 492,
   "id": "5c73a506-b387-4a15-857e-ac7ffd2cf7db",
   "metadata": {},
   "outputs": [],
   "source": [
    "merge = merge.drop('Percent Margin of Error!!HISPANIC OR LATINO AND RACE!!Total population!!Not Hispanic or Latino!!Some Other Race alone',axis=1)"
   ]
  },
  {
   "cell_type": "code",
   "execution_count": 493,
   "id": "1658e288-f215-46e0-95a4-a3972d651514",
   "metadata": {},
   "outputs": [],
   "source": [
    "merge = merge.drop('Percent!!HISPANIC OR LATINO AND RACE!!Total population!!Not Hispanic or Latino!!Two or More Races',axis=1)"
   ]
  },
  {
   "cell_type": "code",
   "execution_count": 494,
   "id": "98e81a26-de17-49a3-ba6f-f1cf00831a3f",
   "metadata": {},
   "outputs": [],
   "source": [
    "merge = merge.drop('Percent Margin of Error!!HISPANIC OR LATINO AND RACE!!Total population!!Not Hispanic or Latino!!Two or More Races',axis=1)"
   ]
  },
  {
   "cell_type": "code",
   "execution_count": 495,
   "id": "4daa6745-af39-41af-9360-6c20e47da4d5",
   "metadata": {},
   "outputs": [],
   "source": [
    "merge = merge.drop('Percent!!HISPANIC OR LATINO AND RACE!!Total population!!Not Hispanic or Latino!!Two or More Races!!Two races including Some Other Race',axis=1)"
   ]
  },
  {
   "cell_type": "code",
   "execution_count": 496,
   "id": "bb1945a1-28f4-410b-8e2c-d6a03f385959",
   "metadata": {},
   "outputs": [],
   "source": [
    "merge = merge.drop('Percent Margin of Error!!HISPANIC OR LATINO AND RACE!!Total population!!Not Hispanic or Latino!!Two or More Races!!Two races including Some Other Race',axis=1)"
   ]
  },
  {
   "cell_type": "code",
   "execution_count": 497,
   "id": "13c8c833-c73b-41d8-adf5-f378c3ad1eff",
   "metadata": {},
   "outputs": [],
   "source": [
    "merge = merge.drop('Percent!!HISPANIC OR LATINO AND RACE!!Total population!!Not Hispanic or Latino!!Two or More Races!!Two races excluding Some Other Race, and three or more races',axis=1)"
   ]
  },
  {
   "cell_type": "code",
   "execution_count": 498,
   "id": "db94722d-4f92-4e4f-8c20-cefdd5b63910",
   "metadata": {},
   "outputs": [],
   "source": [
    "merge = merge.drop('Percent Margin of Error!!HISPANIC OR LATINO AND RACE!!Total population!!Not Hispanic or Latino!!Two or More Races!!Two races excluding Some Other Race, and three or more races',axis=1)"
   ]
  },
  {
   "cell_type": "code",
   "execution_count": 499,
   "id": "52379c37-f49f-4d92-93da-1ac704546938",
   "metadata": {},
   "outputs": [],
   "source": [
    "merge = merge.drop('Percent!!Total housing units',axis=1)"
   ]
  },
  {
   "cell_type": "code",
   "execution_count": 500,
   "id": "2ed49c27-385a-4dd4-b7d8-630559db4ea8",
   "metadata": {},
   "outputs": [],
   "source": [
    "merge = merge.drop('Percent Margin of Error!!Total housing units',axis=1)"
   ]
  },
  {
   "cell_type": "code",
   "execution_count": 501,
   "id": "377d5f4b-95a8-4e6c-b55e-5448b627f6c9",
   "metadata": {},
   "outputs": [],
   "source": [
    "merge = merge.drop('Percent!!CITIZEN, VOTING AGE POPULATION!!Citizen, 18 and over population',axis=1)"
   ]
  },
  {
   "cell_type": "code",
   "execution_count": 502,
   "id": "49fd4de6-fe2e-44f9-a790-0dbc9db13279",
   "metadata": {},
   "outputs": [],
   "source": [
    "merge = merge.drop('Percent Margin of Error!!CITIZEN, VOTING AGE POPULATION!!Citizen, 18 and over population',axis=1)"
   ]
  },
  {
   "cell_type": "code",
   "execution_count": 504,
   "id": "4a9e62f7-4941-42f0-bf01-a16fc6789eaa",
   "metadata": {},
   "outputs": [],
   "source": [
    "merge = merge.drop('Percent!!CITIZEN, VOTING AGE POPULATION!!Citizen, 18 and over population!!Male',axis=1)"
   ]
  },
  {
   "cell_type": "code",
   "execution_count": 505,
   "id": "e76143bd-a8d5-4543-84a9-e1653107ec81",
   "metadata": {},
   "outputs": [],
   "source": [
    "merge = merge.drop('Percent Margin of Error!!CITIZEN, VOTING AGE POPULATION!!Citizen, 18 and over population!!Male',axis=1)"
   ]
  },
  {
   "cell_type": "code",
   "execution_count": 506,
   "id": "fb1755c1-c3a1-4c6b-abba-c1a13e5d96fb",
   "metadata": {},
   "outputs": [],
   "source": [
    "merge = merge.drop('Percent!!CITIZEN, VOTING AGE POPULATION!!Citizen, 18 and over population!!Female',axis=1)"
   ]
  },
  {
   "cell_type": "code",
   "execution_count": 507,
   "id": "5119696f-6545-4044-a160-a4a11547986d",
   "metadata": {},
   "outputs": [],
   "source": [
    "merge = merge.drop('Percent Margin of Error!!CITIZEN, VOTING AGE POPULATION!!Citizen, 18 and over population!!Female',axis=1)"
   ]
  },
  {
   "cell_type": "code",
   "execution_count": 510,
   "id": "7f7c0bde-e41f-4382-88ad-c36a7984fa75",
   "metadata": {},
   "outputs": [],
   "source": [
    "#grabbing census tract shapefile\n",
    "tracts = gpd.read_file('data/tl_2020_06_tract.shp')"
   ]
  },
  {
   "cell_type": "code",
   "execution_count": 511,
   "id": "f825d1df-7428-41cb-80a5-af2bf5d571b4",
   "metadata": {},
   "outputs": [
    {
     "data": {
      "text/html": [
       "<div>\n",
       "<style scoped>\n",
       "    .dataframe tbody tr th:only-of-type {\n",
       "        vertical-align: middle;\n",
       "    }\n",
       "\n",
       "    .dataframe tbody tr th {\n",
       "        vertical-align: top;\n",
       "    }\n",
       "\n",
       "    .dataframe thead th {\n",
       "        text-align: right;\n",
       "    }\n",
       "</style>\n",
       "<table border=\"1\" class=\"dataframe\">\n",
       "  <thead>\n",
       "    <tr style=\"text-align: right;\">\n",
       "      <th></th>\n",
       "      <th>STATEFP</th>\n",
       "      <th>COUNTYFP</th>\n",
       "      <th>TRACTCE</th>\n",
       "      <th>GEOID</th>\n",
       "      <th>NAME</th>\n",
       "      <th>NAMELSAD</th>\n",
       "      <th>MTFCC</th>\n",
       "      <th>FUNCSTAT</th>\n",
       "      <th>ALAND</th>\n",
       "      <th>AWATER</th>\n",
       "      <th>INTPTLAT</th>\n",
       "      <th>INTPTLON</th>\n",
       "      <th>geometry</th>\n",
       "    </tr>\n",
       "  </thead>\n",
       "  <tbody>\n",
       "    <tr>\n",
       "      <th>0</th>\n",
       "      <td>06</td>\n",
       "      <td>029</td>\n",
       "      <td>004402</td>\n",
       "      <td>06029004402</td>\n",
       "      <td>44.02</td>\n",
       "      <td>Census Tract 44.02</td>\n",
       "      <td>G5020</td>\n",
       "      <td>S</td>\n",
       "      <td>1865739</td>\n",
       "      <td>0</td>\n",
       "      <td>+35.5917343</td>\n",
       "      <td>-119.3337642</td>\n",
       "      <td>POLYGON ((-119.33828 35.58143, -119.33827 35.5...</td>\n",
       "    </tr>\n",
       "    <tr>\n",
       "      <th>1</th>\n",
       "      <td>06</td>\n",
       "      <td>047</td>\n",
       "      <td>000802</td>\n",
       "      <td>06047000802</td>\n",
       "      <td>8.02</td>\n",
       "      <td>Census Tract 8.02</td>\n",
       "      <td>G5020</td>\n",
       "      <td>S</td>\n",
       "      <td>2321653</td>\n",
       "      <td>0</td>\n",
       "      <td>+37.3433591</td>\n",
       "      <td>-120.5854604</td>\n",
       "      <td>POLYGON ((-120.59599 37.34121, -120.59596 37.3...</td>\n",
       "    </tr>\n",
       "    <tr>\n",
       "      <th>2</th>\n",
       "      <td>06</td>\n",
       "      <td>085</td>\n",
       "      <td>501402</td>\n",
       "      <td>06085501402</td>\n",
       "      <td>5014.02</td>\n",
       "      <td>Census Tract 5014.02</td>\n",
       "      <td>G5020</td>\n",
       "      <td>S</td>\n",
       "      <td>522620</td>\n",
       "      <td>0</td>\n",
       "      <td>+37.3453341</td>\n",
       "      <td>-121.8665169</td>\n",
       "      <td>POLYGON ((-121.87381 37.34412, -121.87361 37.3...</td>\n",
       "    </tr>\n",
       "    <tr>\n",
       "      <th>3</th>\n",
       "      <td>06</td>\n",
       "      <td>005</td>\n",
       "      <td>000102</td>\n",
       "      <td>06005000102</td>\n",
       "      <td>1.02</td>\n",
       "      <td>Census Tract 1.02</td>\n",
       "      <td>G5020</td>\n",
       "      <td>S</td>\n",
       "      <td>456204155</td>\n",
       "      <td>7940832</td>\n",
       "      <td>+38.5496993</td>\n",
       "      <td>-120.2509786</td>\n",
       "      <td>POLYGON ((-120.61016 38.41560, -120.61000 38.4...</td>\n",
       "    </tr>\n",
       "    <tr>\n",
       "      <th>4</th>\n",
       "      <td>06</td>\n",
       "      <td>029</td>\n",
       "      <td>004901</td>\n",
       "      <td>06029004901</td>\n",
       "      <td>49.01</td>\n",
       "      <td>Census Tract 49.01</td>\n",
       "      <td>G5020</td>\n",
       "      <td>S</td>\n",
       "      <td>1459379</td>\n",
       "      <td>0</td>\n",
       "      <td>+35.7837173</td>\n",
       "      <td>-119.2462266</td>\n",
       "      <td>POLYGON ((-119.25262 35.79043, -119.25259 35.7...</td>\n",
       "    </tr>\n",
       "  </tbody>\n",
       "</table>\n",
       "</div>"
      ],
      "text/plain": [
       "  STATEFP COUNTYFP TRACTCE        GEOID     NAME              NAMELSAD  MTFCC  \\\n",
       "0      06      029  004402  06029004402    44.02    Census Tract 44.02  G5020   \n",
       "1      06      047  000802  06047000802     8.02     Census Tract 8.02  G5020   \n",
       "2      06      085  501402  06085501402  5014.02  Census Tract 5014.02  G5020   \n",
       "3      06      005  000102  06005000102     1.02     Census Tract 1.02  G5020   \n",
       "4      06      029  004901  06029004901    49.01    Census Tract 49.01  G5020   \n",
       "\n",
       "  FUNCSTAT      ALAND   AWATER     INTPTLAT      INTPTLON  \\\n",
       "0        S    1865739        0  +35.5917343  -119.3337642   \n",
       "1        S    2321653        0  +37.3433591  -120.5854604   \n",
       "2        S     522620        0  +37.3453341  -121.8665169   \n",
       "3        S  456204155  7940832  +38.5496993  -120.2509786   \n",
       "4        S    1459379        0  +35.7837173  -119.2462266   \n",
       "\n",
       "                                            geometry  \n",
       "0  POLYGON ((-119.33828 35.58143, -119.33827 35.5...  \n",
       "1  POLYGON ((-120.59599 37.34121, -120.59596 37.3...  \n",
       "2  POLYGON ((-121.87381 37.34412, -121.87361 37.3...  \n",
       "3  POLYGON ((-120.61016 38.41560, -120.61000 38.4...  \n",
       "4  POLYGON ((-119.25262 35.79043, -119.25259 35.7...  "
      ]
     },
     "execution_count": 511,
     "metadata": {},
     "output_type": "execute_result"
    }
   ],
   "source": [
    "tracts.head()"
   ]
  },
  {
   "cell_type": "code",
   "execution_count": 534,
   "id": "3841180c-1c5d-4944-9f02-102a7c4a29fe",
   "metadata": {},
   "outputs": [],
   "source": [
    "tracts['FIPS']= '06037' + tracts.TRACTCE"
   ]
  },
  {
   "cell_type": "code",
   "execution_count": 535,
   "id": "176c0286-8606-4595-80d6-91f61eb695ef",
   "metadata": {},
   "outputs": [
    {
     "data": {
      "text/html": [
       "<div>\n",
       "<style scoped>\n",
       "    .dataframe tbody tr th:only-of-type {\n",
       "        vertical-align: middle;\n",
       "    }\n",
       "\n",
       "    .dataframe tbody tr th {\n",
       "        vertical-align: top;\n",
       "    }\n",
       "\n",
       "    .dataframe thead th {\n",
       "        text-align: right;\n",
       "    }\n",
       "</style>\n",
       "<table border=\"1\" class=\"dataframe\">\n",
       "  <thead>\n",
       "    <tr style=\"text-align: right;\">\n",
       "      <th></th>\n",
       "      <th>STATEFP</th>\n",
       "      <th>COUNTYFP</th>\n",
       "      <th>TRACTCE</th>\n",
       "      <th>GEOID</th>\n",
       "      <th>NAME</th>\n",
       "      <th>NAMELSAD</th>\n",
       "      <th>MTFCC</th>\n",
       "      <th>FUNCSTAT</th>\n",
       "      <th>ALAND</th>\n",
       "      <th>AWATER</th>\n",
       "      <th>INTPTLAT</th>\n",
       "      <th>INTPTLON</th>\n",
       "      <th>geometry</th>\n",
       "      <th>FIPS</th>\n",
       "    </tr>\n",
       "  </thead>\n",
       "  <tbody>\n",
       "    <tr>\n",
       "      <th>0</th>\n",
       "      <td>06</td>\n",
       "      <td>029</td>\n",
       "      <td>004402</td>\n",
       "      <td>06029004402</td>\n",
       "      <td>44.02</td>\n",
       "      <td>Census Tract 44.02</td>\n",
       "      <td>G5020</td>\n",
       "      <td>S</td>\n",
       "      <td>1865739</td>\n",
       "      <td>0</td>\n",
       "      <td>+35.5917343</td>\n",
       "      <td>-119.3337642</td>\n",
       "      <td>POLYGON ((-119.33828 35.58143, -119.33827 35.5...</td>\n",
       "      <td>06037004402</td>\n",
       "    </tr>\n",
       "    <tr>\n",
       "      <th>1</th>\n",
       "      <td>06</td>\n",
       "      <td>047</td>\n",
       "      <td>000802</td>\n",
       "      <td>06047000802</td>\n",
       "      <td>8.02</td>\n",
       "      <td>Census Tract 8.02</td>\n",
       "      <td>G5020</td>\n",
       "      <td>S</td>\n",
       "      <td>2321653</td>\n",
       "      <td>0</td>\n",
       "      <td>+37.3433591</td>\n",
       "      <td>-120.5854604</td>\n",
       "      <td>POLYGON ((-120.59599 37.34121, -120.59596 37.3...</td>\n",
       "      <td>06037000802</td>\n",
       "    </tr>\n",
       "    <tr>\n",
       "      <th>2</th>\n",
       "      <td>06</td>\n",
       "      <td>085</td>\n",
       "      <td>501402</td>\n",
       "      <td>06085501402</td>\n",
       "      <td>5014.02</td>\n",
       "      <td>Census Tract 5014.02</td>\n",
       "      <td>G5020</td>\n",
       "      <td>S</td>\n",
       "      <td>522620</td>\n",
       "      <td>0</td>\n",
       "      <td>+37.3453341</td>\n",
       "      <td>-121.8665169</td>\n",
       "      <td>POLYGON ((-121.87381 37.34412, -121.87361 37.3...</td>\n",
       "      <td>06037501402</td>\n",
       "    </tr>\n",
       "    <tr>\n",
       "      <th>3</th>\n",
       "      <td>06</td>\n",
       "      <td>005</td>\n",
       "      <td>000102</td>\n",
       "      <td>06005000102</td>\n",
       "      <td>1.02</td>\n",
       "      <td>Census Tract 1.02</td>\n",
       "      <td>G5020</td>\n",
       "      <td>S</td>\n",
       "      <td>456204155</td>\n",
       "      <td>7940832</td>\n",
       "      <td>+38.5496993</td>\n",
       "      <td>-120.2509786</td>\n",
       "      <td>POLYGON ((-120.61016 38.41560, -120.61000 38.4...</td>\n",
       "      <td>06037000102</td>\n",
       "    </tr>\n",
       "    <tr>\n",
       "      <th>4</th>\n",
       "      <td>06</td>\n",
       "      <td>029</td>\n",
       "      <td>004901</td>\n",
       "      <td>06029004901</td>\n",
       "      <td>49.01</td>\n",
       "      <td>Census Tract 49.01</td>\n",
       "      <td>G5020</td>\n",
       "      <td>S</td>\n",
       "      <td>1459379</td>\n",
       "      <td>0</td>\n",
       "      <td>+35.7837173</td>\n",
       "      <td>-119.2462266</td>\n",
       "      <td>POLYGON ((-119.25262 35.79043, -119.25259 35.7...</td>\n",
       "      <td>06037004901</td>\n",
       "    </tr>\n",
       "  </tbody>\n",
       "</table>\n",
       "</div>"
      ],
      "text/plain": [
       "  STATEFP COUNTYFP TRACTCE        GEOID     NAME              NAMELSAD  MTFCC  \\\n",
       "0      06      029  004402  06029004402    44.02    Census Tract 44.02  G5020   \n",
       "1      06      047  000802  06047000802     8.02     Census Tract 8.02  G5020   \n",
       "2      06      085  501402  06085501402  5014.02  Census Tract 5014.02  G5020   \n",
       "3      06      005  000102  06005000102     1.02     Census Tract 1.02  G5020   \n",
       "4      06      029  004901  06029004901    49.01    Census Tract 49.01  G5020   \n",
       "\n",
       "  FUNCSTAT      ALAND   AWATER     INTPTLAT      INTPTLON  \\\n",
       "0        S    1865739        0  +35.5917343  -119.3337642   \n",
       "1        S    2321653        0  +37.3433591  -120.5854604   \n",
       "2        S     522620        0  +37.3453341  -121.8665169   \n",
       "3        S  456204155  7940832  +38.5496993  -120.2509786   \n",
       "4        S    1459379        0  +35.7837173  -119.2462266   \n",
       "\n",
       "                                            geometry         FIPS  \n",
       "0  POLYGON ((-119.33828 35.58143, -119.33827 35.5...  06037004402  \n",
       "1  POLYGON ((-120.59599 37.34121, -120.59596 37.3...  06037000802  \n",
       "2  POLYGON ((-121.87381 37.34412, -121.87361 37.3...  06037501402  \n",
       "3  POLYGON ((-120.61016 38.41560, -120.61000 38.4...  06037000102  \n",
       "4  POLYGON ((-119.25262 35.79043, -119.25259 35.7...  06037004901  "
      ]
     },
     "execution_count": 535,
     "metadata": {},
     "output_type": "execute_result"
    }
   ],
   "source": [
    "tracts.head()"
   ]
  },
  {
   "cell_type": "code",
   "execution_count": 536,
   "id": "e15bb0a3-7c91-48e0-afd1-a9435e189faf",
   "metadata": {},
   "outputs": [],
   "source": [
    "latracts = tracts.query(\"COUNTYFP == '037'\")"
   ]
  },
  {
   "cell_type": "code",
   "execution_count": 537,
   "id": "af6f412a-52bc-4b64-8f4b-94d2a27296da",
   "metadata": {},
   "outputs": [
    {
     "data": {
      "text/html": [
       "<div>\n",
       "<style scoped>\n",
       "    .dataframe tbody tr th:only-of-type {\n",
       "        vertical-align: middle;\n",
       "    }\n",
       "\n",
       "    .dataframe tbody tr th {\n",
       "        vertical-align: top;\n",
       "    }\n",
       "\n",
       "    .dataframe thead th {\n",
       "        text-align: right;\n",
       "    }\n",
       "</style>\n",
       "<table border=\"1\" class=\"dataframe\">\n",
       "  <thead>\n",
       "    <tr style=\"text-align: right;\">\n",
       "      <th></th>\n",
       "      <th>STATEFP</th>\n",
       "      <th>COUNTYFP</th>\n",
       "      <th>TRACTCE</th>\n",
       "      <th>GEOID</th>\n",
       "      <th>NAME</th>\n",
       "      <th>NAMELSAD</th>\n",
       "      <th>MTFCC</th>\n",
       "      <th>FUNCSTAT</th>\n",
       "      <th>ALAND</th>\n",
       "      <th>AWATER</th>\n",
       "      <th>INTPTLAT</th>\n",
       "      <th>INTPTLON</th>\n",
       "      <th>geometry</th>\n",
       "      <th>FIPS</th>\n",
       "    </tr>\n",
       "  </thead>\n",
       "  <tbody>\n",
       "    <tr>\n",
       "      <th>17</th>\n",
       "      <td>06</td>\n",
       "      <td>037</td>\n",
       "      <td>262601</td>\n",
       "      <td>06037262601</td>\n",
       "      <td>2626.01</td>\n",
       "      <td>Census Tract 2626.01</td>\n",
       "      <td>G5020</td>\n",
       "      <td>S</td>\n",
       "      <td>3620351</td>\n",
       "      <td>0</td>\n",
       "      <td>+34.0738344</td>\n",
       "      <td>-118.5557893</td>\n",
       "      <td>POLYGON ((-118.57556 34.08019, -118.57497 34.0...</td>\n",
       "      <td>06037262601</td>\n",
       "    </tr>\n",
       "    <tr>\n",
       "      <th>62</th>\n",
       "      <td>06</td>\n",
       "      <td>037</td>\n",
       "      <td>300100</td>\n",
       "      <td>06037300100</td>\n",
       "      <td>3001</td>\n",
       "      <td>Census Tract 3001</td>\n",
       "      <td>G5020</td>\n",
       "      <td>S</td>\n",
       "      <td>4591342</td>\n",
       "      <td>18657</td>\n",
       "      <td>+34.2442558</td>\n",
       "      <td>-118.2325716</td>\n",
       "      <td>POLYGON ((-118.24859 34.23881, -118.24858 34.2...</td>\n",
       "      <td>06037300100</td>\n",
       "    </tr>\n",
       "    <tr>\n",
       "      <th>65</th>\n",
       "      <td>06</td>\n",
       "      <td>037</td>\n",
       "      <td>300501</td>\n",
       "      <td>06037300501</td>\n",
       "      <td>3005.01</td>\n",
       "      <td>Census Tract 3005.01</td>\n",
       "      <td>G5020</td>\n",
       "      <td>S</td>\n",
       "      <td>1260255</td>\n",
       "      <td>0</td>\n",
       "      <td>+34.2206887</td>\n",
       "      <td>-118.2400494</td>\n",
       "      <td>POLYGON ((-118.24875 34.22249, -118.24875 34.2...</td>\n",
       "      <td>06037300501</td>\n",
       "    </tr>\n",
       "    <tr>\n",
       "      <th>78</th>\n",
       "      <td>06</td>\n",
       "      <td>037</td>\n",
       "      <td>310701</td>\n",
       "      <td>06037310701</td>\n",
       "      <td>3107.01</td>\n",
       "      <td>Census Tract 3107.01</td>\n",
       "      <td>G5020</td>\n",
       "      <td>S</td>\n",
       "      <td>515339</td>\n",
       "      <td>0</td>\n",
       "      <td>+34.1853923</td>\n",
       "      <td>-118.3128440</td>\n",
       "      <td>POLYGON ((-118.31952 34.18495, -118.31915 34.1...</td>\n",
       "      <td>06037310701</td>\n",
       "    </tr>\n",
       "    <tr>\n",
       "      <th>211</th>\n",
       "      <td>06</td>\n",
       "      <td>037</td>\n",
       "      <td>300200</td>\n",
       "      <td>06037300200</td>\n",
       "      <td>3002</td>\n",
       "      <td>Census Tract 3002</td>\n",
       "      <td>G5020</td>\n",
       "      <td>S</td>\n",
       "      <td>1943986</td>\n",
       "      <td>10136</td>\n",
       "      <td>+34.2283768</td>\n",
       "      <td>-118.2386852</td>\n",
       "      <td>POLYGON ((-118.24864 34.23324, -118.24863 34.2...</td>\n",
       "      <td>06037300200</td>\n",
       "    </tr>\n",
       "  </tbody>\n",
       "</table>\n",
       "</div>"
      ],
      "text/plain": [
       "    STATEFP COUNTYFP TRACTCE        GEOID     NAME              NAMELSAD  \\\n",
       "17       06      037  262601  06037262601  2626.01  Census Tract 2626.01   \n",
       "62       06      037  300100  06037300100     3001     Census Tract 3001   \n",
       "65       06      037  300501  06037300501  3005.01  Census Tract 3005.01   \n",
       "78       06      037  310701  06037310701  3107.01  Census Tract 3107.01   \n",
       "211      06      037  300200  06037300200     3002     Census Tract 3002   \n",
       "\n",
       "     MTFCC FUNCSTAT    ALAND  AWATER     INTPTLAT      INTPTLON  \\\n",
       "17   G5020        S  3620351       0  +34.0738344  -118.5557893   \n",
       "62   G5020        S  4591342   18657  +34.2442558  -118.2325716   \n",
       "65   G5020        S  1260255       0  +34.2206887  -118.2400494   \n",
       "78   G5020        S   515339       0  +34.1853923  -118.3128440   \n",
       "211  G5020        S  1943986   10136  +34.2283768  -118.2386852   \n",
       "\n",
       "                                              geometry         FIPS  \n",
       "17   POLYGON ((-118.57556 34.08019, -118.57497 34.0...  06037262601  \n",
       "62   POLYGON ((-118.24859 34.23881, -118.24858 34.2...  06037300100  \n",
       "65   POLYGON ((-118.24875 34.22249, -118.24875 34.2...  06037300501  \n",
       "78   POLYGON ((-118.31952 34.18495, -118.31915 34.1...  06037310701  \n",
       "211  POLYGON ((-118.24864 34.23324, -118.24863 34.2...  06037300200  "
      ]
     },
     "execution_count": 537,
     "metadata": {},
     "output_type": "execute_result"
    }
   ],
   "source": [
    "latracts.head()"
   ]
  },
  {
   "cell_type": "code",
   "execution_count": 538,
   "id": "9d4d8a11-d6bf-48fd-98c7-ea324d643ef1",
   "metadata": {},
   "outputs": [
    {
     "name": "stdout",
     "output_type": "stream",
     "text": [
      "<class 'pandas.core.frame.DataFrame'>\n",
      "RangeIndex: 2495 entries, 0 to 2494\n",
      "Data columns (total 60 columns):\n",
      " #   Column                                                                  Non-Null Count  Dtype   \n",
      "---  ------                                                                  --------------  -----   \n",
      " 0   geoid20_x                                                               2495 non-null   object  \n",
      " 1   ShapeSTArea                                                             2495 non-null   float64 \n",
      " 2   ShapeSTLength                                                           2495 non-null   float64 \n",
      " 3   geometry_x                                                              2481 non-null   object  \n",
      " 4   pop_below_100_pct                                                       2471 non-null   float64 \n",
      " 5   pop_below_200_pct                                                       2471 non-null   float64 \n",
      " 6   mental_health_pct                                                       2477 non-null   float64 \n",
      " 7   physical_health_pct                                                     2477 non-null   float64 \n",
      " 8   diabetes_pct                                                            2477 non-null   float64 \n",
      " 9   cancer_pct                                                              2477 non-null   float64 \n",
      " 10  copd_pct                                                                2477 non-null   float64 \n",
      " 11  chd_pct                                                                 2477 non-null   float64 \n",
      " 12  smoking_pct                                                             2477 non-null   float64 \n",
      " 13  binge_drinking_pct                                                      2477 non-null   float64 \n",
      " 14  total_pop                                                               1986 non-null   float64 \n",
      " 15  snap_rate                                                               1979 non-null   float64 \n",
      " 16  FIPS_x                                                                  2495 non-null   object  \n",
      " 17  Margin of Error!!SEX AND AGE!!Total population!!35 to 44 years          2029 non-null   float64 \n",
      " 18  Margin of Error!!SEX AND AGE!!Total population!!55 to 59 years          2029 non-null   float64 \n",
      " 19  Estimate!!SEX AND AGE!!Total population!!75 to 84 years                 2029 non-null   float64 \n",
      " 20  Estimate!!SEX AND AGE!!Total population!!Under 18 years                 2029 non-null   float64 \n",
      " 21  Estimate!!SEX AND AGE!!Total population!!16 years and over              2029 non-null   float64 \n",
      " 22  Percent Margin of Error!!SEX AND AGE!!Total population!!20 to 24 years  2029 non-null   object  \n",
      " 23  geoid20_y                                                               2029 non-null   float64 \n",
      " 24  tract                                                                   2495 non-null   object  \n",
      " 25  families_all                                                            2495 non-null   int64   \n",
      " 26  fam_below_200fpl                                                        2495 non-null   int64   \n",
      " 27  fam_below_300fpl                                                        2495 non-null   int64   \n",
      " 28  fam_received_ssi_cash_assistanc                                         2495 non-null   int64   \n",
      " 29  fam_below_fpl_pct                                                       2468 non-null   float64 \n",
      " 30  fam_below_200fpl_pct                                                    2495 non-null   float64 \n",
      " 31  fam_below_300fpl_pct                                                    2495 non-null   float64 \n",
      " 32  fam_received_assistance_pct                                             2495 non-null   float64 \n",
      " 33  fam_below_fpl_received_assistan                                         2368 non-null   float64 \n",
      " 34  assistance_per_100_fam_below_20                                         2495 non-null   float64 \n",
      " 35  assistance_per_100_fam_below_30                                         2495 non-null   float64 \n",
      " 36  sup_dist                                                                2495 non-null   object  \n",
      " 37  csa                                                                     2495 non-null   object  \n",
      " 38  spa                                                                     2495 non-null   object  \n",
      " 39  calfresh_cases                                                          2483 non-null   float64 \n",
      " 40  calfresh_per_100_families                                               2495 non-null   float64 \n",
      " 41  calfresh_per_100_fam_below_200f                                         2495 non-null   float64 \n",
      " 42  calfresh_per_100_fam_below_300f                                         2495 non-null   float64 \n",
      " 43  ESRI_OID                                                                2495 non-null   int64   \n",
      " 44  Shape__Area                                                             2495 non-null   float64 \n",
      " 45  Shape__Length                                                           2495 non-null   float64 \n",
      " 46  geometry_y                                                              2495 non-null   geometry\n",
      " 47  FIPS_y                                                                  2495 non-null   object  \n",
      " 48  TRACTCE                                                                 2495 non-null   object  \n",
      " 49  Age Total population                                                    2029 non-null   float64 \n",
      " 50  Under 18 years                                                          2029 non-null   float64 \n",
      " 51  Percent Under 18 years                                                  2029 non-null   object  \n",
      " 52  0-19 years                                                              2029 non-null   float64 \n",
      " 53  65 years and over                                                       2029 non-null   float64 \n",
      " 54  Percent 65 years and over                                               2029 non-null   object  \n",
      " 55  85 years and over                                                       2029 non-null   float64 \n",
      " 56  Hispanic or Latino                                                      2029 non-null   float64 \n",
      " 57  Percent Hispanic or Latino                                              2029 non-null   object  \n",
      " 58  Not Hispanic or Latino                                                  2029 non-null   float64 \n",
      " 59  FIPS                                                                    2495 non-null   object  \n",
      "dtypes: float64(40), geometry(1), int64(5), object(14)\n",
      "memory usage: 1.1+ MB\n"
     ]
    }
   ],
   "source": [
    "merge.info(verbose=True,show_counts=True)"
   ]
  },
  {
   "cell_type": "code",
   "execution_count": 539,
   "id": "52d40908-3fe6-4cdb-9a8a-90cbb8b85001",
   "metadata": {},
   "outputs": [],
   "source": [
    "merge['FIPS'] = merge['TRACTCE']"
   ]
  },
  {
   "cell_type": "code",
   "execution_count": 540,
   "id": "db3e97f0-0cfe-449d-b458-85b5bd462713",
   "metadata": {},
   "outputs": [
    {
     "data": {
      "text/html": [
       "<div>\n",
       "<style scoped>\n",
       "    .dataframe tbody tr th:only-of-type {\n",
       "        vertical-align: middle;\n",
       "    }\n",
       "\n",
       "    .dataframe tbody tr th {\n",
       "        vertical-align: top;\n",
       "    }\n",
       "\n",
       "    .dataframe thead th {\n",
       "        text-align: right;\n",
       "    }\n",
       "</style>\n",
       "<table border=\"1\" class=\"dataframe\">\n",
       "  <thead>\n",
       "    <tr style=\"text-align: right;\">\n",
       "      <th></th>\n",
       "      <th>geoid20_x</th>\n",
       "      <th>ShapeSTArea</th>\n",
       "      <th>ShapeSTLength</th>\n",
       "      <th>geometry_x</th>\n",
       "      <th>pop_below_100_pct</th>\n",
       "      <th>pop_below_200_pct</th>\n",
       "      <th>mental_health_pct</th>\n",
       "      <th>physical_health_pct</th>\n",
       "      <th>diabetes_pct</th>\n",
       "      <th>cancer_pct</th>\n",
       "      <th>...</th>\n",
       "      <th>Under 18 years</th>\n",
       "      <th>Percent Under 18 years</th>\n",
       "      <th>0-19 years</th>\n",
       "      <th>65 years and over</th>\n",
       "      <th>Percent 65 years and over</th>\n",
       "      <th>85 years and over</th>\n",
       "      <th>Hispanic or Latino</th>\n",
       "      <th>Percent Hispanic or Latino</th>\n",
       "      <th>Not Hispanic or Latino</th>\n",
       "      <th>FIPS</th>\n",
       "    </tr>\n",
       "  </thead>\n",
       "  <tbody>\n",
       "    <tr>\n",
       "      <th>0</th>\n",
       "      <td>101110</td>\n",
       "      <td>1.229562e+07</td>\n",
       "      <td>15083.854290</td>\n",
       "      <td>POLYGON ((-118.2979312139962 34.2632268762169,...</td>\n",
       "      <td>11.287386</td>\n",
       "      <td>26.736021</td>\n",
       "      <td>16.309769</td>\n",
       "      <td>10.794954</td>\n",
       "      <td>9.504253</td>\n",
       "      <td>5.485480</td>\n",
       "      <td>...</td>\n",
       "      <td>595.0</td>\n",
       "      <td>14.8</td>\n",
       "      <td>716.0</td>\n",
       "      <td>840.0</td>\n",
       "      <td>20.9</td>\n",
       "      <td>34.0</td>\n",
       "      <td>1082.0</td>\n",
       "      <td>27.0</td>\n",
       "      <td>2932.0</td>\n",
       "      <td>06037101110</td>\n",
       "    </tr>\n",
       "    <tr>\n",
       "      <th>1</th>\n",
       "      <td>101122</td>\n",
       "      <td>2.845774e+07</td>\n",
       "      <td>31671.455840</td>\n",
       "      <td>POLYGON ((-118.27743420965825 34.2599078772977...</td>\n",
       "      <td>4.429760</td>\n",
       "      <td>10.499266</td>\n",
       "      <td>13.911290</td>\n",
       "      <td>8.702957</td>\n",
       "      <td>8.299731</td>\n",
       "      <td>6.283602</td>\n",
       "      <td>...</td>\n",
       "      <td>665.0</td>\n",
       "      <td>16.0</td>\n",
       "      <td>729.0</td>\n",
       "      <td>909.0</td>\n",
       "      <td>21.8</td>\n",
       "      <td>149.0</td>\n",
       "      <td>362.0</td>\n",
       "      <td>8.7</td>\n",
       "      <td>3802.0</td>\n",
       "      <td>06037101122</td>\n",
       "    </tr>\n",
       "    <tr>\n",
       "      <th>2</th>\n",
       "      <td>101220</td>\n",
       "      <td>7.522093e+06</td>\n",
       "      <td>12698.783810</td>\n",
       "      <td>POLYGON ((-118.27817921018234 34.2557728762786...</td>\n",
       "      <td>16.900661</td>\n",
       "      <td>34.781456</td>\n",
       "      <td>16.807861</td>\n",
       "      <td>11.995934</td>\n",
       "      <td>10.606574</td>\n",
       "      <td>5.489665</td>\n",
       "      <td>...</td>\n",
       "      <td>596.0</td>\n",
       "      <td>17.1</td>\n",
       "      <td>686.0</td>\n",
       "      <td>569.0</td>\n",
       "      <td>16.3</td>\n",
       "      <td>39.0</td>\n",
       "      <td>1463.0</td>\n",
       "      <td>42.0</td>\n",
       "      <td>2018.0</td>\n",
       "      <td>06037101220</td>\n",
       "    </tr>\n",
       "    <tr>\n",
       "      <th>3</th>\n",
       "      <td>101221</td>\n",
       "      <td>3.812000e+06</td>\n",
       "      <td>9161.710543</td>\n",
       "      <td>POLYGON ((-118.28734521088782 34.2559088762374...</td>\n",
       "      <td>20.601543</td>\n",
       "      <td>43.918018</td>\n",
       "      <td>18.384296</td>\n",
       "      <td>12.306531</td>\n",
       "      <td>9.890525</td>\n",
       "      <td>4.605512</td>\n",
       "      <td>...</td>\n",
       "      <td>694.0</td>\n",
       "      <td>18.5</td>\n",
       "      <td>805.0</td>\n",
       "      <td>733.0</td>\n",
       "      <td>19.5</td>\n",
       "      <td>182.0</td>\n",
       "      <td>1204.0</td>\n",
       "      <td>32.1</td>\n",
       "      <td>2552.0</td>\n",
       "      <td>06037101221</td>\n",
       "    </tr>\n",
       "    <tr>\n",
       "      <th>4</th>\n",
       "      <td>101222</td>\n",
       "      <td>3.191371e+06</td>\n",
       "      <td>9980.600461</td>\n",
       "      <td>POLYGON ((-118.28593621132488 34.2558998758872...</td>\n",
       "      <td>38.019875</td>\n",
       "      <td>66.654396</td>\n",
       "      <td>18.394951</td>\n",
       "      <td>12.308386</td>\n",
       "      <td>9.918846</td>\n",
       "      <td>4.598738</td>\n",
       "      <td>...</td>\n",
       "      <td>512.0</td>\n",
       "      <td>18.2</td>\n",
       "      <td>542.0</td>\n",
       "      <td>459.0</td>\n",
       "      <td>16.3</td>\n",
       "      <td>70.0</td>\n",
       "      <td>1295.0</td>\n",
       "      <td>46.1</td>\n",
       "      <td>1513.0</td>\n",
       "      <td>06037101222</td>\n",
       "    </tr>\n",
       "  </tbody>\n",
       "</table>\n",
       "<p>5 rows × 60 columns</p>\n",
       "</div>"
      ],
      "text/plain": [
       "  geoid20_x   ShapeSTArea  ShapeSTLength  \\\n",
       "0    101110  1.229562e+07   15083.854290   \n",
       "1    101122  2.845774e+07   31671.455840   \n",
       "2    101220  7.522093e+06   12698.783810   \n",
       "3    101221  3.812000e+06    9161.710543   \n",
       "4    101222  3.191371e+06    9980.600461   \n",
       "\n",
       "                                          geometry_x  pop_below_100_pct  \\\n",
       "0  POLYGON ((-118.2979312139962 34.2632268762169,...          11.287386   \n",
       "1  POLYGON ((-118.27743420965825 34.2599078772977...           4.429760   \n",
       "2  POLYGON ((-118.27817921018234 34.2557728762786...          16.900661   \n",
       "3  POLYGON ((-118.28734521088782 34.2559088762374...          20.601543   \n",
       "4  POLYGON ((-118.28593621132488 34.2558998758872...          38.019875   \n",
       "\n",
       "   pop_below_200_pct  mental_health_pct  physical_health_pct  diabetes_pct  \\\n",
       "0          26.736021          16.309769            10.794954      9.504253   \n",
       "1          10.499266          13.911290             8.702957      8.299731   \n",
       "2          34.781456          16.807861            11.995934     10.606574   \n",
       "3          43.918018          18.384296            12.306531      9.890525   \n",
       "4          66.654396          18.394951            12.308386      9.918846   \n",
       "\n",
       "   cancer_pct  ...  Under 18 years  Percent Under 18 years  0-19 years  \\\n",
       "0    5.485480  ...           595.0                    14.8       716.0   \n",
       "1    6.283602  ...           665.0                    16.0       729.0   \n",
       "2    5.489665  ...           596.0                    17.1       686.0   \n",
       "3    4.605512  ...           694.0                    18.5       805.0   \n",
       "4    4.598738  ...           512.0                    18.2       542.0   \n",
       "\n",
       "   65 years and over  Percent 65 years and over  85 years and over  \\\n",
       "0              840.0                       20.9               34.0   \n",
       "1              909.0                       21.8              149.0   \n",
       "2              569.0                       16.3               39.0   \n",
       "3              733.0                       19.5              182.0   \n",
       "4              459.0                       16.3               70.0   \n",
       "\n",
       "  Hispanic or Latino  Percent Hispanic or Latino  Not Hispanic or Latino  \\\n",
       "0             1082.0                        27.0                  2932.0   \n",
       "1              362.0                         8.7                  3802.0   \n",
       "2             1463.0                        42.0                  2018.0   \n",
       "3             1204.0                        32.1                  2552.0   \n",
       "4             1295.0                        46.1                  1513.0   \n",
       "\n",
       "          FIPS  \n",
       "0  06037101110  \n",
       "1  06037101122  \n",
       "2  06037101220  \n",
       "3  06037101221  \n",
       "4  06037101222  \n",
       "\n",
       "[5 rows x 60 columns]"
      ]
     },
     "execution_count": 540,
     "metadata": {},
     "output_type": "execute_result"
    }
   ],
   "source": [
    "merge.head()"
   ]
  },
  {
   "cell_type": "code",
   "execution_count": 541,
   "id": "cbfecacd-6447-4399-acb4-e27ac645696b",
   "metadata": {},
   "outputs": [],
   "source": [
    "#merging census variables and Cal Fresh data with census tract shapefile\n",
    "merge_gdf = latracts.merge(merge,on='FIPS')"
   ]
  },
  {
   "cell_type": "code",
   "execution_count": 542,
   "id": "7fc5851d-7015-4eab-b898-532cfa583b22",
   "metadata": {},
   "outputs": [
    {
     "data": {
      "text/html": [
       "<div>\n",
       "<style scoped>\n",
       "    .dataframe tbody tr th:only-of-type {\n",
       "        vertical-align: middle;\n",
       "    }\n",
       "\n",
       "    .dataframe tbody tr th {\n",
       "        vertical-align: top;\n",
       "    }\n",
       "\n",
       "    .dataframe thead th {\n",
       "        text-align: right;\n",
       "    }\n",
       "</style>\n",
       "<table border=\"1\" class=\"dataframe\">\n",
       "  <thead>\n",
       "    <tr style=\"text-align: right;\">\n",
       "      <th></th>\n",
       "      <th>STATEFP</th>\n",
       "      <th>COUNTYFP</th>\n",
       "      <th>TRACTCE_x</th>\n",
       "      <th>GEOID</th>\n",
       "      <th>NAME</th>\n",
       "      <th>NAMELSAD</th>\n",
       "      <th>MTFCC</th>\n",
       "      <th>FUNCSTAT</th>\n",
       "      <th>ALAND</th>\n",
       "      <th>AWATER</th>\n",
       "      <th>...</th>\n",
       "      <th>Age Total population</th>\n",
       "      <th>Under 18 years</th>\n",
       "      <th>Percent Under 18 years</th>\n",
       "      <th>0-19 years</th>\n",
       "      <th>65 years and over</th>\n",
       "      <th>Percent 65 years and over</th>\n",
       "      <th>85 years and over</th>\n",
       "      <th>Hispanic or Latino</th>\n",
       "      <th>Percent Hispanic or Latino</th>\n",
       "      <th>Not Hispanic or Latino</th>\n",
       "    </tr>\n",
       "  </thead>\n",
       "  <tbody>\n",
       "    <tr>\n",
       "      <th>0</th>\n",
       "      <td>06</td>\n",
       "      <td>037</td>\n",
       "      <td>262601</td>\n",
       "      <td>06037262601</td>\n",
       "      <td>2626.01</td>\n",
       "      <td>Census Tract 2626.01</td>\n",
       "      <td>G5020</td>\n",
       "      <td>S</td>\n",
       "      <td>3620351</td>\n",
       "      <td>0</td>\n",
       "      <td>...</td>\n",
       "      <td>3330.0</td>\n",
       "      <td>850.0</td>\n",
       "      <td>25.5</td>\n",
       "      <td>902.0</td>\n",
       "      <td>780.0</td>\n",
       "      <td>23.4</td>\n",
       "      <td>74.0</td>\n",
       "      <td>210.0</td>\n",
       "      <td>6.3</td>\n",
       "      <td>3120.0</td>\n",
       "    </tr>\n",
       "    <tr>\n",
       "      <th>1</th>\n",
       "      <td>06</td>\n",
       "      <td>037</td>\n",
       "      <td>300100</td>\n",
       "      <td>06037300100</td>\n",
       "      <td>3001</td>\n",
       "      <td>Census Tract 3001</td>\n",
       "      <td>G5020</td>\n",
       "      <td>S</td>\n",
       "      <td>4591342</td>\n",
       "      <td>18657</td>\n",
       "      <td>...</td>\n",
       "      <td>NaN</td>\n",
       "      <td>NaN</td>\n",
       "      <td>NaN</td>\n",
       "      <td>NaN</td>\n",
       "      <td>NaN</td>\n",
       "      <td>NaN</td>\n",
       "      <td>NaN</td>\n",
       "      <td>NaN</td>\n",
       "      <td>NaN</td>\n",
       "      <td>NaN</td>\n",
       "    </tr>\n",
       "    <tr>\n",
       "      <th>2</th>\n",
       "      <td>06</td>\n",
       "      <td>037</td>\n",
       "      <td>300501</td>\n",
       "      <td>06037300501</td>\n",
       "      <td>3005.01</td>\n",
       "      <td>Census Tract 3005.01</td>\n",
       "      <td>G5020</td>\n",
       "      <td>S</td>\n",
       "      <td>1260255</td>\n",
       "      <td>0</td>\n",
       "      <td>...</td>\n",
       "      <td>2785.0</td>\n",
       "      <td>598.0</td>\n",
       "      <td>21.5</td>\n",
       "      <td>677.0</td>\n",
       "      <td>408.0</td>\n",
       "      <td>14.6</td>\n",
       "      <td>87.0</td>\n",
       "      <td>575.0</td>\n",
       "      <td>20.6</td>\n",
       "      <td>2210.0</td>\n",
       "    </tr>\n",
       "    <tr>\n",
       "      <th>3</th>\n",
       "      <td>06</td>\n",
       "      <td>037</td>\n",
       "      <td>310701</td>\n",
       "      <td>06037310701</td>\n",
       "      <td>3107.01</td>\n",
       "      <td>Census Tract 3107.01</td>\n",
       "      <td>G5020</td>\n",
       "      <td>S</td>\n",
       "      <td>515339</td>\n",
       "      <td>0</td>\n",
       "      <td>...</td>\n",
       "      <td>2366.0</td>\n",
       "      <td>345.0</td>\n",
       "      <td>14.6</td>\n",
       "      <td>417.0</td>\n",
       "      <td>759.0</td>\n",
       "      <td>32.1</td>\n",
       "      <td>108.0</td>\n",
       "      <td>530.0</td>\n",
       "      <td>22.4</td>\n",
       "      <td>1836.0</td>\n",
       "    </tr>\n",
       "    <tr>\n",
       "      <th>4</th>\n",
       "      <td>06</td>\n",
       "      <td>037</td>\n",
       "      <td>300200</td>\n",
       "      <td>06037300200</td>\n",
       "      <td>3002</td>\n",
       "      <td>Census Tract 3002</td>\n",
       "      <td>G5020</td>\n",
       "      <td>S</td>\n",
       "      <td>1943986</td>\n",
       "      <td>10136</td>\n",
       "      <td>...</td>\n",
       "      <td>NaN</td>\n",
       "      <td>NaN</td>\n",
       "      <td>NaN</td>\n",
       "      <td>NaN</td>\n",
       "      <td>NaN</td>\n",
       "      <td>NaN</td>\n",
       "      <td>NaN</td>\n",
       "      <td>NaN</td>\n",
       "      <td>NaN</td>\n",
       "      <td>NaN</td>\n",
       "    </tr>\n",
       "  </tbody>\n",
       "</table>\n",
       "<p>5 rows × 73 columns</p>\n",
       "</div>"
      ],
      "text/plain": [
       "  STATEFP COUNTYFP TRACTCE_x        GEOID     NAME              NAMELSAD  \\\n",
       "0      06      037    262601  06037262601  2626.01  Census Tract 2626.01   \n",
       "1      06      037    300100  06037300100     3001     Census Tract 3001   \n",
       "2      06      037    300501  06037300501  3005.01  Census Tract 3005.01   \n",
       "3      06      037    310701  06037310701  3107.01  Census Tract 3107.01   \n",
       "4      06      037    300200  06037300200     3002     Census Tract 3002   \n",
       "\n",
       "   MTFCC FUNCSTAT    ALAND  AWATER  ... Age Total population Under 18 years  \\\n",
       "0  G5020        S  3620351       0  ...               3330.0          850.0   \n",
       "1  G5020        S  4591342   18657  ...                  NaN            NaN   \n",
       "2  G5020        S  1260255       0  ...               2785.0          598.0   \n",
       "3  G5020        S   515339       0  ...               2366.0          345.0   \n",
       "4  G5020        S  1943986   10136  ...                  NaN            NaN   \n",
       "\n",
       "  Percent Under 18 years 0-19 years 65 years and over  \\\n",
       "0                   25.5      902.0             780.0   \n",
       "1                    NaN        NaN               NaN   \n",
       "2                   21.5      677.0             408.0   \n",
       "3                   14.6      417.0             759.0   \n",
       "4                    NaN        NaN               NaN   \n",
       "\n",
       "   Percent 65 years and over  85 years and over Hispanic or Latino  \\\n",
       "0                       23.4               74.0              210.0   \n",
       "1                        NaN                NaN                NaN   \n",
       "2                       14.6               87.0              575.0   \n",
       "3                       32.1              108.0              530.0   \n",
       "4                        NaN                NaN                NaN   \n",
       "\n",
       "   Percent Hispanic or Latino  Not Hispanic or Latino  \n",
       "0                         6.3                  3120.0  \n",
       "1                         NaN                     NaN  \n",
       "2                        20.6                  2210.0  \n",
       "3                        22.4                  1836.0  \n",
       "4                         NaN                     NaN  \n",
       "\n",
       "[5 rows x 73 columns]"
      ]
     },
     "execution_count": 542,
     "metadata": {},
     "output_type": "execute_result"
    }
   ],
   "source": [
    "merge_gdf.head()"
   ]
  },
  {
   "cell_type": "code",
   "execution_count": 544,
   "id": "5adf0c75-2d74-4bde-aaf6-ac65201f7812",
   "metadata": {},
   "outputs": [
    {
     "name": "stdout",
     "output_type": "stream",
     "text": [
      "<class 'geopandas.geodataframe.GeoDataFrame'>\n",
      "RangeIndex: 2495 entries, 0 to 2494\n",
      "Data columns (total 73 columns):\n",
      " #   Column                                                                  Non-Null Count  Dtype   \n",
      "---  ------                                                                  --------------  -----   \n",
      " 0   STATEFP                                                                 2495 non-null   object  \n",
      " 1   COUNTYFP                                                                2495 non-null   object  \n",
      " 2   TRACTCE_x                                                               2495 non-null   object  \n",
      " 3   GEOID                                                                   2495 non-null   object  \n",
      " 4   NAME                                                                    2495 non-null   object  \n",
      " 5   NAMELSAD                                                                2495 non-null   object  \n",
      " 6   MTFCC                                                                   2495 non-null   object  \n",
      " 7   FUNCSTAT                                                                2495 non-null   object  \n",
      " 8   ALAND                                                                   2495 non-null   int64   \n",
      " 9   AWATER                                                                  2495 non-null   int64   \n",
      " 10  INTPTLAT                                                                2495 non-null   object  \n",
      " 11  INTPTLON                                                                2495 non-null   object  \n",
      " 12  geometry                                                                2495 non-null   geometry\n",
      " 13  FIPS                                                                    2495 non-null   object  \n",
      " 14  geoid20_x                                                               2495 non-null   object  \n",
      " 15  ShapeSTArea                                                             2495 non-null   float64 \n",
      " 16  ShapeSTLength                                                           2495 non-null   float64 \n",
      " 17  geometry_x                                                              2481 non-null   object  \n",
      " 18  pop_below_100_pct                                                       2471 non-null   float64 \n",
      " 19  pop_below_200_pct                                                       2471 non-null   float64 \n",
      " 20  mental_health_pct                                                       2477 non-null   float64 \n",
      " 21  physical_health_pct                                                     2477 non-null   float64 \n",
      " 22  diabetes_pct                                                            2477 non-null   float64 \n",
      " 23  cancer_pct                                                              2477 non-null   float64 \n",
      " 24  copd_pct                                                                2477 non-null   float64 \n",
      " 25  chd_pct                                                                 2477 non-null   float64 \n",
      " 26  smoking_pct                                                             2477 non-null   float64 \n",
      " 27  binge_drinking_pct                                                      2477 non-null   float64 \n",
      " 28  total_pop                                                               1986 non-null   float64 \n",
      " 29  snap_rate                                                               1979 non-null   float64 \n",
      " 30  FIPS_x                                                                  2495 non-null   object  \n",
      " 31  Margin of Error!!SEX AND AGE!!Total population!!35 to 44 years          2029 non-null   float64 \n",
      " 32  Margin of Error!!SEX AND AGE!!Total population!!55 to 59 years          2029 non-null   float64 \n",
      " 33  Estimate!!SEX AND AGE!!Total population!!75 to 84 years                 2029 non-null   float64 \n",
      " 34  Estimate!!SEX AND AGE!!Total population!!Under 18 years                 2029 non-null   float64 \n",
      " 35  Estimate!!SEX AND AGE!!Total population!!16 years and over              2029 non-null   float64 \n",
      " 36  Percent Margin of Error!!SEX AND AGE!!Total population!!20 to 24 years  2029 non-null   object  \n",
      " 37  geoid20_y                                                               2029 non-null   float64 \n",
      " 38  tract                                                                   2495 non-null   object  \n",
      " 39  families_all                                                            2495 non-null   int64   \n",
      " 40  fam_below_200fpl                                                        2495 non-null   int64   \n",
      " 41  fam_below_300fpl                                                        2495 non-null   int64   \n",
      " 42  fam_received_ssi_cash_assistanc                                         2495 non-null   int64   \n",
      " 43  fam_below_fpl_pct                                                       2468 non-null   float64 \n",
      " 44  fam_below_200fpl_pct                                                    2495 non-null   float64 \n",
      " 45  fam_below_300fpl_pct                                                    2495 non-null   float64 \n",
      " 46  fam_received_assistance_pct                                             2495 non-null   float64 \n",
      " 47  fam_below_fpl_received_assistan                                         2368 non-null   float64 \n",
      " 48  assistance_per_100_fam_below_20                                         2495 non-null   float64 \n",
      " 49  assistance_per_100_fam_below_30                                         2495 non-null   float64 \n",
      " 50  sup_dist                                                                2495 non-null   object  \n",
      " 51  csa                                                                     2495 non-null   object  \n",
      " 52  spa                                                                     2495 non-null   object  \n",
      " 53  calfresh_cases                                                          2483 non-null   float64 \n",
      " 54  calfresh_per_100_families                                               2495 non-null   float64 \n",
      " 55  calfresh_per_100_fam_below_200f                                         2495 non-null   float64 \n",
      " 56  calfresh_per_100_fam_below_300f                                         2495 non-null   float64 \n",
      " 57  ESRI_OID                                                                2495 non-null   int64   \n",
      " 58  Shape__Area                                                             2495 non-null   float64 \n",
      " 59  Shape__Length                                                           2495 non-null   float64 \n",
      " 60  geometry_y                                                              2495 non-null   geometry\n",
      " 61  FIPS_y                                                                  2495 non-null   object  \n",
      " 62  TRACTCE_y                                                               2495 non-null   object  \n",
      " 63  Age Total population                                                    2029 non-null   float64 \n",
      " 64  Under 18 years                                                          2029 non-null   float64 \n",
      " 65  Percent Under 18 years                                                  2029 non-null   object  \n",
      " 66  0-19 years                                                              2029 non-null   float64 \n",
      " 67  65 years and over                                                       2029 non-null   float64 \n",
      " 68  Percent 65 years and over                                               2029 non-null   object  \n",
      " 69  85 years and over                                                       2029 non-null   float64 \n",
      " 70  Hispanic or Latino                                                      2029 non-null   float64 \n",
      " 71  Percent Hispanic or Latino                                              2029 non-null   object  \n",
      " 72  Not Hispanic or Latino                                                  2029 non-null   float64 \n",
      "dtypes: float64(40), geometry(2), int64(7), object(24)\n",
      "memory usage: 1.4+ MB\n"
     ]
    }
   ],
   "source": [
    "merge_gdf.info(verbose=True,show_counts=True)"
   ]
  },
  {
   "cell_type": "code",
   "execution_count": 545,
   "id": "f12c1611-23bc-49f0-9328-e21f3f3f7e1c",
   "metadata": {},
   "outputs": [],
   "source": [
    "#creating a geodataframe\n",
    "merge_gdf = gpd.GeoDataFrame(merge,geometry = 'geometry_y',crs='epsg:3857')"
   ]
  },
  {
   "cell_type": "code",
   "execution_count": 548,
   "id": "8fa2fa36-8569-40e1-be66-2de3a60027e3",
   "metadata": {},
   "outputs": [],
   "source": [
    "# pandas dataframe csv; pre shapefile merge (mostly a backup)\n",
    "merge.to_csv('data/mergedoutput_df.csv')"
   ]
  },
  {
   "cell_type": "code",
   "execution_count": 547,
   "id": "f62d1449-8821-40fc-9c15-af2fbcb2afd8",
   "metadata": {},
   "outputs": [],
   "source": [
    "# geopandas geodataframe csv; use this when possible\n",
    "merge_gdf.to_csv('data/mergedoutput_gdf.csv')"
   ]
  }
 ],
 "metadata": {
  "kernelspec": {
   "display_name": "Python 3 (ipykernel)",
   "language": "python",
   "name": "python3"
  },
  "language_info": {
   "codemirror_mode": {
    "name": "ipython",
    "version": 3
   },
   "file_extension": ".py",
   "mimetype": "text/x-python",
   "name": "python",
   "nbconvert_exporter": "python",
   "pygments_lexer": "ipython3",
   "version": "3.11.7"
  }
 },
 "nbformat": 4,
 "nbformat_minor": 5
}
