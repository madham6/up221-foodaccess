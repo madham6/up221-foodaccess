{
 "cells": [
  {
   "cell_type": "markdown",
   "id": "b189f35a-15a9-4ec1-af29-5aec3617d048",
   "metadata": {},
   "source": [
    "# Food Insecurity and Heart Disease\n",
    "## Group Name: Food Access in LA County\n",
    "## Group Members: Madi Hamilton, Jessica Fay, Meaghan Woody, Branden Bohrnsen\n",
    "\n",
    "### Midterm Project Proposal\n",
    "### UP221 Winter 2024"
   ]
  },
  {
   "cell_type": "markdown",
   "id": "392ec75c-98a0-445a-afbf-b0ba600c7314",
   "metadata": {},
   "source": [
    "## Introduction:\n",
    "\n",
    "We plan to explore the spatial distribution of food insecurity and heart disease in Los Angeles County. Food insecure areas do not exist randomly throughout the [county of Los Angeles](https://storymaps.arcgis.com/stories/4ef7d78c52ec4b29a6073ffdc6809e83), and are often correlated with race and income levels (U.S. Department of Health and Human Services, n.d.). \n",
    "\n",
    "Food insecurity has been shown to be associated with cardiovascular disease, possibly through a circular association, where some studies suggest that cardiovascular medical cost could result in being food insecure (Chang et al., 2022). Given this association, it is important to investigate how these variables are distributed across Los Angeles County to delineate areas that are most affected or neighborhoods that could benefit from an intervention. Our research aims to understand the impact of government policy such as EBT access on adult cardiovascular health in the County of Los Angeles. The primary research question is **are there geographic disparities trends in food insecurity and coronary heart disease in Los Angeles County?**\n",
    "\n",
    "Additionally, our question is spatially relevant as LA county has expereinced substantial economic hardship during the Covid pandemic, leaving areas of East and South LA regions with increased food insecurity rates. These regions comprise of lower incomes, communities of color, and lack of resources, which are all associated with food insecurity. There are clear geographic disparities that is worth studying further in years after the pandemic and understand which sociodemographics are most at risk."
   ]
  },
  {
   "cell_type": "markdown",
   "id": "ec688841-c428-41d6-9931-5a781cd7d95e",
   "metadata": {},
   "source": [
    "## Spatial Scope\n",
    "\n",
    "Our project focuses on the county of Los Angeles because of our existing knowledge of the area's policies and the availability of data. The list of food resources in California is a snapshot of 2020 whereas the EBT acceptance data runs from 2017 - 2023 (we use 2020 data) and the heart disease prevalence data is from 2023. Understanding spatiality is important for our project because cardiovascular disease is among the top ten leading causes of death in Los Angeles (Los Angeles County Department of Public Health, 2019). Discerning which census tracts are most affected by risk factors and adverse health outcomes may help inform policy and intervention programs."
   ]
  },
  {
   "cell_type": "markdown",
   "id": "52b34311-13c2-4ac8-a5f0-c64fd600db6c",
   "metadata": {},
   "source": [
    "## Data Sources:\n",
    "\n",
    "### USC Neighborhood Data for Social Change\n",
    "\n",
    "### Food Insecurity\n",
    "We plan to use data from USC's Neighborhood Data for Social Change resource on food insecurity, year 2023. The specific variable we will look at to measure food insecurity is SNAP acceptance rate, defined as the number of stores and food providers that accept Supplemental Nutrition Assistance Program (SNAP) benefits in an area. In our further analyses after the midterm, we may also look at their additional measures of food insecurity, including the number of food pantries in a given area and proximity to a grocery store.\n",
    "\n",
    "### Coronary Heart Disease\n",
    "We plan to use USC's Neighborhood Data for Social Change to look at coronary heart disease, year 2020. This data comes from Centers for Disease Control and Prevention – Division of Population Health PLACES Initiative. This variable is defined as the percentage of adults who report being diagnosed with angina or coronary heart disease by a medical professional.\n",
    "\n",
    "Link: https://map.myneighborhooddata.org/](https://map.myneighborhooddata.org/\n",
    "\n",
    "Variables:\n",
    "-SNAP Acceptance Rate by Census Tract 2023\n",
    "-Coronary Heart Disease Rate by Census Tract 2020\n",
    "\n",
    "### II. U.S. Census Bureau - American Community Survey 2016-2020\n",
    "We plan to use the US Census Bureau American Community Survey 2016-2020 for demographic variables. We will download this data from Social Explorer. We will look at demographics (race/ethnicity, age) and socioeconomics (income, employment).\n",
    "\n",
    "Link: https://www.census.gov/programs-surveys/acs/data.html](https://www.census.gov/programs-surveys/acs/data.html\n",
    "\n",
    "Variables:\n",
    "-Hispanic/Latinx\n",
    "-Age\n",
    "-(Un)Employment\n",
    "-Income\n",
    "\n",
    "Lastly, we will use the US Census shapefiles to map Los Angeles County tracts."
   ]
  },
  {
   "cell_type": "markdown",
   "id": "67f8a289-755a-483c-aef7-078c4b8e31ac",
   "metadata": {},
   "source": [
    "## Analysis and Visualizations:\n",
    "\n",
    "To appropriately answer our research question, we intend to explore the spatial distribution of food access as measured by SNAP acceptance rate. We also will explore the spatial distribution of heart disease rate. This will include a combination of charts, static maps, and interactive maps.\n",
    "\n",
    "First, we will create box plots to understand the distribution of our sample population and food insecurity environment. We will look at race/ethnicity, poverty rate using income, SNAP acceptance, and coronary heart disease prevalence. \n",
    "\n",
    "Second, we will create static maps of our variables to understand where the geographic disparities lie. We plan to map poverty, Hispanic/Latinx, coronary heart disease, and unemployment.\n",
    "\n",
    "Lastly, we will utilize Folium Maps to create an interactive map to inspect areas of food insecurity as closely as we can. "
   ]
  },
  {
   "cell_type": "markdown",
   "id": "3339dd37-504c-494a-959e-b50196ad3dac",
   "metadata": {},
   "source": [
    "## Conclusion:\n",
    "\n",
    "From our research, we hope to gain a better understanding of what regions of LA county are experiencing the most burden in food insecurity and its associated indicators. Exploring these variables may provide insight into which specific areas of LA are more at risk for heart disease or which tracts could benefit the most from interventions and policy reform."
   ]
  },
  {
   "cell_type": "markdown",
   "id": "20f77e00-7df3-47f7-ac8b-32350fc1f137",
   "metadata": {},
   "source": [
    "## References:\n",
    "\n",
    "Chang, R., Javed, Z., Taha, M., Yahya, T., Valero-Elizondo, J., Brandt, E. J., ... & Nasir, K. (2022). Food insecurity and cardiovascular disease: Current trends and future directions. American Journal of Preventive Cardiology, 9, 100303.\n",
    "\n",
    "Food insecurity. Food Insecurity - Healthy People 2030. (n.d.). [https://health.gov/healthypeople/priority-areas/social-determinants-health/literature-summaries/food-insecurity#:~:text=Food%20insecurity%20may%20be%20long%20term%20or%20temporary.&text=It%20may%20be%20influenced%20by,race%2Fethnicity%2C%20and%20disability.](https://health.gov/healthypeople/priority-areas/social-determinants-health/literature-summaries/food-insecurity#:~:text=Food%20insecurity%20may%20be%20long%20term%20or%20temporary.&text=It%20may%20be%20influenced%20by,race%2Fethnicity%2C%20and%20disability.) \n",
    "\n",
    "Livings, M. S., Wilson, J., Miller, S., Bruine de Bruin, W., Weber, K., Babboni, M., ... & De la Haye, K. (2023). Spatial characteristics of food insecurity and food access in Los Angeles County during the COVID-19 pandemic. Food Security, 15(5), 1255-1271. https://link.springer.com/article/10.1007/s12571-023-01381-5#Sec5\n",
    "\n",
    "Patterns in mortality in Los Angeles County, 2008-2017. Los Angeles County Department of Public Health. Office of Health Assessment and Epidemiology. December 2019.\n"
   ]
  }
 ],
 "metadata": {
  "kernelspec": {
   "display_name": "Python 3 (ipykernel)",
   "language": "python",
   "name": "python3"
  },
  "language_info": {
   "codemirror_mode": {
    "name": "ipython",
    "version": 3
   },
   "file_extension": ".py",
   "mimetype": "text/x-python",
   "name": "python",
   "nbconvert_exporter": "python",
   "pygments_lexer": "ipython3",
   "version": "3.11.7"
  }
 },
 "nbformat": 4,
 "nbformat_minor": 5
}
